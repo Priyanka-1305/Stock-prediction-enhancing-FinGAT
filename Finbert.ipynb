{
  "nbformat": 4,
  "nbformat_minor": 0,
  "metadata": {
    "colab": {
      "provenance": []
    },
    "kernelspec": {
      "name": "python3",
      "display_name": "Python 3"
    },
    "language_info": {
      "name": "python"
    }
  },
  "cells": [
    {
      "cell_type": "code",
      "execution_count": null,
      "metadata": {
        "colab": {
          "base_uri": "https://localhost:8080/",
          "height": 1000
        },
        "collapsed": true,
        "id": "JpRPJPibpR0E",
        "outputId": "58e2998b-66c2-4f63-8a77-ec42576b7b5f"
      },
      "outputs": [
        {
          "output_type": "stream",
          "name": "stdout",
          "text": [
            "Upload your CSV file containing company data:\n"
          ]
        },
        {
          "output_type": "display_data",
          "data": {
            "text/plain": [
              "<IPython.core.display.HTML object>"
            ],
            "text/html": [
              "\n",
              "     <input type=\"file\" id=\"files-66a9cec6-93b7-4a2c-991a-2e4745a5c5b1\" name=\"files[]\" multiple disabled\n",
              "        style=\"border:none\" />\n",
              "     <output id=\"result-66a9cec6-93b7-4a2c-991a-2e4745a5c5b1\">\n",
              "      Upload widget is only available when the cell has been executed in the\n",
              "      current browser session. Please rerun this cell to enable.\n",
              "      </output>\n",
              "      <script>// Copyright 2017 Google LLC\n",
              "//\n",
              "// Licensed under the Apache License, Version 2.0 (the \"License\");\n",
              "// you may not use this file except in compliance with the License.\n",
              "// You may obtain a copy of the License at\n",
              "//\n",
              "//      http://www.apache.org/licenses/LICENSE-2.0\n",
              "//\n",
              "// Unless required by applicable law or agreed to in writing, software\n",
              "// distributed under the License is distributed on an \"AS IS\" BASIS,\n",
              "// WITHOUT WARRANTIES OR CONDITIONS OF ANY KIND, either express or implied.\n",
              "// See the License for the specific language governing permissions and\n",
              "// limitations under the License.\n",
              "\n",
              "/**\n",
              " * @fileoverview Helpers for google.colab Python module.\n",
              " */\n",
              "(function(scope) {\n",
              "function span(text, styleAttributes = {}) {\n",
              "  const element = document.createElement('span');\n",
              "  element.textContent = text;\n",
              "  for (const key of Object.keys(styleAttributes)) {\n",
              "    element.style[key] = styleAttributes[key];\n",
              "  }\n",
              "  return element;\n",
              "}\n",
              "\n",
              "// Max number of bytes which will be uploaded at a time.\n",
              "const MAX_PAYLOAD_SIZE = 100 * 1024;\n",
              "\n",
              "function _uploadFiles(inputId, outputId) {\n",
              "  const steps = uploadFilesStep(inputId, outputId);\n",
              "  const outputElement = document.getElementById(outputId);\n",
              "  // Cache steps on the outputElement to make it available for the next call\n",
              "  // to uploadFilesContinue from Python.\n",
              "  outputElement.steps = steps;\n",
              "\n",
              "  return _uploadFilesContinue(outputId);\n",
              "}\n",
              "\n",
              "// This is roughly an async generator (not supported in the browser yet),\n",
              "// where there are multiple asynchronous steps and the Python side is going\n",
              "// to poll for completion of each step.\n",
              "// This uses a Promise to block the python side on completion of each step,\n",
              "// then passes the result of the previous step as the input to the next step.\n",
              "function _uploadFilesContinue(outputId) {\n",
              "  const outputElement = document.getElementById(outputId);\n",
              "  const steps = outputElement.steps;\n",
              "\n",
              "  const next = steps.next(outputElement.lastPromiseValue);\n",
              "  return Promise.resolve(next.value.promise).then((value) => {\n",
              "    // Cache the last promise value to make it available to the next\n",
              "    // step of the generator.\n",
              "    outputElement.lastPromiseValue = value;\n",
              "    return next.value.response;\n",
              "  });\n",
              "}\n",
              "\n",
              "/**\n",
              " * Generator function which is called between each async step of the upload\n",
              " * process.\n",
              " * @param {string} inputId Element ID of the input file picker element.\n",
              " * @param {string} outputId Element ID of the output display.\n",
              " * @return {!Iterable<!Object>} Iterable of next steps.\n",
              " */\n",
              "function* uploadFilesStep(inputId, outputId) {\n",
              "  const inputElement = document.getElementById(inputId);\n",
              "  inputElement.disabled = false;\n",
              "\n",
              "  const outputElement = document.getElementById(outputId);\n",
              "  outputElement.innerHTML = '';\n",
              "\n",
              "  const pickedPromise = new Promise((resolve) => {\n",
              "    inputElement.addEventListener('change', (e) => {\n",
              "      resolve(e.target.files);\n",
              "    });\n",
              "  });\n",
              "\n",
              "  const cancel = document.createElement('button');\n",
              "  inputElement.parentElement.appendChild(cancel);\n",
              "  cancel.textContent = 'Cancel upload';\n",
              "  const cancelPromise = new Promise((resolve) => {\n",
              "    cancel.onclick = () => {\n",
              "      resolve(null);\n",
              "    };\n",
              "  });\n",
              "\n",
              "  // Wait for the user to pick the files.\n",
              "  const files = yield {\n",
              "    promise: Promise.race([pickedPromise, cancelPromise]),\n",
              "    response: {\n",
              "      action: 'starting',\n",
              "    }\n",
              "  };\n",
              "\n",
              "  cancel.remove();\n",
              "\n",
              "  // Disable the input element since further picks are not allowed.\n",
              "  inputElement.disabled = true;\n",
              "\n",
              "  if (!files) {\n",
              "    return {\n",
              "      response: {\n",
              "        action: 'complete',\n",
              "      }\n",
              "    };\n",
              "  }\n",
              "\n",
              "  for (const file of files) {\n",
              "    const li = document.createElement('li');\n",
              "    li.append(span(file.name, {fontWeight: 'bold'}));\n",
              "    li.append(span(\n",
              "        `(${file.type || 'n/a'}) - ${file.size} bytes, ` +\n",
              "        `last modified: ${\n",
              "            file.lastModifiedDate ? file.lastModifiedDate.toLocaleDateString() :\n",
              "                                    'n/a'} - `));\n",
              "    const percent = span('0% done');\n",
              "    li.appendChild(percent);\n",
              "\n",
              "    outputElement.appendChild(li);\n",
              "\n",
              "    const fileDataPromise = new Promise((resolve) => {\n",
              "      const reader = new FileReader();\n",
              "      reader.onload = (e) => {\n",
              "        resolve(e.target.result);\n",
              "      };\n",
              "      reader.readAsArrayBuffer(file);\n",
              "    });\n",
              "    // Wait for the data to be ready.\n",
              "    let fileData = yield {\n",
              "      promise: fileDataPromise,\n",
              "      response: {\n",
              "        action: 'continue',\n",
              "      }\n",
              "    };\n",
              "\n",
              "    // Use a chunked sending to avoid message size limits. See b/62115660.\n",
              "    let position = 0;\n",
              "    do {\n",
              "      const length = Math.min(fileData.byteLength - position, MAX_PAYLOAD_SIZE);\n",
              "      const chunk = new Uint8Array(fileData, position, length);\n",
              "      position += length;\n",
              "\n",
              "      const base64 = btoa(String.fromCharCode.apply(null, chunk));\n",
              "      yield {\n",
              "        response: {\n",
              "          action: 'append',\n",
              "          file: file.name,\n",
              "          data: base64,\n",
              "        },\n",
              "      };\n",
              "\n",
              "      let percentDone = fileData.byteLength === 0 ?\n",
              "          100 :\n",
              "          Math.round((position / fileData.byteLength) * 100);\n",
              "      percent.textContent = `${percentDone}% done`;\n",
              "\n",
              "    } while (position < fileData.byteLength);\n",
              "  }\n",
              "\n",
              "  // All done.\n",
              "  yield {\n",
              "    response: {\n",
              "      action: 'complete',\n",
              "    }\n",
              "  };\n",
              "}\n",
              "\n",
              "scope.google = scope.google || {};\n",
              "scope.google.colab = scope.google.colab || {};\n",
              "scope.google.colab._files = {\n",
              "  _uploadFiles,\n",
              "  _uploadFilesContinue,\n",
              "};\n",
              "})(self);\n",
              "</script> "
            ]
          },
          "metadata": {}
        },
        {
          "output_type": "stream",
          "name": "stdout",
          "text": [
            "Saving ind_nifty500list.csv to ind_nifty500list.csv\n",
            "Uploaded file: ind_nifty500list.csv\n",
            "YF.download() has changed argument auto_adjust default to True\n"
          ]
        },
        {
          "output_type": "stream",
          "name": "stderr",
          "text": [
            "[*********************100%***********************]  1 of 1 completed\n",
            "[*********************100%***********************]  1 of 1 completed\n"
          ]
        },
        {
          "output_type": "stream",
          "name": "stdout",
          "text": [
            "Processed and saved data for 360ONE.\n"
          ]
        },
        {
          "output_type": "stream",
          "name": "stderr",
          "text": [
            "\r[*********************100%***********************]  1 of 1 completed\n"
          ]
        },
        {
          "output_type": "stream",
          "name": "stdout",
          "text": [
            "Processed and saved data for 3MINDIA.\n"
          ]
        },
        {
          "output_type": "stream",
          "name": "stderr",
          "text": [
            "\r[*********************100%***********************]  1 of 1 completed\n"
          ]
        },
        {
          "output_type": "stream",
          "name": "stdout",
          "text": [
            "Processed and saved data for ABB.\n"
          ]
        },
        {
          "output_type": "stream",
          "name": "stderr",
          "text": [
            "[*********************100%***********************]  1 of 1 completed\n",
            "[*********************100%***********************]  1 of 1 completed"
          ]
        },
        {
          "output_type": "stream",
          "name": "stdout",
          "text": [
            "Processed and saved data for ACC.\n"
          ]
        },
        {
          "output_type": "stream",
          "name": "stderr",
          "text": [
            "\n",
            "[*********************100%***********************]  1 of 1 completed"
          ]
        },
        {
          "output_type": "stream",
          "name": "stdout",
          "text": [
            "Processed and saved data for AIAENG.\n"
          ]
        },
        {
          "output_type": "stream",
          "name": "stderr",
          "text": [
            "\n"
          ]
        },
        {
          "output_type": "stream",
          "name": "stdout",
          "text": [
            "Processed and saved data for APLAPOLLO.\n"
          ]
        },
        {
          "output_type": "stream",
          "name": "stderr",
          "text": [
            "[*********************100%***********************]  1 of 1 completed\n",
            "[*********************100%***********************]  1 of 1 completed\n"
          ]
        },
        {
          "output_type": "stream",
          "name": "stdout",
          "text": [
            "Processed and saved data for AUBANK.\n",
            "Skipping AADHARHFC due to insufficient data.\n"
          ]
        },
        {
          "output_type": "stream",
          "name": "stderr",
          "text": [
            "\r[*********************100%***********************]  1 of 1 completed\n"
          ]
        },
        {
          "output_type": "stream",
          "name": "stdout",
          "text": [
            "Processed and saved data for AARTIIND.\n"
          ]
        },
        {
          "output_type": "stream",
          "name": "stderr",
          "text": [
            "\r[*********************100%***********************]  1 of 1 completed\n"
          ]
        },
        {
          "output_type": "stream",
          "name": "stdout",
          "text": [
            "Processed and saved data for AAVAS.\n"
          ]
        },
        {
          "output_type": "stream",
          "name": "stderr",
          "text": [
            "\r[*********************100%***********************]  1 of 1 completed\n"
          ]
        },
        {
          "output_type": "stream",
          "name": "stdout",
          "text": [
            "Processed and saved data for ABBOTINDIA.\n"
          ]
        },
        {
          "output_type": "stream",
          "name": "stderr",
          "text": [
            "[*********************100%***********************]  1 of 1 completed\n",
            "[*********************100%***********************]  1 of 1 completed\n"
          ]
        },
        {
          "output_type": "stream",
          "name": "stdout",
          "text": [
            "Processed and saved data for ACE.\n",
            "Skipping ADANIENSOL due to insufficient data.\n"
          ]
        },
        {
          "output_type": "stream",
          "name": "stderr",
          "text": [
            "\r[*********************100%***********************]  1 of 1 completed\n"
          ]
        },
        {
          "output_type": "stream",
          "name": "stdout",
          "text": [
            "Processed and saved data for ADANIENT.\n"
          ]
        },
        {
          "output_type": "stream",
          "name": "stderr",
          "text": [
            "[*********************100%***********************]  1 of 1 completed\n",
            "[*********************100%***********************]  1 of 1 completed"
          ]
        },
        {
          "output_type": "stream",
          "name": "stdout",
          "text": [
            "Processed and saved data for ADANIGREEN.\n"
          ]
        },
        {
          "output_type": "stream",
          "name": "stderr",
          "text": [
            "\n"
          ]
        },
        {
          "output_type": "stream",
          "name": "stdout",
          "text": [
            "Processed and saved data for ADANIPORTS.\n"
          ]
        },
        {
          "output_type": "stream",
          "name": "stderr",
          "text": [
            "\r[*********************100%***********************]  1 of 1 completed\n"
          ]
        },
        {
          "output_type": "stream",
          "name": "stdout",
          "text": [
            "Processed and saved data for ADANIPOWER.\n"
          ]
        },
        {
          "output_type": "stream",
          "name": "stderr",
          "text": [
            "[*********************100%***********************]  1 of 1 completed\n",
            "[*********************100%***********************]  1 of 1 completed\n"
          ]
        },
        {
          "output_type": "stream",
          "name": "stdout",
          "text": [
            "Processed and saved data for ATGL.\n",
            "Skipping AWL due to insufficient data.\n"
          ]
        },
        {
          "output_type": "stream",
          "name": "stderr",
          "text": [
            "[*********************100%***********************]  1 of 1 completed\n",
            "[*********************100%***********************]  1 of 1 completed\n"
          ]
        },
        {
          "output_type": "stream",
          "name": "stdout",
          "text": [
            "Processed and saved data for ABCAPITAL.\n",
            "Processed and saved data for ABFRL.\n"
          ]
        },
        {
          "output_type": "stream",
          "name": "stderr",
          "text": [
            "[*********************100%***********************]  1 of 1 completed\n",
            "[*********************100%***********************]  1 of 1 completed"
          ]
        },
        {
          "output_type": "stream",
          "name": "stdout",
          "text": [
            "Processed and saved data for ABREL.\n"
          ]
        },
        {
          "output_type": "stream",
          "name": "stderr",
          "text": [
            "\n",
            "[*********************100%***********************]  1 of 1 completed"
          ]
        },
        {
          "output_type": "stream",
          "name": "stdout",
          "text": [
            "Processed and saved data for ABSLAMC.\n",
            "Skipping AEGISLOG due to insufficient data.\n"
          ]
        },
        {
          "output_type": "stream",
          "name": "stderr",
          "text": [
            "\n",
            "\r[*********************100%***********************]  1 of 1 completed\n"
          ]
        },
        {
          "output_type": "stream",
          "name": "stdout",
          "text": [
            "Processed and saved data for AFFLE.\n"
          ]
        },
        {
          "output_type": "stream",
          "name": "stderr",
          "text": [
            "[*********************100%***********************]  1 of 1 completed\n",
            "[*********************100%***********************]  1 of 1 completed\n"
          ]
        },
        {
          "output_type": "stream",
          "name": "stdout",
          "text": [
            "Processed and saved data for AJANTPHARM.\n",
            "Skipping AKUMS due to insufficient data.\n"
          ]
        },
        {
          "output_type": "stream",
          "name": "stderr",
          "text": [
            "\r[*********************100%***********************]  1 of 1 completed\n"
          ]
        },
        {
          "output_type": "stream",
          "name": "stdout",
          "text": [
            "Processed and saved data for APLLTD.\n"
          ]
        },
        {
          "output_type": "stream",
          "name": "stderr",
          "text": [
            "[*********************100%***********************]  1 of 1 completed\n",
            "[*********************100%***********************]  1 of 1 completed"
          ]
        },
        {
          "output_type": "stream",
          "name": "stdout",
          "text": [
            "Processed and saved data for ALKEM.\n"
          ]
        },
        {
          "output_type": "stream",
          "name": "stderr",
          "text": [
            "\n",
            "[*********************100%***********************]  1 of 1 completed"
          ]
        },
        {
          "output_type": "stream",
          "name": "stdout",
          "text": [
            "Processed and saved data for ALKYLAMINE.\n"
          ]
        },
        {
          "output_type": "stream",
          "name": "stderr",
          "text": [
            "\n",
            "\r[*********************100%***********************]  1 of 1 completed\n"
          ]
        },
        {
          "output_type": "stream",
          "name": "stdout",
          "text": [
            "Processed and saved data for ALOKINDS.\n",
            "Skipping ARE&M due to insufficient data.\n"
          ]
        },
        {
          "output_type": "stream",
          "name": "stderr",
          "text": [
            "\r[*********************100%***********************]  1 of 1 completed\n"
          ]
        },
        {
          "output_type": "stream",
          "name": "stdout",
          "text": [
            "Processed and saved data for AMBER.\n"
          ]
        },
        {
          "output_type": "stream",
          "name": "stderr",
          "text": [
            "[*********************100%***********************]  1 of 1 completed\n",
            "[*********************100%***********************]  1 of 1 completed"
          ]
        },
        {
          "output_type": "stream",
          "name": "stdout",
          "text": [
            "Processed and saved data for AMBUJACEM.\n"
          ]
        },
        {
          "output_type": "stream",
          "name": "stderr",
          "text": [
            "\n",
            "[*********************100%***********************]  1 of 1 completed"
          ]
        },
        {
          "output_type": "stream",
          "name": "stdout",
          "text": [
            "Processed and saved data for ANANDRATHI.\n"
          ]
        },
        {
          "output_type": "stream",
          "name": "stderr",
          "text": [
            "\n",
            "\r[*********************100%***********************]  1 of 1 completed\n"
          ]
        },
        {
          "output_type": "stream",
          "name": "stdout",
          "text": [
            "Processed and saved data for ANANTRAJ.\n",
            "Processed and saved data for ANGELONE.\n"
          ]
        },
        {
          "output_type": "stream",
          "name": "stderr",
          "text": [
            "\r[*********************100%***********************]  1 of 1 completed\n"
          ]
        },
        {
          "output_type": "stream",
          "name": "stdout",
          "text": [
            "Processed and saved data for APARINDS.\n"
          ]
        },
        {
          "output_type": "stream",
          "name": "stderr",
          "text": [
            "\r[*********************100%***********************]  1 of 1 completed\n"
          ]
        },
        {
          "output_type": "stream",
          "name": "stdout",
          "text": [
            "Processed and saved data for APOLLOHOSP.\n"
          ]
        },
        {
          "output_type": "stream",
          "name": "stderr",
          "text": [
            "[*********************100%***********************]  1 of 1 completed\n",
            "[*********************100%***********************]  1 of 1 completed"
          ]
        },
        {
          "output_type": "stream",
          "name": "stdout",
          "text": [
            "Processed and saved data for APOLLOTYRE.\n"
          ]
        },
        {
          "output_type": "stream",
          "name": "stderr",
          "text": [
            "\n",
            "[*********************100%***********************]  1 of 1 completed"
          ]
        },
        {
          "output_type": "stream",
          "name": "stdout",
          "text": [
            "Processed and saved data for APTUS.\n",
            "Skipping ACI due to insufficient data.\n"
          ]
        },
        {
          "output_type": "stream",
          "name": "stderr",
          "text": [
            "\n",
            "[*********************100%***********************]  1 of 1 completed\n"
          ]
        },
        {
          "output_type": "stream",
          "name": "stdout",
          "text": [
            "Processed and saved data for ASAHIINDIA.\n"
          ]
        },
        {
          "output_type": "stream",
          "name": "stderr",
          "text": [
            "\r[*********************100%***********************]  1 of 1 completed\n"
          ]
        },
        {
          "output_type": "stream",
          "name": "stdout",
          "text": [
            "Processed and saved data for ASHOKLEY.\n"
          ]
        },
        {
          "output_type": "stream",
          "name": "stderr",
          "text": [
            "\r[*********************100%***********************]  1 of 1 completed\n"
          ]
        },
        {
          "output_type": "stream",
          "name": "stdout",
          "text": [
            "Processed and saved data for ASIANPAINT.\n"
          ]
        },
        {
          "output_type": "stream",
          "name": "stderr",
          "text": [
            "[*********************100%***********************]  1 of 1 completed\n",
            "[*********************100%***********************]  1 of 1 completed"
          ]
        },
        {
          "output_type": "stream",
          "name": "stdout",
          "text": [
            "Processed and saved data for ASTERDM.\n"
          ]
        },
        {
          "output_type": "stream",
          "name": "stderr",
          "text": [
            "\n"
          ]
        },
        {
          "output_type": "stream",
          "name": "stdout",
          "text": [
            "Processed and saved data for ASTRAZEN.\n"
          ]
        },
        {
          "output_type": "stream",
          "name": "stderr",
          "text": [
            "[*********************100%***********************]  1 of 1 completed\n",
            "[*********************100%***********************]  1 of 1 completed"
          ]
        },
        {
          "output_type": "stream",
          "name": "stdout",
          "text": [
            "Processed and saved data for ASTRAL.\n"
          ]
        },
        {
          "output_type": "stream",
          "name": "stderr",
          "text": [
            "\n"
          ]
        },
        {
          "output_type": "stream",
          "name": "stdout",
          "text": [
            "Processed and saved data for ATUL.\n"
          ]
        },
        {
          "output_type": "stream",
          "name": "stderr",
          "text": [
            "\r[*********************100%***********************]  1 of 1 completed\n"
          ]
        },
        {
          "output_type": "stream",
          "name": "stdout",
          "text": [
            "Processed and saved data for AUROPHARMA.\n"
          ]
        },
        {
          "output_type": "stream",
          "name": "stderr",
          "text": [
            "[*********************100%***********************]  1 of 1 completed\n",
            "[*********************100%***********************]  1 of 1 completed\n"
          ]
        },
        {
          "output_type": "stream",
          "name": "stdout",
          "text": [
            "Processed and saved data for AVANTIFEED.\n",
            "Processed and saved data for DMART.\n"
          ]
        },
        {
          "output_type": "stream",
          "name": "stderr",
          "text": [
            "\r[*********************100%***********************]  1 of 1 completed\n"
          ]
        },
        {
          "output_type": "stream",
          "name": "stdout",
          "text": [
            "Processed and saved data for AXISBANK.\n"
          ]
        },
        {
          "output_type": "stream",
          "name": "stderr",
          "text": [
            "\r[*********************100%***********************]  1 of 1 completed\n"
          ]
        },
        {
          "output_type": "stream",
          "name": "stdout",
          "text": [
            "Processed and saved data for BASF.\n"
          ]
        },
        {
          "output_type": "stream",
          "name": "stderr",
          "text": [
            "\r[*********************100%***********************]  1 of 1 completed\n"
          ]
        },
        {
          "output_type": "stream",
          "name": "stdout",
          "text": [
            "Processed and saved data for BEML.\n"
          ]
        },
        {
          "output_type": "stream",
          "name": "stderr",
          "text": [
            "[*********************100%***********************]  1 of 1 completed\n",
            "[*********************100%***********************]  1 of 1 completed"
          ]
        },
        {
          "output_type": "stream",
          "name": "stdout",
          "text": [
            "Processed and saved data for BLS.\n"
          ]
        },
        {
          "output_type": "stream",
          "name": "stderr",
          "text": [
            "\n",
            "[*********************100%***********************]  1 of 1 completed"
          ]
        },
        {
          "output_type": "stream",
          "name": "stdout",
          "text": [
            "Processed and saved data for BSE.\n"
          ]
        },
        {
          "output_type": "stream",
          "name": "stderr",
          "text": [
            "\n"
          ]
        },
        {
          "output_type": "stream",
          "name": "stdout",
          "text": [
            "Processed and saved data for BAJAJ-AUTO.\n"
          ]
        },
        {
          "output_type": "stream",
          "name": "stderr",
          "text": [
            "\r[*********************100%***********************]  1 of 1 completed\n"
          ]
        },
        {
          "output_type": "stream",
          "name": "stdout",
          "text": [
            "Processed and saved data for BAJFINANCE.\n"
          ]
        },
        {
          "output_type": "stream",
          "name": "stderr",
          "text": [
            "\r[*********************100%***********************]  1 of 1 completed\n"
          ]
        },
        {
          "output_type": "stream",
          "name": "stdout",
          "text": [
            "Processed and saved data for BAJAJFINSV.\n"
          ]
        },
        {
          "output_type": "stream",
          "name": "stderr",
          "text": [
            "\r[*********************100%***********************]  1 of 1 completed\n"
          ]
        },
        {
          "output_type": "stream",
          "name": "stdout",
          "text": [
            "Processed and saved data for BAJAJHLDNG.\n"
          ]
        },
        {
          "output_type": "stream",
          "name": "stderr",
          "text": [
            "[*********************100%***********************]  1 of 1 completed\n",
            "[*********************100%***********************]  1 of 1 completed"
          ]
        },
        {
          "output_type": "stream",
          "name": "stdout",
          "text": [
            "Processed and saved data for BALAMINES.\n"
          ]
        },
        {
          "output_type": "stream",
          "name": "stderr",
          "text": [
            "\n",
            "[*********************100%***********************]  1 of 1 completed"
          ]
        },
        {
          "output_type": "stream",
          "name": "stdout",
          "text": [
            "Processed and saved data for BALKRISIND.\n"
          ]
        },
        {
          "output_type": "stream",
          "name": "stderr",
          "text": [
            "\n",
            "[*********************100%***********************]  1 of 1 completed\n"
          ]
        },
        {
          "output_type": "stream",
          "name": "stdout",
          "text": [
            "Processed and saved data for BALRAMCHIN.\n",
            "Processed and saved data for BANDHANBNK.\n"
          ]
        },
        {
          "output_type": "stream",
          "name": "stderr",
          "text": [
            "\r[*********************100%***********************]  1 of 1 completed\n"
          ]
        },
        {
          "output_type": "stream",
          "name": "stdout",
          "text": [
            "Processed and saved data for BANKBARODA.\n"
          ]
        },
        {
          "output_type": "stream",
          "name": "stderr",
          "text": [
            "\r[*********************100%***********************]  1 of 1 completed\n"
          ]
        },
        {
          "output_type": "stream",
          "name": "stdout",
          "text": [
            "Processed and saved data for BANKINDIA.\n"
          ]
        },
        {
          "output_type": "stream",
          "name": "stderr",
          "text": [
            "[*********************100%***********************]  1 of 1 completed\n",
            "[*********************100%***********************]  1 of 1 completed"
          ]
        },
        {
          "output_type": "stream",
          "name": "stdout",
          "text": [
            "Processed and saved data for MAHABANK.\n"
          ]
        },
        {
          "output_type": "stream",
          "name": "stderr",
          "text": [
            "\n",
            "[*********************100%***********************]  1 of 1 completed"
          ]
        },
        {
          "output_type": "stream",
          "name": "stdout",
          "text": [
            "Processed and saved data for BATAINDIA.\n"
          ]
        },
        {
          "output_type": "stream",
          "name": "stderr",
          "text": [
            "\n"
          ]
        },
        {
          "output_type": "stream",
          "name": "stdout",
          "text": [
            "Processed and saved data for BAYERCROP.\n"
          ]
        },
        {
          "output_type": "stream",
          "name": "stderr",
          "text": [
            "[*********************100%***********************]  1 of 1 completed\n",
            "[*********************100%***********************]  1 of 1 completed"
          ]
        },
        {
          "output_type": "stream",
          "name": "stdout",
          "text": [
            "Processed and saved data for BERGEPAINT.\n"
          ]
        },
        {
          "output_type": "stream",
          "name": "stderr",
          "text": [
            "\n"
          ]
        },
        {
          "output_type": "stream",
          "name": "stdout",
          "text": [
            "Processed and saved data for BDL.\n"
          ]
        },
        {
          "output_type": "stream",
          "name": "stderr",
          "text": [
            "\r[*********************100%***********************]  1 of 1 completed\n"
          ]
        },
        {
          "output_type": "stream",
          "name": "stdout",
          "text": [
            "Processed and saved data for BEL.\n"
          ]
        },
        {
          "output_type": "stream",
          "name": "stderr",
          "text": [
            "[*********************100%***********************]  1 of 1 completed\n",
            "[*********************100%***********************]  1 of 1 completed"
          ]
        },
        {
          "output_type": "stream",
          "name": "stdout",
          "text": [
            "Processed and saved data for BHARATFORG.\n"
          ]
        },
        {
          "output_type": "stream",
          "name": "stderr",
          "text": [
            "\n"
          ]
        },
        {
          "output_type": "stream",
          "name": "stdout",
          "text": [
            "Processed and saved data for BHEL.\n"
          ]
        },
        {
          "output_type": "stream",
          "name": "stderr",
          "text": [
            "\r[*********************100%***********************]  1 of 1 completed\n"
          ]
        },
        {
          "output_type": "stream",
          "name": "stdout",
          "text": [
            "Processed and saved data for BPCL.\n"
          ]
        },
        {
          "output_type": "stream",
          "name": "stderr",
          "text": [
            "[*********************100%***********************]  1 of 1 completed\n",
            "[*********************100%***********************]  1 of 1 completed"
          ]
        },
        {
          "output_type": "stream",
          "name": "stdout",
          "text": [
            "Processed and saved data for BHARTIARTL.\n",
            "Skipping BHARTIHEXA due to insufficient data.\n"
          ]
        },
        {
          "output_type": "stream",
          "name": "stderr",
          "text": [
            "\n",
            "\r[*********************100%***********************]  1 of 1 completed\n"
          ]
        },
        {
          "output_type": "stream",
          "name": "stdout",
          "text": [
            "Skipping BIKAJI due to insufficient data.\n"
          ]
        },
        {
          "output_type": "stream",
          "name": "stderr",
          "text": [
            "[*********************100%***********************]  1 of 1 completed\n",
            "[*********************100%***********************]  1 of 1 completed"
          ]
        },
        {
          "output_type": "stream",
          "name": "stdout",
          "text": [
            "Processed and saved data for BIOCON.\n"
          ]
        },
        {
          "output_type": "stream",
          "name": "stderr",
          "text": [
            "\n",
            "[*********************100%***********************]  1 of 1 completed"
          ]
        },
        {
          "output_type": "stream",
          "name": "stdout",
          "text": [
            "Processed and saved data for BIRLACORPN.\n"
          ]
        },
        {
          "output_type": "stream",
          "name": "stderr",
          "text": [
            "\n",
            "[*********************100%***********************]  1 of 1 completed"
          ]
        },
        {
          "output_type": "stream",
          "name": "stdout",
          "text": [
            "Processed and saved data for BSOFT.\n"
          ]
        },
        {
          "output_type": "stream",
          "name": "stderr",
          "text": [
            "\n"
          ]
        },
        {
          "output_type": "stream",
          "name": "stdout",
          "text": [
            "Processed and saved data for BLUEDART.\n"
          ]
        },
        {
          "output_type": "stream",
          "name": "stderr",
          "text": [
            "\r[*********************100%***********************]  1 of 1 completed\n"
          ]
        },
        {
          "output_type": "stream",
          "name": "stdout",
          "text": [
            "Processed and saved data for BLUESTARCO.\n"
          ]
        },
        {
          "output_type": "stream",
          "name": "stderr",
          "text": [
            "[*********************100%***********************]  1 of 1 completed\n",
            "[*********************100%***********************]  1 of 1 completed"
          ]
        },
        {
          "output_type": "stream",
          "name": "stdout",
          "text": [
            "Processed and saved data for BBTC.\n"
          ]
        },
        {
          "output_type": "stream",
          "name": "stderr",
          "text": [
            "\n",
            "[*********************100%***********************]  1 of 1 completed"
          ]
        },
        {
          "output_type": "stream",
          "name": "stdout",
          "text": [
            "Processed and saved data for BOSCHLTD.\n"
          ]
        },
        {
          "output_type": "stream",
          "name": "stderr",
          "text": [
            "\n"
          ]
        },
        {
          "output_type": "stream",
          "name": "stdout",
          "text": [
            "Processed and saved data for BRIGADE.\n"
          ]
        },
        {
          "output_type": "stream",
          "name": "stderr",
          "text": [
            "[*********************100%***********************]  1 of 1 completed\n",
            "[*********************100%***********************]  1 of 1 completed"
          ]
        },
        {
          "output_type": "stream",
          "name": "stdout",
          "text": [
            "Processed and saved data for BRITANNIA.\n"
          ]
        },
        {
          "output_type": "stream",
          "name": "stderr",
          "text": [
            "\n"
          ]
        },
        {
          "output_type": "stream",
          "name": "stdout",
          "text": [
            "Processed and saved data for MAPMYINDIA.\n"
          ]
        },
        {
          "output_type": "stream",
          "name": "stderr",
          "text": [
            "\r[*********************100%***********************]  1 of 1 completed\n"
          ]
        },
        {
          "output_type": "stream",
          "name": "stdout",
          "text": [
            "Processed and saved data for CCL.\n"
          ]
        },
        {
          "output_type": "stream",
          "name": "stderr",
          "text": [
            "[*********************100%***********************]  1 of 1 completed\n",
            "[*********************100%***********************]  1 of 1 completed"
          ]
        },
        {
          "output_type": "stream",
          "name": "stdout",
          "text": [
            "Processed and saved data for CESC.\n"
          ]
        },
        {
          "output_type": "stream",
          "name": "stderr",
          "text": [
            "\n"
          ]
        },
        {
          "output_type": "stream",
          "name": "stdout",
          "text": [
            "Processed and saved data for CGPOWER.\n"
          ]
        },
        {
          "output_type": "stream",
          "name": "stderr",
          "text": [
            "\r[*********************100%***********************]  1 of 1 completed\n"
          ]
        },
        {
          "output_type": "stream",
          "name": "stdout",
          "text": [
            "Processed and saved data for CIEINDIA.\n"
          ]
        },
        {
          "output_type": "stream",
          "name": "stderr",
          "text": [
            "[*********************100%***********************]  1 of 1 completed\n",
            "[*********************100%***********************]  1 of 1 completed\n"
          ]
        },
        {
          "output_type": "stream",
          "name": "stdout",
          "text": [
            "Processed and saved data for CRISIL.\n",
            "Skipping CAMPUS due to insufficient data.\n"
          ]
        },
        {
          "output_type": "stream",
          "name": "stderr",
          "text": [
            "\r[*********************100%***********************]  1 of 1 completed\n"
          ]
        },
        {
          "output_type": "stream",
          "name": "stdout",
          "text": [
            "Processed and saved data for CANFINHOME.\n"
          ]
        },
        {
          "output_type": "stream",
          "name": "stderr",
          "text": [
            "\r[*********************100%***********************]  1 of 1 completed\n"
          ]
        },
        {
          "output_type": "stream",
          "name": "stdout",
          "text": [
            "Processed and saved data for CANBK.\n"
          ]
        },
        {
          "output_type": "stream",
          "name": "stderr",
          "text": [
            "[*********************100%***********************]  1 of 1 completed\n",
            "[*********************100%***********************]  1 of 1 completed"
          ]
        },
        {
          "output_type": "stream",
          "name": "stdout",
          "text": [
            "Processed and saved data for CAPLIPOINT.\n"
          ]
        },
        {
          "output_type": "stream",
          "name": "stderr",
          "text": [
            "\n"
          ]
        },
        {
          "output_type": "stream",
          "name": "stdout",
          "text": [
            "Processed and saved data for CGCL.\n"
          ]
        },
        {
          "output_type": "stream",
          "name": "stderr",
          "text": [
            "\r[*********************100%***********************]  1 of 1 completed\n"
          ]
        },
        {
          "output_type": "stream",
          "name": "stdout",
          "text": [
            "Processed and saved data for CARBORUNIV.\n"
          ]
        },
        {
          "output_type": "stream",
          "name": "stderr",
          "text": [
            "\r[*********************100%***********************]  1 of 1 completed\n"
          ]
        },
        {
          "output_type": "stream",
          "name": "stdout",
          "text": [
            "Processed and saved data for CASTROLIND.\n"
          ]
        },
        {
          "output_type": "stream",
          "name": "stderr",
          "text": [
            "[*********************100%***********************]  1 of 1 completed\n",
            "[*********************100%***********************]  1 of 1 completed\n"
          ]
        },
        {
          "output_type": "stream",
          "name": "stdout",
          "text": [
            "Processed and saved data for CEATLTD.\n",
            "Skipping CELLO due to insufficient data.\n"
          ]
        },
        {
          "output_type": "stream",
          "name": "stderr",
          "text": [
            "[*********************100%***********************]  1 of 1 completed\n",
            "[*********************100%***********************]  1 of 1 completed"
          ]
        },
        {
          "output_type": "stream",
          "name": "stdout",
          "text": [
            "Processed and saved data for CENTRALBK.\n"
          ]
        },
        {
          "output_type": "stream",
          "name": "stderr",
          "text": [
            "\n"
          ]
        },
        {
          "output_type": "stream",
          "name": "stdout",
          "text": [
            "Processed and saved data for CDSL.\n"
          ]
        },
        {
          "output_type": "stream",
          "name": "stderr",
          "text": [
            "\r[*********************100%***********************]  1 of 1 completed\n"
          ]
        },
        {
          "output_type": "stream",
          "name": "stdout",
          "text": [
            "Processed and saved data for CENTURYPLY.\n"
          ]
        },
        {
          "output_type": "stream",
          "name": "stderr",
          "text": [
            "[*********************100%***********************]  1 of 1 completed\n",
            "[*********************100%***********************]  1 of 1 completed"
          ]
        },
        {
          "output_type": "stream",
          "name": "stdout",
          "text": [
            "Processed and saved data for CERA.\n"
          ]
        },
        {
          "output_type": "stream",
          "name": "stderr",
          "text": [
            "\n",
            "[*********************100%***********************]  1 of 1 completed"
          ]
        },
        {
          "output_type": "stream",
          "name": "stdout",
          "text": [
            "Processed and saved data for CHALET.\n"
          ]
        },
        {
          "output_type": "stream",
          "name": "stderr",
          "text": [
            "\n",
            "\r[*********************100%***********************]  1 of 1 completed\n"
          ]
        },
        {
          "output_type": "stream",
          "name": "stdout",
          "text": [
            "Processed and saved data for CHAMBLFERT.\n",
            "Processed and saved data for CHEMPLASTS.\n"
          ]
        },
        {
          "output_type": "stream",
          "name": "stderr",
          "text": [
            "\r[*********************100%***********************]  1 of 1 completed\n"
          ]
        },
        {
          "output_type": "stream",
          "name": "stdout",
          "text": [
            "Processed and saved data for CHENNPETRO.\n"
          ]
        },
        {
          "output_type": "stream",
          "name": "stderr",
          "text": [
            "\r[*********************100%***********************]  1 of 1 completed\n"
          ]
        },
        {
          "output_type": "stream",
          "name": "stdout",
          "text": [
            "Processed and saved data for CHOLAHLDNG.\n"
          ]
        },
        {
          "output_type": "stream",
          "name": "stderr",
          "text": [
            "\r[*********************100%***********************]  1 of 1 completed\n"
          ]
        },
        {
          "output_type": "stream",
          "name": "stdout",
          "text": [
            "Processed and saved data for CHOLAFIN.\n"
          ]
        },
        {
          "output_type": "stream",
          "name": "stderr",
          "text": [
            "\r[*********************100%***********************]  1 of 1 completed\n"
          ]
        },
        {
          "output_type": "stream",
          "name": "stdout",
          "text": [
            "Processed and saved data for CIPLA.\n"
          ]
        },
        {
          "output_type": "stream",
          "name": "stderr",
          "text": [
            "[*********************100%***********************]  1 of 1 completed\n",
            "[*********************100%***********************]  1 of 1 completed"
          ]
        },
        {
          "output_type": "stream",
          "name": "stdout",
          "text": [
            "Processed and saved data for CUB.\n"
          ]
        },
        {
          "output_type": "stream",
          "name": "stderr",
          "text": [
            "\n",
            "[*********************100%***********************]  1 of 1 completed"
          ]
        },
        {
          "output_type": "stream",
          "name": "stdout",
          "text": [
            "Processed and saved data for CLEAN.\n"
          ]
        },
        {
          "output_type": "stream",
          "name": "stderr",
          "text": [
            "\n",
            "[*********************100%***********************]  1 of 1 completed"
          ]
        },
        {
          "output_type": "stream",
          "name": "stdout",
          "text": [
            "Processed and saved data for COALINDIA.\n"
          ]
        },
        {
          "output_type": "stream",
          "name": "stderr",
          "text": [
            "\n",
            "[*********************100%***********************]  1 of 1 completed"
          ]
        },
        {
          "output_type": "stream",
          "name": "stdout",
          "text": [
            "Processed and saved data for COCHINSHIP.\n"
          ]
        },
        {
          "output_type": "stream",
          "name": "stderr",
          "text": [
            "\n"
          ]
        },
        {
          "output_type": "stream",
          "name": "stdout",
          "text": [
            "Processed and saved data for COFORGE.\n"
          ]
        },
        {
          "output_type": "stream",
          "name": "stderr",
          "text": [
            "[*********************100%***********************]  1 of 1 completed\n",
            "[*********************100%***********************]  1 of 1 completed"
          ]
        },
        {
          "output_type": "stream",
          "name": "stdout",
          "text": [
            "Processed and saved data for COLPAL.\n"
          ]
        },
        {
          "output_type": "stream",
          "name": "stderr",
          "text": [
            "\n"
          ]
        },
        {
          "output_type": "stream",
          "name": "stdout",
          "text": [
            "Processed and saved data for CAMS.\n"
          ]
        },
        {
          "output_type": "stream",
          "name": "stderr",
          "text": [
            "\r[*********************100%***********************]  1 of 1 completed\n"
          ]
        },
        {
          "output_type": "stream",
          "name": "stdout",
          "text": [
            "Skipping CONCORDBIO due to insufficient data.\n"
          ]
        },
        {
          "output_type": "stream",
          "name": "stderr",
          "text": [
            "\r[*********************100%***********************]  1 of 1 completed\n"
          ]
        },
        {
          "output_type": "stream",
          "name": "stdout",
          "text": [
            "Processed and saved data for CONCOR.\n"
          ]
        },
        {
          "output_type": "stream",
          "name": "stderr",
          "text": [
            "[*********************100%***********************]  1 of 1 completed\n",
            "[*********************100%***********************]  1 of 1 completed\n"
          ]
        },
        {
          "output_type": "stream",
          "name": "stdout",
          "text": [
            "Processed and saved data for COROMANDEL.\n",
            "Processed and saved data for CRAFTSMAN.\n"
          ]
        },
        {
          "output_type": "stream",
          "name": "stderr",
          "text": [
            "[*********************100%***********************]  1 of 1 completed\n",
            "[*********************100%***********************]  1 of 1 completed"
          ]
        },
        {
          "output_type": "stream",
          "name": "stdout",
          "text": [
            "Processed and saved data for CREDITACC.\n",
            "Processed and saved data for CROMPTON.\n"
          ]
        },
        {
          "output_type": "stream",
          "name": "stderr",
          "text": [
            "\n",
            "[*********************100%***********************]  1 of 1 completed\n",
            "[*********************100%***********************]  1 of 1 completed"
          ]
        },
        {
          "output_type": "stream",
          "name": "stdout",
          "text": [
            "Processed and saved data for CUMMINSIND.\n"
          ]
        },
        {
          "output_type": "stream",
          "name": "stderr",
          "text": [
            "\n",
            "[*********************100%***********************]  1 of 1 completed"
          ]
        },
        {
          "output_type": "stream",
          "name": "stdout",
          "text": [
            "Processed and saved data for CYIENT.\n"
          ]
        },
        {
          "output_type": "stream",
          "name": "stderr",
          "text": [
            "\n",
            "\r[*********************100%***********************]  1 of 1 completed\n"
          ]
        },
        {
          "output_type": "stream",
          "name": "stdout",
          "text": [
            "Processed and saved data for DLF.\n",
            "Skipping DOMS due to insufficient data.\n"
          ]
        },
        {
          "output_type": "stream",
          "name": "stderr",
          "text": [
            "[*********************100%***********************]  1 of 1 completed\n",
            "[*********************100%***********************]  1 of 1 completed"
          ]
        },
        {
          "output_type": "stream",
          "name": "stdout",
          "text": [
            "Processed and saved data for DABUR.\n"
          ]
        },
        {
          "output_type": "stream",
          "name": "stderr",
          "text": [
            "\n",
            "[*********************100%***********************]  1 of 1 completed"
          ]
        },
        {
          "output_type": "stream",
          "name": "stdout",
          "text": [
            "Processed and saved data for DALBHARAT.\n"
          ]
        },
        {
          "output_type": "stream",
          "name": "stderr",
          "text": [
            "\n"
          ]
        },
        {
          "output_type": "stream",
          "name": "stdout",
          "text": [
            "Processed and saved data for DATAPATTNS.\n"
          ]
        },
        {
          "output_type": "stream",
          "name": "stderr",
          "text": [
            "[*********************100%***********************]  1 of 1 completed\n",
            "[*********************100%***********************]  1 of 1 completed"
          ]
        },
        {
          "output_type": "stream",
          "name": "stdout",
          "text": [
            "Processed and saved data for DEEPAKFERT.\n"
          ]
        },
        {
          "output_type": "stream",
          "name": "stderr",
          "text": [
            "\n"
          ]
        },
        {
          "output_type": "stream",
          "name": "stdout",
          "text": [
            "Processed and saved data for DEEPAKNTR.\n"
          ]
        },
        {
          "output_type": "stream",
          "name": "stderr",
          "text": [
            "[*********************100%***********************]  1 of 1 completed\n",
            "[*********************100%***********************]  1 of 1 completed\n"
          ]
        },
        {
          "output_type": "stream",
          "name": "stdout",
          "text": [
            "Skipping DELHIVERY due to insufficient data.\n",
            "Processed and saved data for DEVYANI.\n"
          ]
        },
        {
          "output_type": "stream",
          "name": "stderr",
          "text": [
            "[*********************100%***********************]  1 of 1 completed\n",
            "[*********************100%***********************]  1 of 1 completed"
          ]
        },
        {
          "output_type": "stream",
          "name": "stdout",
          "text": [
            "Processed and saved data for DIVISLAB.\n"
          ]
        },
        {
          "output_type": "stream",
          "name": "stderr",
          "text": [
            "\n",
            "[*********************100%***********************]  1 of 1 completed"
          ]
        },
        {
          "output_type": "stream",
          "name": "stdout",
          "text": [
            "Processed and saved data for DIXON.\n"
          ]
        },
        {
          "output_type": "stream",
          "name": "stderr",
          "text": [
            "\n"
          ]
        },
        {
          "output_type": "stream",
          "name": "stdout",
          "text": [
            "Processed and saved data for LALPATHLAB.\n"
          ]
        },
        {
          "output_type": "stream",
          "name": "stderr",
          "text": [
            "\r[*********************100%***********************]  1 of 1 completed\n"
          ]
        },
        {
          "output_type": "stream",
          "name": "stdout",
          "text": [
            "Processed and saved data for DRREDDY.\n"
          ]
        },
        {
          "output_type": "stream",
          "name": "stderr",
          "text": [
            "ERROR:yfinance:404 Client Error: Not Found for url: https://query2.finance.yahoo.com/v10/finance/quoteSummary/DUMMYITC.NS?modules=financialData%2CquoteType%2CdefaultKeyStatistics%2CassetProfile%2CsummaryDetail&corsDomain=finance.yahoo.com&formatted=false&symbol=DUMMYITC.NS&crumb=nt14lGDC9gk\n",
            "[*********************100%***********************]  1 of 1 completed\n",
            "ERROR:yfinance:\n",
            "1 Failed download:\n",
            "ERROR:yfinance:['DUMMYITC.NS']: AttributeError(\"'NoneType' object has no attribute 'update'\")\n"
          ]
        },
        {
          "output_type": "stream",
          "name": "stdout",
          "text": [
            "Skipping DUMMYITC due to missing data.\n"
          ]
        },
        {
          "output_type": "stream",
          "name": "stderr",
          "text": [
            "\r[*********************100%***********************]  1 of 1 completed\n"
          ]
        },
        {
          "output_type": "stream",
          "name": "stdout",
          "text": [
            "Processed and saved data for EIDPARRY.\n"
          ]
        },
        {
          "output_type": "stream",
          "name": "stderr",
          "text": [
            "[*********************100%***********************]  1 of 1 completed\n",
            "[*********************100%***********************]  1 of 1 completed"
          ]
        },
        {
          "output_type": "stream",
          "name": "stdout",
          "text": [
            "Processed and saved data for EIHOTEL.\n"
          ]
        },
        {
          "output_type": "stream",
          "name": "stderr",
          "text": [
            "\n"
          ]
        },
        {
          "output_type": "stream",
          "name": "stdout",
          "text": [
            "Processed and saved data for EASEMYTRIP.\n"
          ]
        },
        {
          "output_type": "stream",
          "name": "stderr",
          "text": [
            "\r[*********************100%***********************]  1 of 1 completed\n"
          ]
        },
        {
          "output_type": "stream",
          "name": "stdout",
          "text": [
            "Processed and saved data for EICHERMOT.\n"
          ]
        },
        {
          "output_type": "stream",
          "name": "stderr",
          "text": [
            "\r[*********************100%***********************]  1 of 1 completed\n"
          ]
        },
        {
          "output_type": "stream",
          "name": "stdout",
          "text": [
            "Processed and saved data for ELECON.\n"
          ]
        },
        {
          "output_type": "stream",
          "name": "stderr",
          "text": [
            "\r[*********************100%***********************]  1 of 1 completed\n"
          ]
        },
        {
          "output_type": "stream",
          "name": "stdout",
          "text": [
            "Processed and saved data for ELGIEQUIP.\n"
          ]
        },
        {
          "output_type": "stream",
          "name": "stderr",
          "text": [
            "[*********************100%***********************]  1 of 1 completed\n",
            "[*********************100%***********************]  1 of 1 completed"
          ]
        },
        {
          "output_type": "stream",
          "name": "stdout",
          "text": [
            "Processed and saved data for EMAMILTD.\n",
            "Skipping EMCURE due to insufficient data.\n"
          ]
        },
        {
          "output_type": "stream",
          "name": "stderr",
          "text": [
            "\n",
            "\r[*********************100%***********************]  1 of 1 completed\n"
          ]
        },
        {
          "output_type": "stream",
          "name": "stdout",
          "text": [
            "Processed and saved data for ENDURANCE.\n"
          ]
        },
        {
          "output_type": "stream",
          "name": "stderr",
          "text": [
            "\r[*********************100%***********************]  1 of 1 completed\n"
          ]
        },
        {
          "output_type": "stream",
          "name": "stdout",
          "text": [
            "Processed and saved data for ENGINERSIN.\n"
          ]
        },
        {
          "output_type": "stream",
          "name": "stderr",
          "text": [
            "\r[*********************100%***********************]  1 of 1 completed\n"
          ]
        },
        {
          "output_type": "stream",
          "name": "stdout",
          "text": [
            "Processed and saved data for EQUITASBNK.\n"
          ]
        },
        {
          "output_type": "stream",
          "name": "stderr",
          "text": [
            "\r[*********************100%***********************]  1 of 1 completed\n"
          ]
        },
        {
          "output_type": "stream",
          "name": "stdout",
          "text": [
            "Processed and saved data for ERIS.\n"
          ]
        },
        {
          "output_type": "stream",
          "name": "stderr",
          "text": [
            "\r[*********************100%***********************]  1 of 1 completed\n"
          ]
        },
        {
          "output_type": "stream",
          "name": "stdout",
          "text": [
            "Processed and saved data for ESCORTS.\n"
          ]
        },
        {
          "output_type": "stream",
          "name": "stderr",
          "text": [
            "[*********************100%***********************]  1 of 1 completed\n",
            "[*********************100%***********************]  1 of 1 completed"
          ]
        },
        {
          "output_type": "stream",
          "name": "stdout",
          "text": [
            "Processed and saved data for EXIDEIND.\n"
          ]
        },
        {
          "output_type": "stream",
          "name": "stderr",
          "text": [
            "\n"
          ]
        },
        {
          "output_type": "stream",
          "name": "stdout",
          "text": [
            "Processed and saved data for NYKAA.\n"
          ]
        },
        {
          "output_type": "stream",
          "name": "stderr",
          "text": [
            "\r[*********************100%***********************]  1 of 1 completed\n"
          ]
        },
        {
          "output_type": "stream",
          "name": "stdout",
          "text": [
            "Processed and saved data for FEDERALBNK.\n"
          ]
        },
        {
          "output_type": "stream",
          "name": "stderr",
          "text": [
            "[*********************100%***********************]  1 of 1 completed\n",
            "[*********************100%***********************]  1 of 1 completed\n"
          ]
        },
        {
          "output_type": "stream",
          "name": "stdout",
          "text": [
            "Processed and saved data for FACT.\n",
            "Processed and saved data for FINEORG.\n"
          ]
        },
        {
          "output_type": "stream",
          "name": "stderr",
          "text": [
            "[*********************100%***********************]  1 of 1 completed\n",
            "[*********************100%***********************]  1 of 1 completed"
          ]
        },
        {
          "output_type": "stream",
          "name": "stdout",
          "text": [
            "Processed and saved data for FINCABLES.\n"
          ]
        },
        {
          "output_type": "stream",
          "name": "stderr",
          "text": [
            "\n"
          ]
        },
        {
          "output_type": "stream",
          "name": "stdout",
          "text": [
            "Processed and saved data for FINPIPE.\n"
          ]
        },
        {
          "output_type": "stream",
          "name": "stderr",
          "text": [
            "[*********************100%***********************]  1 of 1 completed\n",
            "[*********************100%***********************]  1 of 1 completed\n"
          ]
        },
        {
          "output_type": "stream",
          "name": "stdout",
          "text": [
            "Processed and saved data for FSL.\n",
            "Skipping FIVESTAR due to insufficient data.\n"
          ]
        },
        {
          "output_type": "stream",
          "name": "stderr",
          "text": [
            "[*********************100%***********************]  1 of 1 completed\n",
            "[*********************100%***********************]  1 of 1 completed\n"
          ]
        },
        {
          "output_type": "stream",
          "name": "stdout",
          "text": [
            "Processed and saved data for FORTIS.\n",
            "Processed and saved data for GRINFRA.\n"
          ]
        },
        {
          "output_type": "stream",
          "name": "stderr",
          "text": [
            "[*********************100%***********************]  1 of 1 completed\n",
            "[*********************100%***********************]  1 of 1 completed"
          ]
        },
        {
          "output_type": "stream",
          "name": "stdout",
          "text": [
            "Processed and saved data for GAIL.\n"
          ]
        },
        {
          "output_type": "stream",
          "name": "stderr",
          "text": [
            "\n",
            "[*********************100%***********************]  1 of 1 completed"
          ]
        },
        {
          "output_type": "stream",
          "name": "stdout",
          "text": [
            "Processed and saved data for GVT&D.\n"
          ]
        },
        {
          "output_type": "stream",
          "name": "stderr",
          "text": [
            "\n"
          ]
        },
        {
          "output_type": "stream",
          "name": "stdout",
          "text": [
            "Processed and saved data for GMRAIRPORT.\n"
          ]
        },
        {
          "output_type": "stream",
          "name": "stderr",
          "text": [
            "[*********************100%***********************]  1 of 1 completed\n",
            "[*********************100%***********************]  1 of 1 completed"
          ]
        },
        {
          "output_type": "stream",
          "name": "stdout",
          "text": [
            "Processed and saved data for GRSE.\n"
          ]
        },
        {
          "output_type": "stream",
          "name": "stderr",
          "text": [
            "\n",
            "[*********************100%***********************]  1 of 1 completed"
          ]
        },
        {
          "output_type": "stream",
          "name": "stdout",
          "text": [
            "Processed and saved data for GICRE.\n"
          ]
        },
        {
          "output_type": "stream",
          "name": "stderr",
          "text": [
            "\n",
            "\r[*********************100%***********************]  1 of 1 completed\n"
          ]
        },
        {
          "output_type": "stream",
          "name": "stdout",
          "text": [
            "Processed and saved data for GILLETTE.\n",
            "Processed and saved data for GLAND.\n"
          ]
        },
        {
          "output_type": "stream",
          "name": "stderr",
          "text": [
            "\r[*********************100%***********************]  1 of 1 completed\n"
          ]
        },
        {
          "output_type": "stream",
          "name": "stdout",
          "text": [
            "Processed and saved data for GLAXO.\n"
          ]
        },
        {
          "output_type": "stream",
          "name": "stderr",
          "text": [
            "\r[*********************100%***********************]  1 of 1 completed\n"
          ]
        },
        {
          "output_type": "stream",
          "name": "stdout",
          "text": [
            "Processed and saved data for GLENMARK.\n"
          ]
        },
        {
          "output_type": "stream",
          "name": "stderr",
          "text": [
            "[*********************100%***********************]  1 of 1 completed\n",
            "[*********************100%***********************]  1 of 1 completed\n"
          ]
        },
        {
          "output_type": "stream",
          "name": "stdout",
          "text": [
            "Skipping MEDANTA due to insufficient data.\n",
            "Skipping GODIGIT due to insufficient data.\n"
          ]
        },
        {
          "output_type": "stream",
          "name": "stderr",
          "text": [
            "\r[*********************100%***********************]  1 of 1 completed\n"
          ]
        },
        {
          "output_type": "stream",
          "name": "stdout",
          "text": [
            "Processed and saved data for GPIL.\n"
          ]
        },
        {
          "output_type": "stream",
          "name": "stderr",
          "text": [
            "[*********************100%***********************]  1 of 1 completed\n",
            "[*********************100%***********************]  1 of 1 completed"
          ]
        },
        {
          "output_type": "stream",
          "name": "stdout",
          "text": [
            "Processed and saved data for GODFRYPHLP.\n"
          ]
        },
        {
          "output_type": "stream",
          "name": "stderr",
          "text": [
            "\n"
          ]
        },
        {
          "output_type": "stream",
          "name": "stdout",
          "text": [
            "Processed and saved data for GODREJAGRO.\n"
          ]
        },
        {
          "output_type": "stream",
          "name": "stderr",
          "text": [
            "[*********************100%***********************]  1 of 1 completed\n",
            "[*********************100%***********************]  1 of 1 completed"
          ]
        },
        {
          "output_type": "stream",
          "name": "stdout",
          "text": [
            "Processed and saved data for GODREJCP.\n"
          ]
        },
        {
          "output_type": "stream",
          "name": "stderr",
          "text": [
            "\n",
            "[*********************100%***********************]  1 of 1 completed"
          ]
        },
        {
          "output_type": "stream",
          "name": "stdout",
          "text": [
            "Processed and saved data for GODREJIND.\n",
            "Processed and saved data for GODREJPROP.\n"
          ]
        },
        {
          "output_type": "stream",
          "name": "stderr",
          "text": [
            "\n",
            "[*********************100%***********************]  1 of 1 completed\n",
            "[*********************100%***********************]  1 of 1 completed"
          ]
        },
        {
          "output_type": "stream",
          "name": "stdout",
          "text": [
            "Processed and saved data for GRANULES.\n"
          ]
        },
        {
          "output_type": "stream",
          "name": "stderr",
          "text": [
            "\n"
          ]
        },
        {
          "output_type": "stream",
          "name": "stdout",
          "text": [
            "Processed and saved data for GRAPHITE.\n"
          ]
        },
        {
          "output_type": "stream",
          "name": "stderr",
          "text": [
            "\r[*********************100%***********************]  1 of 1 completed\n"
          ]
        },
        {
          "output_type": "stream",
          "name": "stdout",
          "text": [
            "Processed and saved data for GRASIM.\n"
          ]
        },
        {
          "output_type": "stream",
          "name": "stderr",
          "text": [
            "\r[*********************100%***********************]  1 of 1 completed\n"
          ]
        },
        {
          "output_type": "stream",
          "name": "stdout",
          "text": [
            "Processed and saved data for GESHIP.\n"
          ]
        },
        {
          "output_type": "stream",
          "name": "stderr",
          "text": [
            "\r[*********************100%***********************]  1 of 1 completed\n"
          ]
        },
        {
          "output_type": "stream",
          "name": "stdout",
          "text": [
            "Processed and saved data for GRINDWELL.\n"
          ]
        },
        {
          "output_type": "stream",
          "name": "stderr",
          "text": [
            "[*********************100%***********************]  1 of 1 completed\n",
            "[*********************100%***********************]  1 of 1 completed\n"
          ]
        },
        {
          "output_type": "stream",
          "name": "stdout",
          "text": [
            "Processed and saved data for GAEL.\n",
            "Processed and saved data for FLUOROCHEM.\n"
          ]
        },
        {
          "output_type": "stream",
          "name": "stderr",
          "text": [
            "\r[*********************100%***********************]  1 of 1 completed\n"
          ]
        },
        {
          "output_type": "stream",
          "name": "stdout",
          "text": [
            "Processed and saved data for GUJGASLTD.\n"
          ]
        },
        {
          "output_type": "stream",
          "name": "stderr",
          "text": [
            "\r[*********************100%***********************]  1 of 1 completed\n"
          ]
        },
        {
          "output_type": "stream",
          "name": "stdout",
          "text": [
            "Processed and saved data for GMDCLTD.\n"
          ]
        },
        {
          "output_type": "stream",
          "name": "stderr",
          "text": [
            "[*********************100%***********************]  1 of 1 completed\n",
            "[*********************100%***********************]  1 of 1 completed"
          ]
        },
        {
          "output_type": "stream",
          "name": "stdout",
          "text": [
            "Processed and saved data for GNFC.\n"
          ]
        },
        {
          "output_type": "stream",
          "name": "stderr",
          "text": [
            "\n"
          ]
        },
        {
          "output_type": "stream",
          "name": "stdout",
          "text": [
            "Processed and saved data for GPPL.\n"
          ]
        },
        {
          "output_type": "stream",
          "name": "stderr",
          "text": [
            "[*********************100%***********************]  1 of 1 completed\n",
            "[*********************100%***********************]  1 of 1 completed"
          ]
        },
        {
          "output_type": "stream",
          "name": "stdout",
          "text": [
            "Processed and saved data for GSFC.\n"
          ]
        },
        {
          "output_type": "stream",
          "name": "stderr",
          "text": [
            "\n"
          ]
        },
        {
          "output_type": "stream",
          "name": "stdout",
          "text": [
            "Processed and saved data for GSPL.\n"
          ]
        },
        {
          "output_type": "stream",
          "name": "stderr",
          "text": [
            "[*********************100%***********************]  1 of 1 completed\n",
            "[*********************100%***********************]  1 of 1 completed\n"
          ]
        },
        {
          "output_type": "stream",
          "name": "stdout",
          "text": [
            "Processed and saved data for HEG.\n",
            "Skipping HBLENGINE due to insufficient data.\n"
          ]
        },
        {
          "output_type": "stream",
          "name": "stderr",
          "text": [
            "[*********************100%***********************]  1 of 1 completed\n",
            "[*********************100%***********************]  1 of 1 completed\n"
          ]
        },
        {
          "output_type": "stream",
          "name": "stdout",
          "text": [
            "Processed and saved data for HCLTECH.\n",
            "Processed and saved data for HDFCAMC.\n"
          ]
        },
        {
          "output_type": "stream",
          "name": "stderr",
          "text": [
            "[*********************100%***********************]  1 of 1 completed\n",
            "[*********************100%***********************]  1 of 1 completed"
          ]
        },
        {
          "output_type": "stream",
          "name": "stdout",
          "text": [
            "Processed and saved data for HDFCBANK.\n"
          ]
        },
        {
          "output_type": "stream",
          "name": "stderr",
          "text": [
            "\n",
            "[*********************100%***********************]  1 of 1 completed"
          ]
        },
        {
          "output_type": "stream",
          "name": "stdout",
          "text": [
            "Processed and saved data for HDFCLIFE.\n"
          ]
        },
        {
          "output_type": "stream",
          "name": "stderr",
          "text": [
            "\n"
          ]
        },
        {
          "output_type": "stream",
          "name": "stdout",
          "text": [
            "Processed and saved data for HFCL.\n"
          ]
        },
        {
          "output_type": "stream",
          "name": "stderr",
          "text": [
            "\r[*********************100%***********************]  1 of 1 completed\n"
          ]
        },
        {
          "output_type": "stream",
          "name": "stdout",
          "text": [
            "Processed and saved data for HAPPSTMNDS.\n"
          ]
        },
        {
          "output_type": "stream",
          "name": "stderr",
          "text": [
            "\r[*********************100%***********************]  1 of 1 completed\n"
          ]
        },
        {
          "output_type": "stream",
          "name": "stdout",
          "text": [
            "Processed and saved data for HAVELLS.\n"
          ]
        },
        {
          "output_type": "stream",
          "name": "stderr",
          "text": [
            "[*********************100%***********************]  1 of 1 completed\n",
            "[*********************100%***********************]  1 of 1 completed"
          ]
        },
        {
          "output_type": "stream",
          "name": "stdout",
          "text": [
            "Processed and saved data for HEROMOTOCO.\n"
          ]
        },
        {
          "output_type": "stream",
          "name": "stderr",
          "text": [
            "\n"
          ]
        },
        {
          "output_type": "stream",
          "name": "stdout",
          "text": [
            "Processed and saved data for HSCL.\n"
          ]
        },
        {
          "output_type": "stream",
          "name": "stderr",
          "text": [
            "[*********************100%***********************]  1 of 1 completed\n",
            "[*********************100%***********************]  1 of 1 completed"
          ]
        },
        {
          "output_type": "stream",
          "name": "stdout",
          "text": [
            "Processed and saved data for HINDALCO.\n"
          ]
        },
        {
          "output_type": "stream",
          "name": "stderr",
          "text": [
            "\n",
            "[*********************100%***********************]  1 of 1 completed"
          ]
        },
        {
          "output_type": "stream",
          "name": "stdout",
          "text": [
            "Processed and saved data for HAL.\n"
          ]
        },
        {
          "output_type": "stream",
          "name": "stderr",
          "text": [
            "\n"
          ]
        },
        {
          "output_type": "stream",
          "name": "stdout",
          "text": [
            "Processed and saved data for HINDCOPPER.\n"
          ]
        },
        {
          "output_type": "stream",
          "name": "stderr",
          "text": [
            "\r[*********************100%***********************]  1 of 1 completed\n"
          ]
        },
        {
          "output_type": "stream",
          "name": "stdout",
          "text": [
            "Processed and saved data for HINDPETRO.\n"
          ]
        },
        {
          "output_type": "stream",
          "name": "stderr",
          "text": [
            "\r[*********************100%***********************]  1 of 1 completed\n"
          ]
        },
        {
          "output_type": "stream",
          "name": "stdout",
          "text": [
            "Processed and saved data for HINDUNILVR.\n"
          ]
        },
        {
          "output_type": "stream",
          "name": "stderr",
          "text": [
            "[*********************100%***********************]  1 of 1 completed\n",
            "[*********************100%***********************]  1 of 1 completed"
          ]
        },
        {
          "output_type": "stream",
          "name": "stdout",
          "text": [
            "Processed and saved data for HINDZINC.\n"
          ]
        },
        {
          "output_type": "stream",
          "name": "stderr",
          "text": [
            "\n",
            "[*********************100%***********************]  1 of 1 completed"
          ]
        },
        {
          "output_type": "stream",
          "name": "stdout",
          "text": [
            "Processed and saved data for POWERINDIA.\n"
          ]
        },
        {
          "output_type": "stream",
          "name": "stderr",
          "text": [
            "\n",
            "\r[*********************100%***********************]  1 of 1 completed\n"
          ]
        },
        {
          "output_type": "stream",
          "name": "stdout",
          "text": [
            "Processed and saved data for HOMEFIRST.\n",
            "Skipping HONASA due to insufficient data.\n"
          ]
        },
        {
          "output_type": "stream",
          "name": "stderr",
          "text": [
            "\r[*********************100%***********************]  1 of 1 completed\n"
          ]
        },
        {
          "output_type": "stream",
          "name": "stdout",
          "text": [
            "Processed and saved data for HONAUT.\n"
          ]
        },
        {
          "output_type": "stream",
          "name": "stderr",
          "text": [
            "\r[*********************100%***********************]  1 of 1 completed\n"
          ]
        },
        {
          "output_type": "stream",
          "name": "stdout",
          "text": [
            "Processed and saved data for HUDCO.\n"
          ]
        },
        {
          "output_type": "stream",
          "name": "stderr",
          "text": [
            "[*********************100%***********************]  1 of 1 completed\n",
            "[*********************100%***********************]  1 of 1 completed"
          ]
        },
        {
          "output_type": "stream",
          "name": "stdout",
          "text": [
            "Processed and saved data for ICICIBANK.\n"
          ]
        },
        {
          "output_type": "stream",
          "name": "stderr",
          "text": [
            "\n",
            "[*********************100%***********************]  1 of 1 completed"
          ]
        },
        {
          "output_type": "stream",
          "name": "stdout",
          "text": [
            "Processed and saved data for ICICIGI.\n"
          ]
        },
        {
          "output_type": "stream",
          "name": "stderr",
          "text": [
            "\n",
            "[*********************100%***********************]  1 of 1 completed"
          ]
        },
        {
          "output_type": "stream",
          "name": "stdout",
          "text": [
            "Processed and saved data for ICICIPRULI.\n"
          ]
        },
        {
          "output_type": "stream",
          "name": "stderr",
          "text": [
            "\n"
          ]
        },
        {
          "output_type": "stream",
          "name": "stdout",
          "text": [
            "Processed and saved data for ISEC.\n"
          ]
        },
        {
          "output_type": "stream",
          "name": "stderr",
          "text": [
            "[*********************100%***********************]  1 of 1 completed\n",
            "[*********************100%***********************]  1 of 1 completed"
          ]
        },
        {
          "output_type": "stream",
          "name": "stdout",
          "text": [
            "Processed and saved data for IDBI.\n"
          ]
        },
        {
          "output_type": "stream",
          "name": "stderr",
          "text": [
            "\n"
          ]
        },
        {
          "output_type": "stream",
          "name": "stdout",
          "text": [
            "Processed and saved data for IDFCFIRSTB.\n"
          ]
        },
        {
          "output_type": "stream",
          "name": "stderr",
          "text": [
            "\r[*********************100%***********************]  1 of 1 completed\n"
          ]
        },
        {
          "output_type": "stream",
          "name": "stdout",
          "text": [
            "Processed and saved data for IFCI.\n"
          ]
        },
        {
          "output_type": "stream",
          "name": "stderr",
          "text": [
            "[*********************100%***********************]  1 of 1 completed\n",
            "[*********************100%***********************]  1 of 1 completed"
          ]
        },
        {
          "output_type": "stream",
          "name": "stdout",
          "text": [
            "Processed and saved data for IIFL.\n",
            "Skipping INOXINDIA due to insufficient data.\n"
          ]
        },
        {
          "output_type": "stream",
          "name": "stderr",
          "text": [
            "\n",
            "[*********************100%***********************]  1 of 1 completed\n",
            "[*********************100%***********************]  1 of 1 completed"
          ]
        },
        {
          "output_type": "stream",
          "name": "stdout",
          "text": [
            "Processed and saved data for IRB.\n"
          ]
        },
        {
          "output_type": "stream",
          "name": "stderr",
          "text": [
            "\n"
          ]
        },
        {
          "output_type": "stream",
          "name": "stdout",
          "text": [
            "Processed and saved data for IRCON.\n"
          ]
        },
        {
          "output_type": "stream",
          "name": "stderr",
          "text": [
            "[*********************100%***********************]  1 of 1 completed\n",
            "[*********************100%***********************]  1 of 1 completed"
          ]
        },
        {
          "output_type": "stream",
          "name": "stdout",
          "text": [
            "Processed and saved data for ITC.\n"
          ]
        },
        {
          "output_type": "stream",
          "name": "stderr",
          "text": [
            "\n",
            "[*********************100%***********************]  1 of 1 completed"
          ]
        },
        {
          "output_type": "stream",
          "name": "stdout",
          "text": [
            "Processed and saved data for ITI.\n",
            "Skipping INDGN due to insufficient data.\n"
          ]
        },
        {
          "output_type": "stream",
          "name": "stderr",
          "text": [
            "\n",
            "[*********************100%***********************]  1 of 1 completed\n",
            "[*********************100%***********************]  1 of 1 completed\n"
          ]
        },
        {
          "output_type": "stream",
          "name": "stdout",
          "text": [
            "Processed and saved data for INDIACEM.\n",
            "Processed and saved data for INDIAMART.\n"
          ]
        },
        {
          "output_type": "stream",
          "name": "stderr",
          "text": [
            "[*********************100%***********************]  1 of 1 completed\n",
            "[*********************100%***********************]  1 of 1 completed"
          ]
        },
        {
          "output_type": "stream",
          "name": "stdout",
          "text": [
            "Processed and saved data for INDIANB.\n"
          ]
        },
        {
          "output_type": "stream",
          "name": "stderr",
          "text": [
            "\n"
          ]
        },
        {
          "output_type": "stream",
          "name": "stdout",
          "text": [
            "Processed and saved data for IEX.\n"
          ]
        },
        {
          "output_type": "stream",
          "name": "stderr",
          "text": [
            "\r[*********************100%***********************]  1 of 1 completed\n"
          ]
        },
        {
          "output_type": "stream",
          "name": "stdout",
          "text": [
            "Processed and saved data for INDHOTEL.\n"
          ]
        },
        {
          "output_type": "stream",
          "name": "stderr",
          "text": [
            "[*********************100%***********************]  1 of 1 completed\n",
            "[*********************100%***********************]  1 of 1 completed"
          ]
        },
        {
          "output_type": "stream",
          "name": "stdout",
          "text": [
            "Processed and saved data for IOC.\n"
          ]
        },
        {
          "output_type": "stream",
          "name": "stderr",
          "text": [
            "\n"
          ]
        },
        {
          "output_type": "stream",
          "name": "stdout",
          "text": [
            "Processed and saved data for IOB.\n"
          ]
        },
        {
          "output_type": "stream",
          "name": "stderr",
          "text": [
            "\r[*********************100%***********************]  1 of 1 completed\n"
          ]
        },
        {
          "output_type": "stream",
          "name": "stdout",
          "text": [
            "Processed and saved data for IRCTC.\n"
          ]
        },
        {
          "output_type": "stream",
          "name": "stderr",
          "text": [
            "[*********************100%***********************]  1 of 1 completed\n",
            "[*********************100%***********************]  1 of 1 completed\n"
          ]
        },
        {
          "output_type": "stream",
          "name": "stdout",
          "text": [
            "Processed and saved data for IRFC.\n",
            "Skipping IREDA due to insufficient data.\n"
          ]
        },
        {
          "output_type": "stream",
          "name": "stderr",
          "text": [
            "\r[*********************100%***********************]  1 of 1 completed\n"
          ]
        },
        {
          "output_type": "stream",
          "name": "stdout",
          "text": [
            "Processed and saved data for IGL.\n"
          ]
        },
        {
          "output_type": "stream",
          "name": "stderr",
          "text": [
            "\r[*********************100%***********************]  1 of 1 completed\n"
          ]
        },
        {
          "output_type": "stream",
          "name": "stdout",
          "text": [
            "Processed and saved data for INDUSTOWER.\n"
          ]
        },
        {
          "output_type": "stream",
          "name": "stderr",
          "text": [
            "\r[*********************100%***********************]  1 of 1 completed\n"
          ]
        },
        {
          "output_type": "stream",
          "name": "stdout",
          "text": [
            "Processed and saved data for INDUSINDBK.\n"
          ]
        },
        {
          "output_type": "stream",
          "name": "stderr",
          "text": [
            "\r[*********************100%***********************]  1 of 1 completed\n"
          ]
        },
        {
          "output_type": "stream",
          "name": "stdout",
          "text": [
            "Processed and saved data for NAUKRI.\n"
          ]
        },
        {
          "output_type": "stream",
          "name": "stderr",
          "text": [
            "\r[*********************100%***********************]  1 of 1 completed\n"
          ]
        },
        {
          "output_type": "stream",
          "name": "stdout",
          "text": [
            "Processed and saved data for INFY.\n"
          ]
        },
        {
          "output_type": "stream",
          "name": "stderr",
          "text": [
            "[*********************100%***********************]  1 of 1 completed\n",
            "[*********************100%***********************]  1 of 1 completed"
          ]
        },
        {
          "output_type": "stream",
          "name": "stdout",
          "text": [
            "Processed and saved data for INOXWIND.\n"
          ]
        },
        {
          "output_type": "stream",
          "name": "stderr",
          "text": [
            "\n",
            "[*********************100%***********************]  1 of 1 completed"
          ]
        },
        {
          "output_type": "stream",
          "name": "stdout",
          "text": [
            "Processed and saved data for INTELLECT.\n"
          ]
        },
        {
          "output_type": "stream",
          "name": "stderr",
          "text": [
            "\n"
          ]
        },
        {
          "output_type": "stream",
          "name": "stdout",
          "text": [
            "Processed and saved data for INDIGO.\n"
          ]
        },
        {
          "output_type": "stream",
          "name": "stderr",
          "text": [
            "\r[*********************100%***********************]  1 of 1 completed\n"
          ]
        },
        {
          "output_type": "stream",
          "name": "stdout",
          "text": [
            "Processed and saved data for IPCALAB.\n"
          ]
        },
        {
          "output_type": "stream",
          "name": "stderr",
          "text": [
            "[*********************100%***********************]  1 of 1 completed\n",
            "[*********************100%***********************]  1 of 1 completed"
          ]
        },
        {
          "output_type": "stream",
          "name": "stdout",
          "text": [
            "Processed and saved data for JBCHEPHARM.\n"
          ]
        },
        {
          "output_type": "stream",
          "name": "stderr",
          "text": [
            "\n",
            "[*********************100%***********************]  1 of 1 completed"
          ]
        },
        {
          "output_type": "stream",
          "name": "stdout",
          "text": [
            "Processed and saved data for JKCEMENT.\n"
          ]
        },
        {
          "output_type": "stream",
          "name": "stderr",
          "text": [
            "\n"
          ]
        },
        {
          "output_type": "stream",
          "name": "stdout",
          "text": [
            "Processed and saved data for JBMA.\n"
          ]
        },
        {
          "output_type": "stream",
          "name": "stderr",
          "text": [
            "[*********************100%***********************]  1 of 1 completed\n",
            "[*********************100%***********************]  1 of 1 completed"
          ]
        },
        {
          "output_type": "stream",
          "name": "stdout",
          "text": [
            "Processed and saved data for JKLAKSHMI.\n"
          ]
        },
        {
          "output_type": "stream",
          "name": "stderr",
          "text": [
            "\n"
          ]
        },
        {
          "output_type": "stream",
          "name": "stdout",
          "text": [
            "Processed and saved data for JKTYRE.\n"
          ]
        },
        {
          "output_type": "stream",
          "name": "stderr",
          "text": [
            "\r[*********************100%***********************]  1 of 1 completed\n"
          ]
        },
        {
          "output_type": "stream",
          "name": "stdout",
          "text": [
            "Processed and saved data for JMFINANCIL.\n"
          ]
        },
        {
          "output_type": "stream",
          "name": "stderr",
          "text": [
            "[*********************100%***********************]  1 of 1 completed\n",
            "[*********************100%***********************]  1 of 1 completed\n"
          ]
        },
        {
          "output_type": "stream",
          "name": "stdout",
          "text": [
            "Processed and saved data for JSWENERGY.\n",
            "Skipping JSWINFRA due to insufficient data.\n"
          ]
        },
        {
          "output_type": "stream",
          "name": "stderr",
          "text": [
            "[*********************100%***********************]  1 of 1 completed\n",
            "[*********************100%***********************]  1 of 1 completed"
          ]
        },
        {
          "output_type": "stream",
          "name": "stdout",
          "text": [
            "Processed and saved data for JSWSTEEL.\n"
          ]
        },
        {
          "output_type": "stream",
          "name": "stderr",
          "text": [
            "\n"
          ]
        },
        {
          "output_type": "stream",
          "name": "stdout",
          "text": [
            "Processed and saved data for JPPOWER.\n"
          ]
        },
        {
          "output_type": "stream",
          "name": "stderr",
          "text": [
            "\r[*********************100%***********************]  1 of 1 completed\n"
          ]
        },
        {
          "output_type": "stream",
          "name": "stdout",
          "text": [
            "Processed and saved data for J&KBANK.\n"
          ]
        },
        {
          "output_type": "stream",
          "name": "stderr",
          "text": [
            "\r[*********************100%***********************]  1 of 1 completed\n"
          ]
        },
        {
          "output_type": "stream",
          "name": "stdout",
          "text": [
            "Processed and saved data for JINDALSAW.\n"
          ]
        },
        {
          "output_type": "stream",
          "name": "stderr",
          "text": [
            "\r[*********************100%***********************]  1 of 1 completed\n"
          ]
        },
        {
          "output_type": "stream",
          "name": "stdout",
          "text": [
            "Processed and saved data for JSL.\n"
          ]
        },
        {
          "output_type": "stream",
          "name": "stderr",
          "text": [
            "[*********************100%***********************]  1 of 1 completed\n",
            "[*********************100%***********************]  1 of 1 completed\n"
          ]
        },
        {
          "output_type": "stream",
          "name": "stdout",
          "text": [
            "Processed and saved data for JINDALSTEL.\n",
            "Skipping JIOFIN due to insufficient data.\n"
          ]
        },
        {
          "output_type": "stream",
          "name": "stderr",
          "text": [
            "[*********************100%***********************]  1 of 1 completed\n",
            "[*********************100%***********************]  1 of 1 completed\n"
          ]
        },
        {
          "output_type": "stream",
          "name": "stdout",
          "text": [
            "Processed and saved data for JUBLFOOD.\n",
            "Processed and saved data for JUBLINGREA.\n"
          ]
        },
        {
          "output_type": "stream",
          "name": "stderr",
          "text": [
            "[*********************100%***********************]  1 of 1 completed\n",
            "[*********************100%***********************]  1 of 1 completed\n"
          ]
        },
        {
          "output_type": "stream",
          "name": "stdout",
          "text": [
            "Processed and saved data for JUBLPHARMA.\n",
            "Processed and saved data for JWL.\n"
          ]
        },
        {
          "output_type": "stream",
          "name": "stderr",
          "text": [
            "\r[*********************100%***********************]  1 of 1 completed\n"
          ]
        },
        {
          "output_type": "stream",
          "name": "stdout",
          "text": [
            "Processed and saved data for JUSTDIAL.\n"
          ]
        },
        {
          "output_type": "stream",
          "name": "stderr",
          "text": [
            "[*********************100%***********************]  1 of 1 completed\n",
            "[*********************100%***********************]  1 of 1 completed"
          ]
        },
        {
          "output_type": "stream",
          "name": "stdout",
          "text": [
            "Processed and saved data for JYOTHYLAB.\n",
            "Skipping JYOTICNC due to insufficient data.\n"
          ]
        },
        {
          "output_type": "stream",
          "name": "stderr",
          "text": [
            "\n",
            "[*********************100%***********************]  1 of 1 completed\n"
          ]
        },
        {
          "output_type": "stream",
          "name": "stdout",
          "text": [
            "Processed and saved data for KPRMILL.\n"
          ]
        },
        {
          "output_type": "stream",
          "name": "stderr",
          "text": [
            "\r[*********************100%***********************]  1 of 1 completed\n"
          ]
        },
        {
          "output_type": "stream",
          "name": "stdout",
          "text": [
            "Processed and saved data for KEI.\n"
          ]
        },
        {
          "output_type": "stream",
          "name": "stderr",
          "text": [
            "[*********************100%***********************]  1 of 1 completed\n",
            "[*********************100%***********************]  1 of 1 completed"
          ]
        },
        {
          "output_type": "stream",
          "name": "stdout",
          "text": [
            "Processed and saved data for KNRCON.\n"
          ]
        },
        {
          "output_type": "stream",
          "name": "stderr",
          "text": [
            "\n"
          ]
        },
        {
          "output_type": "stream",
          "name": "stdout",
          "text": [
            "Processed and saved data for KPITTECH.\n"
          ]
        },
        {
          "output_type": "stream",
          "name": "stderr",
          "text": [
            "\r[*********************100%***********************]  1 of 1 completed\n"
          ]
        },
        {
          "output_type": "stream",
          "name": "stdout",
          "text": [
            "Processed and saved data for KSB.\n"
          ]
        },
        {
          "output_type": "stream",
          "name": "stderr",
          "text": [
            "[*********************100%***********************]  1 of 1 completed\n",
            "[*********************100%***********************]  1 of 1 completed"
          ]
        },
        {
          "output_type": "stream",
          "name": "stdout",
          "text": [
            "Processed and saved data for KAJARIACER.\n",
            "Skipping KPIL due to insufficient data.\n"
          ]
        },
        {
          "output_type": "stream",
          "name": "stderr",
          "text": [
            "\n",
            "[*********************100%***********************]  1 of 1 completed\n"
          ]
        },
        {
          "output_type": "stream",
          "name": "stdout",
          "text": [
            "Processed and saved data for KALYANKJIL.\n"
          ]
        },
        {
          "output_type": "stream",
          "name": "stderr",
          "text": [
            "\r[*********************100%***********************]  1 of 1 completed\n"
          ]
        },
        {
          "output_type": "stream",
          "name": "stdout",
          "text": [
            "Processed and saved data for KANSAINER.\n"
          ]
        },
        {
          "output_type": "stream",
          "name": "stderr",
          "text": [
            "[*********************100%***********************]  1 of 1 completed\n",
            "[*********************100%***********************]  1 of 1 completed"
          ]
        },
        {
          "output_type": "stream",
          "name": "stdout",
          "text": [
            "Processed and saved data for KARURVYSYA.\n"
          ]
        },
        {
          "output_type": "stream",
          "name": "stderr",
          "text": [
            "\n",
            "\r[*********************100%***********************]  1 of 1 completed\n"
          ]
        },
        {
          "output_type": "stream",
          "name": "stdout",
          "text": [
            "Skipping KAYNES due to insufficient data.\n"
          ]
        },
        {
          "output_type": "stream",
          "name": "stderr",
          "text": [
            "\r[*********************100%***********************]  1 of 1 completed\n"
          ]
        },
        {
          "output_type": "stream",
          "name": "stdout",
          "text": [
            "Processed and saved data for KEC.\n",
            "Skipping KFINTECH due to insufficient data.\n"
          ]
        },
        {
          "output_type": "stream",
          "name": "stderr",
          "text": [
            "\r[*********************100%***********************]  1 of 1 completed\n"
          ]
        },
        {
          "output_type": "stream",
          "name": "stdout",
          "text": [
            "Processed and saved data for KIRLOSBROS.\n"
          ]
        },
        {
          "output_type": "stream",
          "name": "stderr",
          "text": [
            "\r[*********************100%***********************]  1 of 1 completed\n"
          ]
        },
        {
          "output_type": "stream",
          "name": "stdout",
          "text": [
            "Processed and saved data for KIRLOSENG.\n"
          ]
        },
        {
          "output_type": "stream",
          "name": "stderr",
          "text": [
            "[*********************100%***********************]  1 of 1 completed\n",
            "[*********************100%***********************]  1 of 1 completed"
          ]
        },
        {
          "output_type": "stream",
          "name": "stdout",
          "text": [
            "Processed and saved data for KOTAKBANK.\n"
          ]
        },
        {
          "output_type": "stream",
          "name": "stderr",
          "text": [
            "\n"
          ]
        },
        {
          "output_type": "stream",
          "name": "stdout",
          "text": [
            "Processed and saved data for KIMS.\n"
          ]
        },
        {
          "output_type": "stream",
          "name": "stderr",
          "text": [
            "[*********************100%***********************]  1 of 1 completed\n",
            "[*********************100%***********************]  1 of 1 completed\n"
          ]
        },
        {
          "output_type": "stream",
          "name": "stdout",
          "text": [
            "Processed and saved data for LTF.\n",
            "Processed and saved data for LTTS.\n"
          ]
        },
        {
          "output_type": "stream",
          "name": "stderr",
          "text": [
            "\r[*********************100%***********************]  1 of 1 completed\n"
          ]
        },
        {
          "output_type": "stream",
          "name": "stdout",
          "text": [
            "Processed and saved data for LICHSGFIN.\n"
          ]
        },
        {
          "output_type": "stream",
          "name": "stderr",
          "text": [
            "[*********************100%***********************]  1 of 1 completed\n",
            "[*********************100%***********************]  1 of 1 completed"
          ]
        },
        {
          "output_type": "stream",
          "name": "stdout",
          "text": [
            "Processed and saved data for LTIM.\n"
          ]
        },
        {
          "output_type": "stream",
          "name": "stderr",
          "text": [
            "\n"
          ]
        },
        {
          "output_type": "stream",
          "name": "stdout",
          "text": [
            "Processed and saved data for LT.\n"
          ]
        },
        {
          "output_type": "stream",
          "name": "stderr",
          "text": [
            "[*********************100%***********************]  1 of 1 completed\n",
            "[*********************100%***********************]  1 of 1 completed"
          ]
        },
        {
          "output_type": "stream",
          "name": "stdout",
          "text": [
            "Processed and saved data for LATENTVIEW.\n"
          ]
        },
        {
          "output_type": "stream",
          "name": "stderr",
          "text": [
            "\n"
          ]
        },
        {
          "output_type": "stream",
          "name": "stdout",
          "text": [
            "Processed and saved data for LAURUSLABS.\n"
          ]
        },
        {
          "output_type": "stream",
          "name": "stderr",
          "text": [
            "[*********************100%***********************]  1 of 1 completed\n",
            "[*********************100%***********************]  1 of 1 completed\n"
          ]
        },
        {
          "output_type": "stream",
          "name": "stdout",
          "text": [
            "Processed and saved data for LEMONTREE.\n",
            "Skipping LICI due to insufficient data.\n"
          ]
        },
        {
          "output_type": "stream",
          "name": "stderr",
          "text": [
            "\r[*********************100%***********************]  1 of 1 completed\n"
          ]
        },
        {
          "output_type": "stream",
          "name": "stdout",
          "text": [
            "Processed and saved data for LINDEINDIA.\n"
          ]
        },
        {
          "output_type": "stream",
          "name": "stderr",
          "text": [
            "\r[*********************100%***********************]  1 of 1 completed\n"
          ]
        },
        {
          "output_type": "stream",
          "name": "stdout",
          "text": [
            "Skipping LLOYDSME due to insufficient data.\n"
          ]
        },
        {
          "output_type": "stream",
          "name": "stderr",
          "text": [
            "[*********************100%***********************]  1 of 1 completed\n",
            "[*********************100%***********************]  1 of 1 completed"
          ]
        },
        {
          "output_type": "stream",
          "name": "stdout",
          "text": [
            "Processed and saved data for LUPIN.\n"
          ]
        },
        {
          "output_type": "stream",
          "name": "stderr",
          "text": [
            "\n"
          ]
        },
        {
          "output_type": "stream",
          "name": "stdout",
          "text": [
            "Processed and saved data for MMTC.\n"
          ]
        },
        {
          "output_type": "stream",
          "name": "stderr",
          "text": [
            "[*********************100%***********************]  1 of 1 completed\n",
            "[*********************100%***********************]  1 of 1 completed\n"
          ]
        },
        {
          "output_type": "stream",
          "name": "stdout",
          "text": [
            "Processed and saved data for MRF.\n"
          ]
        },
        {
          "output_type": "stream",
          "name": "stderr",
          "text": [
            "\r[*********************100%***********************]  1 of 1 completed"
          ]
        },
        {
          "output_type": "stream",
          "name": "stdout",
          "text": [
            "Processed and saved data for LODHA.\n"
          ]
        },
        {
          "output_type": "stream",
          "name": "stderr",
          "text": [
            "\n"
          ]
        },
        {
          "output_type": "stream",
          "name": "stdout",
          "text": [
            "Processed and saved data for MGL.\n"
          ]
        },
        {
          "output_type": "stream",
          "name": "stderr",
          "text": [
            "\r[*********************100%***********************]  1 of 1 completed\n"
          ]
        },
        {
          "output_type": "stream",
          "name": "stdout",
          "text": [
            "Processed and saved data for MAHSEAMLES.\n"
          ]
        },
        {
          "output_type": "stream",
          "name": "stderr",
          "text": [
            "\r[*********************100%***********************]  1 of 1 completed\n"
          ]
        },
        {
          "output_type": "stream",
          "name": "stdout",
          "text": [
            "Processed and saved data for M&MFIN.\n"
          ]
        },
        {
          "output_type": "stream",
          "name": "stderr",
          "text": [
            "\r[*********************100%***********************]  1 of 1 completed\n"
          ]
        },
        {
          "output_type": "stream",
          "name": "stdout",
          "text": [
            "Processed and saved data for M&M.\n"
          ]
        },
        {
          "output_type": "stream",
          "name": "stderr",
          "text": [
            "[*********************100%***********************]  1 of 1 completed\n",
            "[*********************100%***********************]  1 of 1 completed"
          ]
        },
        {
          "output_type": "stream",
          "name": "stdout",
          "text": [
            "Processed and saved data for MAHLIFE.\n"
          ]
        },
        {
          "output_type": "stream",
          "name": "stderr",
          "text": [
            "\n"
          ]
        },
        {
          "output_type": "stream",
          "name": "stdout",
          "text": [
            "Processed and saved data for MANAPPURAM.\n"
          ]
        },
        {
          "output_type": "stream",
          "name": "stderr",
          "text": [
            "[*********************100%***********************]  1 of 1 completed\n",
            "[*********************100%***********************]  1 of 1 completed\n"
          ]
        },
        {
          "output_type": "stream",
          "name": "stdout",
          "text": [
            "Processed and saved data for MRPL.\n",
            "Skipping MANKIND due to insufficient data.\n"
          ]
        },
        {
          "output_type": "stream",
          "name": "stderr",
          "text": [
            "[*********************100%***********************]  1 of 1 completed\n",
            "[*********************100%***********************]  1 of 1 completed"
          ]
        },
        {
          "output_type": "stream",
          "name": "stdout",
          "text": [
            "Processed and saved data for MARICO.\n"
          ]
        },
        {
          "output_type": "stream",
          "name": "stderr",
          "text": [
            "\n"
          ]
        },
        {
          "output_type": "stream",
          "name": "stdout",
          "text": [
            "Processed and saved data for MARUTI.\n"
          ]
        },
        {
          "output_type": "stream",
          "name": "stderr",
          "text": [
            "\r[*********************100%***********************]  1 of 1 completed\n"
          ]
        },
        {
          "output_type": "stream",
          "name": "stdout",
          "text": [
            "Processed and saved data for MASTEK.\n"
          ]
        },
        {
          "output_type": "stream",
          "name": "stderr",
          "text": [
            "[*********************100%***********************]  1 of 1 completed\n",
            "[*********************100%***********************]  1 of 1 completed"
          ]
        },
        {
          "output_type": "stream",
          "name": "stdout",
          "text": [
            "Processed and saved data for MFSL.\n"
          ]
        },
        {
          "output_type": "stream",
          "name": "stderr",
          "text": [
            "\n",
            "[*********************100%***********************]  1 of 1 completed"
          ]
        },
        {
          "output_type": "stream",
          "name": "stdout",
          "text": [
            "Processed and saved data for MAXHEALTH.\n"
          ]
        },
        {
          "output_type": "stream",
          "name": "stderr",
          "text": [
            "\n",
            "[*********************100%***********************]  1 of 1 completed"
          ]
        },
        {
          "output_type": "stream",
          "name": "stdout",
          "text": [
            "Processed and saved data for MAZDOCK.\n"
          ]
        },
        {
          "output_type": "stream",
          "name": "stderr",
          "text": [
            "\n",
            "[*********************100%***********************]  1 of 1 completed"
          ]
        },
        {
          "output_type": "stream",
          "name": "stdout",
          "text": [
            "Processed and saved data for METROBRAND.\n"
          ]
        },
        {
          "output_type": "stream",
          "name": "stderr",
          "text": [
            "\n",
            "[*********************100%***********************]  1 of 1 completed"
          ]
        },
        {
          "output_type": "stream",
          "name": "stdout",
          "text": [
            "Processed and saved data for METROPOLIS.\n"
          ]
        },
        {
          "output_type": "stream",
          "name": "stderr",
          "text": [
            "\n",
            "[*********************100%***********************]  1 of 1 completed"
          ]
        },
        {
          "output_type": "stream",
          "name": "stdout",
          "text": [
            "Processed and saved data for MINDACORP.\n"
          ]
        },
        {
          "output_type": "stream",
          "name": "stderr",
          "text": [
            "\n"
          ]
        },
        {
          "output_type": "stream",
          "name": "stdout",
          "text": [
            "Skipping MSUMI due to insufficient data.\n"
          ]
        },
        {
          "output_type": "stream",
          "name": "stderr",
          "text": [
            "\r[*********************100%***********************]  1 of 1 completed\n"
          ]
        },
        {
          "output_type": "stream",
          "name": "stdout",
          "text": [
            "Processed and saved data for MOTILALOFS.\n"
          ]
        },
        {
          "output_type": "stream",
          "name": "stderr",
          "text": [
            "[*********************100%***********************]  1 of 1 completed\n",
            "[*********************100%***********************]  1 of 1 completed"
          ]
        },
        {
          "output_type": "stream",
          "name": "stdout",
          "text": [
            "Processed and saved data for MPHASIS.\n"
          ]
        },
        {
          "output_type": "stream",
          "name": "stderr",
          "text": [
            "\n",
            "[*********************100%***********************]  1 of 1 completed"
          ]
        },
        {
          "output_type": "stream",
          "name": "stdout",
          "text": [
            "Processed and saved data for MCX.\n"
          ]
        },
        {
          "output_type": "stream",
          "name": "stderr",
          "text": [
            "\n"
          ]
        },
        {
          "output_type": "stream",
          "name": "stdout",
          "text": [
            "Processed and saved data for MUTHOOTFIN.\n"
          ]
        },
        {
          "output_type": "stream",
          "name": "stderr",
          "text": [
            "[*********************100%***********************]  1 of 1 completed\n",
            "[*********************100%***********************]  1 of 1 completed"
          ]
        },
        {
          "output_type": "stream",
          "name": "stdout",
          "text": [
            "Processed and saved data for NATCOPHARM.\n"
          ]
        },
        {
          "output_type": "stream",
          "name": "stderr",
          "text": [
            "\n",
            "[*********************100%***********************]  1 of 1 completed"
          ]
        },
        {
          "output_type": "stream",
          "name": "stdout",
          "text": [
            "Processed and saved data for NBCC.\n"
          ]
        },
        {
          "output_type": "stream",
          "name": "stderr",
          "text": [
            "\n",
            "[*********************100%***********************]  1 of 1 completed"
          ]
        },
        {
          "output_type": "stream",
          "name": "stdout",
          "text": [
            "Processed and saved data for NCC.\n"
          ]
        },
        {
          "output_type": "stream",
          "name": "stderr",
          "text": [
            "\n"
          ]
        },
        {
          "output_type": "stream",
          "name": "stdout",
          "text": [
            "Processed and saved data for NHPC.\n"
          ]
        },
        {
          "output_type": "stream",
          "name": "stderr",
          "text": [
            "\r[*********************100%***********************]  1 of 1 completed\n"
          ]
        },
        {
          "output_type": "stream",
          "name": "stdout",
          "text": [
            "Processed and saved data for NLCINDIA.\n"
          ]
        },
        {
          "output_type": "stream",
          "name": "stderr",
          "text": [
            "[*********************100%***********************]  1 of 1 completed\n",
            "[*********************100%***********************]  1 of 1 completed\n"
          ]
        },
        {
          "output_type": "stream",
          "name": "stdout",
          "text": [
            "Processed and saved data for NMDC.\n",
            "Skipping NSLNISP due to insufficient data.\n"
          ]
        },
        {
          "output_type": "stream",
          "name": "stderr",
          "text": [
            "[*********************100%***********************]  1 of 1 completed\n",
            "[*********************100%***********************]  1 of 1 completed\n"
          ]
        },
        {
          "output_type": "stream",
          "name": "stdout",
          "text": [
            "Processed and saved data for NTPC.\n",
            "Processed and saved data for NH.\n"
          ]
        },
        {
          "output_type": "stream",
          "name": "stderr",
          "text": [
            "\r[*********************100%***********************]  1 of 1 completed\n"
          ]
        },
        {
          "output_type": "stream",
          "name": "stdout",
          "text": [
            "Processed and saved data for NATIONALUM.\n"
          ]
        },
        {
          "output_type": "stream",
          "name": "stderr",
          "text": [
            "[*********************100%***********************]  1 of 1 completed\n",
            "[*********************100%***********************]  1 of 1 completed"
          ]
        },
        {
          "output_type": "stream",
          "name": "stdout",
          "text": [
            "Processed and saved data for NAVINFLUOR.\n"
          ]
        },
        {
          "output_type": "stream",
          "name": "stderr",
          "text": [
            "\n",
            "\r[*********************100%***********************]  1 of 1 completed\n"
          ]
        },
        {
          "output_type": "stream",
          "name": "stdout",
          "text": [
            "Processed and saved data for NESTLEIND.\n",
            "Skipping NETWEB due to insufficient data.\n"
          ]
        },
        {
          "output_type": "stream",
          "name": "stderr",
          "text": [
            "[*********************100%***********************]  1 of 1 completed\n",
            "[*********************100%***********************]  1 of 1 completed"
          ]
        },
        {
          "output_type": "stream",
          "name": "stdout",
          "text": [
            "Processed and saved data for NETWORK18.\n"
          ]
        },
        {
          "output_type": "stream",
          "name": "stderr",
          "text": [
            "\n",
            "[*********************100%***********************]  1 of 1 completed"
          ]
        },
        {
          "output_type": "stream",
          "name": "stdout",
          "text": [
            "Processed and saved data for NEWGEN.\n"
          ]
        },
        {
          "output_type": "stream",
          "name": "stderr",
          "text": [
            "\n",
            "\r[*********************100%***********************]  1 of 1 completed\n"
          ]
        },
        {
          "output_type": "stream",
          "name": "stdout",
          "text": [
            "Processed and saved data for NAM-INDIA.\n",
            "Skipping NUVAMA due to insufficient data.\n"
          ]
        },
        {
          "output_type": "stream",
          "name": "stderr",
          "text": [
            "\r[*********************100%***********************]  1 of 1 completed\n"
          ]
        },
        {
          "output_type": "stream",
          "name": "stdout",
          "text": [
            "Processed and saved data for NUVOCO.\n"
          ]
        },
        {
          "output_type": "stream",
          "name": "stderr",
          "text": [
            "[*********************100%***********************]  1 of 1 completed\n",
            "[*********************100%***********************]  1 of 1 completed\n"
          ]
        },
        {
          "output_type": "stream",
          "name": "stdout",
          "text": [
            "Processed and saved data for OBEROIRLTY.\n"
          ]
        },
        {
          "output_type": "stream",
          "name": "stderr",
          "text": [
            "\r[*********************100%***********************]  1 of 1 completed"
          ]
        },
        {
          "output_type": "stream",
          "name": "stdout",
          "text": [
            "Processed and saved data for ONGC.\n"
          ]
        },
        {
          "output_type": "stream",
          "name": "stderr",
          "text": [
            "\n"
          ]
        },
        {
          "output_type": "stream",
          "name": "stdout",
          "text": [
            "Processed and saved data for OIL.\n"
          ]
        },
        {
          "output_type": "stream",
          "name": "stderr",
          "text": [
            "\r[*********************100%***********************]  1 of 1 completed\n"
          ]
        },
        {
          "output_type": "stream",
          "name": "stdout",
          "text": [
            "Processed and saved data for OLECTRA.\n"
          ]
        },
        {
          "output_type": "stream",
          "name": "stderr",
          "text": [
            "\r[*********************100%***********************]  1 of 1 completed\n"
          ]
        },
        {
          "output_type": "stream",
          "name": "stdout",
          "text": [
            "Processed and saved data for PAYTM.\n"
          ]
        },
        {
          "output_type": "stream",
          "name": "stderr",
          "text": [
            "\r[*********************100%***********************]  1 of 1 completed\n"
          ]
        },
        {
          "output_type": "stream",
          "name": "stdout",
          "text": [
            "Processed and saved data for OFSS.\n"
          ]
        },
        {
          "output_type": "stream",
          "name": "stderr",
          "text": [
            "\r[*********************100%***********************]  1 of 1 completed\n"
          ]
        },
        {
          "output_type": "stream",
          "name": "stdout",
          "text": [
            "Processed and saved data for POLICYBZR.\n"
          ]
        },
        {
          "output_type": "stream",
          "name": "stderr",
          "text": [
            "[*********************100%***********************]  1 of 1 completed\n",
            "[*********************100%***********************]  1 of 1 completed"
          ]
        },
        {
          "output_type": "stream",
          "name": "stdout",
          "text": [
            "Processed and saved data for PCBL.\n"
          ]
        },
        {
          "output_type": "stream",
          "name": "stderr",
          "text": [
            "\n"
          ]
        },
        {
          "output_type": "stream",
          "name": "stdout",
          "text": [
            "Processed and saved data for PIIND.\n"
          ]
        },
        {
          "output_type": "stream",
          "name": "stderr",
          "text": [
            "[*********************100%***********************]  1 of 1 completed\n",
            "[*********************100%***********************]  1 of 1 completed"
          ]
        },
        {
          "output_type": "stream",
          "name": "stdout",
          "text": [
            "Processed and saved data for PNBHOUSING.\n"
          ]
        },
        {
          "output_type": "stream",
          "name": "stderr",
          "text": [
            "\n",
            "\r[*********************100%***********************]  1 of 1 completed\n"
          ]
        },
        {
          "output_type": "stream",
          "name": "stdout",
          "text": [
            "Processed and saved data for PNCINFRA.\n",
            "Skipping PTCIL due to insufficient data.\n"
          ]
        },
        {
          "output_type": "stream",
          "name": "stderr",
          "text": [
            "\r[*********************100%***********************]  1 of 1 completed\n"
          ]
        },
        {
          "output_type": "stream",
          "name": "stdout",
          "text": [
            "Skipping PVRINOX due to insufficient data.\n"
          ]
        },
        {
          "output_type": "stream",
          "name": "stderr",
          "text": [
            "\r[*********************100%***********************]  1 of 1 completed\n"
          ]
        },
        {
          "output_type": "stream",
          "name": "stdout",
          "text": [
            "Processed and saved data for PAGEIND.\n"
          ]
        },
        {
          "output_type": "stream",
          "name": "stderr",
          "text": [
            "\r[*********************100%***********************]  1 of 1 completed\n"
          ]
        },
        {
          "output_type": "stream",
          "name": "stdout",
          "text": [
            "Processed and saved data for PATANJALI.\n"
          ]
        },
        {
          "output_type": "stream",
          "name": "stderr",
          "text": [
            "\r[*********************100%***********************]  1 of 1 completed\n"
          ]
        },
        {
          "output_type": "stream",
          "name": "stdout",
          "text": [
            "Processed and saved data for PERSISTENT.\n"
          ]
        },
        {
          "output_type": "stream",
          "name": "stderr",
          "text": [
            "\r[*********************100%***********************]  1 of 1 completed\n"
          ]
        },
        {
          "output_type": "stream",
          "name": "stdout",
          "text": [
            "Processed and saved data for PETRONET.\n"
          ]
        },
        {
          "output_type": "stream",
          "name": "stderr",
          "text": [
            "[*********************100%***********************]  1 of 1 completed\n",
            "[*********************100%***********************]  1 of 1 completed"
          ]
        },
        {
          "output_type": "stream",
          "name": "stdout",
          "text": [
            "Processed and saved data for PFIZER.\n"
          ]
        },
        {
          "output_type": "stream",
          "name": "stderr",
          "text": [
            "\n"
          ]
        },
        {
          "output_type": "stream",
          "name": "stdout",
          "text": [
            "Processed and saved data for PHOENIXLTD.\n"
          ]
        },
        {
          "output_type": "stream",
          "name": "stderr",
          "text": [
            "\r[*********************100%***********************]  1 of 1 completed\n"
          ]
        },
        {
          "output_type": "stream",
          "name": "stdout",
          "text": [
            "Processed and saved data for PIDILITIND.\n"
          ]
        },
        {
          "output_type": "stream",
          "name": "stderr",
          "text": [
            "\r[*********************100%***********************]  1 of 1 completed\n"
          ]
        },
        {
          "output_type": "stream",
          "name": "stdout",
          "text": [
            "Processed and saved data for PEL.\n"
          ]
        },
        {
          "output_type": "stream",
          "name": "stderr",
          "text": [
            "[*********************100%***********************]  1 of 1 completed\n",
            "[*********************100%***********************]  1 of 1 completed\n"
          ]
        },
        {
          "output_type": "stream",
          "name": "stdout",
          "text": [
            "Skipping PPLPHARMA due to insufficient data.\n"
          ]
        },
        {
          "output_type": "stream",
          "name": "stderr",
          "text": [
            "\r[*********************100%***********************]  1 of 1 completed"
          ]
        },
        {
          "output_type": "stream",
          "name": "stdout",
          "text": [
            "Processed and saved data for POLYMED.\n"
          ]
        },
        {
          "output_type": "stream",
          "name": "stderr",
          "text": [
            "\n"
          ]
        },
        {
          "output_type": "stream",
          "name": "stdout",
          "text": [
            "Processed and saved data for POLYCAB.\n"
          ]
        },
        {
          "output_type": "stream",
          "name": "stderr",
          "text": [
            "\r[*********************100%***********************]  1 of 1 completed\n"
          ]
        },
        {
          "output_type": "stream",
          "name": "stdout",
          "text": [
            "Processed and saved data for POONAWALLA.\n"
          ]
        },
        {
          "output_type": "stream",
          "name": "stderr",
          "text": [
            "[*********************100%***********************]  1 of 1 completed\n",
            "[*********************100%***********************]  1 of 1 completed"
          ]
        },
        {
          "output_type": "stream",
          "name": "stdout",
          "text": [
            "Processed and saved data for PFC.\n"
          ]
        },
        {
          "output_type": "stream",
          "name": "stderr",
          "text": [
            "\n"
          ]
        },
        {
          "output_type": "stream",
          "name": "stdout",
          "text": [
            "Processed and saved data for POWERGRID.\n"
          ]
        },
        {
          "output_type": "stream",
          "name": "stderr",
          "text": [
            "[*********************100%***********************]  1 of 1 completed\n",
            "[*********************100%***********************]  1 of 1 completed"
          ]
        },
        {
          "output_type": "stream",
          "name": "stdout",
          "text": [
            "Processed and saved data for PRAJIND.\n"
          ]
        },
        {
          "output_type": "stream",
          "name": "stderr",
          "text": [
            "\n"
          ]
        },
        {
          "output_type": "stream",
          "name": "stdout",
          "text": [
            "Processed and saved data for PRESTIGE.\n"
          ]
        },
        {
          "output_type": "stream",
          "name": "stderr",
          "text": [
            "\r[*********************100%***********************]  1 of 1 completed\n"
          ]
        },
        {
          "output_type": "stream",
          "name": "stdout",
          "text": [
            "Processed and saved data for PGHH.\n"
          ]
        },
        {
          "output_type": "stream",
          "name": "stderr",
          "text": [
            "[*********************100%***********************]  1 of 1 completed\n",
            "[*********************100%***********************]  1 of 1 completed"
          ]
        },
        {
          "output_type": "stream",
          "name": "stdout",
          "text": [
            "Processed and saved data for PNB.\n"
          ]
        },
        {
          "output_type": "stream",
          "name": "stderr",
          "text": [
            "\n",
            "[*********************100%***********************]  1 of 1 completed"
          ]
        },
        {
          "output_type": "stream",
          "name": "stdout",
          "text": [
            "Processed and saved data for QUESS.\n",
            "Skipping RRKABEL due to insufficient data.\n"
          ]
        },
        {
          "output_type": "stream",
          "name": "stderr",
          "text": [
            "\n",
            "[*********************100%***********************]  1 of 1 completed\n",
            "[*********************100%***********************]  1 of 1 completed"
          ]
        },
        {
          "output_type": "stream",
          "name": "stdout",
          "text": [
            "Processed and saved data for RBLBANK.\n"
          ]
        },
        {
          "output_type": "stream",
          "name": "stderr",
          "text": [
            "\n",
            "[*********************100%***********************]  1 of 1 completed"
          ]
        },
        {
          "output_type": "stream",
          "name": "stdout",
          "text": [
            "Processed and saved data for RECLTD.\n"
          ]
        },
        {
          "output_type": "stream",
          "name": "stderr",
          "text": [
            "\n",
            "[*********************100%***********************]  1 of 1 completed"
          ]
        },
        {
          "output_type": "stream",
          "name": "stdout",
          "text": [
            "Processed and saved data for RHIM.\n"
          ]
        },
        {
          "output_type": "stream",
          "name": "stderr",
          "text": [
            "\n"
          ]
        },
        {
          "output_type": "stream",
          "name": "stdout",
          "text": [
            "Processed and saved data for RITES.\n"
          ]
        },
        {
          "output_type": "stream",
          "name": "stderr",
          "text": [
            "[*********************100%***********************]  1 of 1 completed\n",
            "[*********************100%***********************]  1 of 1 completed\n"
          ]
        },
        {
          "output_type": "stream",
          "name": "stdout",
          "text": [
            "Processed and saved data for RADICO.\n",
            "Processed and saved data for RVNL.\n"
          ]
        },
        {
          "output_type": "stream",
          "name": "stderr",
          "text": [
            "[*********************100%***********************]  1 of 1 completed\n",
            "[*********************100%***********************]  1 of 1 completed\n"
          ]
        },
        {
          "output_type": "stream",
          "name": "stdout",
          "text": [
            "Processed and saved data for RAILTEL.\n",
            "Skipping RAINBOW due to insufficient data.\n"
          ]
        },
        {
          "output_type": "stream",
          "name": "stderr",
          "text": [
            "\r[*********************100%***********************]  1 of 1 completed\n"
          ]
        },
        {
          "output_type": "stream",
          "name": "stdout",
          "text": [
            "Processed and saved data for RAJESHEXPO.\n"
          ]
        },
        {
          "output_type": "stream",
          "name": "stderr",
          "text": [
            "\r[*********************100%***********************]  1 of 1 completed\n"
          ]
        },
        {
          "output_type": "stream",
          "name": "stdout",
          "text": [
            "Processed and saved data for RKFORGE.\n"
          ]
        },
        {
          "output_type": "stream",
          "name": "stderr",
          "text": [
            "\r[*********************100%***********************]  1 of 1 completed\n"
          ]
        },
        {
          "output_type": "stream",
          "name": "stdout",
          "text": [
            "Processed and saved data for RCF.\n"
          ]
        },
        {
          "output_type": "stream",
          "name": "stderr",
          "text": [
            "[*********************100%***********************]  1 of 1 completed\n",
            "[*********************100%***********************]  1 of 1 completed\n"
          ]
        },
        {
          "output_type": "stream",
          "name": "stdout",
          "text": [
            "Processed and saved data for RATNAMANI.\n",
            "Processed and saved data for RTNINDIA.\n"
          ]
        },
        {
          "output_type": "stream",
          "name": "stderr",
          "text": [
            "[*********************100%***********************]  1 of 1 completed\n",
            "[*********************100%***********************]  1 of 1 completed"
          ]
        },
        {
          "output_type": "stream",
          "name": "stdout",
          "text": [
            "Processed and saved data for RAYMOND.\n"
          ]
        },
        {
          "output_type": "stream",
          "name": "stderr",
          "text": [
            "\n"
          ]
        },
        {
          "output_type": "stream",
          "name": "stdout",
          "text": [
            "Processed and saved data for REDINGTON.\n"
          ]
        },
        {
          "output_type": "stream",
          "name": "stderr",
          "text": [
            "[*********************100%***********************]  1 of 1 completed\n",
            "[*********************100%***********************]  1 of 1 completed\n"
          ]
        },
        {
          "output_type": "stream",
          "name": "stdout",
          "text": [
            "Processed and saved data for RELIANCE.\n"
          ]
        },
        {
          "output_type": "stream",
          "name": "stderr",
          "text": [
            "\r[*********************100%***********************]  1 of 1 completed\n"
          ]
        },
        {
          "output_type": "stream",
          "name": "stdout",
          "text": [
            "Processed and saved data for ROUTE.\n",
            "Skipping SBFC due to insufficient data.\n"
          ]
        },
        {
          "output_type": "stream",
          "name": "stderr",
          "text": [
            "[*********************100%***********************]  1 of 1 completed\n",
            "[*********************100%***********************]  1 of 1 completed"
          ]
        },
        {
          "output_type": "stream",
          "name": "stdout",
          "text": [
            "Processed and saved data for SBICARD.\n"
          ]
        },
        {
          "output_type": "stream",
          "name": "stderr",
          "text": [
            "\n",
            "[*********************100%***********************]  1 of 1 completed"
          ]
        },
        {
          "output_type": "stream",
          "name": "stdout",
          "text": [
            "Processed and saved data for SBILIFE.\n"
          ]
        },
        {
          "output_type": "stream",
          "name": "stderr",
          "text": [
            "\n"
          ]
        },
        {
          "output_type": "stream",
          "name": "stdout",
          "text": [
            "Processed and saved data for SJVN.\n"
          ]
        },
        {
          "output_type": "stream",
          "name": "stderr",
          "text": [
            "\r[*********************100%***********************]  1 of 1 completed\n"
          ]
        },
        {
          "output_type": "stream",
          "name": "stdout",
          "text": [
            "Processed and saved data for SKFINDIA.\n"
          ]
        },
        {
          "output_type": "stream",
          "name": "stderr",
          "text": [
            "[*********************100%***********************]  1 of 1 completed\n",
            "[*********************100%***********************]  1 of 1 completed"
          ]
        },
        {
          "output_type": "stream",
          "name": "stdout",
          "text": [
            "Processed and saved data for SRF.\n"
          ]
        },
        {
          "output_type": "stream",
          "name": "stderr",
          "text": [
            "\n"
          ]
        },
        {
          "output_type": "stream",
          "name": "stdout",
          "text": [
            "Processed and saved data for SAMMAANCAP.\n"
          ]
        },
        {
          "output_type": "stream",
          "name": "stderr",
          "text": [
            "\r[*********************100%***********************]  1 of 1 completed\n"
          ]
        },
        {
          "output_type": "stream",
          "name": "stdout",
          "text": [
            "Processed and saved data for MOTHERSON.\n"
          ]
        },
        {
          "output_type": "stream",
          "name": "stderr",
          "text": [
            "[*********************100%***********************]  1 of 1 completed\n",
            "[*********************100%***********************]  1 of 1 completed\n"
          ]
        },
        {
          "output_type": "stream",
          "name": "stdout",
          "text": [
            "Processed and saved data for SANOFI.\n",
            "Processed and saved data for SAPPHIRE.\n"
          ]
        },
        {
          "output_type": "stream",
          "name": "stderr",
          "text": [
            "\r[*********************100%***********************]  1 of 1 completed\n"
          ]
        },
        {
          "output_type": "stream",
          "name": "stdout",
          "text": [
            "Processed and saved data for SAREGAMA.\n"
          ]
        },
        {
          "output_type": "stream",
          "name": "stderr",
          "text": [
            "[*********************100%***********************]  1 of 1 completed\n",
            "[*********************100%***********************]  1 of 1 completed\n"
          ]
        },
        {
          "output_type": "stream",
          "name": "stdout",
          "text": [
            "Processed and saved data for SCHAEFFLER.\n",
            "Processed and saved data for SCHNEIDER.\n"
          ]
        },
        {
          "output_type": "stream",
          "name": "stderr",
          "text": [
            "\r[*********************100%***********************]  1 of 1 completed\n"
          ]
        },
        {
          "output_type": "stream",
          "name": "stdout",
          "text": [
            "Processed and saved data for SCI.\n"
          ]
        },
        {
          "output_type": "stream",
          "name": "stderr",
          "text": [
            "[*********************100%***********************]  1 of 1 completed\n",
            "[*********************100%***********************]  1 of 1 completed"
          ]
        },
        {
          "output_type": "stream",
          "name": "stdout",
          "text": [
            "Processed and saved data for SHREECEM.\n"
          ]
        },
        {
          "output_type": "stream",
          "name": "stderr",
          "text": [
            "\n",
            "[*********************100%***********************]  1 of 1 completed"
          ]
        },
        {
          "output_type": "stream",
          "name": "stdout",
          "text": [
            "Processed and saved data for RENUKA.\n"
          ]
        },
        {
          "output_type": "stream",
          "name": "stderr",
          "text": [
            "\n",
            "[*********************100%***********************]  1 of 1 completed"
          ]
        },
        {
          "output_type": "stream",
          "name": "stdout",
          "text": [
            "Processed and saved data for SHRIRAMFIN.\n"
          ]
        },
        {
          "output_type": "stream",
          "name": "stderr",
          "text": [
            "\n"
          ]
        },
        {
          "output_type": "stream",
          "name": "stdout",
          "text": [
            "Processed and saved data for SHYAMMETL.\n"
          ]
        },
        {
          "output_type": "stream",
          "name": "stderr",
          "text": [
            "[*********************100%***********************]  1 of 1 completed\n",
            "[*********************100%***********************]  1 of 1 completed\n"
          ]
        },
        {
          "output_type": "stream",
          "name": "stdout",
          "text": [
            "Processed and saved data for SIEMENS.\n",
            "Skipping SIGNATURE due to insufficient data.\n"
          ]
        },
        {
          "output_type": "stream",
          "name": "stderr",
          "text": [
            "[*********************100%***********************]  1 of 1 completed\n",
            "[*********************100%***********************]  1 of 1 completed"
          ]
        },
        {
          "output_type": "stream",
          "name": "stdout",
          "text": [
            "Processed and saved data for SOBHA.\n"
          ]
        },
        {
          "output_type": "stream",
          "name": "stderr",
          "text": [
            "\n",
            "[*********************100%***********************]  1 of 1 completed\n"
          ]
        },
        {
          "output_type": "stream",
          "name": "stdout",
          "text": [
            "Processed and saved data for SOLARINDS.\n",
            "Processed and saved data for SONACOMS.\n"
          ]
        },
        {
          "output_type": "stream",
          "name": "stderr",
          "text": [
            "[*********************100%***********************]  1 of 1 completed\n",
            "[*********************100%***********************]  1 of 1 completed\n"
          ]
        },
        {
          "output_type": "stream",
          "name": "stdout",
          "text": [
            "Processed and saved data for SONATSOFTW.\n",
            "Processed and saved data for STARHEALTH.\n"
          ]
        },
        {
          "output_type": "stream",
          "name": "stderr",
          "text": [
            "\r[*********************100%***********************]  1 of 1 completed\n"
          ]
        },
        {
          "output_type": "stream",
          "name": "stdout",
          "text": [
            "Processed and saved data for SBIN.\n"
          ]
        },
        {
          "output_type": "stream",
          "name": "stderr",
          "text": [
            "[*********************100%***********************]  1 of 1 completed\n",
            "[*********************100%***********************]  1 of 1 completed"
          ]
        },
        {
          "output_type": "stream",
          "name": "stdout",
          "text": [
            "Processed and saved data for SAIL.\n"
          ]
        },
        {
          "output_type": "stream",
          "name": "stderr",
          "text": [
            "\n",
            "[*********************100%***********************]  1 of 1 completed"
          ]
        },
        {
          "output_type": "stream",
          "name": "stdout",
          "text": [
            "Processed and saved data for SWSOLAR.\n"
          ]
        },
        {
          "output_type": "stream",
          "name": "stderr",
          "text": [
            "\n",
            "[*********************100%***********************]  1 of 1 completed"
          ]
        },
        {
          "output_type": "stream",
          "name": "stdout",
          "text": [
            "Processed and saved data for SUMICHEM.\n"
          ]
        },
        {
          "output_type": "stream",
          "name": "stderr",
          "text": [
            "\n"
          ]
        },
        {
          "output_type": "stream",
          "name": "stdout",
          "text": [
            "Processed and saved data for SPARC.\n"
          ]
        },
        {
          "output_type": "stream",
          "name": "stderr",
          "text": [
            "[*********************100%***********************]  1 of 1 completed\n",
            "[*********************100%***********************]  1 of 1 completed"
          ]
        },
        {
          "output_type": "stream",
          "name": "stdout",
          "text": [
            "Processed and saved data for SUNPHARMA.\n"
          ]
        },
        {
          "output_type": "stream",
          "name": "stderr",
          "text": [
            "\n"
          ]
        },
        {
          "output_type": "stream",
          "name": "stdout",
          "text": [
            "Processed and saved data for SUNTV.\n"
          ]
        },
        {
          "output_type": "stream",
          "name": "stderr",
          "text": [
            "\r[*********************100%***********************]  1 of 1 completed\n"
          ]
        },
        {
          "output_type": "stream",
          "name": "stdout",
          "text": [
            "Processed and saved data for SUNDARMFIN.\n"
          ]
        },
        {
          "output_type": "stream",
          "name": "stderr",
          "text": [
            "\r[*********************100%***********************]  1 of 1 completed\n"
          ]
        },
        {
          "output_type": "stream",
          "name": "stdout",
          "text": [
            "Processed and saved data for SUNDRMFAST.\n"
          ]
        },
        {
          "output_type": "stream",
          "name": "stderr",
          "text": [
            "\r[*********************100%***********************]  1 of 1 completed\n"
          ]
        },
        {
          "output_type": "stream",
          "name": "stdout",
          "text": [
            "Processed and saved data for SUPREMEIND.\n"
          ]
        },
        {
          "output_type": "stream",
          "name": "stderr",
          "text": [
            "[*********************100%***********************]  1 of 1 completed\n",
            "[*********************100%***********************]  1 of 1 completed\n"
          ]
        },
        {
          "output_type": "stream",
          "name": "stdout",
          "text": [
            "Processed and saved data for SUVENPHAR.\n",
            "Processed and saved data for SUZLON.\n"
          ]
        },
        {
          "output_type": "stream",
          "name": "stderr",
          "text": [
            "\r[*********************100%***********************]  1 of 1 completed\n"
          ]
        },
        {
          "output_type": "stream",
          "name": "stdout",
          "text": [
            "Processed and saved data for SWANENERGY.\n"
          ]
        },
        {
          "output_type": "stream",
          "name": "stderr",
          "text": [
            "[*********************100%***********************]  1 of 1 completed\n",
            "[*********************100%***********************]  1 of 1 completed\n"
          ]
        },
        {
          "output_type": "stream",
          "name": "stdout",
          "text": [
            "Processed and saved data for SYNGENE.\n",
            "Skipping SYRMA due to insufficient data.\n"
          ]
        },
        {
          "output_type": "stream",
          "name": "stderr",
          "text": [
            "\r[*********************100%***********************]  1 of 1 completed\n"
          ]
        },
        {
          "output_type": "stream",
          "name": "stdout",
          "text": [
            "Skipping TBOTEK due to insufficient data.\n"
          ]
        },
        {
          "output_type": "stream",
          "name": "stderr",
          "text": [
            "[*********************100%***********************]  1 of 1 completed\n",
            "[*********************100%***********************]  1 of 1 completed\n"
          ]
        },
        {
          "output_type": "stream",
          "name": "stdout",
          "text": [
            "Processed and saved data for TVSMOTOR.\n",
            "Skipping TVSSCS due to insufficient data.\n"
          ]
        },
        {
          "output_type": "stream",
          "name": "stderr",
          "text": [
            "\r[*********************100%***********************]  1 of 1 completed\n"
          ]
        },
        {
          "output_type": "stream",
          "name": "stdout",
          "text": [
            "Processed and saved data for TANLA.\n"
          ]
        },
        {
          "output_type": "stream",
          "name": "stderr",
          "text": [
            "\r[*********************100%***********************]  1 of 1 completed\n"
          ]
        },
        {
          "output_type": "stream",
          "name": "stdout",
          "text": [
            "Processed and saved data for TATACHEM.\n"
          ]
        },
        {
          "output_type": "stream",
          "name": "stderr",
          "text": [
            "\r[*********************100%***********************]  1 of 1 completed\n"
          ]
        },
        {
          "output_type": "stream",
          "name": "stdout",
          "text": [
            "Processed and saved data for TATACOMM.\n"
          ]
        },
        {
          "output_type": "stream",
          "name": "stderr",
          "text": [
            "\r[*********************100%***********************]  1 of 1 completed\n"
          ]
        },
        {
          "output_type": "stream",
          "name": "stdout",
          "text": [
            "Processed and saved data for TCS.\n"
          ]
        },
        {
          "output_type": "stream",
          "name": "stderr",
          "text": [
            "\r[*********************100%***********************]  1 of 1 completed\n"
          ]
        },
        {
          "output_type": "stream",
          "name": "stdout",
          "text": [
            "Processed and saved data for TATACONSUM.\n"
          ]
        },
        {
          "output_type": "stream",
          "name": "stderr",
          "text": [
            "\r[*********************100%***********************]  1 of 1 completed\n"
          ]
        },
        {
          "output_type": "stream",
          "name": "stdout",
          "text": [
            "Processed and saved data for TATAELXSI.\n"
          ]
        },
        {
          "output_type": "stream",
          "name": "stderr",
          "text": [
            "\r[*********************100%***********************]  1 of 1 completed\n"
          ]
        },
        {
          "output_type": "stream",
          "name": "stdout",
          "text": [
            "Processed and saved data for TATAINVEST.\n"
          ]
        },
        {
          "output_type": "stream",
          "name": "stderr",
          "text": [
            "\r[*********************100%***********************]  1 of 1 completed\n"
          ]
        },
        {
          "output_type": "stream",
          "name": "stdout",
          "text": [
            "Processed and saved data for TATAMOTORS.\n"
          ]
        },
        {
          "output_type": "stream",
          "name": "stderr",
          "text": [
            "\r[*********************100%***********************]  1 of 1 completed\n"
          ]
        },
        {
          "output_type": "stream",
          "name": "stdout",
          "text": [
            "Processed and saved data for TATAPOWER.\n"
          ]
        },
        {
          "output_type": "stream",
          "name": "stderr",
          "text": [
            "[*********************100%***********************]  1 of 1 completed\n",
            "[*********************100%***********************]  1 of 1 completed\n"
          ]
        },
        {
          "output_type": "stream",
          "name": "stdout",
          "text": [
            "Processed and saved data for TATASTEEL.\n",
            "Skipping TATATECH due to insufficient data.\n"
          ]
        },
        {
          "output_type": "stream",
          "name": "stderr",
          "text": [
            "\r[*********************100%***********************]  1 of 1 completed\n"
          ]
        },
        {
          "output_type": "stream",
          "name": "stdout",
          "text": [
            "Processed and saved data for TTML.\n"
          ]
        },
        {
          "output_type": "stream",
          "name": "stderr",
          "text": [
            "\r[*********************100%***********************]  1 of 1 completed\n"
          ]
        },
        {
          "output_type": "stream",
          "name": "stdout",
          "text": [
            "Processed and saved data for TECHM.\n"
          ]
        },
        {
          "output_type": "stream",
          "name": "stderr",
          "text": [
            "[*********************100%***********************]  1 of 1 completed\n",
            "[*********************100%***********************]  1 of 1 completed"
          ]
        },
        {
          "output_type": "stream",
          "name": "stdout",
          "text": [
            "Processed and saved data for TECHNOE.\n"
          ]
        },
        {
          "output_type": "stream",
          "name": "stderr",
          "text": [
            "\n",
            "[*********************100%***********************]  1 of 1 completed"
          ]
        },
        {
          "output_type": "stream",
          "name": "stdout",
          "text": [
            "Processed and saved data for TEJASNET.\n"
          ]
        },
        {
          "output_type": "stream",
          "name": "stderr",
          "text": [
            "\n"
          ]
        },
        {
          "output_type": "stream",
          "name": "stdout",
          "text": [
            "Processed and saved data for NIACL.\n"
          ]
        },
        {
          "output_type": "stream",
          "name": "stderr",
          "text": [
            "\r[*********************100%***********************]  1 of 1 completed\n"
          ]
        },
        {
          "output_type": "stream",
          "name": "stdout",
          "text": [
            "Processed and saved data for RAMCOCEM.\n"
          ]
        },
        {
          "output_type": "stream",
          "name": "stderr",
          "text": [
            "\r[*********************100%***********************]  1 of 1 completed\n"
          ]
        },
        {
          "output_type": "stream",
          "name": "stdout",
          "text": [
            "Processed and saved data for THERMAX.\n"
          ]
        },
        {
          "output_type": "stream",
          "name": "stderr",
          "text": [
            "\r[*********************100%***********************]  1 of 1 completed\n"
          ]
        },
        {
          "output_type": "stream",
          "name": "stdout",
          "text": [
            "Processed and saved data for TIMKEN.\n"
          ]
        },
        {
          "output_type": "stream",
          "name": "stderr",
          "text": [
            "\r[*********************100%***********************]  1 of 1 completed\n"
          ]
        },
        {
          "output_type": "stream",
          "name": "stdout",
          "text": [
            "Processed and saved data for TITAGARH.\n"
          ]
        },
        {
          "output_type": "stream",
          "name": "stderr",
          "text": [
            "\r[*********************100%***********************]  1 of 1 completed\n"
          ]
        },
        {
          "output_type": "stream",
          "name": "stdout",
          "text": [
            "Processed and saved data for TITAN.\n"
          ]
        },
        {
          "output_type": "stream",
          "name": "stderr",
          "text": [
            "\r[*********************100%***********************]  1 of 1 completed\n"
          ]
        },
        {
          "output_type": "stream",
          "name": "stdout",
          "text": [
            "Processed and saved data for TORNTPHARM.\n"
          ]
        },
        {
          "output_type": "stream",
          "name": "stderr",
          "text": [
            "[*********************100%***********************]  1 of 1 completed\n",
            "[*********************100%***********************]  1 of 1 completed"
          ]
        },
        {
          "output_type": "stream",
          "name": "stdout",
          "text": [
            "Processed and saved data for TORNTPOWER.\n"
          ]
        },
        {
          "output_type": "stream",
          "name": "stderr",
          "text": [
            "\n"
          ]
        },
        {
          "output_type": "stream",
          "name": "stdout",
          "text": [
            "Processed and saved data for TRENT.\n"
          ]
        },
        {
          "output_type": "stream",
          "name": "stderr",
          "text": [
            "[*********************100%***********************]  1 of 1 completed\n",
            "[*********************100%***********************]  1 of 1 completed"
          ]
        },
        {
          "output_type": "stream",
          "name": "stdout",
          "text": [
            "Processed and saved data for TRIDENT.\n"
          ]
        },
        {
          "output_type": "stream",
          "name": "stderr",
          "text": [
            "\n",
            "[*********************100%***********************]  1 of 1 completed"
          ]
        },
        {
          "output_type": "stream",
          "name": "stdout",
          "text": [
            "Processed and saved data for TRIVENI.\n"
          ]
        },
        {
          "output_type": "stream",
          "name": "stderr",
          "text": [
            "\n",
            "[*********************100%***********************]  1 of 1 completed"
          ]
        },
        {
          "output_type": "stream",
          "name": "stdout",
          "text": [
            "Processed and saved data for TRITURBINE.\n"
          ]
        },
        {
          "output_type": "stream",
          "name": "stderr",
          "text": [
            "\n"
          ]
        },
        {
          "output_type": "stream",
          "name": "stdout",
          "text": [
            "Processed and saved data for TIINDIA.\n"
          ]
        },
        {
          "output_type": "stream",
          "name": "stderr",
          "text": [
            "\r[*********************100%***********************]  1 of 1 completed\n"
          ]
        },
        {
          "output_type": "stream",
          "name": "stdout",
          "text": [
            "Processed and saved data for UCOBANK.\n"
          ]
        },
        {
          "output_type": "stream",
          "name": "stderr",
          "text": [
            "[*********************100%***********************]  1 of 1 completed\n",
            "[*********************100%***********************]  1 of 1 completed"
          ]
        },
        {
          "output_type": "stream",
          "name": "stdout",
          "text": [
            "Processed and saved data for UNOMINDA.\n"
          ]
        },
        {
          "output_type": "stream",
          "name": "stderr",
          "text": [
            "\n"
          ]
        },
        {
          "output_type": "stream",
          "name": "stdout",
          "text": [
            "Processed and saved data for UPL.\n"
          ]
        },
        {
          "output_type": "stream",
          "name": "stderr",
          "text": [
            "[*********************100%***********************]  1 of 1 completed\n",
            "[*********************100%***********************]  1 of 1 completed"
          ]
        },
        {
          "output_type": "stream",
          "name": "stdout",
          "text": [
            "Processed and saved data for UTIAMC.\n"
          ]
        },
        {
          "output_type": "stream",
          "name": "stderr",
          "text": [
            "\n"
          ]
        },
        {
          "output_type": "stream",
          "name": "stdout",
          "text": [
            "Processed and saved data for UJJIVANSFB.\n"
          ]
        },
        {
          "output_type": "stream",
          "name": "stderr",
          "text": [
            "\r[*********************100%***********************]  1 of 1 completed\n"
          ]
        },
        {
          "output_type": "stream",
          "name": "stdout",
          "text": [
            "Processed and saved data for ULTRACEMCO.\n"
          ]
        },
        {
          "output_type": "stream",
          "name": "stderr",
          "text": [
            "\r[*********************100%***********************]  1 of 1 completed\n"
          ]
        },
        {
          "output_type": "stream",
          "name": "stdout",
          "text": [
            "Processed and saved data for UNIONBANK.\n"
          ]
        },
        {
          "output_type": "stream",
          "name": "stderr",
          "text": [
            "\r[*********************100%***********************]  1 of 1 completed\n"
          ]
        },
        {
          "output_type": "stream",
          "name": "stdout",
          "text": [
            "Processed and saved data for UBL.\n"
          ]
        },
        {
          "output_type": "stream",
          "name": "stderr",
          "text": [
            "\r[*********************100%***********************]  1 of 1 completed\n"
          ]
        },
        {
          "output_type": "stream",
          "name": "stdout",
          "text": [
            "Skipping UNITDSPR due to insufficient data.\n"
          ]
        },
        {
          "output_type": "stream",
          "name": "stderr",
          "text": [
            "[*********************100%***********************]  1 of 1 completed\n",
            "[*********************100%***********************]  1 of 1 completed"
          ]
        },
        {
          "output_type": "stream",
          "name": "stdout",
          "text": [
            "Processed and saved data for USHAMART.\n"
          ]
        },
        {
          "output_type": "stream",
          "name": "stderr",
          "text": [
            "\n"
          ]
        },
        {
          "output_type": "stream",
          "name": "stdout",
          "text": [
            "Processed and saved data for VGUARD.\n"
          ]
        },
        {
          "output_type": "stream",
          "name": "stderr",
          "text": [
            "\r[*********************100%***********************]  1 of 1 completed\n"
          ]
        },
        {
          "output_type": "stream",
          "name": "stdout",
          "text": [
            "Processed and saved data for VIPIND.\n"
          ]
        },
        {
          "output_type": "stream",
          "name": "stderr",
          "text": [
            "\r[*********************100%***********************]  1 of 1 completed\n"
          ]
        },
        {
          "output_type": "stream",
          "name": "stdout",
          "text": [
            "Processed and saved data for DBREALTY.\n"
          ]
        },
        {
          "output_type": "stream",
          "name": "stderr",
          "text": [
            "[*********************100%***********************]  1 of 1 completed\n",
            "[*********************100%***********************]  1 of 1 completed\n"
          ]
        },
        {
          "output_type": "stream",
          "name": "stdout",
          "text": [
            "Processed and saved data for VTL.\n",
            "Processed and saved data for VARROC.\n"
          ]
        },
        {
          "output_type": "stream",
          "name": "stderr",
          "text": [
            "[*********************100%***********************]  1 of 1 completed\n",
            "[*********************100%***********************]  1 of 1 completed\n"
          ]
        },
        {
          "output_type": "stream",
          "name": "stdout",
          "text": [
            "Processed and saved data for VBL.\n",
            "Skipping MANYAVAR due to insufficient data.\n"
          ]
        },
        {
          "output_type": "stream",
          "name": "stderr",
          "text": [
            "[*********************100%***********************]  1 of 1 completed\n",
            "[*********************100%***********************]  1 of 1 completed"
          ]
        },
        {
          "output_type": "stream",
          "name": "stdout",
          "text": [
            "Processed and saved data for VEDL.\n"
          ]
        },
        {
          "output_type": "stream",
          "name": "stderr",
          "text": [
            "\n",
            "[*********************100%***********************]  1 of 1 completed"
          ]
        },
        {
          "output_type": "stream",
          "name": "stdout",
          "text": [
            "Processed and saved data for VIJAYA.\n"
          ]
        },
        {
          "output_type": "stream",
          "name": "stderr",
          "text": [
            "\n",
            "\r[*********************100%***********************]  1 of 1 completed\n"
          ]
        },
        {
          "output_type": "stream",
          "name": "stdout",
          "text": [
            "Processed and saved data for VINATIORGA.\n",
            "Processed and saved data for IDEA.\n"
          ]
        },
        {
          "output_type": "stream",
          "name": "stderr",
          "text": [
            "\r[*********************100%***********************]  1 of 1 completed\n"
          ]
        },
        {
          "output_type": "stream",
          "name": "stdout",
          "text": [
            "Processed and saved data for VOLTAS.\n"
          ]
        },
        {
          "output_type": "stream",
          "name": "stderr",
          "text": [
            "[*********************100%***********************]  1 of 1 completed\n",
            "[*********************100%***********************]  1 of 1 completed"
          ]
        },
        {
          "output_type": "stream",
          "name": "stdout",
          "text": [
            "Processed and saved data for WELCORP.\n"
          ]
        },
        {
          "output_type": "stream",
          "name": "stderr",
          "text": [
            "\n"
          ]
        },
        {
          "output_type": "stream",
          "name": "stdout",
          "text": [
            "Processed and saved data for WELSPUNLIV.\n"
          ]
        },
        {
          "output_type": "stream",
          "name": "stderr",
          "text": [
            "[*********************100%***********************]  1 of 1 completed\n",
            "[*********************100%***********************]  1 of 1 completed"
          ]
        },
        {
          "output_type": "stream",
          "name": "stdout",
          "text": [
            "Processed and saved data for WESTLIFE.\n"
          ]
        },
        {
          "output_type": "stream",
          "name": "stderr",
          "text": [
            "\n"
          ]
        },
        {
          "output_type": "stream",
          "name": "stdout",
          "text": [
            "Processed and saved data for WHIRLPOOL.\n"
          ]
        },
        {
          "output_type": "stream",
          "name": "stderr",
          "text": [
            "[*********************100%***********************]  1 of 1 completed\n",
            "[*********************100%***********************]  1 of 1 completed"
          ]
        },
        {
          "output_type": "stream",
          "name": "stdout",
          "text": [
            "Processed and saved data for WIPRO.\n"
          ]
        },
        {
          "output_type": "stream",
          "name": "stderr",
          "text": [
            "\n",
            "[*********************100%***********************]  1 of 1 completed"
          ]
        },
        {
          "output_type": "stream",
          "name": "stdout",
          "text": [
            "Processed and saved data for YESBANK.\n"
          ]
        },
        {
          "output_type": "stream",
          "name": "stderr",
          "text": [
            "\n",
            "[*********************100%***********************]  1 of 1 completed"
          ]
        },
        {
          "output_type": "stream",
          "name": "stdout",
          "text": [
            "Processed and saved data for ZFCVINDIA.\n"
          ]
        },
        {
          "output_type": "stream",
          "name": "stderr",
          "text": [
            "\n"
          ]
        },
        {
          "output_type": "stream",
          "name": "stdout",
          "text": [
            "Processed and saved data for ZEEL.\n"
          ]
        },
        {
          "output_type": "stream",
          "name": "stderr",
          "text": [
            "[*********************100%***********************]  1 of 1 completed\n",
            "[*********************100%***********************]  1 of 1 completed"
          ]
        },
        {
          "output_type": "stream",
          "name": "stdout",
          "text": [
            "Processed and saved data for ZENSARTECH.\n"
          ]
        },
        {
          "output_type": "stream",
          "name": "stderr",
          "text": [
            "\n"
          ]
        },
        {
          "output_type": "stream",
          "name": "stdout",
          "text": [
            "Processed and saved data for ZOMATO.\n"
          ]
        },
        {
          "output_type": "stream",
          "name": "stderr",
          "text": [
            "\r[*********************100%***********************]  1 of 1 completed\n"
          ]
        },
        {
          "output_type": "stream",
          "name": "stdout",
          "text": [
            "Processed and saved data for ZYDUSLIFE.\n"
          ]
        },
        {
          "output_type": "stream",
          "name": "stderr",
          "text": [
            "\r[*********************100%***********************]  1 of 1 completed"
          ]
        },
        {
          "output_type": "stream",
          "name": "stdout",
          "text": [
            "Processed and saved data for ECLERX.\n",
            "All data processing completed.\n"
          ]
        },
        {
          "output_type": "stream",
          "name": "stderr",
          "text": [
            "\n"
          ]
        }
      ],
      "source": [
        "from sklearn.preprocessing import StandardScaler, LabelEncoder\n",
        "import pandas as pd\n",
        "import yfinance as yf\n",
        "import os\n",
        "from google.colab import files\n",
        "\n",
        "# Manually Upload CSV Instead of Using Kaggle\n",
        "print(\"Upload your CSV file containing company data:\")\n",
        "uploaded = files.upload()\n",
        "\n",
        "# Get the uploaded file name\n",
        "csv_filename = list(uploaded.keys())[0]\n",
        "print(f\"Uploaded file: {csv_filename}\")\n",
        "\n",
        "def load_company_data(filepath):\n",
        "    df = pd.read_csv(filepath)\n",
        "\n",
        "    if 'Symbol' not in df.columns or 'Industry' not in df.columns:\n",
        "        raise ValueError(\"CSV file must contain 'Symbol' and 'Industry' columns.\")\n",
        "\n",
        "    label_encoder = LabelEncoder()\n",
        "    df['Industry Encoded'] = label_encoder.fit_transform(df['Industry'])\n",
        "    return df['Symbol'].tolist(), df['Industry'].tolist(), df['Industry Encoded'].tolist()\n",
        "\n",
        "def fetch_stock_data(ticker, start_date, end_date):\n",
        "    try:\n",
        "        data = yf.download(f\"{ticker}.NS\", start=start_date, end=end_date)\n",
        "        return data if not data.empty else None\n",
        "    except Exception as e:\n",
        "        print(f\"Error fetching data for {ticker}: {e}\")\n",
        "        return None\n",
        "\n",
        "def compute_features(stock_data):\n",
        "    numeric_cols = ['Open', 'High', 'Low', 'Close']\n",
        "    stock_data[numeric_cols] = stock_data[numeric_cols].astype(float)\n",
        "\n",
        "    for window in [5, 10, 15, 20, 25, 30]:\n",
        "        stock_data[f'MA_{window}'] = stock_data['Close'].rolling(window=window).mean()\n",
        "\n",
        "    scaler = StandardScaler()\n",
        "    stock_data['Normalised Close'] = scaler.fit_transform(stock_data[['Close']])\n",
        "\n",
        "    stock_data['Return Ratio'] = (stock_data['Close'] - stock_data['Close'].shift(1)) / stock_data['Close'].shift(1)\n",
        "    stock_data['Percentage Change Open'] = stock_data['Open'] / stock_data['Close'] - 1\n",
        "    stock_data['Percentage Change High'] = stock_data['High'] / stock_data['Close'] - 1\n",
        "    stock_data['Percentage Change Low'] = stock_data['Low'] / stock_data['Close'] - 1\n",
        "\n",
        "    return stock_data\n",
        "\n",
        "def align_with_reference(stock_data, reference_dates):\n",
        "    start_ref, end_ref = reference_dates\n",
        "    stock_dates = stock_data.index\n",
        "\n",
        "    if stock_dates.min() > start_ref or stock_dates.max() < end_ref:\n",
        "        return False\n",
        "    return True\n",
        "\n",
        "def main():\n",
        "    start_date, end_date = \"2022-01-10\", \"2025-01-10\"\n",
        "    companies, sector, sector_encoded = load_company_data(csv_filename)\n",
        "    os.makedirs('Data_is_here', exist_ok=True)\n",
        "\n",
        "    reference_data = fetch_stock_data(\"ONGC\", start_date, end_date)\n",
        "    if reference_data is None:\n",
        "        print(\"Failed to fetch reference data.\")\n",
        "        return\n",
        "    reference_dates = (reference_data.index.min(), reference_data.index.max())\n",
        "\n",
        "    missing = []\n",
        "    for ticker in companies:\n",
        "        stock_data = fetch_stock_data(ticker, start_date, end_date)\n",
        "        if stock_data is not None:\n",
        "            if not align_with_reference(stock_data, reference_dates):\n",
        "                print(f\"Skipping {ticker} due to insufficient data.\")\n",
        "                missing.append(ticker)\n",
        "                continue\n",
        "\n",
        "            stock_data = compute_features(stock_data)\n",
        "\n",
        "            idx = companies.index(ticker) if ticker in companies else -1\n",
        "            if idx != -1:\n",
        "                stock_data['Sector'] = sector[idx]\n",
        "                stock_data['Sector Encoded'] = sector_encoded[idx]\n",
        "\n",
        "            stock_data.to_csv(f'Data_is_here/{ticker}_data.csv')\n",
        "            print(f\"Processed and saved data for {ticker}.\")\n",
        "        else:\n",
        "            print(f\"Skipping {ticker} due to missing data.\")\n",
        "            missing.append(ticker)\n",
        "\n",
        "    with open(\"Data_is_here/skipped_stocks.txt\", \"w\") as file:\n",
        "        for line in missing:\n",
        "            file.write(line + \"\\n\")\n",
        "\n",
        "    print(\"All data processing completed.\")\n",
        "\n",
        "if __name__ == \"__main__\":\n",
        "    main()\n"
      ]
    },
    {
      "cell_type": "code",
      "source": [],
      "metadata": {
        "id": "RFe6TpFkpdWk"
      },
      "execution_count": null,
      "outputs": []
    },
    {
      "cell_type": "code",
      "source": [
        "import os\n",
        "import pandas as pd\n",
        "\n",
        "file_path = \"/content/Data_is_here\"\n",
        "\n",
        "# Ensure the directory exists\n",
        "if not os.path.exists(file_path):\n",
        "    print(\"Error: Directory does not exist.\")\n",
        "    exit()\n",
        "\n",
        "# Get list of CSV files\n",
        "files = [f for f in os.listdir(file_path) if f.endswith(\".csv\")]\n",
        "\n",
        "for file in files:\n",
        "    file_full_path = os.path.join(file_path, file)\n",
        "\n",
        "    df = pd.read_csv(file_full_path)\n",
        "\n",
        "    # Ensure 'Return Ratio' exists in DataFrame\n",
        "    if 'Return Ratio' not in df.columns:\n",
        "        print(f\"Skipping {file}: 'Return Ratio' column not found.\")\n",
        "        continue\n",
        "\n",
        "    # Create the Stock_Movement_Label column\n",
        "    df['Stock_Movement_Label'] = (df['Return Ratio'].shift(-5) > 0).astype(int)\n",
        "\n",
        "    # Save the modified file\n",
        "    df.to_csv(file_full_path, index=False)\n",
        "    print(f\"Processed {file}\")\n"
      ],
      "metadata": {
        "id": "4jXo8YvppalI",
        "colab": {
          "base_uri": "https://localhost:8080/"
        },
        "collapsed": true,
        "outputId": "269f65ec-99d7-4ab8-90fb-32ff401c3ba0"
      },
      "execution_count": null,
      "outputs": [
        {
          "output_type": "stream",
          "name": "stdout",
          "text": [
            "Processed ASTRAL_data.csv\n",
            "Processed DRREDDY_data.csv\n",
            "Processed PIDILITIND_data.csv\n",
            "Processed GVT&D_data.csv\n",
            "Processed FINPIPE_data.csv\n",
            "Processed CERA_data.csv\n",
            "Processed TANLA_data.csv\n",
            "Processed HEG_data.csv\n",
            "Processed KNRCON_data.csv\n",
            "Processed FSL_data.csv\n",
            "Processed OIL_data.csv\n",
            "Processed INDIANB_data.csv\n",
            "Processed BANKBARODA_data.csv\n",
            "Processed ALOKINDS_data.csv\n",
            "Processed COCHINSHIP_data.csv\n",
            "Processed BANKINDIA_data.csv\n",
            "Processed GAEL_data.csv\n",
            "Processed LTIM_data.csv\n",
            "Processed AMBUJACEM_data.csv\n",
            "Processed NTPC_data.csv\n",
            "Processed TRIDENT_data.csv\n",
            "Processed AUROPHARMA_data.csv\n",
            "Processed MFSL_data.csv\n",
            "Processed TVSMOTOR_data.csv\n",
            "Processed J&KBANK_data.csv\n",
            "Processed SJVN_data.csv\n",
            "Processed VARROC_data.csv\n",
            "Processed PAGEIND_data.csv\n",
            "Processed PRAJIND_data.csv\n",
            "Processed APOLLOHOSP_data.csv\n",
            "Processed TATACHEM_data.csv\n",
            "Processed RAILTEL_data.csv\n",
            "Processed GSPL_data.csv\n",
            "Processed ALKEM_data.csv\n",
            "Processed FINCABLES_data.csv\n",
            "Processed VBL_data.csv\n",
            "Processed NYKAA_data.csv\n",
            "Processed KARURVYSYA_data.csv\n",
            "Processed ASTRAZEN_data.csv\n",
            "Processed GODREJAGRO_data.csv\n",
            "Processed HCLTECH_data.csv\n",
            "Processed RHIM_data.csv\n",
            "Processed SONATSOFTW_data.csv\n",
            "Processed VOLTAS_data.csv\n",
            "Processed VINATIORGA_data.csv\n",
            "Processed SKFINDIA_data.csv\n",
            "Processed IIFL_data.csv\n",
            "Processed TATAMOTORS_data.csv\n",
            "Processed RATNAMANI_data.csv\n",
            "Processed JPPOWER_data.csv\n",
            "Processed HINDZINC_data.csv\n",
            "Processed BPCL_data.csv\n",
            "Processed CRAFTSMAN_data.csv\n",
            "Processed PHOENIXLTD_data.csv\n",
            "Processed SWANENERGY_data.csv\n",
            "Processed TATASTEEL_data.csv\n",
            "Processed BALRAMCHIN_data.csv\n",
            "Processed ITC_data.csv\n",
            "Processed BHARTIARTL_data.csv\n",
            "Processed GPIL_data.csv\n",
            "Processed ANANDRATHI_data.csv\n",
            "Processed COFORGE_data.csv\n",
            "Processed JSWENERGY_data.csv\n",
            "Processed BLUESTARCO_data.csv\n",
            "Processed KPITTECH_data.csv\n",
            "Processed ZFCVINDIA_data.csv\n",
            "Processed UNOMINDA_data.csv\n",
            "Processed INFY_data.csv\n",
            "Processed ADANIENT_data.csv\n",
            "Processed CHAMBLFERT_data.csv\n",
            "Processed FLUOROCHEM_data.csv\n",
            "Processed TITAN_data.csv\n",
            "Processed GRINDWELL_data.csv\n",
            "Processed ISEC_data.csv\n",
            "Processed SHRIRAMFIN_data.csv\n",
            "Processed HINDALCO_data.csv\n",
            "Processed COALINDIA_data.csv\n",
            "Processed GODFRYPHLP_data.csv\n",
            "Processed DIXON_data.csv\n",
            "Processed SRF_data.csv\n",
            "Processed RBLBANK_data.csv\n",
            "Processed APARINDS_data.csv\n",
            "Processed BOSCHLTD_data.csv\n",
            "Processed SUNTV_data.csv\n",
            "Processed PGHH_data.csv\n",
            "Processed RELIANCE_data.csv\n",
            "Processed ERIS_data.csv\n",
            "Processed NAVINFLUOR_data.csv\n",
            "Processed SUMICHEM_data.csv\n",
            "Processed SIEMENS_data.csv\n",
            "Processed TATAINVEST_data.csv\n",
            "Processed MRF_data.csv\n",
            "Processed DBREALTY_data.csv\n",
            "Processed SHYAMMETL_data.csv\n",
            "Processed CHOLAHLDNG_data.csv\n",
            "Processed MMTC_data.csv\n",
            "Processed CASTROLIND_data.csv\n",
            "Processed TTML_data.csv\n",
            "Processed DMART_data.csv\n",
            "Processed TORNTPOWER_data.csv\n",
            "Processed ESCORTS_data.csv\n",
            "Processed GRANULES_data.csv\n",
            "Processed TRIVENI_data.csv\n",
            "Processed POLYCAB_data.csv\n",
            "Processed ITI_data.csv\n",
            "Processed GICRE_data.csv\n",
            "Processed KEC_data.csv\n",
            "Processed MAHABANK_data.csv\n",
            "Processed SBIN_data.csv\n",
            "Processed CLEAN_data.csv\n",
            "Processed METROBRAND_data.csv\n",
            "Processed ANGELONE_data.csv\n",
            "Processed GRSE_data.csv\n",
            "Processed MAHSEAMLES_data.csv\n",
            "Processed DEVYANI_data.csv\n",
            "Processed SUVENPHAR_data.csv\n",
            "Processed JSL_data.csv\n",
            "Processed IPCALAB_data.csv\n",
            "Processed CANFINHOME_data.csv\n",
            "Processed CARBORUNIV_data.csv\n",
            "Processed ICICIPRULI_data.csv\n",
            "Processed JINDALSAW_data.csv\n",
            "Processed 3MINDIA_data.csv\n",
            "Processed GILLETTE_data.csv\n",
            "Processed ABCAPITAL_data.csv\n",
            "Processed SAREGAMA_data.csv\n",
            "Processed MRPL_data.csv\n",
            "Processed SPARC_data.csv\n",
            "Processed CGCL_data.csv\n",
            "Processed UBL_data.csv\n",
            "Processed SBILIFE_data.csv\n",
            "Processed BAJAJHLDNG_data.csv\n",
            "Processed KIRLOSBROS_data.csv\n",
            "Processed CROMPTON_data.csv\n",
            "Processed LALPATHLAB_data.csv\n",
            "Processed AFFLE_data.csv\n",
            "Processed UPL_data.csv\n",
            "Processed DEEPAKNTR_data.csv\n",
            "Processed SUPREMEIND_data.csv\n",
            "Processed BEML_data.csv\n",
            "Processed COLPAL_data.csv\n",
            "Processed ABREL_data.csv\n",
            "Processed AIAENG_data.csv\n",
            "Processed TRITURBINE_data.csv\n",
            "Processed HINDCOPPER_data.csv\n",
            "Processed HUDCO_data.csv\n",
            "Processed WIPRO_data.csv\n",
            "Processed PFC_data.csv\n",
            "Processed IFCI_data.csv\n",
            "Processed NIACL_data.csv\n",
            "Processed SCHNEIDER_data.csv\n",
            "Processed AARTIIND_data.csv\n",
            "Processed BIOCON_data.csv\n",
            "Processed FACT_data.csv\n",
            "Processed MASTEK_data.csv\n",
            "Processed PERSISTENT_data.csv\n",
            "Processed POONAWALLA_data.csv\n",
            "Processed PATANJALI_data.csv\n",
            "Processed COROMANDEL_data.csv\n",
            "Processed NAUKRI_data.csv\n",
            "Processed USHAMART_data.csv\n",
            "Processed GUJGASLTD_data.csv\n",
            "Processed GRASIM_data.csv\n",
            "Processed PRESTIGE_data.csv\n",
            "Processed BERGEPAINT_data.csv\n",
            "Processed TATAELXSI_data.csv\n",
            "Processed MCX_data.csv\n",
            "Processed JKCEMENT_data.csv\n",
            "Processed BLUEDART_data.csv\n",
            "Processed MARICO_data.csv\n",
            "Processed SYNGENE_data.csv\n",
            "Processed IRFC_data.csv\n",
            "Processed BATAINDIA_data.csv\n",
            "Processed CHALET_data.csv\n",
            "Processed ASTERDM_data.csv\n",
            "Processed BLS_data.csv\n",
            "Processed BHARATFORG_data.csv\n",
            "Processed NEWGEN_data.csv\n",
            "Processed ASAHIINDIA_data.csv\n",
            "Processed SBICARD_data.csv\n",
            "Processed ADANIGREEN_data.csv\n",
            "Processed LTTS_data.csv\n",
            "Processed SUZLON_data.csv\n",
            "Processed IOC_data.csv\n",
            "Processed MINDACORP_data.csv\n",
            "Processed JUBLINGREA_data.csv\n",
            "Processed VGUARD_data.csv\n",
            "Processed BAJAJFINSV_data.csv\n",
            "Processed CRISIL_data.csv\n",
            "Processed LODHA_data.csv\n",
            "Processed YESBANK_data.csv\n",
            "Processed ACC_data.csv\n",
            "Processed ATGL_data.csv\n",
            "Processed DABUR_data.csv\n",
            "Processed MPHASIS_data.csv\n",
            "Processed INDHOTEL_data.csv\n",
            "Processed HOMEFIRST_data.csv\n",
            "Processed METROPOLIS_data.csv\n",
            "Processed SWSOLAR_data.csv\n",
            "Processed GODREJPROP_data.csv\n",
            "Processed CCL_data.csv\n",
            "Processed DIVISLAB_data.csv\n",
            "Processed HONAUT_data.csv\n",
            "Processed EXIDEIND_data.csv\n",
            "Processed CUMMINSIND_data.csv\n",
            "Processed HFCL_data.csv\n",
            "Processed EIHOTEL_data.csv\n",
            "Processed MAZDOCK_data.csv\n",
            "Processed JYOTHYLAB_data.csv\n",
            "Processed RAYMOND_data.csv\n",
            "Processed TATACONSUM_data.csv\n",
            "Processed NBCC_data.csv\n",
            "Processed KEI_data.csv\n",
            "Processed CIEINDIA_data.csv\n",
            "Processed ZYDUSLIFE_data.csv\n",
            "Processed GMDCLTD_data.csv\n",
            "Processed JWL_data.csv\n",
            "Processed EICHERMOT_data.csv\n",
            "Processed PEL_data.csv\n",
            "Processed JINDALSTEL_data.csv\n",
            "Processed GLENMARK_data.csv\n",
            "Processed LUPIN_data.csv\n",
            "Processed ELECON_data.csv\n",
            "Processed RAMCOCEM_data.csv\n",
            "Processed LINDEINDIA_data.csv\n",
            "Processed ULTRACEMCO_data.csv\n",
            "Processed TIMKEN_data.csv\n",
            "Processed UJJIVANSFB_data.csv\n",
            "Processed EIDPARRY_data.csv\n",
            "Processed LATENTVIEW_data.csv\n",
            "Processed GPPL_data.csv\n",
            "Processed VIJAYA_data.csv\n",
            "Processed JBMA_data.csv\n",
            "Processed ZENSARTECH_data.csv\n",
            "Processed INDIAMART_data.csv\n",
            "Processed JUBLFOOD_data.csv\n",
            "Processed GMRAIRPORT_data.csv\n",
            "Processed CDSL_data.csv\n",
            "Processed OBEROIRLTY_data.csv\n",
            "Processed GRAPHITE_data.csv\n",
            "Processed PNCINFRA_data.csv\n",
            "Processed DEEPAKFERT_data.csv\n",
            "Processed OLECTRA_data.csv\n",
            "Processed UTIAMC_data.csv\n",
            "Processed TORNTPHARM_data.csv\n",
            "Processed M&MFIN_data.csv\n",
            "Processed ATUL_data.csv\n",
            "Processed CONCOR_data.csv\n",
            "Processed TATAPOWER_data.csv\n",
            "Processed INDIACEM_data.csv\n",
            "Processed KAJARIACER_data.csv\n",
            "Processed NATIONALUM_data.csv\n",
            "Processed BAJFINANCE_data.csv\n",
            "Processed WELCORP_data.csv\n",
            "Processed LT_data.csv\n",
            "Processed LICHSGFIN_data.csv\n",
            "Processed QUESS_data.csv\n",
            "Processed AMBER_data.csv\n",
            "Processed JSWSTEEL_data.csv\n",
            "Processed INDUSTOWER_data.csv\n",
            "Processed ELGIEQUIP_data.csv\n",
            "Processed SCI_data.csv\n",
            "Processed HDFCLIFE_data.csv\n",
            "Processed INTELLECT_data.csv\n",
            "Processed FEDERALBNK_data.csv\n",
            "Processed POWERGRID_data.csv\n",
            "Processed UNIONBANK_data.csv\n",
            "Processed BRIGADE_data.csv\n",
            "Processed CAPLIPOINT_data.csv\n",
            "Processed ICICIBANK_data.csv\n",
            "Processed ZOMATO_data.csv\n",
            "Processed CHENNPETRO_data.csv\n",
            "Processed NUVOCO_data.csv\n",
            "Processed WELSPUNLIV_data.csv\n",
            "Processed MARUTI_data.csv\n",
            "Processed ASHOKLEY_data.csv\n",
            "Processed IRCTC_data.csv\n",
            "Processed APLLTD_data.csv\n",
            "Processed TIINDIA_data.csv\n",
            "Processed JUBLPHARMA_data.csv\n",
            "Processed JMFINANCIL_data.csv\n",
            "Processed AXISBANK_data.csv\n",
            "Processed PCBL_data.csv\n",
            "Processed MGL_data.csv\n",
            "Processed HSCL_data.csv\n",
            "Processed IRB_data.csv\n",
            "Processed PAYTM_data.csv\n",
            "Processed TECHM_data.csv\n",
            "Processed AUBANK_data.csv\n",
            "Processed ABFRL_data.csv\n",
            "Processed VIPIND_data.csv\n",
            "Processed CESC_data.csv\n",
            "Processed SUNDRMFAST_data.csv\n",
            "Processed NHPC_data.csv\n",
            "Processed HINDUNILVR_data.csv\n",
            "Processed APTUS_data.csv\n",
            "Processed CANBK_data.csv\n",
            "Processed BEL_data.csv\n",
            "Processed BANDHANBNK_data.csv\n",
            "Processed CEATLTD_data.csv\n",
            "Processed JUSTDIAL_data.csv\n",
            "Processed BHEL_data.csv\n",
            "Processed MAPMYINDIA_data.csv\n",
            "Processed KIMS_data.csv\n",
            "Processed INDUSINDBK_data.csv\n",
            "Processed ADANIPORTS_data.csv\n",
            "Processed TITAGARH_data.csv\n",
            "Processed ZEEL_data.csv\n",
            "Processed POWERINDIA_data.csv\n",
            "Processed NESTLEIND_data.csv\n",
            "Processed FORTIS_data.csv\n",
            "Processed MOTHERSON_data.csv\n",
            "Processed DATAPATTNS_data.csv\n",
            "Processed HINDPETRO_data.csv\n",
            "Processed MUTHOOTFIN_data.csv\n",
            "Processed TATACOMM_data.csv\n",
            "Processed RAJESHEXPO_data.csv\n",
            "Processed KANSAINER_data.csv\n",
            "Processed MANAPPURAM_data.csv\n",
            "Processed CYIENT_data.csv\n",
            "Processed RECLTD_data.csv\n",
            "Processed RKFORGE_data.csv\n",
            "Processed UCOBANK_data.csv\n",
            "Processed BSE_data.csv\n",
            "Processed LAURUSLABS_data.csv\n",
            "Processed BAJAJ-AUTO_data.csv\n",
            "Processed MAXHEALTH_data.csv\n",
            "Processed DLF_data.csv\n",
            "Processed SUNPHARMA_data.csv\n",
            "Processed KOTAKBANK_data.csv\n",
            "Processed GSFC_data.csv\n",
            "Processed 360ONE_data.csv\n",
            "Processed NETWORK18_data.csv\n",
            "Processed ABBOTINDIA_data.csv\n",
            "Processed CHEMPLASTS_data.csv\n",
            "Processed RITES_data.csv\n",
            "Processed SANOFI_data.csv\n",
            "Processed MAHLIFE_data.csv\n",
            "Processed BALKRISIND_data.csv\n",
            "Processed NATCOPHARM_data.csv\n",
            "Processed KIRLOSENG_data.csv\n",
            "Processed BBTC_data.csv\n",
            "Processed OFSS_data.csv\n",
            "Processed SAPPHIRE_data.csv\n",
            "Processed ALKYLAMINE_data.csv\n",
            "Processed SAMMAANCAP_data.csv\n",
            "Processed ANANTRAJ_data.csv\n",
            "Processed NMDC_data.csv\n",
            "Processed ACE_data.csv\n",
            "Processed PFIZER_data.csv\n",
            "Processed TRENT_data.csv\n",
            "Processed POLICYBZR_data.csv\n",
            "Processed CUB_data.csv\n",
            "Processed NCC_data.csv\n",
            "Processed EMAMILTD_data.csv\n",
            "Processed AAVAS_data.csv\n",
            "Processed HEROMOTOCO_data.csv\n",
            "Processed TCS_data.csv\n",
            "Processed IOB_data.csv\n",
            "Processed BIRLACORPN_data.csv\n",
            "Processed CGPOWER_data.csv\n",
            "Processed THERMAX_data.csv\n",
            "Processed ENGINERSIN_data.csv\n",
            "Processed RVNL_data.csv\n",
            "Processed APLAPOLLO_data.csv\n",
            "Processed ECLERX_data.csv\n",
            "Processed PNBHOUSING_data.csv\n",
            "Processed INDIGO_data.csv\n",
            "Processed DALBHARAT_data.csv\n",
            "Processed GESHIP_data.csv\n",
            "Processed RADICO_data.csv\n",
            "Processed NH_data.csv\n",
            "Processed JKTYRE_data.csv\n",
            "Processed ABB_data.csv\n",
            "Processed SOLARINDS_data.csv\n",
            "Processed ADANIPOWER_data.csv\n",
            "Processed BRITANNIA_data.csv\n",
            "Processed NLCINDIA_data.csv\n",
            "Processed POLYMED_data.csv\n",
            "Processed ASIANPAINT_data.csv\n",
            "Processed SUNDARMFIN_data.csv\n",
            "Processed LEMONTREE_data.csv\n",
            "Processed RENUKA_data.csv\n",
            "Processed NAM-INDIA_data.csv\n",
            "Processed CREDITACC_data.csv\n",
            "Processed FINEORG_data.csv\n",
            "Processed BAYERCROP_data.csv\n",
            "Processed REDINGTON_data.csv\n",
            "Processed APOLLOTYRE_data.csv\n",
            "Processed PNB_data.csv\n",
            "Processed HDFCBANK_data.csv\n",
            "Processed IRCON_data.csv\n",
            "Processed AVANTIFEED_data.csv\n",
            "Processed ONGC_data.csv\n",
            "Processed KPRMILL_data.csv\n",
            "Processed CENTRALBK_data.csv\n",
            "Processed IDBI_data.csv\n",
            "Processed BSOFT_data.csv\n",
            "Processed WESTLIFE_data.csv\n",
            "Processed SONACOMS_data.csv\n",
            "Processed GLAND_data.csv\n",
            "Processed INOXWIND_data.csv\n",
            "Processed CIPLA_data.csv\n",
            "Processed SAIL_data.csv\n",
            "Processed CHOLAFIN_data.csv\n",
            "Processed SOBHA_data.csv\n",
            "Processed VTL_data.csv\n",
            "Processed EASEMYTRIP_data.csv\n",
            "Processed BALAMINES_data.csv\n",
            "Processed GAIL_data.csv\n",
            "Processed TECHNOE_data.csv\n",
            "Processed SCHAEFFLER_data.csv\n",
            "Processed RTNINDIA_data.csv\n",
            "Processed VEDL_data.csv\n",
            "Processed KSB_data.csv\n",
            "Processed HAL_data.csv\n",
            "Processed AJANTPHARM_data.csv\n",
            "Processed RCF_data.csv\n",
            "Processed PETRONET_data.csv\n",
            "Processed GODREJCP_data.csv\n",
            "Processed M&M_data.csv\n",
            "Processed GLAXO_data.csv\n",
            "Processed ROUTE_data.csv\n",
            "Processed CENTURYPLY_data.csv\n",
            "Processed JKLAKSHMI_data.csv\n",
            "Processed ICICIGI_data.csv\n",
            "Processed HAVELLS_data.csv\n",
            "Processed ABSLAMC_data.csv\n",
            "Processed PIIND_data.csv\n",
            "Processed IGL_data.csv\n",
            "Processed BDL_data.csv\n",
            "Processed EQUITASBNK_data.csv\n",
            "Processed GRINFRA_data.csv\n",
            "Processed HDFCAMC_data.csv\n",
            "Processed GODREJIND_data.csv\n",
            "Processed KALYANKJIL_data.csv\n",
            "Processed WHIRLPOOL_data.csv\n",
            "Processed IEX_data.csv\n",
            "Processed GNFC_data.csv\n",
            "Processed MOTILALOFS_data.csv\n",
            "Processed IDFCFIRSTB_data.csv\n",
            "Processed HAPPSTMNDS_data.csv\n",
            "Processed TEJASNET_data.csv\n",
            "Processed IDEA_data.csv\n",
            "Processed SHREECEM_data.csv\n",
            "Processed JBCHEPHARM_data.csv\n",
            "Processed CAMS_data.csv\n",
            "Processed ENDURANCE_data.csv\n",
            "Processed STARHEALTH_data.csv\n",
            "Processed BASF_data.csv\n",
            "Processed LTF_data.csv\n"
          ]
        }
      ]
    },
    {
      "cell_type": "code",
      "source": [
        "import os\n",
        "import pandas as pd\n",
        "\n",
        "# Define directories\n",
        "file_path = \"/content/Data_is_here\"\n",
        "save_path = \"/content/Preprocessed_data\"\n",
        "\n",
        "# Ensure save directory exists\n",
        "os.makedirs(save_path, exist_ok=True)\n",
        "\n",
        "def set_data(file):\n",
        "    df = pd.read_csv(file_path + '/' + file)\n",
        "\n",
        "    # Fill NaN values with 0\n",
        "    df.fillna(0, inplace=True)\n",
        "\n",
        "    # Drop the first two rows (if they contain metadata)\n",
        "    df = df.iloc[2:].reset_index(drop=True)\n",
        "\n",
        "    # Remove unnamed columns\n",
        "    df = df.loc[:, ~df.columns.str.contains('^Unnamed')]\n",
        "\n",
        "    # Debugging: Check number of columns before renaming\n",
        "    print(f\"Processing file: {file}\")\n",
        "    print(f\"Original columns: {df.columns.tolist()} ({len(df.columns)} columns)\")\n",
        "\n",
        "    # Expected column names\n",
        "    expected_columns = [\n",
        "        \"Date\",\n",
        "        \"Close\", \"High\", \"Low\", \"Open\",\n",
        "        \"Volume\",\n",
        "        \"MA_5\", \"MA_15\", \"MA_10\", \"MA_20\", \"MA_25\", \"MA_30\",\n",
        "        \"Normalized_Close\",\n",
        "        \"Return_Ratio\", \"Percentage_Change_Open\", \"Percentage_Change_High\", \"Percentage_Change_Low\",\n",
        "        \"Sector\",\n",
        "        \"Sector_Encoded\",\n",
        "        \"Stock_Movement_Label\"\n",
        "    ]\n",
        "\n",
        "    # Fix: Only rename columns if the count matches\n",
        "    if len(df.columns) == len(expected_columns):\n",
        "        df.columns = expected_columns\n",
        "    else:\n",
        "        print(f\"❌ Column mismatch in {file}. Expected {len(expected_columns)} but found {len(df.columns)}. Skipping renaming.\")\n",
        "        return  # Skip further processing for this file\n",
        "\n",
        "    # Drop unnecessary columns\n",
        "    df = df.drop(columns=[ \"Sector\", \"Volume\", \"Normalized_Close\"], errors='ignore')\n",
        "\n",
        "    # Convert to numeric\n",
        "    for col in df.columns:\n",
        "        if col != 'Date':  # Skip converting 'Date' to numeric\n",
        "            df[col] = pd.to_numeric(df[col], errors='coerce')\n",
        "\n",
        "    # Drop rows with NaN values and reset index\n",
        "    df = df.dropna().reset_index(drop=True)\n",
        "\n",
        "    # Save preprocessed file\n",
        "    df.to_csv(save_path + '/' + file, index=False)\n",
        "    print(f\"✅ Processed {file} successfully.\")\n",
        "\n",
        "# Process all files in the directory\n",
        "for file in os.listdir(file_path):\n",
        "    set_data(file)\n"
      ],
      "metadata": {
        "id": "0ncTzFxhpd5Z",
        "colab": {
          "base_uri": "https://localhost:8080/"
        },
        "collapsed": true,
        "outputId": "5e8d5575-c3c6-4bb8-ad07-c55d4c1ae6cb"
      },
      "execution_count": null,
      "outputs": [
        {
          "output_type": "stream",
          "name": "stdout",
          "text": [
            "Processing file: ASTRAL_data.csv\n",
            "Original columns: ['Price', 'Close', 'High', 'Low', 'Open', 'Volume', 'MA_5', 'MA_10', 'MA_15', 'MA_20', 'MA_25', 'MA_30', 'Normalised Close', 'Return Ratio', 'Percentage Change Open', 'Percentage Change High', 'Percentage Change Low', 'Sector', 'Sector Encoded', 'Stock_Movement_Label'] (20 columns)\n",
            "✅ Processed ASTRAL_data.csv successfully.\n",
            "Processing file: DRREDDY_data.csv\n",
            "Original columns: ['Price', 'Close', 'High', 'Low', 'Open', 'Volume', 'MA_5', 'MA_10', 'MA_15', 'MA_20', 'MA_25', 'MA_30', 'Normalised Close', 'Return Ratio', 'Percentage Change Open', 'Percentage Change High', 'Percentage Change Low', 'Sector', 'Sector Encoded', 'Stock_Movement_Label'] (20 columns)\n",
            "✅ Processed DRREDDY_data.csv successfully.\n",
            "Processing file: PIDILITIND_data.csv\n",
            "Original columns: ['Price', 'Close', 'High', 'Low', 'Open', 'Volume', 'MA_5', 'MA_10', 'MA_15', 'MA_20', 'MA_25', 'MA_30', 'Normalised Close', 'Return Ratio', 'Percentage Change Open', 'Percentage Change High', 'Percentage Change Low', 'Sector', 'Sector Encoded', 'Stock_Movement_Label'] (20 columns)\n",
            "✅ Processed PIDILITIND_data.csv successfully.\n",
            "Processing file: GVT&D_data.csv\n",
            "Original columns: ['Price', 'Close', 'High', 'Low', 'Open', 'Volume', 'MA_5', 'MA_10', 'MA_15', 'MA_20', 'MA_25', 'MA_30', 'Normalised Close', 'Return Ratio', 'Percentage Change Open', 'Percentage Change High', 'Percentage Change Low', 'Sector', 'Sector Encoded', 'Stock_Movement_Label'] (20 columns)\n",
            "✅ Processed GVT&D_data.csv successfully.\n",
            "Processing file: FINPIPE_data.csv\n",
            "Original columns: ['Price', 'Close', 'High', 'Low', 'Open', 'Volume', 'MA_5', 'MA_10', 'MA_15', 'MA_20', 'MA_25', 'MA_30', 'Normalised Close', 'Return Ratio', 'Percentage Change Open', 'Percentage Change High', 'Percentage Change Low', 'Sector', 'Sector Encoded', 'Stock_Movement_Label'] (20 columns)\n",
            "✅ Processed FINPIPE_data.csv successfully.\n",
            "Processing file: CERA_data.csv\n",
            "Original columns: ['Price', 'Close', 'High', 'Low', 'Open', 'Volume', 'MA_5', 'MA_10', 'MA_15', 'MA_20', 'MA_25', 'MA_30', 'Normalised Close', 'Return Ratio', 'Percentage Change Open', 'Percentage Change High', 'Percentage Change Low', 'Sector', 'Sector Encoded', 'Stock_Movement_Label'] (20 columns)\n",
            "✅ Processed CERA_data.csv successfully.\n",
            "Processing file: TANLA_data.csv\n",
            "Original columns: ['Price', 'Close', 'High', 'Low', 'Open', 'Volume', 'MA_5', 'MA_10', 'MA_15', 'MA_20', 'MA_25', 'MA_30', 'Normalised Close', 'Return Ratio', 'Percentage Change Open', 'Percentage Change High', 'Percentage Change Low', 'Sector', 'Sector Encoded', 'Stock_Movement_Label'] (20 columns)\n",
            "✅ Processed TANLA_data.csv successfully.\n",
            "Processing file: HEG_data.csv\n",
            "Original columns: ['Price', 'Close', 'High', 'Low', 'Open', 'Volume', 'MA_5', 'MA_10', 'MA_15', 'MA_20', 'MA_25', 'MA_30', 'Normalised Close', 'Return Ratio', 'Percentage Change Open', 'Percentage Change High', 'Percentage Change Low', 'Sector', 'Sector Encoded', 'Stock_Movement_Label'] (20 columns)\n",
            "✅ Processed HEG_data.csv successfully.\n",
            "Processing file: KNRCON_data.csv\n",
            "Original columns: ['Price', 'Close', 'High', 'Low', 'Open', 'Volume', 'MA_5', 'MA_10', 'MA_15', 'MA_20', 'MA_25', 'MA_30', 'Normalised Close', 'Return Ratio', 'Percentage Change Open', 'Percentage Change High', 'Percentage Change Low', 'Sector', 'Sector Encoded', 'Stock_Movement_Label'] (20 columns)\n",
            "✅ Processed KNRCON_data.csv successfully.\n",
            "Processing file: FSL_data.csv\n",
            "Original columns: ['Price', 'Close', 'High', 'Low', 'Open', 'Volume', 'MA_5', 'MA_10', 'MA_15', 'MA_20', 'MA_25', 'MA_30', 'Normalised Close', 'Return Ratio', 'Percentage Change Open', 'Percentage Change High', 'Percentage Change Low', 'Sector', 'Sector Encoded', 'Stock_Movement_Label'] (20 columns)\n",
            "✅ Processed FSL_data.csv successfully.\n",
            "Processing file: OIL_data.csv\n",
            "Original columns: ['Price', 'Close', 'High', 'Low', 'Open', 'Volume', 'MA_5', 'MA_10', 'MA_15', 'MA_20', 'MA_25', 'MA_30', 'Normalised Close', 'Return Ratio', 'Percentage Change Open', 'Percentage Change High', 'Percentage Change Low', 'Sector', 'Sector Encoded', 'Stock_Movement_Label'] (20 columns)\n",
            "✅ Processed OIL_data.csv successfully.\n",
            "Processing file: INDIANB_data.csv\n",
            "Original columns: ['Price', 'Close', 'High', 'Low', 'Open', 'Volume', 'MA_5', 'MA_10', 'MA_15', 'MA_20', 'MA_25', 'MA_30', 'Normalised Close', 'Return Ratio', 'Percentage Change Open', 'Percentage Change High', 'Percentage Change Low', 'Sector', 'Sector Encoded', 'Stock_Movement_Label'] (20 columns)\n",
            "✅ Processed INDIANB_data.csv successfully.\n",
            "Processing file: BANKBARODA_data.csv\n",
            "Original columns: ['Price', 'Close', 'High', 'Low', 'Open', 'Volume', 'MA_5', 'MA_10', 'MA_15', 'MA_20', 'MA_25', 'MA_30', 'Normalised Close', 'Return Ratio', 'Percentage Change Open', 'Percentage Change High', 'Percentage Change Low', 'Sector', 'Sector Encoded', 'Stock_Movement_Label'] (20 columns)\n",
            "✅ Processed BANKBARODA_data.csv successfully.\n",
            "Processing file: ALOKINDS_data.csv\n",
            "Original columns: ['Price', 'Close', 'High', 'Low', 'Open', 'Volume', 'MA_5', 'MA_10', 'MA_15', 'MA_20', 'MA_25', 'MA_30', 'Normalised Close', 'Return Ratio', 'Percentage Change Open', 'Percentage Change High', 'Percentage Change Low', 'Sector', 'Sector Encoded', 'Stock_Movement_Label'] (20 columns)\n",
            "✅ Processed ALOKINDS_data.csv successfully.\n",
            "Processing file: COCHINSHIP_data.csv\n",
            "Original columns: ['Price', 'Close', 'High', 'Low', 'Open', 'Volume', 'MA_5', 'MA_10', 'MA_15', 'MA_20', 'MA_25', 'MA_30', 'Normalised Close', 'Return Ratio', 'Percentage Change Open', 'Percentage Change High', 'Percentage Change Low', 'Sector', 'Sector Encoded', 'Stock_Movement_Label'] (20 columns)\n",
            "✅ Processed COCHINSHIP_data.csv successfully.\n",
            "Processing file: BANKINDIA_data.csv\n",
            "Original columns: ['Price', 'Close', 'High', 'Low', 'Open', 'Volume', 'MA_5', 'MA_10', 'MA_15', 'MA_20', 'MA_25', 'MA_30', 'Normalised Close', 'Return Ratio', 'Percentage Change Open', 'Percentage Change High', 'Percentage Change Low', 'Sector', 'Sector Encoded', 'Stock_Movement_Label'] (20 columns)\n",
            "✅ Processed BANKINDIA_data.csv successfully.\n",
            "Processing file: GAEL_data.csv\n",
            "Original columns: ['Price', 'Close', 'High', 'Low', 'Open', 'Volume', 'MA_5', 'MA_10', 'MA_15', 'MA_20', 'MA_25', 'MA_30', 'Normalised Close', 'Return Ratio', 'Percentage Change Open', 'Percentage Change High', 'Percentage Change Low', 'Sector', 'Sector Encoded', 'Stock_Movement_Label'] (20 columns)\n",
            "✅ Processed GAEL_data.csv successfully.\n",
            "Processing file: LTIM_data.csv\n",
            "Original columns: ['Price', 'Close', 'High', 'Low', 'Open', 'Volume', 'MA_5', 'MA_10', 'MA_15', 'MA_20', 'MA_25', 'MA_30', 'Normalised Close', 'Return Ratio', 'Percentage Change Open', 'Percentage Change High', 'Percentage Change Low', 'Sector', 'Sector Encoded', 'Stock_Movement_Label'] (20 columns)\n",
            "✅ Processed LTIM_data.csv successfully.\n",
            "Processing file: AMBUJACEM_data.csv\n",
            "Original columns: ['Price', 'Close', 'High', 'Low', 'Open', 'Volume', 'MA_5', 'MA_10', 'MA_15', 'MA_20', 'MA_25', 'MA_30', 'Normalised Close', 'Return Ratio', 'Percentage Change Open', 'Percentage Change High', 'Percentage Change Low', 'Sector', 'Sector Encoded', 'Stock_Movement_Label'] (20 columns)\n",
            "✅ Processed AMBUJACEM_data.csv successfully.\n",
            "Processing file: NTPC_data.csv\n",
            "Original columns: ['Price', 'Close', 'High', 'Low', 'Open', 'Volume', 'MA_5', 'MA_10', 'MA_15', 'MA_20', 'MA_25', 'MA_30', 'Normalised Close', 'Return Ratio', 'Percentage Change Open', 'Percentage Change High', 'Percentage Change Low', 'Sector', 'Sector Encoded', 'Stock_Movement_Label'] (20 columns)\n",
            "✅ Processed NTPC_data.csv successfully.\n",
            "Processing file: TRIDENT_data.csv\n",
            "Original columns: ['Price', 'Close', 'High', 'Low', 'Open', 'Volume', 'MA_5', 'MA_10', 'MA_15', 'MA_20', 'MA_25', 'MA_30', 'Normalised Close', 'Return Ratio', 'Percentage Change Open', 'Percentage Change High', 'Percentage Change Low', 'Sector', 'Sector Encoded', 'Stock_Movement_Label'] (20 columns)\n",
            "✅ Processed TRIDENT_data.csv successfully.\n",
            "Processing file: AUROPHARMA_data.csv\n",
            "Original columns: ['Price', 'Close', 'High', 'Low', 'Open', 'Volume', 'MA_5', 'MA_10', 'MA_15', 'MA_20', 'MA_25', 'MA_30', 'Normalised Close', 'Return Ratio', 'Percentage Change Open', 'Percentage Change High', 'Percentage Change Low', 'Sector', 'Sector Encoded', 'Stock_Movement_Label'] (20 columns)\n",
            "✅ Processed AUROPHARMA_data.csv successfully.\n",
            "Processing file: MFSL_data.csv\n",
            "Original columns: ['Price', 'Close', 'High', 'Low', 'Open', 'Volume', 'MA_5', 'MA_10', 'MA_15', 'MA_20', 'MA_25', 'MA_30', 'Normalised Close', 'Return Ratio', 'Percentage Change Open', 'Percentage Change High', 'Percentage Change Low', 'Sector', 'Sector Encoded', 'Stock_Movement_Label'] (20 columns)\n",
            "✅ Processed MFSL_data.csv successfully.\n",
            "Processing file: TVSMOTOR_data.csv\n",
            "Original columns: ['Price', 'Close', 'High', 'Low', 'Open', 'Volume', 'MA_5', 'MA_10', 'MA_15', 'MA_20', 'MA_25', 'MA_30', 'Normalised Close', 'Return Ratio', 'Percentage Change Open', 'Percentage Change High', 'Percentage Change Low', 'Sector', 'Sector Encoded', 'Stock_Movement_Label'] (20 columns)\n",
            "✅ Processed TVSMOTOR_data.csv successfully.\n",
            "Processing file: J&KBANK_data.csv\n",
            "Original columns: ['Price', 'Close', 'High', 'Low', 'Open', 'Volume', 'MA_5', 'MA_10', 'MA_15', 'MA_20', 'MA_25', 'MA_30', 'Normalised Close', 'Return Ratio', 'Percentage Change Open', 'Percentage Change High', 'Percentage Change Low', 'Sector', 'Sector Encoded', 'Stock_Movement_Label'] (20 columns)\n",
            "✅ Processed J&KBANK_data.csv successfully.\n",
            "Processing file: SJVN_data.csv\n",
            "Original columns: ['Price', 'Close', 'High', 'Low', 'Open', 'Volume', 'MA_5', 'MA_10', 'MA_15', 'MA_20', 'MA_25', 'MA_30', 'Normalised Close', 'Return Ratio', 'Percentage Change Open', 'Percentage Change High', 'Percentage Change Low', 'Sector', 'Sector Encoded', 'Stock_Movement_Label'] (20 columns)\n",
            "✅ Processed SJVN_data.csv successfully.\n",
            "Processing file: VARROC_data.csv\n",
            "Original columns: ['Price', 'Close', 'High', 'Low', 'Open', 'Volume', 'MA_5', 'MA_10', 'MA_15', 'MA_20', 'MA_25', 'MA_30', 'Normalised Close', 'Return Ratio', 'Percentage Change Open', 'Percentage Change High', 'Percentage Change Low', 'Sector', 'Sector Encoded', 'Stock_Movement_Label'] (20 columns)\n",
            "✅ Processed VARROC_data.csv successfully.\n",
            "Processing file: PAGEIND_data.csv\n",
            "Original columns: ['Price', 'Close', 'High', 'Low', 'Open', 'Volume', 'MA_5', 'MA_10', 'MA_15', 'MA_20', 'MA_25', 'MA_30', 'Normalised Close', 'Return Ratio', 'Percentage Change Open', 'Percentage Change High', 'Percentage Change Low', 'Sector', 'Sector Encoded', 'Stock_Movement_Label'] (20 columns)\n",
            "✅ Processed PAGEIND_data.csv successfully.\n",
            "Processing file: PRAJIND_data.csv\n",
            "Original columns: ['Price', 'Close', 'High', 'Low', 'Open', 'Volume', 'MA_5', 'MA_10', 'MA_15', 'MA_20', 'MA_25', 'MA_30', 'Normalised Close', 'Return Ratio', 'Percentage Change Open', 'Percentage Change High', 'Percentage Change Low', 'Sector', 'Sector Encoded', 'Stock_Movement_Label'] (20 columns)\n",
            "✅ Processed PRAJIND_data.csv successfully.\n",
            "Processing file: APOLLOHOSP_data.csv\n",
            "Original columns: ['Price', 'Close', 'High', 'Low', 'Open', 'Volume', 'MA_5', 'MA_10', 'MA_15', 'MA_20', 'MA_25', 'MA_30', 'Normalised Close', 'Return Ratio', 'Percentage Change Open', 'Percentage Change High', 'Percentage Change Low', 'Sector', 'Sector Encoded', 'Stock_Movement_Label'] (20 columns)\n",
            "✅ Processed APOLLOHOSP_data.csv successfully.\n",
            "Processing file: TATACHEM_data.csv\n",
            "Original columns: ['Price', 'Close', 'High', 'Low', 'Open', 'Volume', 'MA_5', 'MA_10', 'MA_15', 'MA_20', 'MA_25', 'MA_30', 'Normalised Close', 'Return Ratio', 'Percentage Change Open', 'Percentage Change High', 'Percentage Change Low', 'Sector', 'Sector Encoded', 'Stock_Movement_Label'] (20 columns)\n",
            "✅ Processed TATACHEM_data.csv successfully.\n",
            "Processing file: RAILTEL_data.csv\n",
            "Original columns: ['Price', 'Close', 'High', 'Low', 'Open', 'Volume', 'MA_5', 'MA_10', 'MA_15', 'MA_20', 'MA_25', 'MA_30', 'Normalised Close', 'Return Ratio', 'Percentage Change Open', 'Percentage Change High', 'Percentage Change Low', 'Sector', 'Sector Encoded', 'Stock_Movement_Label'] (20 columns)\n",
            "✅ Processed RAILTEL_data.csv successfully.\n",
            "Processing file: GSPL_data.csv\n",
            "Original columns: ['Price', 'Close', 'High', 'Low', 'Open', 'Volume', 'MA_5', 'MA_10', 'MA_15', 'MA_20', 'MA_25', 'MA_30', 'Normalised Close', 'Return Ratio', 'Percentage Change Open', 'Percentage Change High', 'Percentage Change Low', 'Sector', 'Sector Encoded', 'Stock_Movement_Label'] (20 columns)\n",
            "✅ Processed GSPL_data.csv successfully.\n",
            "Processing file: ALKEM_data.csv\n",
            "Original columns: ['Price', 'Close', 'High', 'Low', 'Open', 'Volume', 'MA_5', 'MA_10', 'MA_15', 'MA_20', 'MA_25', 'MA_30', 'Normalised Close', 'Return Ratio', 'Percentage Change Open', 'Percentage Change High', 'Percentage Change Low', 'Sector', 'Sector Encoded', 'Stock_Movement_Label'] (20 columns)\n",
            "✅ Processed ALKEM_data.csv successfully.\n",
            "Processing file: FINCABLES_data.csv\n",
            "Original columns: ['Price', 'Close', 'High', 'Low', 'Open', 'Volume', 'MA_5', 'MA_10', 'MA_15', 'MA_20', 'MA_25', 'MA_30', 'Normalised Close', 'Return Ratio', 'Percentage Change Open', 'Percentage Change High', 'Percentage Change Low', 'Sector', 'Sector Encoded', 'Stock_Movement_Label'] (20 columns)\n",
            "✅ Processed FINCABLES_data.csv successfully.\n",
            "Processing file: VBL_data.csv\n",
            "Original columns: ['Price', 'Close', 'High', 'Low', 'Open', 'Volume', 'MA_5', 'MA_10', 'MA_15', 'MA_20', 'MA_25', 'MA_30', 'Normalised Close', 'Return Ratio', 'Percentage Change Open', 'Percentage Change High', 'Percentage Change Low', 'Sector', 'Sector Encoded', 'Stock_Movement_Label'] (20 columns)\n",
            "✅ Processed VBL_data.csv successfully.\n",
            "Processing file: NYKAA_data.csv\n",
            "Original columns: ['Price', 'Close', 'High', 'Low', 'Open', 'Volume', 'MA_5', 'MA_10', 'MA_15', 'MA_20', 'MA_25', 'MA_30', 'Normalised Close', 'Return Ratio', 'Percentage Change Open', 'Percentage Change High', 'Percentage Change Low', 'Sector', 'Sector Encoded', 'Stock_Movement_Label'] (20 columns)\n",
            "✅ Processed NYKAA_data.csv successfully.\n",
            "Processing file: KARURVYSYA_data.csv\n",
            "Original columns: ['Price', 'Close', 'High', 'Low', 'Open', 'Volume', 'MA_5', 'MA_10', 'MA_15', 'MA_20', 'MA_25', 'MA_30', 'Normalised Close', 'Return Ratio', 'Percentage Change Open', 'Percentage Change High', 'Percentage Change Low', 'Sector', 'Sector Encoded', 'Stock_Movement_Label'] (20 columns)\n",
            "✅ Processed KARURVYSYA_data.csv successfully.\n",
            "Processing file: ASTRAZEN_data.csv\n",
            "Original columns: ['Price', 'Close', 'High', 'Low', 'Open', 'Volume', 'MA_5', 'MA_10', 'MA_15', 'MA_20', 'MA_25', 'MA_30', 'Normalised Close', 'Return Ratio', 'Percentage Change Open', 'Percentage Change High', 'Percentage Change Low', 'Sector', 'Sector Encoded', 'Stock_Movement_Label'] (20 columns)\n",
            "✅ Processed ASTRAZEN_data.csv successfully.\n",
            "Processing file: GODREJAGRO_data.csv\n",
            "Original columns: ['Price', 'Close', 'High', 'Low', 'Open', 'Volume', 'MA_5', 'MA_10', 'MA_15', 'MA_20', 'MA_25', 'MA_30', 'Normalised Close', 'Return Ratio', 'Percentage Change Open', 'Percentage Change High', 'Percentage Change Low', 'Sector', 'Sector Encoded', 'Stock_Movement_Label'] (20 columns)\n",
            "✅ Processed GODREJAGRO_data.csv successfully.\n",
            "Processing file: HCLTECH_data.csv\n",
            "Original columns: ['Price', 'Close', 'High', 'Low', 'Open', 'Volume', 'MA_5', 'MA_10', 'MA_15', 'MA_20', 'MA_25', 'MA_30', 'Normalised Close', 'Return Ratio', 'Percentage Change Open', 'Percentage Change High', 'Percentage Change Low', 'Sector', 'Sector Encoded', 'Stock_Movement_Label'] (20 columns)\n",
            "✅ Processed HCLTECH_data.csv successfully.\n",
            "Processing file: RHIM_data.csv\n",
            "Original columns: ['Price', 'Close', 'High', 'Low', 'Open', 'Volume', 'MA_5', 'MA_10', 'MA_15', 'MA_20', 'MA_25', 'MA_30', 'Normalised Close', 'Return Ratio', 'Percentage Change Open', 'Percentage Change High', 'Percentage Change Low', 'Sector', 'Sector Encoded', 'Stock_Movement_Label'] (20 columns)\n",
            "✅ Processed RHIM_data.csv successfully.\n",
            "Processing file: SONATSOFTW_data.csv\n",
            "Original columns: ['Price', 'Close', 'High', 'Low', 'Open', 'Volume', 'MA_5', 'MA_10', 'MA_15', 'MA_20', 'MA_25', 'MA_30', 'Normalised Close', 'Return Ratio', 'Percentage Change Open', 'Percentage Change High', 'Percentage Change Low', 'Sector', 'Sector Encoded', 'Stock_Movement_Label'] (20 columns)\n",
            "✅ Processed SONATSOFTW_data.csv successfully.\n",
            "Processing file: VOLTAS_data.csv\n",
            "Original columns: ['Price', 'Close', 'High', 'Low', 'Open', 'Volume', 'MA_5', 'MA_10', 'MA_15', 'MA_20', 'MA_25', 'MA_30', 'Normalised Close', 'Return Ratio', 'Percentage Change Open', 'Percentage Change High', 'Percentage Change Low', 'Sector', 'Sector Encoded', 'Stock_Movement_Label'] (20 columns)\n",
            "✅ Processed VOLTAS_data.csv successfully.\n",
            "Processing file: VINATIORGA_data.csv\n",
            "Original columns: ['Price', 'Close', 'High', 'Low', 'Open', 'Volume', 'MA_5', 'MA_10', 'MA_15', 'MA_20', 'MA_25', 'MA_30', 'Normalised Close', 'Return Ratio', 'Percentage Change Open', 'Percentage Change High', 'Percentage Change Low', 'Sector', 'Sector Encoded', 'Stock_Movement_Label'] (20 columns)\n",
            "✅ Processed VINATIORGA_data.csv successfully.\n",
            "Processing file: SKFINDIA_data.csv\n",
            "Original columns: ['Price', 'Close', 'High', 'Low', 'Open', 'Volume', 'MA_5', 'MA_10', 'MA_15', 'MA_20', 'MA_25', 'MA_30', 'Normalised Close', 'Return Ratio', 'Percentage Change Open', 'Percentage Change High', 'Percentage Change Low', 'Sector', 'Sector Encoded', 'Stock_Movement_Label'] (20 columns)\n",
            "✅ Processed SKFINDIA_data.csv successfully.\n",
            "Processing file: IIFL_data.csv\n",
            "Original columns: ['Price', 'Close', 'High', 'Low', 'Open', 'Volume', 'MA_5', 'MA_10', 'MA_15', 'MA_20', 'MA_25', 'MA_30', 'Normalised Close', 'Return Ratio', 'Percentage Change Open', 'Percentage Change High', 'Percentage Change Low', 'Sector', 'Sector Encoded', 'Stock_Movement_Label'] (20 columns)\n",
            "✅ Processed IIFL_data.csv successfully.\n",
            "Processing file: TATAMOTORS_data.csv\n",
            "Original columns: ['Price', 'Close', 'High', 'Low', 'Open', 'Volume', 'MA_5', 'MA_10', 'MA_15', 'MA_20', 'MA_25', 'MA_30', 'Normalised Close', 'Return Ratio', 'Percentage Change Open', 'Percentage Change High', 'Percentage Change Low', 'Sector', 'Sector Encoded', 'Stock_Movement_Label'] (20 columns)\n",
            "✅ Processed TATAMOTORS_data.csv successfully.\n",
            "Processing file: RATNAMANI_data.csv\n",
            "Original columns: ['Price', 'Close', 'High', 'Low', 'Open', 'Volume', 'MA_5', 'MA_10', 'MA_15', 'MA_20', 'MA_25', 'MA_30', 'Normalised Close', 'Return Ratio', 'Percentage Change Open', 'Percentage Change High', 'Percentage Change Low', 'Sector', 'Sector Encoded', 'Stock_Movement_Label'] (20 columns)\n",
            "✅ Processed RATNAMANI_data.csv successfully.\n",
            "Processing file: JPPOWER_data.csv\n",
            "Original columns: ['Price', 'Close', 'High', 'Low', 'Open', 'Volume', 'MA_5', 'MA_10', 'MA_15', 'MA_20', 'MA_25', 'MA_30', 'Normalised Close', 'Return Ratio', 'Percentage Change Open', 'Percentage Change High', 'Percentage Change Low', 'Sector', 'Sector Encoded', 'Stock_Movement_Label'] (20 columns)\n",
            "✅ Processed JPPOWER_data.csv successfully.\n",
            "Processing file: HINDZINC_data.csv\n",
            "Original columns: ['Price', 'Close', 'High', 'Low', 'Open', 'Volume', 'MA_5', 'MA_10', 'MA_15', 'MA_20', 'MA_25', 'MA_30', 'Normalised Close', 'Return Ratio', 'Percentage Change Open', 'Percentage Change High', 'Percentage Change Low', 'Sector', 'Sector Encoded', 'Stock_Movement_Label'] (20 columns)\n",
            "✅ Processed HINDZINC_data.csv successfully.\n",
            "Processing file: BPCL_data.csv\n",
            "Original columns: ['Price', 'Close', 'High', 'Low', 'Open', 'Volume', 'MA_5', 'MA_10', 'MA_15', 'MA_20', 'MA_25', 'MA_30', 'Normalised Close', 'Return Ratio', 'Percentage Change Open', 'Percentage Change High', 'Percentage Change Low', 'Sector', 'Sector Encoded', 'Stock_Movement_Label'] (20 columns)\n",
            "✅ Processed BPCL_data.csv successfully.\n",
            "Processing file: CRAFTSMAN_data.csv\n",
            "Original columns: ['Price', 'Close', 'High', 'Low', 'Open', 'Volume', 'MA_5', 'MA_10', 'MA_15', 'MA_20', 'MA_25', 'MA_30', 'Normalised Close', 'Return Ratio', 'Percentage Change Open', 'Percentage Change High', 'Percentage Change Low', 'Sector', 'Sector Encoded', 'Stock_Movement_Label'] (20 columns)\n",
            "✅ Processed CRAFTSMAN_data.csv successfully.\n",
            "Processing file: PHOENIXLTD_data.csv\n",
            "Original columns: ['Price', 'Close', 'High', 'Low', 'Open', 'Volume', 'MA_5', 'MA_10', 'MA_15', 'MA_20', 'MA_25', 'MA_30', 'Normalised Close', 'Return Ratio', 'Percentage Change Open', 'Percentage Change High', 'Percentage Change Low', 'Sector', 'Sector Encoded', 'Stock_Movement_Label'] (20 columns)\n",
            "✅ Processed PHOENIXLTD_data.csv successfully.\n",
            "Processing file: SWANENERGY_data.csv\n",
            "Original columns: ['Price', 'Close', 'High', 'Low', 'Open', 'Volume', 'MA_5', 'MA_10', 'MA_15', 'MA_20', 'MA_25', 'MA_30', 'Normalised Close', 'Return Ratio', 'Percentage Change Open', 'Percentage Change High', 'Percentage Change Low', 'Sector', 'Sector Encoded', 'Stock_Movement_Label'] (20 columns)\n",
            "✅ Processed SWANENERGY_data.csv successfully.\n",
            "Processing file: TATASTEEL_data.csv\n",
            "Original columns: ['Price', 'Close', 'High', 'Low', 'Open', 'Volume', 'MA_5', 'MA_10', 'MA_15', 'MA_20', 'MA_25', 'MA_30', 'Normalised Close', 'Return Ratio', 'Percentage Change Open', 'Percentage Change High', 'Percentage Change Low', 'Sector', 'Sector Encoded', 'Stock_Movement_Label'] (20 columns)\n",
            "✅ Processed TATASTEEL_data.csv successfully.\n",
            "Processing file: BALRAMCHIN_data.csv\n",
            "Original columns: ['Price', 'Close', 'High', 'Low', 'Open', 'Volume', 'MA_5', 'MA_10', 'MA_15', 'MA_20', 'MA_25', 'MA_30', 'Normalised Close', 'Return Ratio', 'Percentage Change Open', 'Percentage Change High', 'Percentage Change Low', 'Sector', 'Sector Encoded', 'Stock_Movement_Label'] (20 columns)\n",
            "✅ Processed BALRAMCHIN_data.csv successfully.\n",
            "Processing file: ITC_data.csv\n",
            "Original columns: ['Price', 'Close', 'High', 'Low', 'Open', 'Volume', 'MA_5', 'MA_10', 'MA_15', 'MA_20', 'MA_25', 'MA_30', 'Normalised Close', 'Return Ratio', 'Percentage Change Open', 'Percentage Change High', 'Percentage Change Low', 'Sector', 'Sector Encoded', 'Stock_Movement_Label'] (20 columns)\n",
            "✅ Processed ITC_data.csv successfully.\n",
            "Processing file: BHARTIARTL_data.csv\n",
            "Original columns: ['Price', 'Close', 'High', 'Low', 'Open', 'Volume', 'MA_5', 'MA_10', 'MA_15', 'MA_20', 'MA_25', 'MA_30', 'Normalised Close', 'Return Ratio', 'Percentage Change Open', 'Percentage Change High', 'Percentage Change Low', 'Sector', 'Sector Encoded', 'Stock_Movement_Label'] (20 columns)\n",
            "✅ Processed BHARTIARTL_data.csv successfully.\n",
            "Processing file: GPIL_data.csv\n",
            "Original columns: ['Price', 'Close', 'High', 'Low', 'Open', 'Volume', 'MA_5', 'MA_10', 'MA_15', 'MA_20', 'MA_25', 'MA_30', 'Normalised Close', 'Return Ratio', 'Percentage Change Open', 'Percentage Change High', 'Percentage Change Low', 'Sector', 'Sector Encoded', 'Stock_Movement_Label'] (20 columns)\n",
            "✅ Processed GPIL_data.csv successfully.\n",
            "Processing file: ANANDRATHI_data.csv\n",
            "Original columns: ['Price', 'Close', 'High', 'Low', 'Open', 'Volume', 'MA_5', 'MA_10', 'MA_15', 'MA_20', 'MA_25', 'MA_30', 'Normalised Close', 'Return Ratio', 'Percentage Change Open', 'Percentage Change High', 'Percentage Change Low', 'Sector', 'Sector Encoded', 'Stock_Movement_Label'] (20 columns)\n",
            "✅ Processed ANANDRATHI_data.csv successfully.\n",
            "Processing file: COFORGE_data.csv\n",
            "Original columns: ['Price', 'Close', 'High', 'Low', 'Open', 'Volume', 'MA_5', 'MA_10', 'MA_15', 'MA_20', 'MA_25', 'MA_30', 'Normalised Close', 'Return Ratio', 'Percentage Change Open', 'Percentage Change High', 'Percentage Change Low', 'Sector', 'Sector Encoded', 'Stock_Movement_Label'] (20 columns)\n",
            "✅ Processed COFORGE_data.csv successfully.\n",
            "Processing file: JSWENERGY_data.csv\n",
            "Original columns: ['Price', 'Close', 'High', 'Low', 'Open', 'Volume', 'MA_5', 'MA_10', 'MA_15', 'MA_20', 'MA_25', 'MA_30', 'Normalised Close', 'Return Ratio', 'Percentage Change Open', 'Percentage Change High', 'Percentage Change Low', 'Sector', 'Sector Encoded', 'Stock_Movement_Label'] (20 columns)\n",
            "✅ Processed JSWENERGY_data.csv successfully.\n",
            "Processing file: BLUESTARCO_data.csv\n",
            "Original columns: ['Price', 'Close', 'High', 'Low', 'Open', 'Volume', 'MA_5', 'MA_10', 'MA_15', 'MA_20', 'MA_25', 'MA_30', 'Normalised Close', 'Return Ratio', 'Percentage Change Open', 'Percentage Change High', 'Percentage Change Low', 'Sector', 'Sector Encoded', 'Stock_Movement_Label'] (20 columns)\n",
            "✅ Processed BLUESTARCO_data.csv successfully.\n",
            "Processing file: KPITTECH_data.csv\n",
            "Original columns: ['Price', 'Close', 'High', 'Low', 'Open', 'Volume', 'MA_5', 'MA_10', 'MA_15', 'MA_20', 'MA_25', 'MA_30', 'Normalised Close', 'Return Ratio', 'Percentage Change Open', 'Percentage Change High', 'Percentage Change Low', 'Sector', 'Sector Encoded', 'Stock_Movement_Label'] (20 columns)\n",
            "✅ Processed KPITTECH_data.csv successfully.\n",
            "Processing file: ZFCVINDIA_data.csv\n",
            "Original columns: ['Price', 'Close', 'High', 'Low', 'Open', 'Volume', 'MA_5', 'MA_10', 'MA_15', 'MA_20', 'MA_25', 'MA_30', 'Normalised Close', 'Return Ratio', 'Percentage Change Open', 'Percentage Change High', 'Percentage Change Low', 'Sector', 'Sector Encoded', 'Stock_Movement_Label'] (20 columns)\n",
            "✅ Processed ZFCVINDIA_data.csv successfully.\n",
            "Processing file: UNOMINDA_data.csv\n",
            "Original columns: ['Price', 'Close', 'High', 'Low', 'Open', 'Volume', 'MA_5', 'MA_10', 'MA_15', 'MA_20', 'MA_25', 'MA_30', 'Normalised Close', 'Return Ratio', 'Percentage Change Open', 'Percentage Change High', 'Percentage Change Low', 'Sector', 'Sector Encoded', 'Stock_Movement_Label'] (20 columns)\n",
            "✅ Processed UNOMINDA_data.csv successfully.\n",
            "Processing file: INFY_data.csv\n",
            "Original columns: ['Price', 'Close', 'High', 'Low', 'Open', 'Volume', 'MA_5', 'MA_10', 'MA_15', 'MA_20', 'MA_25', 'MA_30', 'Normalised Close', 'Return Ratio', 'Percentage Change Open', 'Percentage Change High', 'Percentage Change Low', 'Sector', 'Sector Encoded', 'Stock_Movement_Label'] (20 columns)\n",
            "✅ Processed INFY_data.csv successfully.\n",
            "Processing file: ADANIENT_data.csv\n",
            "Original columns: ['Price', 'Close', 'High', 'Low', 'Open', 'Volume', 'MA_5', 'MA_10', 'MA_15', 'MA_20', 'MA_25', 'MA_30', 'Normalised Close', 'Return Ratio', 'Percentage Change Open', 'Percentage Change High', 'Percentage Change Low', 'Sector', 'Sector Encoded', 'Stock_Movement_Label'] (20 columns)\n",
            "✅ Processed ADANIENT_data.csv successfully.\n",
            "Processing file: CHAMBLFERT_data.csv\n",
            "Original columns: ['Price', 'Close', 'High', 'Low', 'Open', 'Volume', 'MA_5', 'MA_10', 'MA_15', 'MA_20', 'MA_25', 'MA_30', 'Normalised Close', 'Return Ratio', 'Percentage Change Open', 'Percentage Change High', 'Percentage Change Low', 'Sector', 'Sector Encoded', 'Stock_Movement_Label'] (20 columns)\n",
            "✅ Processed CHAMBLFERT_data.csv successfully.\n",
            "Processing file: FLUOROCHEM_data.csv\n",
            "Original columns: ['Price', 'Close', 'High', 'Low', 'Open', 'Volume', 'MA_5', 'MA_10', 'MA_15', 'MA_20', 'MA_25', 'MA_30', 'Normalised Close', 'Return Ratio', 'Percentage Change Open', 'Percentage Change High', 'Percentage Change Low', 'Sector', 'Sector Encoded', 'Stock_Movement_Label'] (20 columns)\n",
            "✅ Processed FLUOROCHEM_data.csv successfully.\n",
            "Processing file: TITAN_data.csv\n",
            "Original columns: ['Price', 'Close', 'High', 'Low', 'Open', 'Volume', 'MA_5', 'MA_10', 'MA_15', 'MA_20', 'MA_25', 'MA_30', 'Normalised Close', 'Return Ratio', 'Percentage Change Open', 'Percentage Change High', 'Percentage Change Low', 'Sector', 'Sector Encoded', 'Stock_Movement_Label'] (20 columns)\n",
            "✅ Processed TITAN_data.csv successfully.\n",
            "Processing file: GRINDWELL_data.csv\n",
            "Original columns: ['Price', 'Close', 'High', 'Low', 'Open', 'Volume', 'MA_5', 'MA_10', 'MA_15', 'MA_20', 'MA_25', 'MA_30', 'Normalised Close', 'Return Ratio', 'Percentage Change Open', 'Percentage Change High', 'Percentage Change Low', 'Sector', 'Sector Encoded', 'Stock_Movement_Label'] (20 columns)\n",
            "✅ Processed GRINDWELL_data.csv successfully.\n",
            "Processing file: ISEC_data.csv\n",
            "Original columns: ['Price', 'Close', 'High', 'Low', 'Open', 'Volume', 'MA_5', 'MA_10', 'MA_15', 'MA_20', 'MA_25', 'MA_30', 'Normalised Close', 'Return Ratio', 'Percentage Change Open', 'Percentage Change High', 'Percentage Change Low', 'Sector', 'Sector Encoded', 'Stock_Movement_Label'] (20 columns)\n",
            "✅ Processed ISEC_data.csv successfully.\n",
            "Processing file: SHRIRAMFIN_data.csv\n",
            "Original columns: ['Price', 'Close', 'High', 'Low', 'Open', 'Volume', 'MA_5', 'MA_10', 'MA_15', 'MA_20', 'MA_25', 'MA_30', 'Normalised Close', 'Return Ratio', 'Percentage Change Open', 'Percentage Change High', 'Percentage Change Low', 'Sector', 'Sector Encoded', 'Stock_Movement_Label'] (20 columns)\n",
            "✅ Processed SHRIRAMFIN_data.csv successfully.\n",
            "Processing file: HINDALCO_data.csv\n",
            "Original columns: ['Price', 'Close', 'High', 'Low', 'Open', 'Volume', 'MA_5', 'MA_10', 'MA_15', 'MA_20', 'MA_25', 'MA_30', 'Normalised Close', 'Return Ratio', 'Percentage Change Open', 'Percentage Change High', 'Percentage Change Low', 'Sector', 'Sector Encoded', 'Stock_Movement_Label'] (20 columns)\n",
            "✅ Processed HINDALCO_data.csv successfully.\n",
            "Processing file: COALINDIA_data.csv\n",
            "Original columns: ['Price', 'Close', 'High', 'Low', 'Open', 'Volume', 'MA_5', 'MA_10', 'MA_15', 'MA_20', 'MA_25', 'MA_30', 'Normalised Close', 'Return Ratio', 'Percentage Change Open', 'Percentage Change High', 'Percentage Change Low', 'Sector', 'Sector Encoded', 'Stock_Movement_Label'] (20 columns)\n",
            "✅ Processed COALINDIA_data.csv successfully.\n",
            "Processing file: GODFRYPHLP_data.csv\n",
            "Original columns: ['Price', 'Close', 'High', 'Low', 'Open', 'Volume', 'MA_5', 'MA_10', 'MA_15', 'MA_20', 'MA_25', 'MA_30', 'Normalised Close', 'Return Ratio', 'Percentage Change Open', 'Percentage Change High', 'Percentage Change Low', 'Sector', 'Sector Encoded', 'Stock_Movement_Label'] (20 columns)\n",
            "✅ Processed GODFRYPHLP_data.csv successfully.\n",
            "Processing file: DIXON_data.csv\n",
            "Original columns: ['Price', 'Close', 'High', 'Low', 'Open', 'Volume', 'MA_5', 'MA_10', 'MA_15', 'MA_20', 'MA_25', 'MA_30', 'Normalised Close', 'Return Ratio', 'Percentage Change Open', 'Percentage Change High', 'Percentage Change Low', 'Sector', 'Sector Encoded', 'Stock_Movement_Label'] (20 columns)\n",
            "✅ Processed DIXON_data.csv successfully.\n",
            "Processing file: SRF_data.csv\n",
            "Original columns: ['Price', 'Close', 'High', 'Low', 'Open', 'Volume', 'MA_5', 'MA_10', 'MA_15', 'MA_20', 'MA_25', 'MA_30', 'Normalised Close', 'Return Ratio', 'Percentage Change Open', 'Percentage Change High', 'Percentage Change Low', 'Sector', 'Sector Encoded', 'Stock_Movement_Label'] (20 columns)\n",
            "✅ Processed SRF_data.csv successfully.\n",
            "Processing file: RBLBANK_data.csv\n",
            "Original columns: ['Price', 'Close', 'High', 'Low', 'Open', 'Volume', 'MA_5', 'MA_10', 'MA_15', 'MA_20', 'MA_25', 'MA_30', 'Normalised Close', 'Return Ratio', 'Percentage Change Open', 'Percentage Change High', 'Percentage Change Low', 'Sector', 'Sector Encoded', 'Stock_Movement_Label'] (20 columns)\n",
            "✅ Processed RBLBANK_data.csv successfully.\n",
            "Processing file: APARINDS_data.csv\n",
            "Original columns: ['Price', 'Close', 'High', 'Low', 'Open', 'Volume', 'MA_5', 'MA_10', 'MA_15', 'MA_20', 'MA_25', 'MA_30', 'Normalised Close', 'Return Ratio', 'Percentage Change Open', 'Percentage Change High', 'Percentage Change Low', 'Sector', 'Sector Encoded', 'Stock_Movement_Label'] (20 columns)\n",
            "✅ Processed APARINDS_data.csv successfully.\n",
            "Processing file: BOSCHLTD_data.csv\n",
            "Original columns: ['Price', 'Close', 'High', 'Low', 'Open', 'Volume', 'MA_5', 'MA_10', 'MA_15', 'MA_20', 'MA_25', 'MA_30', 'Normalised Close', 'Return Ratio', 'Percentage Change Open', 'Percentage Change High', 'Percentage Change Low', 'Sector', 'Sector Encoded', 'Stock_Movement_Label'] (20 columns)\n",
            "✅ Processed BOSCHLTD_data.csv successfully.\n",
            "Processing file: SUNTV_data.csv\n",
            "Original columns: ['Price', 'Close', 'High', 'Low', 'Open', 'Volume', 'MA_5', 'MA_10', 'MA_15', 'MA_20', 'MA_25', 'MA_30', 'Normalised Close', 'Return Ratio', 'Percentage Change Open', 'Percentage Change High', 'Percentage Change Low', 'Sector', 'Sector Encoded', 'Stock_Movement_Label'] (20 columns)\n",
            "✅ Processed SUNTV_data.csv successfully.\n",
            "Processing file: PGHH_data.csv\n",
            "Original columns: ['Price', 'Close', 'High', 'Low', 'Open', 'Volume', 'MA_5', 'MA_10', 'MA_15', 'MA_20', 'MA_25', 'MA_30', 'Normalised Close', 'Return Ratio', 'Percentage Change Open', 'Percentage Change High', 'Percentage Change Low', 'Sector', 'Sector Encoded', 'Stock_Movement_Label'] (20 columns)\n",
            "✅ Processed PGHH_data.csv successfully.\n",
            "Processing file: RELIANCE_data.csv\n",
            "Original columns: ['Price', 'Close', 'High', 'Low', 'Open', 'Volume', 'MA_5', 'MA_10', 'MA_15', 'MA_20', 'MA_25', 'MA_30', 'Normalised Close', 'Return Ratio', 'Percentage Change Open', 'Percentage Change High', 'Percentage Change Low', 'Sector', 'Sector Encoded', 'Stock_Movement_Label'] (20 columns)\n",
            "✅ Processed RELIANCE_data.csv successfully.\n",
            "Processing file: ERIS_data.csv\n",
            "Original columns: ['Price', 'Close', 'High', 'Low', 'Open', 'Volume', 'MA_5', 'MA_10', 'MA_15', 'MA_20', 'MA_25', 'MA_30', 'Normalised Close', 'Return Ratio', 'Percentage Change Open', 'Percentage Change High', 'Percentage Change Low', 'Sector', 'Sector Encoded', 'Stock_Movement_Label'] (20 columns)\n",
            "✅ Processed ERIS_data.csv successfully.\n",
            "Processing file: NAVINFLUOR_data.csv\n",
            "Original columns: ['Price', 'Close', 'High', 'Low', 'Open', 'Volume', 'MA_5', 'MA_10', 'MA_15', 'MA_20', 'MA_25', 'MA_30', 'Normalised Close', 'Return Ratio', 'Percentage Change Open', 'Percentage Change High', 'Percentage Change Low', 'Sector', 'Sector Encoded', 'Stock_Movement_Label'] (20 columns)\n",
            "✅ Processed NAVINFLUOR_data.csv successfully.\n",
            "Processing file: SUMICHEM_data.csv\n",
            "Original columns: ['Price', 'Close', 'High', 'Low', 'Open', 'Volume', 'MA_5', 'MA_10', 'MA_15', 'MA_20', 'MA_25', 'MA_30', 'Normalised Close', 'Return Ratio', 'Percentage Change Open', 'Percentage Change High', 'Percentage Change Low', 'Sector', 'Sector Encoded', 'Stock_Movement_Label'] (20 columns)\n",
            "✅ Processed SUMICHEM_data.csv successfully.\n",
            "Processing file: SIEMENS_data.csv\n",
            "Original columns: ['Price', 'Close', 'High', 'Low', 'Open', 'Volume', 'MA_5', 'MA_10', 'MA_15', 'MA_20', 'MA_25', 'MA_30', 'Normalised Close', 'Return Ratio', 'Percentage Change Open', 'Percentage Change High', 'Percentage Change Low', 'Sector', 'Sector Encoded', 'Stock_Movement_Label'] (20 columns)\n",
            "✅ Processed SIEMENS_data.csv successfully.\n",
            "Processing file: TATAINVEST_data.csv\n",
            "Original columns: ['Price', 'Close', 'High', 'Low', 'Open', 'Volume', 'MA_5', 'MA_10', 'MA_15', 'MA_20', 'MA_25', 'MA_30', 'Normalised Close', 'Return Ratio', 'Percentage Change Open', 'Percentage Change High', 'Percentage Change Low', 'Sector', 'Sector Encoded', 'Stock_Movement_Label'] (20 columns)\n",
            "✅ Processed TATAINVEST_data.csv successfully.\n",
            "Processing file: MRF_data.csv\n",
            "Original columns: ['Price', 'Close', 'High', 'Low', 'Open', 'Volume', 'MA_5', 'MA_10', 'MA_15', 'MA_20', 'MA_25', 'MA_30', 'Normalised Close', 'Return Ratio', 'Percentage Change Open', 'Percentage Change High', 'Percentage Change Low', 'Sector', 'Sector Encoded', 'Stock_Movement_Label'] (20 columns)\n",
            "✅ Processed MRF_data.csv successfully.\n",
            "Processing file: DBREALTY_data.csv\n",
            "Original columns: ['Price', 'Close', 'High', 'Low', 'Open', 'Volume', 'MA_5', 'MA_10', 'MA_15', 'MA_20', 'MA_25', 'MA_30', 'Normalised Close', 'Return Ratio', 'Percentage Change Open', 'Percentage Change High', 'Percentage Change Low', 'Sector', 'Sector Encoded', 'Stock_Movement_Label'] (20 columns)\n",
            "✅ Processed DBREALTY_data.csv successfully.\n",
            "Processing file: SHYAMMETL_data.csv\n",
            "Original columns: ['Price', 'Close', 'High', 'Low', 'Open', 'Volume', 'MA_5', 'MA_10', 'MA_15', 'MA_20', 'MA_25', 'MA_30', 'Normalised Close', 'Return Ratio', 'Percentage Change Open', 'Percentage Change High', 'Percentage Change Low', 'Sector', 'Sector Encoded', 'Stock_Movement_Label'] (20 columns)\n",
            "✅ Processed SHYAMMETL_data.csv successfully.\n",
            "Processing file: CHOLAHLDNG_data.csv\n",
            "Original columns: ['Price', 'Close', 'High', 'Low', 'Open', 'Volume', 'MA_5', 'MA_10', 'MA_15', 'MA_20', 'MA_25', 'MA_30', 'Normalised Close', 'Return Ratio', 'Percentage Change Open', 'Percentage Change High', 'Percentage Change Low', 'Sector', 'Sector Encoded', 'Stock_Movement_Label'] (20 columns)\n",
            "✅ Processed CHOLAHLDNG_data.csv successfully.\n",
            "Processing file: MMTC_data.csv\n",
            "Original columns: ['Price', 'Close', 'High', 'Low', 'Open', 'Volume', 'MA_5', 'MA_10', 'MA_15', 'MA_20', 'MA_25', 'MA_30', 'Normalised Close', 'Return Ratio', 'Percentage Change Open', 'Percentage Change High', 'Percentage Change Low', 'Sector', 'Sector Encoded', 'Stock_Movement_Label'] (20 columns)\n",
            "✅ Processed MMTC_data.csv successfully.\n",
            "Processing file: CASTROLIND_data.csv\n",
            "Original columns: ['Price', 'Close', 'High', 'Low', 'Open', 'Volume', 'MA_5', 'MA_10', 'MA_15', 'MA_20', 'MA_25', 'MA_30', 'Normalised Close', 'Return Ratio', 'Percentage Change Open', 'Percentage Change High', 'Percentage Change Low', 'Sector', 'Sector Encoded', 'Stock_Movement_Label'] (20 columns)\n",
            "✅ Processed CASTROLIND_data.csv successfully.\n",
            "Processing file: TTML_data.csv\n",
            "Original columns: ['Price', 'Close', 'High', 'Low', 'Open', 'Volume', 'MA_5', 'MA_10', 'MA_15', 'MA_20', 'MA_25', 'MA_30', 'Normalised Close', 'Return Ratio', 'Percentage Change Open', 'Percentage Change High', 'Percentage Change Low', 'Sector', 'Sector Encoded', 'Stock_Movement_Label'] (20 columns)\n",
            "✅ Processed TTML_data.csv successfully.\n",
            "Processing file: DMART_data.csv\n",
            "Original columns: ['Price', 'Close', 'High', 'Low', 'Open', 'Volume', 'MA_5', 'MA_10', 'MA_15', 'MA_20', 'MA_25', 'MA_30', 'Normalised Close', 'Return Ratio', 'Percentage Change Open', 'Percentage Change High', 'Percentage Change Low', 'Sector', 'Sector Encoded', 'Stock_Movement_Label'] (20 columns)\n",
            "✅ Processed DMART_data.csv successfully.\n",
            "Processing file: TORNTPOWER_data.csv\n",
            "Original columns: ['Price', 'Close', 'High', 'Low', 'Open', 'Volume', 'MA_5', 'MA_10', 'MA_15', 'MA_20', 'MA_25', 'MA_30', 'Normalised Close', 'Return Ratio', 'Percentage Change Open', 'Percentage Change High', 'Percentage Change Low', 'Sector', 'Sector Encoded', 'Stock_Movement_Label'] (20 columns)\n",
            "✅ Processed TORNTPOWER_data.csv successfully.\n",
            "Processing file: ESCORTS_data.csv\n",
            "Original columns: ['Price', 'Close', 'High', 'Low', 'Open', 'Volume', 'MA_5', 'MA_10', 'MA_15', 'MA_20', 'MA_25', 'MA_30', 'Normalised Close', 'Return Ratio', 'Percentage Change Open', 'Percentage Change High', 'Percentage Change Low', 'Sector', 'Sector Encoded', 'Stock_Movement_Label'] (20 columns)\n",
            "✅ Processed ESCORTS_data.csv successfully.\n",
            "Processing file: GRANULES_data.csv\n",
            "Original columns: ['Price', 'Close', 'High', 'Low', 'Open', 'Volume', 'MA_5', 'MA_10', 'MA_15', 'MA_20', 'MA_25', 'MA_30', 'Normalised Close', 'Return Ratio', 'Percentage Change Open', 'Percentage Change High', 'Percentage Change Low', 'Sector', 'Sector Encoded', 'Stock_Movement_Label'] (20 columns)\n",
            "✅ Processed GRANULES_data.csv successfully.\n",
            "Processing file: TRIVENI_data.csv\n",
            "Original columns: ['Price', 'Close', 'High', 'Low', 'Open', 'Volume', 'MA_5', 'MA_10', 'MA_15', 'MA_20', 'MA_25', 'MA_30', 'Normalised Close', 'Return Ratio', 'Percentage Change Open', 'Percentage Change High', 'Percentage Change Low', 'Sector', 'Sector Encoded', 'Stock_Movement_Label'] (20 columns)\n",
            "✅ Processed TRIVENI_data.csv successfully.\n",
            "Processing file: POLYCAB_data.csv\n",
            "Original columns: ['Price', 'Close', 'High', 'Low', 'Open', 'Volume', 'MA_5', 'MA_10', 'MA_15', 'MA_20', 'MA_25', 'MA_30', 'Normalised Close', 'Return Ratio', 'Percentage Change Open', 'Percentage Change High', 'Percentage Change Low', 'Sector', 'Sector Encoded', 'Stock_Movement_Label'] (20 columns)\n",
            "✅ Processed POLYCAB_data.csv successfully.\n",
            "Processing file: ITI_data.csv\n",
            "Original columns: ['Price', 'Close', 'High', 'Low', 'Open', 'Volume', 'MA_5', 'MA_10', 'MA_15', 'MA_20', 'MA_25', 'MA_30', 'Normalised Close', 'Return Ratio', 'Percentage Change Open', 'Percentage Change High', 'Percentage Change Low', 'Sector', 'Sector Encoded', 'Stock_Movement_Label'] (20 columns)\n",
            "✅ Processed ITI_data.csv successfully.\n",
            "Processing file: GICRE_data.csv\n",
            "Original columns: ['Price', 'Close', 'High', 'Low', 'Open', 'Volume', 'MA_5', 'MA_10', 'MA_15', 'MA_20', 'MA_25', 'MA_30', 'Normalised Close', 'Return Ratio', 'Percentage Change Open', 'Percentage Change High', 'Percentage Change Low', 'Sector', 'Sector Encoded', 'Stock_Movement_Label'] (20 columns)\n",
            "✅ Processed GICRE_data.csv successfully.\n",
            "Processing file: KEC_data.csv\n",
            "Original columns: ['Price', 'Close', 'High', 'Low', 'Open', 'Volume', 'MA_5', 'MA_10', 'MA_15', 'MA_20', 'MA_25', 'MA_30', 'Normalised Close', 'Return Ratio', 'Percentage Change Open', 'Percentage Change High', 'Percentage Change Low', 'Sector', 'Sector Encoded', 'Stock_Movement_Label'] (20 columns)\n",
            "✅ Processed KEC_data.csv successfully.\n",
            "Processing file: MAHABANK_data.csv\n",
            "Original columns: ['Price', 'Close', 'High', 'Low', 'Open', 'Volume', 'MA_5', 'MA_10', 'MA_15', 'MA_20', 'MA_25', 'MA_30', 'Normalised Close', 'Return Ratio', 'Percentage Change Open', 'Percentage Change High', 'Percentage Change Low', 'Sector', 'Sector Encoded', 'Stock_Movement_Label'] (20 columns)\n",
            "✅ Processed MAHABANK_data.csv successfully.\n",
            "Processing file: SBIN_data.csv\n",
            "Original columns: ['Price', 'Close', 'High', 'Low', 'Open', 'Volume', 'MA_5', 'MA_10', 'MA_15', 'MA_20', 'MA_25', 'MA_30', 'Normalised Close', 'Return Ratio', 'Percentage Change Open', 'Percentage Change High', 'Percentage Change Low', 'Sector', 'Sector Encoded', 'Stock_Movement_Label'] (20 columns)\n",
            "✅ Processed SBIN_data.csv successfully.\n",
            "Processing file: CLEAN_data.csv\n",
            "Original columns: ['Price', 'Close', 'High', 'Low', 'Open', 'Volume', 'MA_5', 'MA_10', 'MA_15', 'MA_20', 'MA_25', 'MA_30', 'Normalised Close', 'Return Ratio', 'Percentage Change Open', 'Percentage Change High', 'Percentage Change Low', 'Sector', 'Sector Encoded', 'Stock_Movement_Label'] (20 columns)\n",
            "✅ Processed CLEAN_data.csv successfully.\n",
            "Processing file: METROBRAND_data.csv\n",
            "Original columns: ['Price', 'Close', 'High', 'Low', 'Open', 'Volume', 'MA_5', 'MA_10', 'MA_15', 'MA_20', 'MA_25', 'MA_30', 'Normalised Close', 'Return Ratio', 'Percentage Change Open', 'Percentage Change High', 'Percentage Change Low', 'Sector', 'Sector Encoded', 'Stock_Movement_Label'] (20 columns)\n",
            "✅ Processed METROBRAND_data.csv successfully.\n",
            "Processing file: ANGELONE_data.csv\n",
            "Original columns: ['Price', 'Close', 'High', 'Low', 'Open', 'Volume', 'MA_5', 'MA_10', 'MA_15', 'MA_20', 'MA_25', 'MA_30', 'Normalised Close', 'Return Ratio', 'Percentage Change Open', 'Percentage Change High', 'Percentage Change Low', 'Sector', 'Sector Encoded', 'Stock_Movement_Label'] (20 columns)\n",
            "✅ Processed ANGELONE_data.csv successfully.\n",
            "Processing file: GRSE_data.csv\n",
            "Original columns: ['Price', 'Close', 'High', 'Low', 'Open', 'Volume', 'MA_5', 'MA_10', 'MA_15', 'MA_20', 'MA_25', 'MA_30', 'Normalised Close', 'Return Ratio', 'Percentage Change Open', 'Percentage Change High', 'Percentage Change Low', 'Sector', 'Sector Encoded', 'Stock_Movement_Label'] (20 columns)\n",
            "✅ Processed GRSE_data.csv successfully.\n",
            "Processing file: MAHSEAMLES_data.csv\n",
            "Original columns: ['Price', 'Close', 'High', 'Low', 'Open', 'Volume', 'MA_5', 'MA_10', 'MA_15', 'MA_20', 'MA_25', 'MA_30', 'Normalised Close', 'Return Ratio', 'Percentage Change Open', 'Percentage Change High', 'Percentage Change Low', 'Sector', 'Sector Encoded', 'Stock_Movement_Label'] (20 columns)\n",
            "✅ Processed MAHSEAMLES_data.csv successfully.\n",
            "Processing file: DEVYANI_data.csv\n",
            "Original columns: ['Price', 'Close', 'High', 'Low', 'Open', 'Volume', 'MA_5', 'MA_10', 'MA_15', 'MA_20', 'MA_25', 'MA_30', 'Normalised Close', 'Return Ratio', 'Percentage Change Open', 'Percentage Change High', 'Percentage Change Low', 'Sector', 'Sector Encoded', 'Stock_Movement_Label'] (20 columns)\n",
            "✅ Processed DEVYANI_data.csv successfully.\n",
            "Processing file: SUVENPHAR_data.csv\n",
            "Original columns: ['Price', 'Close', 'High', 'Low', 'Open', 'Volume', 'MA_5', 'MA_10', 'MA_15', 'MA_20', 'MA_25', 'MA_30', 'Normalised Close', 'Return Ratio', 'Percentage Change Open', 'Percentage Change High', 'Percentage Change Low', 'Sector', 'Sector Encoded', 'Stock_Movement_Label'] (20 columns)\n",
            "✅ Processed SUVENPHAR_data.csv successfully.\n",
            "Processing file: JSL_data.csv\n",
            "Original columns: ['Price', 'Close', 'High', 'Low', 'Open', 'Volume', 'MA_5', 'MA_10', 'MA_15', 'MA_20', 'MA_25', 'MA_30', 'Normalised Close', 'Return Ratio', 'Percentage Change Open', 'Percentage Change High', 'Percentage Change Low', 'Sector', 'Sector Encoded', 'Stock_Movement_Label'] (20 columns)\n",
            "✅ Processed JSL_data.csv successfully.\n",
            "Processing file: IPCALAB_data.csv\n",
            "Original columns: ['Price', 'Close', 'High', 'Low', 'Open', 'Volume', 'MA_5', 'MA_10', 'MA_15', 'MA_20', 'MA_25', 'MA_30', 'Normalised Close', 'Return Ratio', 'Percentage Change Open', 'Percentage Change High', 'Percentage Change Low', 'Sector', 'Sector Encoded', 'Stock_Movement_Label'] (20 columns)\n",
            "✅ Processed IPCALAB_data.csv successfully.\n",
            "Processing file: CANFINHOME_data.csv\n",
            "Original columns: ['Price', 'Close', 'High', 'Low', 'Open', 'Volume', 'MA_5', 'MA_10', 'MA_15', 'MA_20', 'MA_25', 'MA_30', 'Normalised Close', 'Return Ratio', 'Percentage Change Open', 'Percentage Change High', 'Percentage Change Low', 'Sector', 'Sector Encoded', 'Stock_Movement_Label'] (20 columns)\n",
            "✅ Processed CANFINHOME_data.csv successfully.\n",
            "Processing file: CARBORUNIV_data.csv\n",
            "Original columns: ['Price', 'Close', 'High', 'Low', 'Open', 'Volume', 'MA_5', 'MA_10', 'MA_15', 'MA_20', 'MA_25', 'MA_30', 'Normalised Close', 'Return Ratio', 'Percentage Change Open', 'Percentage Change High', 'Percentage Change Low', 'Sector', 'Sector Encoded', 'Stock_Movement_Label'] (20 columns)\n",
            "✅ Processed CARBORUNIV_data.csv successfully.\n",
            "Processing file: ICICIPRULI_data.csv\n",
            "Original columns: ['Price', 'Close', 'High', 'Low', 'Open', 'Volume', 'MA_5', 'MA_10', 'MA_15', 'MA_20', 'MA_25', 'MA_30', 'Normalised Close', 'Return Ratio', 'Percentage Change Open', 'Percentage Change High', 'Percentage Change Low', 'Sector', 'Sector Encoded', 'Stock_Movement_Label'] (20 columns)\n",
            "✅ Processed ICICIPRULI_data.csv successfully.\n",
            "Processing file: JINDALSAW_data.csv\n",
            "Original columns: ['Price', 'Close', 'High', 'Low', 'Open', 'Volume', 'MA_5', 'MA_10', 'MA_15', 'MA_20', 'MA_25', 'MA_30', 'Normalised Close', 'Return Ratio', 'Percentage Change Open', 'Percentage Change High', 'Percentage Change Low', 'Sector', 'Sector Encoded', 'Stock_Movement_Label'] (20 columns)\n",
            "✅ Processed JINDALSAW_data.csv successfully.\n",
            "Processing file: 3MINDIA_data.csv\n",
            "Original columns: ['Price', 'Close', 'High', 'Low', 'Open', 'Volume', 'MA_5', 'MA_10', 'MA_15', 'MA_20', 'MA_25', 'MA_30', 'Normalised Close', 'Return Ratio', 'Percentage Change Open', 'Percentage Change High', 'Percentage Change Low', 'Sector', 'Sector Encoded', 'Stock_Movement_Label'] (20 columns)\n",
            "✅ Processed 3MINDIA_data.csv successfully.\n",
            "Processing file: GILLETTE_data.csv\n",
            "Original columns: ['Price', 'Close', 'High', 'Low', 'Open', 'Volume', 'MA_5', 'MA_10', 'MA_15', 'MA_20', 'MA_25', 'MA_30', 'Normalised Close', 'Return Ratio', 'Percentage Change Open', 'Percentage Change High', 'Percentage Change Low', 'Sector', 'Sector Encoded', 'Stock_Movement_Label'] (20 columns)\n",
            "✅ Processed GILLETTE_data.csv successfully.\n",
            "Processing file: ABCAPITAL_data.csv\n",
            "Original columns: ['Price', 'Close', 'High', 'Low', 'Open', 'Volume', 'MA_5', 'MA_10', 'MA_15', 'MA_20', 'MA_25', 'MA_30', 'Normalised Close', 'Return Ratio', 'Percentage Change Open', 'Percentage Change High', 'Percentage Change Low', 'Sector', 'Sector Encoded', 'Stock_Movement_Label'] (20 columns)\n",
            "✅ Processed ABCAPITAL_data.csv successfully.\n",
            "Processing file: SAREGAMA_data.csv\n",
            "Original columns: ['Price', 'Close', 'High', 'Low', 'Open', 'Volume', 'MA_5', 'MA_10', 'MA_15', 'MA_20', 'MA_25', 'MA_30', 'Normalised Close', 'Return Ratio', 'Percentage Change Open', 'Percentage Change High', 'Percentage Change Low', 'Sector', 'Sector Encoded', 'Stock_Movement_Label'] (20 columns)\n",
            "✅ Processed SAREGAMA_data.csv successfully.\n",
            "Processing file: MRPL_data.csv\n",
            "Original columns: ['Price', 'Close', 'High', 'Low', 'Open', 'Volume', 'MA_5', 'MA_10', 'MA_15', 'MA_20', 'MA_25', 'MA_30', 'Normalised Close', 'Return Ratio', 'Percentage Change Open', 'Percentage Change High', 'Percentage Change Low', 'Sector', 'Sector Encoded', 'Stock_Movement_Label'] (20 columns)\n",
            "✅ Processed MRPL_data.csv successfully.\n",
            "Processing file: SPARC_data.csv\n",
            "Original columns: ['Price', 'Close', 'High', 'Low', 'Open', 'Volume', 'MA_5', 'MA_10', 'MA_15', 'MA_20', 'MA_25', 'MA_30', 'Normalised Close', 'Return Ratio', 'Percentage Change Open', 'Percentage Change High', 'Percentage Change Low', 'Sector', 'Sector Encoded', 'Stock_Movement_Label'] (20 columns)\n",
            "✅ Processed SPARC_data.csv successfully.\n",
            "Processing file: CGCL_data.csv\n",
            "Original columns: ['Price', 'Close', 'High', 'Low', 'Open', 'Volume', 'MA_5', 'MA_10', 'MA_15', 'MA_20', 'MA_25', 'MA_30', 'Normalised Close', 'Return Ratio', 'Percentage Change Open', 'Percentage Change High', 'Percentage Change Low', 'Sector', 'Sector Encoded', 'Stock_Movement_Label'] (20 columns)\n",
            "✅ Processed CGCL_data.csv successfully.\n",
            "Processing file: UBL_data.csv\n",
            "Original columns: ['Price', 'Close', 'High', 'Low', 'Open', 'Volume', 'MA_5', 'MA_10', 'MA_15', 'MA_20', 'MA_25', 'MA_30', 'Normalised Close', 'Return Ratio', 'Percentage Change Open', 'Percentage Change High', 'Percentage Change Low', 'Sector', 'Sector Encoded', 'Stock_Movement_Label'] (20 columns)\n",
            "✅ Processed UBL_data.csv successfully.\n",
            "Processing file: SBILIFE_data.csv\n",
            "Original columns: ['Price', 'Close', 'High', 'Low', 'Open', 'Volume', 'MA_5', 'MA_10', 'MA_15', 'MA_20', 'MA_25', 'MA_30', 'Normalised Close', 'Return Ratio', 'Percentage Change Open', 'Percentage Change High', 'Percentage Change Low', 'Sector', 'Sector Encoded', 'Stock_Movement_Label'] (20 columns)\n",
            "✅ Processed SBILIFE_data.csv successfully.\n",
            "Processing file: BAJAJHLDNG_data.csv\n",
            "Original columns: ['Price', 'Close', 'High', 'Low', 'Open', 'Volume', 'MA_5', 'MA_10', 'MA_15', 'MA_20', 'MA_25', 'MA_30', 'Normalised Close', 'Return Ratio', 'Percentage Change Open', 'Percentage Change High', 'Percentage Change Low', 'Sector', 'Sector Encoded', 'Stock_Movement_Label'] (20 columns)\n",
            "✅ Processed BAJAJHLDNG_data.csv successfully.\n",
            "Processing file: KIRLOSBROS_data.csv\n",
            "Original columns: ['Price', 'Close', 'High', 'Low', 'Open', 'Volume', 'MA_5', 'MA_10', 'MA_15', 'MA_20', 'MA_25', 'MA_30', 'Normalised Close', 'Return Ratio', 'Percentage Change Open', 'Percentage Change High', 'Percentage Change Low', 'Sector', 'Sector Encoded', 'Stock_Movement_Label'] (20 columns)\n",
            "✅ Processed KIRLOSBROS_data.csv successfully.\n",
            "Processing file: CROMPTON_data.csv\n",
            "Original columns: ['Price', 'Close', 'High', 'Low', 'Open', 'Volume', 'MA_5', 'MA_10', 'MA_15', 'MA_20', 'MA_25', 'MA_30', 'Normalised Close', 'Return Ratio', 'Percentage Change Open', 'Percentage Change High', 'Percentage Change Low', 'Sector', 'Sector Encoded', 'Stock_Movement_Label'] (20 columns)\n",
            "✅ Processed CROMPTON_data.csv successfully.\n",
            "Processing file: LALPATHLAB_data.csv\n",
            "Original columns: ['Price', 'Close', 'High', 'Low', 'Open', 'Volume', 'MA_5', 'MA_10', 'MA_15', 'MA_20', 'MA_25', 'MA_30', 'Normalised Close', 'Return Ratio', 'Percentage Change Open', 'Percentage Change High', 'Percentage Change Low', 'Sector', 'Sector Encoded', 'Stock_Movement_Label'] (20 columns)\n",
            "✅ Processed LALPATHLAB_data.csv successfully.\n",
            "Processing file: AFFLE_data.csv\n",
            "Original columns: ['Price', 'Close', 'High', 'Low', 'Open', 'Volume', 'MA_5', 'MA_10', 'MA_15', 'MA_20', 'MA_25', 'MA_30', 'Normalised Close', 'Return Ratio', 'Percentage Change Open', 'Percentage Change High', 'Percentage Change Low', 'Sector', 'Sector Encoded', 'Stock_Movement_Label'] (20 columns)\n",
            "✅ Processed AFFLE_data.csv successfully.\n",
            "Processing file: UPL_data.csv\n",
            "Original columns: ['Price', 'Close', 'High', 'Low', 'Open', 'Volume', 'MA_5', 'MA_10', 'MA_15', 'MA_20', 'MA_25', 'MA_30', 'Normalised Close', 'Return Ratio', 'Percentage Change Open', 'Percentage Change High', 'Percentage Change Low', 'Sector', 'Sector Encoded', 'Stock_Movement_Label'] (20 columns)\n",
            "✅ Processed UPL_data.csv successfully.\n",
            "Processing file: DEEPAKNTR_data.csv\n",
            "Original columns: ['Price', 'Close', 'High', 'Low', 'Open', 'Volume', 'MA_5', 'MA_10', 'MA_15', 'MA_20', 'MA_25', 'MA_30', 'Normalised Close', 'Return Ratio', 'Percentage Change Open', 'Percentage Change High', 'Percentage Change Low', 'Sector', 'Sector Encoded', 'Stock_Movement_Label'] (20 columns)\n",
            "✅ Processed DEEPAKNTR_data.csv successfully.\n",
            "Processing file: SUPREMEIND_data.csv\n",
            "Original columns: ['Price', 'Close', 'High', 'Low', 'Open', 'Volume', 'MA_5', 'MA_10', 'MA_15', 'MA_20', 'MA_25', 'MA_30', 'Normalised Close', 'Return Ratio', 'Percentage Change Open', 'Percentage Change High', 'Percentage Change Low', 'Sector', 'Sector Encoded', 'Stock_Movement_Label'] (20 columns)\n",
            "✅ Processed SUPREMEIND_data.csv successfully.\n",
            "Processing file: BEML_data.csv\n",
            "Original columns: ['Price', 'Close', 'High', 'Low', 'Open', 'Volume', 'MA_5', 'MA_10', 'MA_15', 'MA_20', 'MA_25', 'MA_30', 'Normalised Close', 'Return Ratio', 'Percentage Change Open', 'Percentage Change High', 'Percentage Change Low', 'Sector', 'Sector Encoded', 'Stock_Movement_Label'] (20 columns)\n",
            "✅ Processed BEML_data.csv successfully.\n",
            "Processing file: COLPAL_data.csv\n",
            "Original columns: ['Price', 'Close', 'High', 'Low', 'Open', 'Volume', 'MA_5', 'MA_10', 'MA_15', 'MA_20', 'MA_25', 'MA_30', 'Normalised Close', 'Return Ratio', 'Percentage Change Open', 'Percentage Change High', 'Percentage Change Low', 'Sector', 'Sector Encoded', 'Stock_Movement_Label'] (20 columns)\n",
            "✅ Processed COLPAL_data.csv successfully.\n",
            "Processing file: ABREL_data.csv\n",
            "Original columns: ['Price', 'Close', 'High', 'Low', 'Open', 'Volume', 'MA_5', 'MA_10', 'MA_15', 'MA_20', 'MA_25', 'MA_30', 'Normalised Close', 'Return Ratio', 'Percentage Change Open', 'Percentage Change High', 'Percentage Change Low', 'Sector', 'Sector Encoded', 'Stock_Movement_Label'] (20 columns)\n",
            "✅ Processed ABREL_data.csv successfully.\n",
            "Processing file: AIAENG_data.csv\n",
            "Original columns: ['Price', 'Close', 'High', 'Low', 'Open', 'Volume', 'MA_5', 'MA_10', 'MA_15', 'MA_20', 'MA_25', 'MA_30', 'Normalised Close', 'Return Ratio', 'Percentage Change Open', 'Percentage Change High', 'Percentage Change Low', 'Sector', 'Sector Encoded', 'Stock_Movement_Label'] (20 columns)\n",
            "✅ Processed AIAENG_data.csv successfully.\n",
            "Processing file: TRITURBINE_data.csv\n",
            "Original columns: ['Price', 'Close', 'High', 'Low', 'Open', 'Volume', 'MA_5', 'MA_10', 'MA_15', 'MA_20', 'MA_25', 'MA_30', 'Normalised Close', 'Return Ratio', 'Percentage Change Open', 'Percentage Change High', 'Percentage Change Low', 'Sector', 'Sector Encoded', 'Stock_Movement_Label'] (20 columns)\n",
            "✅ Processed TRITURBINE_data.csv successfully.\n",
            "Processing file: HINDCOPPER_data.csv\n",
            "Original columns: ['Price', 'Close', 'High', 'Low', 'Open', 'Volume', 'MA_5', 'MA_10', 'MA_15', 'MA_20', 'MA_25', 'MA_30', 'Normalised Close', 'Return Ratio', 'Percentage Change Open', 'Percentage Change High', 'Percentage Change Low', 'Sector', 'Sector Encoded', 'Stock_Movement_Label'] (20 columns)\n",
            "✅ Processed HINDCOPPER_data.csv successfully.\n",
            "Processing file: HUDCO_data.csv\n",
            "Original columns: ['Price', 'Close', 'High', 'Low', 'Open', 'Volume', 'MA_5', 'MA_10', 'MA_15', 'MA_20', 'MA_25', 'MA_30', 'Normalised Close', 'Return Ratio', 'Percentage Change Open', 'Percentage Change High', 'Percentage Change Low', 'Sector', 'Sector Encoded', 'Stock_Movement_Label'] (20 columns)\n",
            "✅ Processed HUDCO_data.csv successfully.\n",
            "Processing file: WIPRO_data.csv\n",
            "Original columns: ['Price', 'Close', 'High', 'Low', 'Open', 'Volume', 'MA_5', 'MA_10', 'MA_15', 'MA_20', 'MA_25', 'MA_30', 'Normalised Close', 'Return Ratio', 'Percentage Change Open', 'Percentage Change High', 'Percentage Change Low', 'Sector', 'Sector Encoded', 'Stock_Movement_Label'] (20 columns)\n",
            "✅ Processed WIPRO_data.csv successfully.\n",
            "Processing file: PFC_data.csv\n",
            "Original columns: ['Price', 'Close', 'High', 'Low', 'Open', 'Volume', 'MA_5', 'MA_10', 'MA_15', 'MA_20', 'MA_25', 'MA_30', 'Normalised Close', 'Return Ratio', 'Percentage Change Open', 'Percentage Change High', 'Percentage Change Low', 'Sector', 'Sector Encoded', 'Stock_Movement_Label'] (20 columns)\n",
            "✅ Processed PFC_data.csv successfully.\n",
            "Processing file: IFCI_data.csv\n",
            "Original columns: ['Price', 'Close', 'High', 'Low', 'Open', 'Volume', 'MA_5', 'MA_10', 'MA_15', 'MA_20', 'MA_25', 'MA_30', 'Normalised Close', 'Return Ratio', 'Percentage Change Open', 'Percentage Change High', 'Percentage Change Low', 'Sector', 'Sector Encoded', 'Stock_Movement_Label'] (20 columns)\n",
            "✅ Processed IFCI_data.csv successfully.\n",
            "Processing file: NIACL_data.csv\n",
            "Original columns: ['Price', 'Close', 'High', 'Low', 'Open', 'Volume', 'MA_5', 'MA_10', 'MA_15', 'MA_20', 'MA_25', 'MA_30', 'Normalised Close', 'Return Ratio', 'Percentage Change Open', 'Percentage Change High', 'Percentage Change Low', 'Sector', 'Sector Encoded', 'Stock_Movement_Label'] (20 columns)\n",
            "✅ Processed NIACL_data.csv successfully.\n",
            "Processing file: SCHNEIDER_data.csv\n",
            "Original columns: ['Price', 'Close', 'High', 'Low', 'Open', 'Volume', 'MA_5', 'MA_10', 'MA_15', 'MA_20', 'MA_25', 'MA_30', 'Normalised Close', 'Return Ratio', 'Percentage Change Open', 'Percentage Change High', 'Percentage Change Low', 'Sector', 'Sector Encoded', 'Stock_Movement_Label'] (20 columns)\n",
            "✅ Processed SCHNEIDER_data.csv successfully.\n",
            "Processing file: AARTIIND_data.csv\n",
            "Original columns: ['Price', 'Close', 'High', 'Low', 'Open', 'Volume', 'MA_5', 'MA_10', 'MA_15', 'MA_20', 'MA_25', 'MA_30', 'Normalised Close', 'Return Ratio', 'Percentage Change Open', 'Percentage Change High', 'Percentage Change Low', 'Sector', 'Sector Encoded', 'Stock_Movement_Label'] (20 columns)\n",
            "✅ Processed AARTIIND_data.csv successfully.\n",
            "Processing file: BIOCON_data.csv\n",
            "Original columns: ['Price', 'Close', 'High', 'Low', 'Open', 'Volume', 'MA_5', 'MA_10', 'MA_15', 'MA_20', 'MA_25', 'MA_30', 'Normalised Close', 'Return Ratio', 'Percentage Change Open', 'Percentage Change High', 'Percentage Change Low', 'Sector', 'Sector Encoded', 'Stock_Movement_Label'] (20 columns)\n",
            "✅ Processed BIOCON_data.csv successfully.\n",
            "Processing file: FACT_data.csv\n",
            "Original columns: ['Price', 'Close', 'High', 'Low', 'Open', 'Volume', 'MA_5', 'MA_10', 'MA_15', 'MA_20', 'MA_25', 'MA_30', 'Normalised Close', 'Return Ratio', 'Percentage Change Open', 'Percentage Change High', 'Percentage Change Low', 'Sector', 'Sector Encoded', 'Stock_Movement_Label'] (20 columns)\n",
            "✅ Processed FACT_data.csv successfully.\n",
            "Processing file: MASTEK_data.csv\n",
            "Original columns: ['Price', 'Close', 'High', 'Low', 'Open', 'Volume', 'MA_5', 'MA_10', 'MA_15', 'MA_20', 'MA_25', 'MA_30', 'Normalised Close', 'Return Ratio', 'Percentage Change Open', 'Percentage Change High', 'Percentage Change Low', 'Sector', 'Sector Encoded', 'Stock_Movement_Label'] (20 columns)\n",
            "✅ Processed MASTEK_data.csv successfully.\n",
            "Processing file: PERSISTENT_data.csv\n",
            "Original columns: ['Price', 'Close', 'High', 'Low', 'Open', 'Volume', 'MA_5', 'MA_10', 'MA_15', 'MA_20', 'MA_25', 'MA_30', 'Normalised Close', 'Return Ratio', 'Percentage Change Open', 'Percentage Change High', 'Percentage Change Low', 'Sector', 'Sector Encoded', 'Stock_Movement_Label'] (20 columns)\n",
            "✅ Processed PERSISTENT_data.csv successfully.\n",
            "Processing file: POONAWALLA_data.csv\n",
            "Original columns: ['Price', 'Close', 'High', 'Low', 'Open', 'Volume', 'MA_5', 'MA_10', 'MA_15', 'MA_20', 'MA_25', 'MA_30', 'Normalised Close', 'Return Ratio', 'Percentage Change Open', 'Percentage Change High', 'Percentage Change Low', 'Sector', 'Sector Encoded', 'Stock_Movement_Label'] (20 columns)\n",
            "✅ Processed POONAWALLA_data.csv successfully.\n",
            "Processing file: PATANJALI_data.csv\n",
            "Original columns: ['Price', 'Close', 'High', 'Low', 'Open', 'Volume', 'MA_5', 'MA_10', 'MA_15', 'MA_20', 'MA_25', 'MA_30', 'Normalised Close', 'Return Ratio', 'Percentage Change Open', 'Percentage Change High', 'Percentage Change Low', 'Sector', 'Sector Encoded', 'Stock_Movement_Label'] (20 columns)\n",
            "✅ Processed PATANJALI_data.csv successfully.\n",
            "Processing file: COROMANDEL_data.csv\n",
            "Original columns: ['Price', 'Close', 'High', 'Low', 'Open', 'Volume', 'MA_5', 'MA_10', 'MA_15', 'MA_20', 'MA_25', 'MA_30', 'Normalised Close', 'Return Ratio', 'Percentage Change Open', 'Percentage Change High', 'Percentage Change Low', 'Sector', 'Sector Encoded', 'Stock_Movement_Label'] (20 columns)\n",
            "✅ Processed COROMANDEL_data.csv successfully.\n",
            "Processing file: NAUKRI_data.csv\n",
            "Original columns: ['Price', 'Close', 'High', 'Low', 'Open', 'Volume', 'MA_5', 'MA_10', 'MA_15', 'MA_20', 'MA_25', 'MA_30', 'Normalised Close', 'Return Ratio', 'Percentage Change Open', 'Percentage Change High', 'Percentage Change Low', 'Sector', 'Sector Encoded', 'Stock_Movement_Label'] (20 columns)\n",
            "✅ Processed NAUKRI_data.csv successfully.\n",
            "Processing file: USHAMART_data.csv\n",
            "Original columns: ['Price', 'Close', 'High', 'Low', 'Open', 'Volume', 'MA_5', 'MA_10', 'MA_15', 'MA_20', 'MA_25', 'MA_30', 'Normalised Close', 'Return Ratio', 'Percentage Change Open', 'Percentage Change High', 'Percentage Change Low', 'Sector', 'Sector Encoded', 'Stock_Movement_Label'] (20 columns)\n",
            "✅ Processed USHAMART_data.csv successfully.\n",
            "Processing file: GUJGASLTD_data.csv\n",
            "Original columns: ['Price', 'Close', 'High', 'Low', 'Open', 'Volume', 'MA_5', 'MA_10', 'MA_15', 'MA_20', 'MA_25', 'MA_30', 'Normalised Close', 'Return Ratio', 'Percentage Change Open', 'Percentage Change High', 'Percentage Change Low', 'Sector', 'Sector Encoded', 'Stock_Movement_Label'] (20 columns)\n",
            "✅ Processed GUJGASLTD_data.csv successfully.\n",
            "Processing file: GRASIM_data.csv\n",
            "Original columns: ['Price', 'Close', 'High', 'Low', 'Open', 'Volume', 'MA_5', 'MA_10', 'MA_15', 'MA_20', 'MA_25', 'MA_30', 'Normalised Close', 'Return Ratio', 'Percentage Change Open', 'Percentage Change High', 'Percentage Change Low', 'Sector', 'Sector Encoded', 'Stock_Movement_Label'] (20 columns)\n",
            "✅ Processed GRASIM_data.csv successfully.\n",
            "Processing file: PRESTIGE_data.csv\n",
            "Original columns: ['Price', 'Close', 'High', 'Low', 'Open', 'Volume', 'MA_5', 'MA_10', 'MA_15', 'MA_20', 'MA_25', 'MA_30', 'Normalised Close', 'Return Ratio', 'Percentage Change Open', 'Percentage Change High', 'Percentage Change Low', 'Sector', 'Sector Encoded', 'Stock_Movement_Label'] (20 columns)\n",
            "✅ Processed PRESTIGE_data.csv successfully.\n",
            "Processing file: BERGEPAINT_data.csv\n",
            "Original columns: ['Price', 'Close', 'High', 'Low', 'Open', 'Volume', 'MA_5', 'MA_10', 'MA_15', 'MA_20', 'MA_25', 'MA_30', 'Normalised Close', 'Return Ratio', 'Percentage Change Open', 'Percentage Change High', 'Percentage Change Low', 'Sector', 'Sector Encoded', 'Stock_Movement_Label'] (20 columns)\n",
            "✅ Processed BERGEPAINT_data.csv successfully.\n",
            "Processing file: TATAELXSI_data.csv\n",
            "Original columns: ['Price', 'Close', 'High', 'Low', 'Open', 'Volume', 'MA_5', 'MA_10', 'MA_15', 'MA_20', 'MA_25', 'MA_30', 'Normalised Close', 'Return Ratio', 'Percentage Change Open', 'Percentage Change High', 'Percentage Change Low', 'Sector', 'Sector Encoded', 'Stock_Movement_Label'] (20 columns)\n",
            "✅ Processed TATAELXSI_data.csv successfully.\n",
            "Processing file: MCX_data.csv\n",
            "Original columns: ['Price', 'Close', 'High', 'Low', 'Open', 'Volume', 'MA_5', 'MA_10', 'MA_15', 'MA_20', 'MA_25', 'MA_30', 'Normalised Close', 'Return Ratio', 'Percentage Change Open', 'Percentage Change High', 'Percentage Change Low', 'Sector', 'Sector Encoded', 'Stock_Movement_Label'] (20 columns)\n",
            "✅ Processed MCX_data.csv successfully.\n",
            "Processing file: JKCEMENT_data.csv\n",
            "Original columns: ['Price', 'Close', 'High', 'Low', 'Open', 'Volume', 'MA_5', 'MA_10', 'MA_15', 'MA_20', 'MA_25', 'MA_30', 'Normalised Close', 'Return Ratio', 'Percentage Change Open', 'Percentage Change High', 'Percentage Change Low', 'Sector', 'Sector Encoded', 'Stock_Movement_Label'] (20 columns)\n",
            "✅ Processed JKCEMENT_data.csv successfully.\n",
            "Processing file: BLUEDART_data.csv\n",
            "Original columns: ['Price', 'Close', 'High', 'Low', 'Open', 'Volume', 'MA_5', 'MA_10', 'MA_15', 'MA_20', 'MA_25', 'MA_30', 'Normalised Close', 'Return Ratio', 'Percentage Change Open', 'Percentage Change High', 'Percentage Change Low', 'Sector', 'Sector Encoded', 'Stock_Movement_Label'] (20 columns)\n",
            "✅ Processed BLUEDART_data.csv successfully.\n",
            "Processing file: MARICO_data.csv\n",
            "Original columns: ['Price', 'Close', 'High', 'Low', 'Open', 'Volume', 'MA_5', 'MA_10', 'MA_15', 'MA_20', 'MA_25', 'MA_30', 'Normalised Close', 'Return Ratio', 'Percentage Change Open', 'Percentage Change High', 'Percentage Change Low', 'Sector', 'Sector Encoded', 'Stock_Movement_Label'] (20 columns)\n",
            "✅ Processed MARICO_data.csv successfully.\n",
            "Processing file: SYNGENE_data.csv\n",
            "Original columns: ['Price', 'Close', 'High', 'Low', 'Open', 'Volume', 'MA_5', 'MA_10', 'MA_15', 'MA_20', 'MA_25', 'MA_30', 'Normalised Close', 'Return Ratio', 'Percentage Change Open', 'Percentage Change High', 'Percentage Change Low', 'Sector', 'Sector Encoded', 'Stock_Movement_Label'] (20 columns)\n",
            "✅ Processed SYNGENE_data.csv successfully.\n",
            "Processing file: IRFC_data.csv\n",
            "Original columns: ['Price', 'Close', 'High', 'Low', 'Open', 'Volume', 'MA_5', 'MA_10', 'MA_15', 'MA_20', 'MA_25', 'MA_30', 'Normalised Close', 'Return Ratio', 'Percentage Change Open', 'Percentage Change High', 'Percentage Change Low', 'Sector', 'Sector Encoded', 'Stock_Movement_Label'] (20 columns)\n",
            "✅ Processed IRFC_data.csv successfully.\n",
            "Processing file: BATAINDIA_data.csv\n",
            "Original columns: ['Price', 'Close', 'High', 'Low', 'Open', 'Volume', 'MA_5', 'MA_10', 'MA_15', 'MA_20', 'MA_25', 'MA_30', 'Normalised Close', 'Return Ratio', 'Percentage Change Open', 'Percentage Change High', 'Percentage Change Low', 'Sector', 'Sector Encoded', 'Stock_Movement_Label'] (20 columns)\n",
            "✅ Processed BATAINDIA_data.csv successfully.\n",
            "Processing file: CHALET_data.csv\n",
            "Original columns: ['Price', 'Close', 'High', 'Low', 'Open', 'Volume', 'MA_5', 'MA_10', 'MA_15', 'MA_20', 'MA_25', 'MA_30', 'Normalised Close', 'Return Ratio', 'Percentage Change Open', 'Percentage Change High', 'Percentage Change Low', 'Sector', 'Sector Encoded', 'Stock_Movement_Label'] (20 columns)\n",
            "✅ Processed CHALET_data.csv successfully.\n",
            "Processing file: ASTERDM_data.csv\n",
            "Original columns: ['Price', 'Close', 'High', 'Low', 'Open', 'Volume', 'MA_5', 'MA_10', 'MA_15', 'MA_20', 'MA_25', 'MA_30', 'Normalised Close', 'Return Ratio', 'Percentage Change Open', 'Percentage Change High', 'Percentage Change Low', 'Sector', 'Sector Encoded', 'Stock_Movement_Label'] (20 columns)\n",
            "✅ Processed ASTERDM_data.csv successfully.\n",
            "Processing file: BLS_data.csv\n",
            "Original columns: ['Price', 'Close', 'High', 'Low', 'Open', 'Volume', 'MA_5', 'MA_10', 'MA_15', 'MA_20', 'MA_25', 'MA_30', 'Normalised Close', 'Return Ratio', 'Percentage Change Open', 'Percentage Change High', 'Percentage Change Low', 'Sector', 'Sector Encoded', 'Stock_Movement_Label'] (20 columns)\n",
            "✅ Processed BLS_data.csv successfully.\n",
            "Processing file: BHARATFORG_data.csv\n",
            "Original columns: ['Price', 'Close', 'High', 'Low', 'Open', 'Volume', 'MA_5', 'MA_10', 'MA_15', 'MA_20', 'MA_25', 'MA_30', 'Normalised Close', 'Return Ratio', 'Percentage Change Open', 'Percentage Change High', 'Percentage Change Low', 'Sector', 'Sector Encoded', 'Stock_Movement_Label'] (20 columns)\n",
            "✅ Processed BHARATFORG_data.csv successfully.\n",
            "Processing file: NEWGEN_data.csv\n",
            "Original columns: ['Price', 'Close', 'High', 'Low', 'Open', 'Volume', 'MA_5', 'MA_10', 'MA_15', 'MA_20', 'MA_25', 'MA_30', 'Normalised Close', 'Return Ratio', 'Percentage Change Open', 'Percentage Change High', 'Percentage Change Low', 'Sector', 'Sector Encoded', 'Stock_Movement_Label'] (20 columns)\n",
            "✅ Processed NEWGEN_data.csv successfully.\n",
            "Processing file: ASAHIINDIA_data.csv\n",
            "Original columns: ['Price', 'Close', 'High', 'Low', 'Open', 'Volume', 'MA_5', 'MA_10', 'MA_15', 'MA_20', 'MA_25', 'MA_30', 'Normalised Close', 'Return Ratio', 'Percentage Change Open', 'Percentage Change High', 'Percentage Change Low', 'Sector', 'Sector Encoded', 'Stock_Movement_Label'] (20 columns)\n",
            "✅ Processed ASAHIINDIA_data.csv successfully.\n",
            "Processing file: SBICARD_data.csv\n",
            "Original columns: ['Price', 'Close', 'High', 'Low', 'Open', 'Volume', 'MA_5', 'MA_10', 'MA_15', 'MA_20', 'MA_25', 'MA_30', 'Normalised Close', 'Return Ratio', 'Percentage Change Open', 'Percentage Change High', 'Percentage Change Low', 'Sector', 'Sector Encoded', 'Stock_Movement_Label'] (20 columns)\n",
            "✅ Processed SBICARD_data.csv successfully.\n",
            "Processing file: ADANIGREEN_data.csv\n",
            "Original columns: ['Price', 'Close', 'High', 'Low', 'Open', 'Volume', 'MA_5', 'MA_10', 'MA_15', 'MA_20', 'MA_25', 'MA_30', 'Normalised Close', 'Return Ratio', 'Percentage Change Open', 'Percentage Change High', 'Percentage Change Low', 'Sector', 'Sector Encoded', 'Stock_Movement_Label'] (20 columns)\n",
            "✅ Processed ADANIGREEN_data.csv successfully.\n",
            "Processing file: LTTS_data.csv\n",
            "Original columns: ['Price', 'Close', 'High', 'Low', 'Open', 'Volume', 'MA_5', 'MA_10', 'MA_15', 'MA_20', 'MA_25', 'MA_30', 'Normalised Close', 'Return Ratio', 'Percentage Change Open', 'Percentage Change High', 'Percentage Change Low', 'Sector', 'Sector Encoded', 'Stock_Movement_Label'] (20 columns)\n",
            "✅ Processed LTTS_data.csv successfully.\n",
            "Processing file: SUZLON_data.csv\n",
            "Original columns: ['Price', 'Close', 'High', 'Low', 'Open', 'Volume', 'MA_5', 'MA_10', 'MA_15', 'MA_20', 'MA_25', 'MA_30', 'Normalised Close', 'Return Ratio', 'Percentage Change Open', 'Percentage Change High', 'Percentage Change Low', 'Sector', 'Sector Encoded', 'Stock_Movement_Label'] (20 columns)\n",
            "✅ Processed SUZLON_data.csv successfully.\n",
            "Processing file: IOC_data.csv\n",
            "Original columns: ['Price', 'Close', 'High', 'Low', 'Open', 'Volume', 'MA_5', 'MA_10', 'MA_15', 'MA_20', 'MA_25', 'MA_30', 'Normalised Close', 'Return Ratio', 'Percentage Change Open', 'Percentage Change High', 'Percentage Change Low', 'Sector', 'Sector Encoded', 'Stock_Movement_Label'] (20 columns)\n",
            "✅ Processed IOC_data.csv successfully.\n",
            "Processing file: MINDACORP_data.csv\n",
            "Original columns: ['Price', 'Close', 'High', 'Low', 'Open', 'Volume', 'MA_5', 'MA_10', 'MA_15', 'MA_20', 'MA_25', 'MA_30', 'Normalised Close', 'Return Ratio', 'Percentage Change Open', 'Percentage Change High', 'Percentage Change Low', 'Sector', 'Sector Encoded', 'Stock_Movement_Label'] (20 columns)\n",
            "✅ Processed MINDACORP_data.csv successfully.\n",
            "Processing file: JUBLINGREA_data.csv\n",
            "Original columns: ['Price', 'Close', 'High', 'Low', 'Open', 'Volume', 'MA_5', 'MA_10', 'MA_15', 'MA_20', 'MA_25', 'MA_30', 'Normalised Close', 'Return Ratio', 'Percentage Change Open', 'Percentage Change High', 'Percentage Change Low', 'Sector', 'Sector Encoded', 'Stock_Movement_Label'] (20 columns)\n",
            "✅ Processed JUBLINGREA_data.csv successfully.\n",
            "Processing file: VGUARD_data.csv\n",
            "Original columns: ['Price', 'Close', 'High', 'Low', 'Open', 'Volume', 'MA_5', 'MA_10', 'MA_15', 'MA_20', 'MA_25', 'MA_30', 'Normalised Close', 'Return Ratio', 'Percentage Change Open', 'Percentage Change High', 'Percentage Change Low', 'Sector', 'Sector Encoded', 'Stock_Movement_Label'] (20 columns)\n",
            "✅ Processed VGUARD_data.csv successfully.\n",
            "Processing file: BAJAJFINSV_data.csv\n",
            "Original columns: ['Price', 'Close', 'High', 'Low', 'Open', 'Volume', 'MA_5', 'MA_10', 'MA_15', 'MA_20', 'MA_25', 'MA_30', 'Normalised Close', 'Return Ratio', 'Percentage Change Open', 'Percentage Change High', 'Percentage Change Low', 'Sector', 'Sector Encoded', 'Stock_Movement_Label'] (20 columns)\n",
            "✅ Processed BAJAJFINSV_data.csv successfully.\n",
            "Processing file: CRISIL_data.csv\n",
            "Original columns: ['Price', 'Close', 'High', 'Low', 'Open', 'Volume', 'MA_5', 'MA_10', 'MA_15', 'MA_20', 'MA_25', 'MA_30', 'Normalised Close', 'Return Ratio', 'Percentage Change Open', 'Percentage Change High', 'Percentage Change Low', 'Sector', 'Sector Encoded', 'Stock_Movement_Label'] (20 columns)\n",
            "✅ Processed CRISIL_data.csv successfully.\n",
            "Processing file: LODHA_data.csv\n",
            "Original columns: ['Price', 'Close', 'High', 'Low', 'Open', 'Volume', 'MA_5', 'MA_10', 'MA_15', 'MA_20', 'MA_25', 'MA_30', 'Normalised Close', 'Return Ratio', 'Percentage Change Open', 'Percentage Change High', 'Percentage Change Low', 'Sector', 'Sector Encoded', 'Stock_Movement_Label'] (20 columns)\n",
            "✅ Processed LODHA_data.csv successfully.\n",
            "Processing file: YESBANK_data.csv\n",
            "Original columns: ['Price', 'Close', 'High', 'Low', 'Open', 'Volume', 'MA_5', 'MA_10', 'MA_15', 'MA_20', 'MA_25', 'MA_30', 'Normalised Close', 'Return Ratio', 'Percentage Change Open', 'Percentage Change High', 'Percentage Change Low', 'Sector', 'Sector Encoded', 'Stock_Movement_Label'] (20 columns)\n",
            "✅ Processed YESBANK_data.csv successfully.\n",
            "Processing file: ACC_data.csv\n",
            "Original columns: ['Price', 'Close', 'High', 'Low', 'Open', 'Volume', 'MA_5', 'MA_10', 'MA_15', 'MA_20', 'MA_25', 'MA_30', 'Normalised Close', 'Return Ratio', 'Percentage Change Open', 'Percentage Change High', 'Percentage Change Low', 'Sector', 'Sector Encoded', 'Stock_Movement_Label'] (20 columns)\n",
            "✅ Processed ACC_data.csv successfully.\n",
            "Processing file: ATGL_data.csv\n",
            "Original columns: ['Price', 'Close', 'High', 'Low', 'Open', 'Volume', 'MA_5', 'MA_10', 'MA_15', 'MA_20', 'MA_25', 'MA_30', 'Normalised Close', 'Return Ratio', 'Percentage Change Open', 'Percentage Change High', 'Percentage Change Low', 'Sector', 'Sector Encoded', 'Stock_Movement_Label'] (20 columns)\n",
            "✅ Processed ATGL_data.csv successfully.\n",
            "Processing file: DABUR_data.csv\n",
            "Original columns: ['Price', 'Close', 'High', 'Low', 'Open', 'Volume', 'MA_5', 'MA_10', 'MA_15', 'MA_20', 'MA_25', 'MA_30', 'Normalised Close', 'Return Ratio', 'Percentage Change Open', 'Percentage Change High', 'Percentage Change Low', 'Sector', 'Sector Encoded', 'Stock_Movement_Label'] (20 columns)\n",
            "✅ Processed DABUR_data.csv successfully.\n",
            "Processing file: MPHASIS_data.csv\n",
            "Original columns: ['Price', 'Close', 'High', 'Low', 'Open', 'Volume', 'MA_5', 'MA_10', 'MA_15', 'MA_20', 'MA_25', 'MA_30', 'Normalised Close', 'Return Ratio', 'Percentage Change Open', 'Percentage Change High', 'Percentage Change Low', 'Sector', 'Sector Encoded', 'Stock_Movement_Label'] (20 columns)\n",
            "✅ Processed MPHASIS_data.csv successfully.\n",
            "Processing file: INDHOTEL_data.csv\n",
            "Original columns: ['Price', 'Close', 'High', 'Low', 'Open', 'Volume', 'MA_5', 'MA_10', 'MA_15', 'MA_20', 'MA_25', 'MA_30', 'Normalised Close', 'Return Ratio', 'Percentage Change Open', 'Percentage Change High', 'Percentage Change Low', 'Sector', 'Sector Encoded', 'Stock_Movement_Label'] (20 columns)\n",
            "✅ Processed INDHOTEL_data.csv successfully.\n",
            "Processing file: HOMEFIRST_data.csv\n",
            "Original columns: ['Price', 'Close', 'High', 'Low', 'Open', 'Volume', 'MA_5', 'MA_10', 'MA_15', 'MA_20', 'MA_25', 'MA_30', 'Normalised Close', 'Return Ratio', 'Percentage Change Open', 'Percentage Change High', 'Percentage Change Low', 'Sector', 'Sector Encoded', 'Stock_Movement_Label'] (20 columns)\n",
            "✅ Processed HOMEFIRST_data.csv successfully.\n",
            "Processing file: METROPOLIS_data.csv\n",
            "Original columns: ['Price', 'Close', 'High', 'Low', 'Open', 'Volume', 'MA_5', 'MA_10', 'MA_15', 'MA_20', 'MA_25', 'MA_30', 'Normalised Close', 'Return Ratio', 'Percentage Change Open', 'Percentage Change High', 'Percentage Change Low', 'Sector', 'Sector Encoded', 'Stock_Movement_Label'] (20 columns)\n",
            "✅ Processed METROPOLIS_data.csv successfully.\n",
            "Processing file: SWSOLAR_data.csv\n",
            "Original columns: ['Price', 'Close', 'High', 'Low', 'Open', 'Volume', 'MA_5', 'MA_10', 'MA_15', 'MA_20', 'MA_25', 'MA_30', 'Normalised Close', 'Return Ratio', 'Percentage Change Open', 'Percentage Change High', 'Percentage Change Low', 'Sector', 'Sector Encoded', 'Stock_Movement_Label'] (20 columns)\n",
            "✅ Processed SWSOLAR_data.csv successfully.\n",
            "Processing file: GODREJPROP_data.csv\n",
            "Original columns: ['Price', 'Close', 'High', 'Low', 'Open', 'Volume', 'MA_5', 'MA_10', 'MA_15', 'MA_20', 'MA_25', 'MA_30', 'Normalised Close', 'Return Ratio', 'Percentage Change Open', 'Percentage Change High', 'Percentage Change Low', 'Sector', 'Sector Encoded', 'Stock_Movement_Label'] (20 columns)\n",
            "✅ Processed GODREJPROP_data.csv successfully.\n",
            "Processing file: CCL_data.csv\n",
            "Original columns: ['Price', 'Close', 'High', 'Low', 'Open', 'Volume', 'MA_5', 'MA_10', 'MA_15', 'MA_20', 'MA_25', 'MA_30', 'Normalised Close', 'Return Ratio', 'Percentage Change Open', 'Percentage Change High', 'Percentage Change Low', 'Sector', 'Sector Encoded', 'Stock_Movement_Label'] (20 columns)\n",
            "✅ Processed CCL_data.csv successfully.\n",
            "Processing file: DIVISLAB_data.csv\n",
            "Original columns: ['Price', 'Close', 'High', 'Low', 'Open', 'Volume', 'MA_5', 'MA_10', 'MA_15', 'MA_20', 'MA_25', 'MA_30', 'Normalised Close', 'Return Ratio', 'Percentage Change Open', 'Percentage Change High', 'Percentage Change Low', 'Sector', 'Sector Encoded', 'Stock_Movement_Label'] (20 columns)\n",
            "✅ Processed DIVISLAB_data.csv successfully.\n",
            "Processing file: HONAUT_data.csv\n",
            "Original columns: ['Price', 'Close', 'High', 'Low', 'Open', 'Volume', 'MA_5', 'MA_10', 'MA_15', 'MA_20', 'MA_25', 'MA_30', 'Normalised Close', 'Return Ratio', 'Percentage Change Open', 'Percentage Change High', 'Percentage Change Low', 'Sector', 'Sector Encoded', 'Stock_Movement_Label'] (20 columns)\n",
            "✅ Processed HONAUT_data.csv successfully.\n",
            "Processing file: EXIDEIND_data.csv\n",
            "Original columns: ['Price', 'Close', 'High', 'Low', 'Open', 'Volume', 'MA_5', 'MA_10', 'MA_15', 'MA_20', 'MA_25', 'MA_30', 'Normalised Close', 'Return Ratio', 'Percentage Change Open', 'Percentage Change High', 'Percentage Change Low', 'Sector', 'Sector Encoded', 'Stock_Movement_Label'] (20 columns)\n",
            "✅ Processed EXIDEIND_data.csv successfully.\n",
            "Processing file: CUMMINSIND_data.csv\n",
            "Original columns: ['Price', 'Close', 'High', 'Low', 'Open', 'Volume', 'MA_5', 'MA_10', 'MA_15', 'MA_20', 'MA_25', 'MA_30', 'Normalised Close', 'Return Ratio', 'Percentage Change Open', 'Percentage Change High', 'Percentage Change Low', 'Sector', 'Sector Encoded', 'Stock_Movement_Label'] (20 columns)\n",
            "✅ Processed CUMMINSIND_data.csv successfully.\n",
            "Processing file: HFCL_data.csv\n",
            "Original columns: ['Price', 'Close', 'High', 'Low', 'Open', 'Volume', 'MA_5', 'MA_10', 'MA_15', 'MA_20', 'MA_25', 'MA_30', 'Normalised Close', 'Return Ratio', 'Percentage Change Open', 'Percentage Change High', 'Percentage Change Low', 'Sector', 'Sector Encoded', 'Stock_Movement_Label'] (20 columns)\n",
            "✅ Processed HFCL_data.csv successfully.\n",
            "Processing file: EIHOTEL_data.csv\n",
            "Original columns: ['Price', 'Close', 'High', 'Low', 'Open', 'Volume', 'MA_5', 'MA_10', 'MA_15', 'MA_20', 'MA_25', 'MA_30', 'Normalised Close', 'Return Ratio', 'Percentage Change Open', 'Percentage Change High', 'Percentage Change Low', 'Sector', 'Sector Encoded', 'Stock_Movement_Label'] (20 columns)\n",
            "✅ Processed EIHOTEL_data.csv successfully.\n",
            "Processing file: MAZDOCK_data.csv\n",
            "Original columns: ['Price', 'Close', 'High', 'Low', 'Open', 'Volume', 'MA_5', 'MA_10', 'MA_15', 'MA_20', 'MA_25', 'MA_30', 'Normalised Close', 'Return Ratio', 'Percentage Change Open', 'Percentage Change High', 'Percentage Change Low', 'Sector', 'Sector Encoded', 'Stock_Movement_Label'] (20 columns)\n",
            "✅ Processed MAZDOCK_data.csv successfully.\n",
            "Processing file: JYOTHYLAB_data.csv\n",
            "Original columns: ['Price', 'Close', 'High', 'Low', 'Open', 'Volume', 'MA_5', 'MA_10', 'MA_15', 'MA_20', 'MA_25', 'MA_30', 'Normalised Close', 'Return Ratio', 'Percentage Change Open', 'Percentage Change High', 'Percentage Change Low', 'Sector', 'Sector Encoded', 'Stock_Movement_Label'] (20 columns)\n",
            "✅ Processed JYOTHYLAB_data.csv successfully.\n",
            "Processing file: RAYMOND_data.csv\n",
            "Original columns: ['Price', 'Close', 'High', 'Low', 'Open', 'Volume', 'MA_5', 'MA_10', 'MA_15', 'MA_20', 'MA_25', 'MA_30', 'Normalised Close', 'Return Ratio', 'Percentage Change Open', 'Percentage Change High', 'Percentage Change Low', 'Sector', 'Sector Encoded', 'Stock_Movement_Label'] (20 columns)\n",
            "✅ Processed RAYMOND_data.csv successfully.\n",
            "Processing file: TATACONSUM_data.csv\n",
            "Original columns: ['Price', 'Close', 'High', 'Low', 'Open', 'Volume', 'MA_5', 'MA_10', 'MA_15', 'MA_20', 'MA_25', 'MA_30', 'Normalised Close', 'Return Ratio', 'Percentage Change Open', 'Percentage Change High', 'Percentage Change Low', 'Sector', 'Sector Encoded', 'Stock_Movement_Label'] (20 columns)\n",
            "✅ Processed TATACONSUM_data.csv successfully.\n",
            "Processing file: NBCC_data.csv\n",
            "Original columns: ['Price', 'Close', 'High', 'Low', 'Open', 'Volume', 'MA_5', 'MA_10', 'MA_15', 'MA_20', 'MA_25', 'MA_30', 'Normalised Close', 'Return Ratio', 'Percentage Change Open', 'Percentage Change High', 'Percentage Change Low', 'Sector', 'Sector Encoded', 'Stock_Movement_Label'] (20 columns)\n",
            "✅ Processed NBCC_data.csv successfully.\n",
            "Processing file: KEI_data.csv\n",
            "Original columns: ['Price', 'Close', 'High', 'Low', 'Open', 'Volume', 'MA_5', 'MA_10', 'MA_15', 'MA_20', 'MA_25', 'MA_30', 'Normalised Close', 'Return Ratio', 'Percentage Change Open', 'Percentage Change High', 'Percentage Change Low', 'Sector', 'Sector Encoded', 'Stock_Movement_Label'] (20 columns)\n",
            "✅ Processed KEI_data.csv successfully.\n",
            "Processing file: CIEINDIA_data.csv\n",
            "Original columns: ['Price', 'Close', 'High', 'Low', 'Open', 'Volume', 'MA_5', 'MA_10', 'MA_15', 'MA_20', 'MA_25', 'MA_30', 'Normalised Close', 'Return Ratio', 'Percentage Change Open', 'Percentage Change High', 'Percentage Change Low', 'Sector', 'Sector Encoded', 'Stock_Movement_Label'] (20 columns)\n",
            "✅ Processed CIEINDIA_data.csv successfully.\n",
            "Processing file: ZYDUSLIFE_data.csv\n",
            "Original columns: ['Price', 'Close', 'High', 'Low', 'Open', 'Volume', 'MA_5', 'MA_10', 'MA_15', 'MA_20', 'MA_25', 'MA_30', 'Normalised Close', 'Return Ratio', 'Percentage Change Open', 'Percentage Change High', 'Percentage Change Low', 'Sector', 'Sector Encoded', 'Stock_Movement_Label'] (20 columns)\n",
            "✅ Processed ZYDUSLIFE_data.csv successfully.\n",
            "Processing file: GMDCLTD_data.csv\n",
            "Original columns: ['Price', 'Close', 'High', 'Low', 'Open', 'Volume', 'MA_5', 'MA_10', 'MA_15', 'MA_20', 'MA_25', 'MA_30', 'Normalised Close', 'Return Ratio', 'Percentage Change Open', 'Percentage Change High', 'Percentage Change Low', 'Sector', 'Sector Encoded', 'Stock_Movement_Label'] (20 columns)\n",
            "✅ Processed GMDCLTD_data.csv successfully.\n",
            "Processing file: JWL_data.csv\n",
            "Original columns: ['Price', 'Close', 'High', 'Low', 'Open', 'Volume', 'MA_5', 'MA_10', 'MA_15', 'MA_20', 'MA_25', 'MA_30', 'Normalised Close', 'Return Ratio', 'Percentage Change Open', 'Percentage Change High', 'Percentage Change Low', 'Sector', 'Sector Encoded', 'Stock_Movement_Label'] (20 columns)\n",
            "✅ Processed JWL_data.csv successfully.\n",
            "Processing file: EICHERMOT_data.csv\n",
            "Original columns: ['Price', 'Close', 'High', 'Low', 'Open', 'Volume', 'MA_5', 'MA_10', 'MA_15', 'MA_20', 'MA_25', 'MA_30', 'Normalised Close', 'Return Ratio', 'Percentage Change Open', 'Percentage Change High', 'Percentage Change Low', 'Sector', 'Sector Encoded', 'Stock_Movement_Label'] (20 columns)\n",
            "✅ Processed EICHERMOT_data.csv successfully.\n",
            "Processing file: PEL_data.csv\n",
            "Original columns: ['Price', 'Close', 'High', 'Low', 'Open', 'Volume', 'MA_5', 'MA_10', 'MA_15', 'MA_20', 'MA_25', 'MA_30', 'Normalised Close', 'Return Ratio', 'Percentage Change Open', 'Percentage Change High', 'Percentage Change Low', 'Sector', 'Sector Encoded', 'Stock_Movement_Label'] (20 columns)\n",
            "✅ Processed PEL_data.csv successfully.\n",
            "Processing file: JINDALSTEL_data.csv\n",
            "Original columns: ['Price', 'Close', 'High', 'Low', 'Open', 'Volume', 'MA_5', 'MA_10', 'MA_15', 'MA_20', 'MA_25', 'MA_30', 'Normalised Close', 'Return Ratio', 'Percentage Change Open', 'Percentage Change High', 'Percentage Change Low', 'Sector', 'Sector Encoded', 'Stock_Movement_Label'] (20 columns)\n",
            "✅ Processed JINDALSTEL_data.csv successfully.\n",
            "Processing file: GLENMARK_data.csv\n",
            "Original columns: ['Price', 'Close', 'High', 'Low', 'Open', 'Volume', 'MA_5', 'MA_10', 'MA_15', 'MA_20', 'MA_25', 'MA_30', 'Normalised Close', 'Return Ratio', 'Percentage Change Open', 'Percentage Change High', 'Percentage Change Low', 'Sector', 'Sector Encoded', 'Stock_Movement_Label'] (20 columns)\n",
            "✅ Processed GLENMARK_data.csv successfully.\n",
            "Processing file: LUPIN_data.csv\n",
            "Original columns: ['Price', 'Close', 'High', 'Low', 'Open', 'Volume', 'MA_5', 'MA_10', 'MA_15', 'MA_20', 'MA_25', 'MA_30', 'Normalised Close', 'Return Ratio', 'Percentage Change Open', 'Percentage Change High', 'Percentage Change Low', 'Sector', 'Sector Encoded', 'Stock_Movement_Label'] (20 columns)\n",
            "✅ Processed LUPIN_data.csv successfully.\n",
            "Processing file: ELECON_data.csv\n",
            "Original columns: ['Price', 'Close', 'High', 'Low', 'Open', 'Volume', 'MA_5', 'MA_10', 'MA_15', 'MA_20', 'MA_25', 'MA_30', 'Normalised Close', 'Return Ratio', 'Percentage Change Open', 'Percentage Change High', 'Percentage Change Low', 'Sector', 'Sector Encoded', 'Stock_Movement_Label'] (20 columns)\n",
            "✅ Processed ELECON_data.csv successfully.\n",
            "Processing file: RAMCOCEM_data.csv\n",
            "Original columns: ['Price', 'Close', 'High', 'Low', 'Open', 'Volume', 'MA_5', 'MA_10', 'MA_15', 'MA_20', 'MA_25', 'MA_30', 'Normalised Close', 'Return Ratio', 'Percentage Change Open', 'Percentage Change High', 'Percentage Change Low', 'Sector', 'Sector Encoded', 'Stock_Movement_Label'] (20 columns)\n",
            "✅ Processed RAMCOCEM_data.csv successfully.\n",
            "Processing file: LINDEINDIA_data.csv\n",
            "Original columns: ['Price', 'Close', 'High', 'Low', 'Open', 'Volume', 'MA_5', 'MA_10', 'MA_15', 'MA_20', 'MA_25', 'MA_30', 'Normalised Close', 'Return Ratio', 'Percentage Change Open', 'Percentage Change High', 'Percentage Change Low', 'Sector', 'Sector Encoded', 'Stock_Movement_Label'] (20 columns)\n",
            "✅ Processed LINDEINDIA_data.csv successfully.\n",
            "Processing file: ULTRACEMCO_data.csv\n",
            "Original columns: ['Price', 'Close', 'High', 'Low', 'Open', 'Volume', 'MA_5', 'MA_10', 'MA_15', 'MA_20', 'MA_25', 'MA_30', 'Normalised Close', 'Return Ratio', 'Percentage Change Open', 'Percentage Change High', 'Percentage Change Low', 'Sector', 'Sector Encoded', 'Stock_Movement_Label'] (20 columns)\n",
            "✅ Processed ULTRACEMCO_data.csv successfully.\n",
            "Processing file: TIMKEN_data.csv\n",
            "Original columns: ['Price', 'Close', 'High', 'Low', 'Open', 'Volume', 'MA_5', 'MA_10', 'MA_15', 'MA_20', 'MA_25', 'MA_30', 'Normalised Close', 'Return Ratio', 'Percentage Change Open', 'Percentage Change High', 'Percentage Change Low', 'Sector', 'Sector Encoded', 'Stock_Movement_Label'] (20 columns)\n",
            "✅ Processed TIMKEN_data.csv successfully.\n",
            "Processing file: UJJIVANSFB_data.csv\n",
            "Original columns: ['Price', 'Close', 'High', 'Low', 'Open', 'Volume', 'MA_5', 'MA_10', 'MA_15', 'MA_20', 'MA_25', 'MA_30', 'Normalised Close', 'Return Ratio', 'Percentage Change Open', 'Percentage Change High', 'Percentage Change Low', 'Sector', 'Sector Encoded', 'Stock_Movement_Label'] (20 columns)\n",
            "✅ Processed UJJIVANSFB_data.csv successfully.\n",
            "Processing file: EIDPARRY_data.csv\n",
            "Original columns: ['Price', 'Close', 'High', 'Low', 'Open', 'Volume', 'MA_5', 'MA_10', 'MA_15', 'MA_20', 'MA_25', 'MA_30', 'Normalised Close', 'Return Ratio', 'Percentage Change Open', 'Percentage Change High', 'Percentage Change Low', 'Sector', 'Sector Encoded', 'Stock_Movement_Label'] (20 columns)\n",
            "✅ Processed EIDPARRY_data.csv successfully.\n",
            "Processing file: LATENTVIEW_data.csv\n",
            "Original columns: ['Price', 'Close', 'High', 'Low', 'Open', 'Volume', 'MA_5', 'MA_10', 'MA_15', 'MA_20', 'MA_25', 'MA_30', 'Normalised Close', 'Return Ratio', 'Percentage Change Open', 'Percentage Change High', 'Percentage Change Low', 'Sector', 'Sector Encoded', 'Stock_Movement_Label'] (20 columns)\n",
            "✅ Processed LATENTVIEW_data.csv successfully.\n",
            "Processing file: GPPL_data.csv\n",
            "Original columns: ['Price', 'Close', 'High', 'Low', 'Open', 'Volume', 'MA_5', 'MA_10', 'MA_15', 'MA_20', 'MA_25', 'MA_30', 'Normalised Close', 'Return Ratio', 'Percentage Change Open', 'Percentage Change High', 'Percentage Change Low', 'Sector', 'Sector Encoded', 'Stock_Movement_Label'] (20 columns)\n",
            "✅ Processed GPPL_data.csv successfully.\n",
            "Processing file: VIJAYA_data.csv\n",
            "Original columns: ['Price', 'Close', 'High', 'Low', 'Open', 'Volume', 'MA_5', 'MA_10', 'MA_15', 'MA_20', 'MA_25', 'MA_30', 'Normalised Close', 'Return Ratio', 'Percentage Change Open', 'Percentage Change High', 'Percentage Change Low', 'Sector', 'Sector Encoded', 'Stock_Movement_Label'] (20 columns)\n",
            "✅ Processed VIJAYA_data.csv successfully.\n",
            "Processing file: JBMA_data.csv\n",
            "Original columns: ['Price', 'Close', 'High', 'Low', 'Open', 'Volume', 'MA_5', 'MA_10', 'MA_15', 'MA_20', 'MA_25', 'MA_30', 'Normalised Close', 'Return Ratio', 'Percentage Change Open', 'Percentage Change High', 'Percentage Change Low', 'Sector', 'Sector Encoded', 'Stock_Movement_Label'] (20 columns)\n",
            "✅ Processed JBMA_data.csv successfully.\n",
            "Processing file: ZENSARTECH_data.csv\n",
            "Original columns: ['Price', 'Close', 'High', 'Low', 'Open', 'Volume', 'MA_5', 'MA_10', 'MA_15', 'MA_20', 'MA_25', 'MA_30', 'Normalised Close', 'Return Ratio', 'Percentage Change Open', 'Percentage Change High', 'Percentage Change Low', 'Sector', 'Sector Encoded', 'Stock_Movement_Label'] (20 columns)\n",
            "✅ Processed ZENSARTECH_data.csv successfully.\n",
            "Processing file: INDIAMART_data.csv\n",
            "Original columns: ['Price', 'Close', 'High', 'Low', 'Open', 'Volume', 'MA_5', 'MA_10', 'MA_15', 'MA_20', 'MA_25', 'MA_30', 'Normalised Close', 'Return Ratio', 'Percentage Change Open', 'Percentage Change High', 'Percentage Change Low', 'Sector', 'Sector Encoded', 'Stock_Movement_Label'] (20 columns)\n",
            "✅ Processed INDIAMART_data.csv successfully.\n",
            "Processing file: JUBLFOOD_data.csv\n",
            "Original columns: ['Price', 'Close', 'High', 'Low', 'Open', 'Volume', 'MA_5', 'MA_10', 'MA_15', 'MA_20', 'MA_25', 'MA_30', 'Normalised Close', 'Return Ratio', 'Percentage Change Open', 'Percentage Change High', 'Percentage Change Low', 'Sector', 'Sector Encoded', 'Stock_Movement_Label'] (20 columns)\n",
            "✅ Processed JUBLFOOD_data.csv successfully.\n",
            "Processing file: GMRAIRPORT_data.csv\n",
            "Original columns: ['Price', 'Close', 'High', 'Low', 'Open', 'Volume', 'MA_5', 'MA_10', 'MA_15', 'MA_20', 'MA_25', 'MA_30', 'Normalised Close', 'Return Ratio', 'Percentage Change Open', 'Percentage Change High', 'Percentage Change Low', 'Sector', 'Sector Encoded', 'Stock_Movement_Label'] (20 columns)\n",
            "✅ Processed GMRAIRPORT_data.csv successfully.\n",
            "Processing file: CDSL_data.csv\n",
            "Original columns: ['Price', 'Close', 'High', 'Low', 'Open', 'Volume', 'MA_5', 'MA_10', 'MA_15', 'MA_20', 'MA_25', 'MA_30', 'Normalised Close', 'Return Ratio', 'Percentage Change Open', 'Percentage Change High', 'Percentage Change Low', 'Sector', 'Sector Encoded', 'Stock_Movement_Label'] (20 columns)\n",
            "✅ Processed CDSL_data.csv successfully.\n",
            "Processing file: OBEROIRLTY_data.csv\n",
            "Original columns: ['Price', 'Close', 'High', 'Low', 'Open', 'Volume', 'MA_5', 'MA_10', 'MA_15', 'MA_20', 'MA_25', 'MA_30', 'Normalised Close', 'Return Ratio', 'Percentage Change Open', 'Percentage Change High', 'Percentage Change Low', 'Sector', 'Sector Encoded', 'Stock_Movement_Label'] (20 columns)\n",
            "✅ Processed OBEROIRLTY_data.csv successfully.\n",
            "Processing file: GRAPHITE_data.csv\n",
            "Original columns: ['Price', 'Close', 'High', 'Low', 'Open', 'Volume', 'MA_5', 'MA_10', 'MA_15', 'MA_20', 'MA_25', 'MA_30', 'Normalised Close', 'Return Ratio', 'Percentage Change Open', 'Percentage Change High', 'Percentage Change Low', 'Sector', 'Sector Encoded', 'Stock_Movement_Label'] (20 columns)\n",
            "✅ Processed GRAPHITE_data.csv successfully.\n",
            "Processing file: PNCINFRA_data.csv\n",
            "Original columns: ['Price', 'Close', 'High', 'Low', 'Open', 'Volume', 'MA_5', 'MA_10', 'MA_15', 'MA_20', 'MA_25', 'MA_30', 'Normalised Close', 'Return Ratio', 'Percentage Change Open', 'Percentage Change High', 'Percentage Change Low', 'Sector', 'Sector Encoded', 'Stock_Movement_Label'] (20 columns)\n",
            "✅ Processed PNCINFRA_data.csv successfully.\n",
            "Processing file: DEEPAKFERT_data.csv\n",
            "Original columns: ['Price', 'Close', 'High', 'Low', 'Open', 'Volume', 'MA_5', 'MA_10', 'MA_15', 'MA_20', 'MA_25', 'MA_30', 'Normalised Close', 'Return Ratio', 'Percentage Change Open', 'Percentage Change High', 'Percentage Change Low', 'Sector', 'Sector Encoded', 'Stock_Movement_Label'] (20 columns)\n",
            "✅ Processed DEEPAKFERT_data.csv successfully.\n",
            "Processing file: OLECTRA_data.csv\n",
            "Original columns: ['Price', 'Close', 'High', 'Low', 'Open', 'Volume', 'MA_5', 'MA_10', 'MA_15', 'MA_20', 'MA_25', 'MA_30', 'Normalised Close', 'Return Ratio', 'Percentage Change Open', 'Percentage Change High', 'Percentage Change Low', 'Sector', 'Sector Encoded', 'Stock_Movement_Label'] (20 columns)\n",
            "✅ Processed OLECTRA_data.csv successfully.\n",
            "Processing file: UTIAMC_data.csv\n",
            "Original columns: ['Price', 'Close', 'High', 'Low', 'Open', 'Volume', 'MA_5', 'MA_10', 'MA_15', 'MA_20', 'MA_25', 'MA_30', 'Normalised Close', 'Return Ratio', 'Percentage Change Open', 'Percentage Change High', 'Percentage Change Low', 'Sector', 'Sector Encoded', 'Stock_Movement_Label'] (20 columns)\n",
            "✅ Processed UTIAMC_data.csv successfully.\n",
            "Processing file: TORNTPHARM_data.csv\n",
            "Original columns: ['Price', 'Close', 'High', 'Low', 'Open', 'Volume', 'MA_5', 'MA_10', 'MA_15', 'MA_20', 'MA_25', 'MA_30', 'Normalised Close', 'Return Ratio', 'Percentage Change Open', 'Percentage Change High', 'Percentage Change Low', 'Sector', 'Sector Encoded', 'Stock_Movement_Label'] (20 columns)\n",
            "✅ Processed TORNTPHARM_data.csv successfully.\n",
            "Processing file: M&MFIN_data.csv\n",
            "Original columns: ['Price', 'Close', 'High', 'Low', 'Open', 'Volume', 'MA_5', 'MA_10', 'MA_15', 'MA_20', 'MA_25', 'MA_30', 'Normalised Close', 'Return Ratio', 'Percentage Change Open', 'Percentage Change High', 'Percentage Change Low', 'Sector', 'Sector Encoded', 'Stock_Movement_Label'] (20 columns)\n",
            "✅ Processed M&MFIN_data.csv successfully.\n",
            "Processing file: ATUL_data.csv\n",
            "Original columns: ['Price', 'Close', 'High', 'Low', 'Open', 'Volume', 'MA_5', 'MA_10', 'MA_15', 'MA_20', 'MA_25', 'MA_30', 'Normalised Close', 'Return Ratio', 'Percentage Change Open', 'Percentage Change High', 'Percentage Change Low', 'Sector', 'Sector Encoded', 'Stock_Movement_Label'] (20 columns)\n",
            "✅ Processed ATUL_data.csv successfully.\n",
            "Processing file: CONCOR_data.csv\n",
            "Original columns: ['Price', 'Close', 'High', 'Low', 'Open', 'Volume', 'MA_5', 'MA_10', 'MA_15', 'MA_20', 'MA_25', 'MA_30', 'Normalised Close', 'Return Ratio', 'Percentage Change Open', 'Percentage Change High', 'Percentage Change Low', 'Sector', 'Sector Encoded', 'Stock_Movement_Label'] (20 columns)\n",
            "✅ Processed CONCOR_data.csv successfully.\n",
            "Processing file: TATAPOWER_data.csv\n",
            "Original columns: ['Price', 'Close', 'High', 'Low', 'Open', 'Volume', 'MA_5', 'MA_10', 'MA_15', 'MA_20', 'MA_25', 'MA_30', 'Normalised Close', 'Return Ratio', 'Percentage Change Open', 'Percentage Change High', 'Percentage Change Low', 'Sector', 'Sector Encoded', 'Stock_Movement_Label'] (20 columns)\n",
            "✅ Processed TATAPOWER_data.csv successfully.\n",
            "Processing file: INDIACEM_data.csv\n",
            "Original columns: ['Price', 'Close', 'High', 'Low', 'Open', 'Volume', 'MA_5', 'MA_10', 'MA_15', 'MA_20', 'MA_25', 'MA_30', 'Normalised Close', 'Return Ratio', 'Percentage Change Open', 'Percentage Change High', 'Percentage Change Low', 'Sector', 'Sector Encoded', 'Stock_Movement_Label'] (20 columns)\n",
            "✅ Processed INDIACEM_data.csv successfully.\n",
            "Processing file: KAJARIACER_data.csv\n",
            "Original columns: ['Price', 'Close', 'High', 'Low', 'Open', 'Volume', 'MA_5', 'MA_10', 'MA_15', 'MA_20', 'MA_25', 'MA_30', 'Normalised Close', 'Return Ratio', 'Percentage Change Open', 'Percentage Change High', 'Percentage Change Low', 'Sector', 'Sector Encoded', 'Stock_Movement_Label'] (20 columns)\n",
            "✅ Processed KAJARIACER_data.csv successfully.\n",
            "Processing file: NATIONALUM_data.csv\n",
            "Original columns: ['Price', 'Close', 'High', 'Low', 'Open', 'Volume', 'MA_5', 'MA_10', 'MA_15', 'MA_20', 'MA_25', 'MA_30', 'Normalised Close', 'Return Ratio', 'Percentage Change Open', 'Percentage Change High', 'Percentage Change Low', 'Sector', 'Sector Encoded', 'Stock_Movement_Label'] (20 columns)\n",
            "✅ Processed NATIONALUM_data.csv successfully.\n",
            "Processing file: BAJFINANCE_data.csv\n",
            "Original columns: ['Price', 'Close', 'High', 'Low', 'Open', 'Volume', 'MA_5', 'MA_10', 'MA_15', 'MA_20', 'MA_25', 'MA_30', 'Normalised Close', 'Return Ratio', 'Percentage Change Open', 'Percentage Change High', 'Percentage Change Low', 'Sector', 'Sector Encoded', 'Stock_Movement_Label'] (20 columns)\n",
            "✅ Processed BAJFINANCE_data.csv successfully.\n",
            "Processing file: WELCORP_data.csv\n",
            "Original columns: ['Price', 'Close', 'High', 'Low', 'Open', 'Volume', 'MA_5', 'MA_10', 'MA_15', 'MA_20', 'MA_25', 'MA_30', 'Normalised Close', 'Return Ratio', 'Percentage Change Open', 'Percentage Change High', 'Percentage Change Low', 'Sector', 'Sector Encoded', 'Stock_Movement_Label'] (20 columns)\n",
            "✅ Processed WELCORP_data.csv successfully.\n",
            "Processing file: LT_data.csv\n",
            "Original columns: ['Price', 'Close', 'High', 'Low', 'Open', 'Volume', 'MA_5', 'MA_10', 'MA_15', 'MA_20', 'MA_25', 'MA_30', 'Normalised Close', 'Return Ratio', 'Percentage Change Open', 'Percentage Change High', 'Percentage Change Low', 'Sector', 'Sector Encoded', 'Stock_Movement_Label'] (20 columns)\n",
            "✅ Processed LT_data.csv successfully.\n",
            "Processing file: LICHSGFIN_data.csv\n",
            "Original columns: ['Price', 'Close', 'High', 'Low', 'Open', 'Volume', 'MA_5', 'MA_10', 'MA_15', 'MA_20', 'MA_25', 'MA_30', 'Normalised Close', 'Return Ratio', 'Percentage Change Open', 'Percentage Change High', 'Percentage Change Low', 'Sector', 'Sector Encoded', 'Stock_Movement_Label'] (20 columns)\n",
            "✅ Processed LICHSGFIN_data.csv successfully.\n",
            "Processing file: QUESS_data.csv\n",
            "Original columns: ['Price', 'Close', 'High', 'Low', 'Open', 'Volume', 'MA_5', 'MA_10', 'MA_15', 'MA_20', 'MA_25', 'MA_30', 'Normalised Close', 'Return Ratio', 'Percentage Change Open', 'Percentage Change High', 'Percentage Change Low', 'Sector', 'Sector Encoded', 'Stock_Movement_Label'] (20 columns)\n",
            "✅ Processed QUESS_data.csv successfully.\n",
            "Processing file: AMBER_data.csv\n",
            "Original columns: ['Price', 'Close', 'High', 'Low', 'Open', 'Volume', 'MA_5', 'MA_10', 'MA_15', 'MA_20', 'MA_25', 'MA_30', 'Normalised Close', 'Return Ratio', 'Percentage Change Open', 'Percentage Change High', 'Percentage Change Low', 'Sector', 'Sector Encoded', 'Stock_Movement_Label'] (20 columns)\n",
            "✅ Processed AMBER_data.csv successfully.\n",
            "Processing file: JSWSTEEL_data.csv\n",
            "Original columns: ['Price', 'Close', 'High', 'Low', 'Open', 'Volume', 'MA_5', 'MA_10', 'MA_15', 'MA_20', 'MA_25', 'MA_30', 'Normalised Close', 'Return Ratio', 'Percentage Change Open', 'Percentage Change High', 'Percentage Change Low', 'Sector', 'Sector Encoded', 'Stock_Movement_Label'] (20 columns)\n",
            "✅ Processed JSWSTEEL_data.csv successfully.\n",
            "Processing file: INDUSTOWER_data.csv\n",
            "Original columns: ['Price', 'Close', 'High', 'Low', 'Open', 'Volume', 'MA_5', 'MA_10', 'MA_15', 'MA_20', 'MA_25', 'MA_30', 'Normalised Close', 'Return Ratio', 'Percentage Change Open', 'Percentage Change High', 'Percentage Change Low', 'Sector', 'Sector Encoded', 'Stock_Movement_Label'] (20 columns)\n",
            "✅ Processed INDUSTOWER_data.csv successfully.\n",
            "Processing file: ELGIEQUIP_data.csv\n",
            "Original columns: ['Price', 'Close', 'High', 'Low', 'Open', 'Volume', 'MA_5', 'MA_10', 'MA_15', 'MA_20', 'MA_25', 'MA_30', 'Normalised Close', 'Return Ratio', 'Percentage Change Open', 'Percentage Change High', 'Percentage Change Low', 'Sector', 'Sector Encoded', 'Stock_Movement_Label'] (20 columns)\n",
            "✅ Processed ELGIEQUIP_data.csv successfully.\n",
            "Processing file: SCI_data.csv\n",
            "Original columns: ['Price', 'Close', 'High', 'Low', 'Open', 'Volume', 'MA_5', 'MA_10', 'MA_15', 'MA_20', 'MA_25', 'MA_30', 'Normalised Close', 'Return Ratio', 'Percentage Change Open', 'Percentage Change High', 'Percentage Change Low', 'Sector', 'Sector Encoded', 'Stock_Movement_Label'] (20 columns)\n",
            "✅ Processed SCI_data.csv successfully.\n",
            "Processing file: HDFCLIFE_data.csv\n",
            "Original columns: ['Price', 'Close', 'High', 'Low', 'Open', 'Volume', 'MA_5', 'MA_10', 'MA_15', 'MA_20', 'MA_25', 'MA_30', 'Normalised Close', 'Return Ratio', 'Percentage Change Open', 'Percentage Change High', 'Percentage Change Low', 'Sector', 'Sector Encoded', 'Stock_Movement_Label'] (20 columns)\n",
            "✅ Processed HDFCLIFE_data.csv successfully.\n",
            "Processing file: INTELLECT_data.csv\n",
            "Original columns: ['Price', 'Close', 'High', 'Low', 'Open', 'Volume', 'MA_5', 'MA_10', 'MA_15', 'MA_20', 'MA_25', 'MA_30', 'Normalised Close', 'Return Ratio', 'Percentage Change Open', 'Percentage Change High', 'Percentage Change Low', 'Sector', 'Sector Encoded', 'Stock_Movement_Label'] (20 columns)\n",
            "✅ Processed INTELLECT_data.csv successfully.\n",
            "Processing file: FEDERALBNK_data.csv\n",
            "Original columns: ['Price', 'Close', 'High', 'Low', 'Open', 'Volume', 'MA_5', 'MA_10', 'MA_15', 'MA_20', 'MA_25', 'MA_30', 'Normalised Close', 'Return Ratio', 'Percentage Change Open', 'Percentage Change High', 'Percentage Change Low', 'Sector', 'Sector Encoded', 'Stock_Movement_Label'] (20 columns)\n",
            "✅ Processed FEDERALBNK_data.csv successfully.\n",
            "Processing file: POWERGRID_data.csv\n",
            "Original columns: ['Price', 'Close', 'High', 'Low', 'Open', 'Volume', 'MA_5', 'MA_10', 'MA_15', 'MA_20', 'MA_25', 'MA_30', 'Normalised Close', 'Return Ratio', 'Percentage Change Open', 'Percentage Change High', 'Percentage Change Low', 'Sector', 'Sector Encoded', 'Stock_Movement_Label'] (20 columns)\n",
            "✅ Processed POWERGRID_data.csv successfully.\n",
            "Processing file: UNIONBANK_data.csv\n",
            "Original columns: ['Price', 'Close', 'High', 'Low', 'Open', 'Volume', 'MA_5', 'MA_10', 'MA_15', 'MA_20', 'MA_25', 'MA_30', 'Normalised Close', 'Return Ratio', 'Percentage Change Open', 'Percentage Change High', 'Percentage Change Low', 'Sector', 'Sector Encoded', 'Stock_Movement_Label'] (20 columns)\n",
            "✅ Processed UNIONBANK_data.csv successfully.\n",
            "Processing file: BRIGADE_data.csv\n",
            "Original columns: ['Price', 'Close', 'High', 'Low', 'Open', 'Volume', 'MA_5', 'MA_10', 'MA_15', 'MA_20', 'MA_25', 'MA_30', 'Normalised Close', 'Return Ratio', 'Percentage Change Open', 'Percentage Change High', 'Percentage Change Low', 'Sector', 'Sector Encoded', 'Stock_Movement_Label'] (20 columns)\n",
            "✅ Processed BRIGADE_data.csv successfully.\n",
            "Processing file: CAPLIPOINT_data.csv\n",
            "Original columns: ['Price', 'Close', 'High', 'Low', 'Open', 'Volume', 'MA_5', 'MA_10', 'MA_15', 'MA_20', 'MA_25', 'MA_30', 'Normalised Close', 'Return Ratio', 'Percentage Change Open', 'Percentage Change High', 'Percentage Change Low', 'Sector', 'Sector Encoded', 'Stock_Movement_Label'] (20 columns)\n",
            "✅ Processed CAPLIPOINT_data.csv successfully.\n",
            "Processing file: ICICIBANK_data.csv\n",
            "Original columns: ['Price', 'Close', 'High', 'Low', 'Open', 'Volume', 'MA_5', 'MA_10', 'MA_15', 'MA_20', 'MA_25', 'MA_30', 'Normalised Close', 'Return Ratio', 'Percentage Change Open', 'Percentage Change High', 'Percentage Change Low', 'Sector', 'Sector Encoded', 'Stock_Movement_Label'] (20 columns)\n",
            "✅ Processed ICICIBANK_data.csv successfully.\n",
            "Processing file: ZOMATO_data.csv\n",
            "Original columns: ['Price', 'Close', 'High', 'Low', 'Open', 'Volume', 'MA_5', 'MA_10', 'MA_15', 'MA_20', 'MA_25', 'MA_30', 'Normalised Close', 'Return Ratio', 'Percentage Change Open', 'Percentage Change High', 'Percentage Change Low', 'Sector', 'Sector Encoded', 'Stock_Movement_Label'] (20 columns)\n",
            "✅ Processed ZOMATO_data.csv successfully.\n",
            "Processing file: CHENNPETRO_data.csv\n",
            "Original columns: ['Price', 'Close', 'High', 'Low', 'Open', 'Volume', 'MA_5', 'MA_10', 'MA_15', 'MA_20', 'MA_25', 'MA_30', 'Normalised Close', 'Return Ratio', 'Percentage Change Open', 'Percentage Change High', 'Percentage Change Low', 'Sector', 'Sector Encoded', 'Stock_Movement_Label'] (20 columns)\n",
            "✅ Processed CHENNPETRO_data.csv successfully.\n",
            "Processing file: NUVOCO_data.csv\n",
            "Original columns: ['Price', 'Close', 'High', 'Low', 'Open', 'Volume', 'MA_5', 'MA_10', 'MA_15', 'MA_20', 'MA_25', 'MA_30', 'Normalised Close', 'Return Ratio', 'Percentage Change Open', 'Percentage Change High', 'Percentage Change Low', 'Sector', 'Sector Encoded', 'Stock_Movement_Label'] (20 columns)\n",
            "✅ Processed NUVOCO_data.csv successfully.\n",
            "Processing file: WELSPUNLIV_data.csv\n",
            "Original columns: ['Price', 'Close', 'High', 'Low', 'Open', 'Volume', 'MA_5', 'MA_10', 'MA_15', 'MA_20', 'MA_25', 'MA_30', 'Normalised Close', 'Return Ratio', 'Percentage Change Open', 'Percentage Change High', 'Percentage Change Low', 'Sector', 'Sector Encoded', 'Stock_Movement_Label'] (20 columns)\n",
            "✅ Processed WELSPUNLIV_data.csv successfully.\n",
            "Processing file: MARUTI_data.csv\n",
            "Original columns: ['Price', 'Close', 'High', 'Low', 'Open', 'Volume', 'MA_5', 'MA_10', 'MA_15', 'MA_20', 'MA_25', 'MA_30', 'Normalised Close', 'Return Ratio', 'Percentage Change Open', 'Percentage Change High', 'Percentage Change Low', 'Sector', 'Sector Encoded', 'Stock_Movement_Label'] (20 columns)\n",
            "✅ Processed MARUTI_data.csv successfully.\n",
            "Processing file: ASHOKLEY_data.csv\n",
            "Original columns: ['Price', 'Close', 'High', 'Low', 'Open', 'Volume', 'MA_5', 'MA_10', 'MA_15', 'MA_20', 'MA_25', 'MA_30', 'Normalised Close', 'Return Ratio', 'Percentage Change Open', 'Percentage Change High', 'Percentage Change Low', 'Sector', 'Sector Encoded', 'Stock_Movement_Label'] (20 columns)\n",
            "✅ Processed ASHOKLEY_data.csv successfully.\n",
            "Processing file: IRCTC_data.csv\n",
            "Original columns: ['Price', 'Close', 'High', 'Low', 'Open', 'Volume', 'MA_5', 'MA_10', 'MA_15', 'MA_20', 'MA_25', 'MA_30', 'Normalised Close', 'Return Ratio', 'Percentage Change Open', 'Percentage Change High', 'Percentage Change Low', 'Sector', 'Sector Encoded', 'Stock_Movement_Label'] (20 columns)\n",
            "✅ Processed IRCTC_data.csv successfully.\n",
            "Processing file: APLLTD_data.csv\n",
            "Original columns: ['Price', 'Close', 'High', 'Low', 'Open', 'Volume', 'MA_5', 'MA_10', 'MA_15', 'MA_20', 'MA_25', 'MA_30', 'Normalised Close', 'Return Ratio', 'Percentage Change Open', 'Percentage Change High', 'Percentage Change Low', 'Sector', 'Sector Encoded', 'Stock_Movement_Label'] (20 columns)\n",
            "✅ Processed APLLTD_data.csv successfully.\n",
            "Processing file: TIINDIA_data.csv\n",
            "Original columns: ['Price', 'Close', 'High', 'Low', 'Open', 'Volume', 'MA_5', 'MA_10', 'MA_15', 'MA_20', 'MA_25', 'MA_30', 'Normalised Close', 'Return Ratio', 'Percentage Change Open', 'Percentage Change High', 'Percentage Change Low', 'Sector', 'Sector Encoded', 'Stock_Movement_Label'] (20 columns)\n",
            "✅ Processed TIINDIA_data.csv successfully.\n",
            "Processing file: JUBLPHARMA_data.csv\n",
            "Original columns: ['Price', 'Close', 'High', 'Low', 'Open', 'Volume', 'MA_5', 'MA_10', 'MA_15', 'MA_20', 'MA_25', 'MA_30', 'Normalised Close', 'Return Ratio', 'Percentage Change Open', 'Percentage Change High', 'Percentage Change Low', 'Sector', 'Sector Encoded', 'Stock_Movement_Label'] (20 columns)\n",
            "✅ Processed JUBLPHARMA_data.csv successfully.\n",
            "Processing file: JMFINANCIL_data.csv\n",
            "Original columns: ['Price', 'Close', 'High', 'Low', 'Open', 'Volume', 'MA_5', 'MA_10', 'MA_15', 'MA_20', 'MA_25', 'MA_30', 'Normalised Close', 'Return Ratio', 'Percentage Change Open', 'Percentage Change High', 'Percentage Change Low', 'Sector', 'Sector Encoded', 'Stock_Movement_Label'] (20 columns)\n",
            "✅ Processed JMFINANCIL_data.csv successfully.\n",
            "Processing file: AXISBANK_data.csv\n",
            "Original columns: ['Price', 'Close', 'High', 'Low', 'Open', 'Volume', 'MA_5', 'MA_10', 'MA_15', 'MA_20', 'MA_25', 'MA_30', 'Normalised Close', 'Return Ratio', 'Percentage Change Open', 'Percentage Change High', 'Percentage Change Low', 'Sector', 'Sector Encoded', 'Stock_Movement_Label'] (20 columns)\n",
            "✅ Processed AXISBANK_data.csv successfully.\n",
            "Processing file: PCBL_data.csv\n",
            "Original columns: ['Price', 'Close', 'High', 'Low', 'Open', 'Volume', 'MA_5', 'MA_10', 'MA_15', 'MA_20', 'MA_25', 'MA_30', 'Normalised Close', 'Return Ratio', 'Percentage Change Open', 'Percentage Change High', 'Percentage Change Low', 'Sector', 'Sector Encoded', 'Stock_Movement_Label'] (20 columns)\n",
            "✅ Processed PCBL_data.csv successfully.\n",
            "Processing file: MGL_data.csv\n",
            "Original columns: ['Price', 'Close', 'High', 'Low', 'Open', 'Volume', 'MA_5', 'MA_10', 'MA_15', 'MA_20', 'MA_25', 'MA_30', 'Normalised Close', 'Return Ratio', 'Percentage Change Open', 'Percentage Change High', 'Percentage Change Low', 'Sector', 'Sector Encoded', 'Stock_Movement_Label'] (20 columns)\n",
            "✅ Processed MGL_data.csv successfully.\n",
            "Processing file: HSCL_data.csv\n",
            "Original columns: ['Price', 'Close', 'High', 'Low', 'Open', 'Volume', 'MA_5', 'MA_10', 'MA_15', 'MA_20', 'MA_25', 'MA_30', 'Normalised Close', 'Return Ratio', 'Percentage Change Open', 'Percentage Change High', 'Percentage Change Low', 'Sector', 'Sector Encoded', 'Stock_Movement_Label'] (20 columns)\n",
            "✅ Processed HSCL_data.csv successfully.\n",
            "Processing file: IRB_data.csv\n",
            "Original columns: ['Price', 'Close', 'High', 'Low', 'Open', 'Volume', 'MA_5', 'MA_10', 'MA_15', 'MA_20', 'MA_25', 'MA_30', 'Normalised Close', 'Return Ratio', 'Percentage Change Open', 'Percentage Change High', 'Percentage Change Low', 'Sector', 'Sector Encoded', 'Stock_Movement_Label'] (20 columns)\n",
            "✅ Processed IRB_data.csv successfully.\n",
            "Processing file: PAYTM_data.csv\n",
            "Original columns: ['Price', 'Close', 'High', 'Low', 'Open', 'Volume', 'MA_5', 'MA_10', 'MA_15', 'MA_20', 'MA_25', 'MA_30', 'Normalised Close', 'Return Ratio', 'Percentage Change Open', 'Percentage Change High', 'Percentage Change Low', 'Sector', 'Sector Encoded', 'Stock_Movement_Label'] (20 columns)\n",
            "✅ Processed PAYTM_data.csv successfully.\n",
            "Processing file: TECHM_data.csv\n",
            "Original columns: ['Price', 'Close', 'High', 'Low', 'Open', 'Volume', 'MA_5', 'MA_10', 'MA_15', 'MA_20', 'MA_25', 'MA_30', 'Normalised Close', 'Return Ratio', 'Percentage Change Open', 'Percentage Change High', 'Percentage Change Low', 'Sector', 'Sector Encoded', 'Stock_Movement_Label'] (20 columns)\n",
            "✅ Processed TECHM_data.csv successfully.\n",
            "Processing file: AUBANK_data.csv\n",
            "Original columns: ['Price', 'Close', 'High', 'Low', 'Open', 'Volume', 'MA_5', 'MA_10', 'MA_15', 'MA_20', 'MA_25', 'MA_30', 'Normalised Close', 'Return Ratio', 'Percentage Change Open', 'Percentage Change High', 'Percentage Change Low', 'Sector', 'Sector Encoded', 'Stock_Movement_Label'] (20 columns)\n",
            "✅ Processed AUBANK_data.csv successfully.\n",
            "Processing file: ABFRL_data.csv\n",
            "Original columns: ['Price', 'Close', 'High', 'Low', 'Open', 'Volume', 'MA_5', 'MA_10', 'MA_15', 'MA_20', 'MA_25', 'MA_30', 'Normalised Close', 'Return Ratio', 'Percentage Change Open', 'Percentage Change High', 'Percentage Change Low', 'Sector', 'Sector Encoded', 'Stock_Movement_Label'] (20 columns)\n",
            "✅ Processed ABFRL_data.csv successfully.\n",
            "Processing file: VIPIND_data.csv\n",
            "Original columns: ['Price', 'Close', 'High', 'Low', 'Open', 'Volume', 'MA_5', 'MA_10', 'MA_15', 'MA_20', 'MA_25', 'MA_30', 'Normalised Close', 'Return Ratio', 'Percentage Change Open', 'Percentage Change High', 'Percentage Change Low', 'Sector', 'Sector Encoded', 'Stock_Movement_Label'] (20 columns)\n",
            "✅ Processed VIPIND_data.csv successfully.\n",
            "Processing file: CESC_data.csv\n",
            "Original columns: ['Price', 'Close', 'High', 'Low', 'Open', 'Volume', 'MA_5', 'MA_10', 'MA_15', 'MA_20', 'MA_25', 'MA_30', 'Normalised Close', 'Return Ratio', 'Percentage Change Open', 'Percentage Change High', 'Percentage Change Low', 'Sector', 'Sector Encoded', 'Stock_Movement_Label'] (20 columns)\n",
            "✅ Processed CESC_data.csv successfully.\n",
            "Processing file: SUNDRMFAST_data.csv\n",
            "Original columns: ['Price', 'Close', 'High', 'Low', 'Open', 'Volume', 'MA_5', 'MA_10', 'MA_15', 'MA_20', 'MA_25', 'MA_30', 'Normalised Close', 'Return Ratio', 'Percentage Change Open', 'Percentage Change High', 'Percentage Change Low', 'Sector', 'Sector Encoded', 'Stock_Movement_Label'] (20 columns)\n",
            "✅ Processed SUNDRMFAST_data.csv successfully.\n",
            "Processing file: NHPC_data.csv\n",
            "Original columns: ['Price', 'Close', 'High', 'Low', 'Open', 'Volume', 'MA_5', 'MA_10', 'MA_15', 'MA_20', 'MA_25', 'MA_30', 'Normalised Close', 'Return Ratio', 'Percentage Change Open', 'Percentage Change High', 'Percentage Change Low', 'Sector', 'Sector Encoded', 'Stock_Movement_Label'] (20 columns)\n",
            "✅ Processed NHPC_data.csv successfully.\n",
            "Processing file: HINDUNILVR_data.csv\n",
            "Original columns: ['Price', 'Close', 'High', 'Low', 'Open', 'Volume', 'MA_5', 'MA_10', 'MA_15', 'MA_20', 'MA_25', 'MA_30', 'Normalised Close', 'Return Ratio', 'Percentage Change Open', 'Percentage Change High', 'Percentage Change Low', 'Sector', 'Sector Encoded', 'Stock_Movement_Label'] (20 columns)\n",
            "✅ Processed HINDUNILVR_data.csv successfully.\n",
            "Processing file: APTUS_data.csv\n",
            "Original columns: ['Price', 'Close', 'High', 'Low', 'Open', 'Volume', 'MA_5', 'MA_10', 'MA_15', 'MA_20', 'MA_25', 'MA_30', 'Normalised Close', 'Return Ratio', 'Percentage Change Open', 'Percentage Change High', 'Percentage Change Low', 'Sector', 'Sector Encoded', 'Stock_Movement_Label'] (20 columns)\n",
            "✅ Processed APTUS_data.csv successfully.\n",
            "Processing file: CANBK_data.csv\n",
            "Original columns: ['Price', 'Close', 'High', 'Low', 'Open', 'Volume', 'MA_5', 'MA_10', 'MA_15', 'MA_20', 'MA_25', 'MA_30', 'Normalised Close', 'Return Ratio', 'Percentage Change Open', 'Percentage Change High', 'Percentage Change Low', 'Sector', 'Sector Encoded', 'Stock_Movement_Label'] (20 columns)\n",
            "✅ Processed CANBK_data.csv successfully.\n",
            "Processing file: BEL_data.csv\n",
            "Original columns: ['Price', 'Close', 'High', 'Low', 'Open', 'Volume', 'MA_5', 'MA_10', 'MA_15', 'MA_20', 'MA_25', 'MA_30', 'Normalised Close', 'Return Ratio', 'Percentage Change Open', 'Percentage Change High', 'Percentage Change Low', 'Sector', 'Sector Encoded', 'Stock_Movement_Label'] (20 columns)\n",
            "✅ Processed BEL_data.csv successfully.\n",
            "Processing file: BANDHANBNK_data.csv\n",
            "Original columns: ['Price', 'Close', 'High', 'Low', 'Open', 'Volume', 'MA_5', 'MA_10', 'MA_15', 'MA_20', 'MA_25', 'MA_30', 'Normalised Close', 'Return Ratio', 'Percentage Change Open', 'Percentage Change High', 'Percentage Change Low', 'Sector', 'Sector Encoded', 'Stock_Movement_Label'] (20 columns)\n",
            "✅ Processed BANDHANBNK_data.csv successfully.\n",
            "Processing file: CEATLTD_data.csv\n",
            "Original columns: ['Price', 'Close', 'High', 'Low', 'Open', 'Volume', 'MA_5', 'MA_10', 'MA_15', 'MA_20', 'MA_25', 'MA_30', 'Normalised Close', 'Return Ratio', 'Percentage Change Open', 'Percentage Change High', 'Percentage Change Low', 'Sector', 'Sector Encoded', 'Stock_Movement_Label'] (20 columns)\n",
            "✅ Processed CEATLTD_data.csv successfully.\n",
            "Processing file: JUSTDIAL_data.csv\n",
            "Original columns: ['Price', 'Close', 'High', 'Low', 'Open', 'Volume', 'MA_5', 'MA_10', 'MA_15', 'MA_20', 'MA_25', 'MA_30', 'Normalised Close', 'Return Ratio', 'Percentage Change Open', 'Percentage Change High', 'Percentage Change Low', 'Sector', 'Sector Encoded', 'Stock_Movement_Label'] (20 columns)\n",
            "✅ Processed JUSTDIAL_data.csv successfully.\n",
            "Processing file: BHEL_data.csv\n",
            "Original columns: ['Price', 'Close', 'High', 'Low', 'Open', 'Volume', 'MA_5', 'MA_10', 'MA_15', 'MA_20', 'MA_25', 'MA_30', 'Normalised Close', 'Return Ratio', 'Percentage Change Open', 'Percentage Change High', 'Percentage Change Low', 'Sector', 'Sector Encoded', 'Stock_Movement_Label'] (20 columns)\n",
            "✅ Processed BHEL_data.csv successfully.\n",
            "Processing file: MAPMYINDIA_data.csv\n",
            "Original columns: ['Price', 'Close', 'High', 'Low', 'Open', 'Volume', 'MA_5', 'MA_10', 'MA_15', 'MA_20', 'MA_25', 'MA_30', 'Normalised Close', 'Return Ratio', 'Percentage Change Open', 'Percentage Change High', 'Percentage Change Low', 'Sector', 'Sector Encoded', 'Stock_Movement_Label'] (20 columns)\n",
            "✅ Processed MAPMYINDIA_data.csv successfully.\n",
            "Processing file: KIMS_data.csv\n",
            "Original columns: ['Price', 'Close', 'High', 'Low', 'Open', 'Volume', 'MA_5', 'MA_10', 'MA_15', 'MA_20', 'MA_25', 'MA_30', 'Normalised Close', 'Return Ratio', 'Percentage Change Open', 'Percentage Change High', 'Percentage Change Low', 'Sector', 'Sector Encoded', 'Stock_Movement_Label'] (20 columns)\n",
            "✅ Processed KIMS_data.csv successfully.\n",
            "Processing file: INDUSINDBK_data.csv\n",
            "Original columns: ['Price', 'Close', 'High', 'Low', 'Open', 'Volume', 'MA_5', 'MA_10', 'MA_15', 'MA_20', 'MA_25', 'MA_30', 'Normalised Close', 'Return Ratio', 'Percentage Change Open', 'Percentage Change High', 'Percentage Change Low', 'Sector', 'Sector Encoded', 'Stock_Movement_Label'] (20 columns)\n",
            "✅ Processed INDUSINDBK_data.csv successfully.\n",
            "Processing file: ADANIPORTS_data.csv\n",
            "Original columns: ['Price', 'Close', 'High', 'Low', 'Open', 'Volume', 'MA_5', 'MA_10', 'MA_15', 'MA_20', 'MA_25', 'MA_30', 'Normalised Close', 'Return Ratio', 'Percentage Change Open', 'Percentage Change High', 'Percentage Change Low', 'Sector', 'Sector Encoded', 'Stock_Movement_Label'] (20 columns)\n",
            "✅ Processed ADANIPORTS_data.csv successfully.\n",
            "Processing file: TITAGARH_data.csv\n",
            "Original columns: ['Price', 'Close', 'High', 'Low', 'Open', 'Volume', 'MA_5', 'MA_10', 'MA_15', 'MA_20', 'MA_25', 'MA_30', 'Normalised Close', 'Return Ratio', 'Percentage Change Open', 'Percentage Change High', 'Percentage Change Low', 'Sector', 'Sector Encoded', 'Stock_Movement_Label'] (20 columns)\n",
            "✅ Processed TITAGARH_data.csv successfully.\n",
            "Processing file: ZEEL_data.csv\n",
            "Original columns: ['Price', 'Close', 'High', 'Low', 'Open', 'Volume', 'MA_5', 'MA_10', 'MA_15', 'MA_20', 'MA_25', 'MA_30', 'Normalised Close', 'Return Ratio', 'Percentage Change Open', 'Percentage Change High', 'Percentage Change Low', 'Sector', 'Sector Encoded', 'Stock_Movement_Label'] (20 columns)\n",
            "✅ Processed ZEEL_data.csv successfully.\n",
            "Processing file: POWERINDIA_data.csv\n",
            "Original columns: ['Price', 'Close', 'High', 'Low', 'Open', 'Volume', 'MA_5', 'MA_10', 'MA_15', 'MA_20', 'MA_25', 'MA_30', 'Normalised Close', 'Return Ratio', 'Percentage Change Open', 'Percentage Change High', 'Percentage Change Low', 'Sector', 'Sector Encoded', 'Stock_Movement_Label'] (20 columns)\n",
            "✅ Processed POWERINDIA_data.csv successfully.\n",
            "Processing file: NESTLEIND_data.csv\n",
            "Original columns: ['Price', 'Close', 'High', 'Low', 'Open', 'Volume', 'MA_5', 'MA_10', 'MA_15', 'MA_20', 'MA_25', 'MA_30', 'Normalised Close', 'Return Ratio', 'Percentage Change Open', 'Percentage Change High', 'Percentage Change Low', 'Sector', 'Sector Encoded', 'Stock_Movement_Label'] (20 columns)\n",
            "✅ Processed NESTLEIND_data.csv successfully.\n",
            "Processing file: FORTIS_data.csv\n",
            "Original columns: ['Price', 'Close', 'High', 'Low', 'Open', 'Volume', 'MA_5', 'MA_10', 'MA_15', 'MA_20', 'MA_25', 'MA_30', 'Normalised Close', 'Return Ratio', 'Percentage Change Open', 'Percentage Change High', 'Percentage Change Low', 'Sector', 'Sector Encoded', 'Stock_Movement_Label'] (20 columns)\n",
            "✅ Processed FORTIS_data.csv successfully.\n",
            "Processing file: MOTHERSON_data.csv\n",
            "Original columns: ['Price', 'Close', 'High', 'Low', 'Open', 'Volume', 'MA_5', 'MA_10', 'MA_15', 'MA_20', 'MA_25', 'MA_30', 'Normalised Close', 'Return Ratio', 'Percentage Change Open', 'Percentage Change High', 'Percentage Change Low', 'Sector', 'Sector Encoded', 'Stock_Movement_Label'] (20 columns)\n",
            "✅ Processed MOTHERSON_data.csv successfully.\n",
            "Processing file: DATAPATTNS_data.csv\n",
            "Original columns: ['Price', 'Close', 'High', 'Low', 'Open', 'Volume', 'MA_5', 'MA_10', 'MA_15', 'MA_20', 'MA_25', 'MA_30', 'Normalised Close', 'Return Ratio', 'Percentage Change Open', 'Percentage Change High', 'Percentage Change Low', 'Sector', 'Sector Encoded', 'Stock_Movement_Label'] (20 columns)\n",
            "✅ Processed DATAPATTNS_data.csv successfully.\n",
            "Processing file: HINDPETRO_data.csv\n",
            "Original columns: ['Price', 'Close', 'High', 'Low', 'Open', 'Volume', 'MA_5', 'MA_10', 'MA_15', 'MA_20', 'MA_25', 'MA_30', 'Normalised Close', 'Return Ratio', 'Percentage Change Open', 'Percentage Change High', 'Percentage Change Low', 'Sector', 'Sector Encoded', 'Stock_Movement_Label'] (20 columns)\n",
            "✅ Processed HINDPETRO_data.csv successfully.\n",
            "Processing file: MUTHOOTFIN_data.csv\n",
            "Original columns: ['Price', 'Close', 'High', 'Low', 'Open', 'Volume', 'MA_5', 'MA_10', 'MA_15', 'MA_20', 'MA_25', 'MA_30', 'Normalised Close', 'Return Ratio', 'Percentage Change Open', 'Percentage Change High', 'Percentage Change Low', 'Sector', 'Sector Encoded', 'Stock_Movement_Label'] (20 columns)\n",
            "✅ Processed MUTHOOTFIN_data.csv successfully.\n",
            "Processing file: TATACOMM_data.csv\n",
            "Original columns: ['Price', 'Close', 'High', 'Low', 'Open', 'Volume', 'MA_5', 'MA_10', 'MA_15', 'MA_20', 'MA_25', 'MA_30', 'Normalised Close', 'Return Ratio', 'Percentage Change Open', 'Percentage Change High', 'Percentage Change Low', 'Sector', 'Sector Encoded', 'Stock_Movement_Label'] (20 columns)\n",
            "✅ Processed TATACOMM_data.csv successfully.\n",
            "Processing file: RAJESHEXPO_data.csv\n",
            "Original columns: ['Price', 'Close', 'High', 'Low', 'Open', 'Volume', 'MA_5', 'MA_10', 'MA_15', 'MA_20', 'MA_25', 'MA_30', 'Normalised Close', 'Return Ratio', 'Percentage Change Open', 'Percentage Change High', 'Percentage Change Low', 'Sector', 'Sector Encoded', 'Stock_Movement_Label'] (20 columns)\n",
            "✅ Processed RAJESHEXPO_data.csv successfully.\n",
            "Processing file: KANSAINER_data.csv\n",
            "Original columns: ['Price', 'Close', 'High', 'Low', 'Open', 'Volume', 'MA_5', 'MA_10', 'MA_15', 'MA_20', 'MA_25', 'MA_30', 'Normalised Close', 'Return Ratio', 'Percentage Change Open', 'Percentage Change High', 'Percentage Change Low', 'Sector', 'Sector Encoded', 'Stock_Movement_Label'] (20 columns)\n",
            "✅ Processed KANSAINER_data.csv successfully.\n",
            "Processing file: MANAPPURAM_data.csv\n",
            "Original columns: ['Price', 'Close', 'High', 'Low', 'Open', 'Volume', 'MA_5', 'MA_10', 'MA_15', 'MA_20', 'MA_25', 'MA_30', 'Normalised Close', 'Return Ratio', 'Percentage Change Open', 'Percentage Change High', 'Percentage Change Low', 'Sector', 'Sector Encoded', 'Stock_Movement_Label'] (20 columns)\n",
            "✅ Processed MANAPPURAM_data.csv successfully.\n",
            "Processing file: CYIENT_data.csv\n",
            "Original columns: ['Price', 'Close', 'High', 'Low', 'Open', 'Volume', 'MA_5', 'MA_10', 'MA_15', 'MA_20', 'MA_25', 'MA_30', 'Normalised Close', 'Return Ratio', 'Percentage Change Open', 'Percentage Change High', 'Percentage Change Low', 'Sector', 'Sector Encoded', 'Stock_Movement_Label'] (20 columns)\n",
            "✅ Processed CYIENT_data.csv successfully.\n",
            "Processing file: RECLTD_data.csv\n",
            "Original columns: ['Price', 'Close', 'High', 'Low', 'Open', 'Volume', 'MA_5', 'MA_10', 'MA_15', 'MA_20', 'MA_25', 'MA_30', 'Normalised Close', 'Return Ratio', 'Percentage Change Open', 'Percentage Change High', 'Percentage Change Low', 'Sector', 'Sector Encoded', 'Stock_Movement_Label'] (20 columns)\n",
            "✅ Processed RECLTD_data.csv successfully.\n",
            "Processing file: RKFORGE_data.csv\n",
            "Original columns: ['Price', 'Close', 'High', 'Low', 'Open', 'Volume', 'MA_5', 'MA_10', 'MA_15', 'MA_20', 'MA_25', 'MA_30', 'Normalised Close', 'Return Ratio', 'Percentage Change Open', 'Percentage Change High', 'Percentage Change Low', 'Sector', 'Sector Encoded', 'Stock_Movement_Label'] (20 columns)\n",
            "✅ Processed RKFORGE_data.csv successfully.\n",
            "Processing file: UCOBANK_data.csv\n",
            "Original columns: ['Price', 'Close', 'High', 'Low', 'Open', 'Volume', 'MA_5', 'MA_10', 'MA_15', 'MA_20', 'MA_25', 'MA_30', 'Normalised Close', 'Return Ratio', 'Percentage Change Open', 'Percentage Change High', 'Percentage Change Low', 'Sector', 'Sector Encoded', 'Stock_Movement_Label'] (20 columns)\n",
            "✅ Processed UCOBANK_data.csv successfully.\n",
            "Processing file: BSE_data.csv\n",
            "Original columns: ['Price', 'Close', 'High', 'Low', 'Open', 'Volume', 'MA_5', 'MA_10', 'MA_15', 'MA_20', 'MA_25', 'MA_30', 'Normalised Close', 'Return Ratio', 'Percentage Change Open', 'Percentage Change High', 'Percentage Change Low', 'Sector', 'Sector Encoded', 'Stock_Movement_Label'] (20 columns)\n",
            "✅ Processed BSE_data.csv successfully.\n",
            "Processing file: LAURUSLABS_data.csv\n",
            "Original columns: ['Price', 'Close', 'High', 'Low', 'Open', 'Volume', 'MA_5', 'MA_10', 'MA_15', 'MA_20', 'MA_25', 'MA_30', 'Normalised Close', 'Return Ratio', 'Percentage Change Open', 'Percentage Change High', 'Percentage Change Low', 'Sector', 'Sector Encoded', 'Stock_Movement_Label'] (20 columns)\n",
            "✅ Processed LAURUSLABS_data.csv successfully.\n",
            "Processing file: BAJAJ-AUTO_data.csv\n",
            "Original columns: ['Price', 'Close', 'High', 'Low', 'Open', 'Volume', 'MA_5', 'MA_10', 'MA_15', 'MA_20', 'MA_25', 'MA_30', 'Normalised Close', 'Return Ratio', 'Percentage Change Open', 'Percentage Change High', 'Percentage Change Low', 'Sector', 'Sector Encoded', 'Stock_Movement_Label'] (20 columns)\n",
            "✅ Processed BAJAJ-AUTO_data.csv successfully.\n",
            "Processing file: MAXHEALTH_data.csv\n",
            "Original columns: ['Price', 'Close', 'High', 'Low', 'Open', 'Volume', 'MA_5', 'MA_10', 'MA_15', 'MA_20', 'MA_25', 'MA_30', 'Normalised Close', 'Return Ratio', 'Percentage Change Open', 'Percentage Change High', 'Percentage Change Low', 'Sector', 'Sector Encoded', 'Stock_Movement_Label'] (20 columns)\n",
            "✅ Processed MAXHEALTH_data.csv successfully.\n",
            "Processing file: DLF_data.csv\n",
            "Original columns: ['Price', 'Close', 'High', 'Low', 'Open', 'Volume', 'MA_5', 'MA_10', 'MA_15', 'MA_20', 'MA_25', 'MA_30', 'Normalised Close', 'Return Ratio', 'Percentage Change Open', 'Percentage Change High', 'Percentage Change Low', 'Sector', 'Sector Encoded', 'Stock_Movement_Label'] (20 columns)\n",
            "✅ Processed DLF_data.csv successfully.\n",
            "Processing file: SUNPHARMA_data.csv\n",
            "Original columns: ['Price', 'Close', 'High', 'Low', 'Open', 'Volume', 'MA_5', 'MA_10', 'MA_15', 'MA_20', 'MA_25', 'MA_30', 'Normalised Close', 'Return Ratio', 'Percentage Change Open', 'Percentage Change High', 'Percentage Change Low', 'Sector', 'Sector Encoded', 'Stock_Movement_Label'] (20 columns)\n",
            "✅ Processed SUNPHARMA_data.csv successfully.\n",
            "Processing file: KOTAKBANK_data.csv\n",
            "Original columns: ['Price', 'Close', 'High', 'Low', 'Open', 'Volume', 'MA_5', 'MA_10', 'MA_15', 'MA_20', 'MA_25', 'MA_30', 'Normalised Close', 'Return Ratio', 'Percentage Change Open', 'Percentage Change High', 'Percentage Change Low', 'Sector', 'Sector Encoded', 'Stock_Movement_Label'] (20 columns)\n",
            "✅ Processed KOTAKBANK_data.csv successfully.\n",
            "Processing file: GSFC_data.csv\n",
            "Original columns: ['Price', 'Close', 'High', 'Low', 'Open', 'Volume', 'MA_5', 'MA_10', 'MA_15', 'MA_20', 'MA_25', 'MA_30', 'Normalised Close', 'Return Ratio', 'Percentage Change Open', 'Percentage Change High', 'Percentage Change Low', 'Sector', 'Sector Encoded', 'Stock_Movement_Label'] (20 columns)\n",
            "✅ Processed GSFC_data.csv successfully.\n",
            "Processing file: 360ONE_data.csv\n",
            "Original columns: ['Price', 'Close', 'High', 'Low', 'Open', 'Volume', 'MA_5', 'MA_10', 'MA_15', 'MA_20', 'MA_25', 'MA_30', 'Normalised Close', 'Return Ratio', 'Percentage Change Open', 'Percentage Change High', 'Percentage Change Low', 'Sector', 'Sector Encoded', 'Stock_Movement_Label'] (20 columns)\n",
            "✅ Processed 360ONE_data.csv successfully.\n",
            "Processing file: NETWORK18_data.csv\n",
            "Original columns: ['Price', 'Close', 'High', 'Low', 'Open', 'Volume', 'MA_5', 'MA_10', 'MA_15', 'MA_20', 'MA_25', 'MA_30', 'Normalised Close', 'Return Ratio', 'Percentage Change Open', 'Percentage Change High', 'Percentage Change Low', 'Sector', 'Sector Encoded', 'Stock_Movement_Label'] (20 columns)\n",
            "✅ Processed NETWORK18_data.csv successfully.\n",
            "Processing file: ABBOTINDIA_data.csv\n",
            "Original columns: ['Price', 'Close', 'High', 'Low', 'Open', 'Volume', 'MA_5', 'MA_10', 'MA_15', 'MA_20', 'MA_25', 'MA_30', 'Normalised Close', 'Return Ratio', 'Percentage Change Open', 'Percentage Change High', 'Percentage Change Low', 'Sector', 'Sector Encoded', 'Stock_Movement_Label'] (20 columns)\n",
            "✅ Processed ABBOTINDIA_data.csv successfully.\n",
            "Processing file: CHEMPLASTS_data.csv\n",
            "Original columns: ['Price', 'Close', 'High', 'Low', 'Open', 'Volume', 'MA_5', 'MA_10', 'MA_15', 'MA_20', 'MA_25', 'MA_30', 'Normalised Close', 'Return Ratio', 'Percentage Change Open', 'Percentage Change High', 'Percentage Change Low', 'Sector', 'Sector Encoded', 'Stock_Movement_Label'] (20 columns)\n",
            "✅ Processed CHEMPLASTS_data.csv successfully.\n",
            "Processing file: RITES_data.csv\n",
            "Original columns: ['Price', 'Close', 'High', 'Low', 'Open', 'Volume', 'MA_5', 'MA_10', 'MA_15', 'MA_20', 'MA_25', 'MA_30', 'Normalised Close', 'Return Ratio', 'Percentage Change Open', 'Percentage Change High', 'Percentage Change Low', 'Sector', 'Sector Encoded', 'Stock_Movement_Label'] (20 columns)\n",
            "✅ Processed RITES_data.csv successfully.\n",
            "Processing file: SANOFI_data.csv\n",
            "Original columns: ['Price', 'Close', 'High', 'Low', 'Open', 'Volume', 'MA_5', 'MA_10', 'MA_15', 'MA_20', 'MA_25', 'MA_30', 'Normalised Close', 'Return Ratio', 'Percentage Change Open', 'Percentage Change High', 'Percentage Change Low', 'Sector', 'Sector Encoded', 'Stock_Movement_Label'] (20 columns)\n",
            "✅ Processed SANOFI_data.csv successfully.\n",
            "Processing file: MAHLIFE_data.csv\n",
            "Original columns: ['Price', 'Close', 'High', 'Low', 'Open', 'Volume', 'MA_5', 'MA_10', 'MA_15', 'MA_20', 'MA_25', 'MA_30', 'Normalised Close', 'Return Ratio', 'Percentage Change Open', 'Percentage Change High', 'Percentage Change Low', 'Sector', 'Sector Encoded', 'Stock_Movement_Label'] (20 columns)\n",
            "✅ Processed MAHLIFE_data.csv successfully.\n",
            "Processing file: BALKRISIND_data.csv\n",
            "Original columns: ['Price', 'Close', 'High', 'Low', 'Open', 'Volume', 'MA_5', 'MA_10', 'MA_15', 'MA_20', 'MA_25', 'MA_30', 'Normalised Close', 'Return Ratio', 'Percentage Change Open', 'Percentage Change High', 'Percentage Change Low', 'Sector', 'Sector Encoded', 'Stock_Movement_Label'] (20 columns)\n",
            "✅ Processed BALKRISIND_data.csv successfully.\n",
            "Processing file: NATCOPHARM_data.csv\n",
            "Original columns: ['Price', 'Close', 'High', 'Low', 'Open', 'Volume', 'MA_5', 'MA_10', 'MA_15', 'MA_20', 'MA_25', 'MA_30', 'Normalised Close', 'Return Ratio', 'Percentage Change Open', 'Percentage Change High', 'Percentage Change Low', 'Sector', 'Sector Encoded', 'Stock_Movement_Label'] (20 columns)\n",
            "✅ Processed NATCOPHARM_data.csv successfully.\n",
            "Processing file: KIRLOSENG_data.csv\n",
            "Original columns: ['Price', 'Close', 'High', 'Low', 'Open', 'Volume', 'MA_5', 'MA_10', 'MA_15', 'MA_20', 'MA_25', 'MA_30', 'Normalised Close', 'Return Ratio', 'Percentage Change Open', 'Percentage Change High', 'Percentage Change Low', 'Sector', 'Sector Encoded', 'Stock_Movement_Label'] (20 columns)\n",
            "✅ Processed KIRLOSENG_data.csv successfully.\n",
            "Processing file: BBTC_data.csv\n",
            "Original columns: ['Price', 'Close', 'High', 'Low', 'Open', 'Volume', 'MA_5', 'MA_10', 'MA_15', 'MA_20', 'MA_25', 'MA_30', 'Normalised Close', 'Return Ratio', 'Percentage Change Open', 'Percentage Change High', 'Percentage Change Low', 'Sector', 'Sector Encoded', 'Stock_Movement_Label'] (20 columns)\n",
            "✅ Processed BBTC_data.csv successfully.\n",
            "Processing file: skipped_stocks.txt\n",
            "Original columns: ['AADHARHFC'] (1 columns)\n",
            "❌ Column mismatch in skipped_stocks.txt. Expected 20 but found 1. Skipping renaming.\n",
            "Processing file: OFSS_data.csv\n",
            "Original columns: ['Price', 'Close', 'High', 'Low', 'Open', 'Volume', 'MA_5', 'MA_10', 'MA_15', 'MA_20', 'MA_25', 'MA_30', 'Normalised Close', 'Return Ratio', 'Percentage Change Open', 'Percentage Change High', 'Percentage Change Low', 'Sector', 'Sector Encoded', 'Stock_Movement_Label'] (20 columns)\n",
            "✅ Processed OFSS_data.csv successfully.\n",
            "Processing file: SAPPHIRE_data.csv\n",
            "Original columns: ['Price', 'Close', 'High', 'Low', 'Open', 'Volume', 'MA_5', 'MA_10', 'MA_15', 'MA_20', 'MA_25', 'MA_30', 'Normalised Close', 'Return Ratio', 'Percentage Change Open', 'Percentage Change High', 'Percentage Change Low', 'Sector', 'Sector Encoded', 'Stock_Movement_Label'] (20 columns)\n",
            "✅ Processed SAPPHIRE_data.csv successfully.\n",
            "Processing file: ALKYLAMINE_data.csv\n",
            "Original columns: ['Price', 'Close', 'High', 'Low', 'Open', 'Volume', 'MA_5', 'MA_10', 'MA_15', 'MA_20', 'MA_25', 'MA_30', 'Normalised Close', 'Return Ratio', 'Percentage Change Open', 'Percentage Change High', 'Percentage Change Low', 'Sector', 'Sector Encoded', 'Stock_Movement_Label'] (20 columns)\n",
            "✅ Processed ALKYLAMINE_data.csv successfully.\n",
            "Processing file: SAMMAANCAP_data.csv\n",
            "Original columns: ['Price', 'Close', 'High', 'Low', 'Open', 'Volume', 'MA_5', 'MA_10', 'MA_15', 'MA_20', 'MA_25', 'MA_30', 'Normalised Close', 'Return Ratio', 'Percentage Change Open', 'Percentage Change High', 'Percentage Change Low', 'Sector', 'Sector Encoded', 'Stock_Movement_Label'] (20 columns)\n",
            "✅ Processed SAMMAANCAP_data.csv successfully.\n",
            "Processing file: ANANTRAJ_data.csv\n",
            "Original columns: ['Price', 'Close', 'High', 'Low', 'Open', 'Volume', 'MA_5', 'MA_10', 'MA_15', 'MA_20', 'MA_25', 'MA_30', 'Normalised Close', 'Return Ratio', 'Percentage Change Open', 'Percentage Change High', 'Percentage Change Low', 'Sector', 'Sector Encoded', 'Stock_Movement_Label'] (20 columns)\n",
            "✅ Processed ANANTRAJ_data.csv successfully.\n",
            "Processing file: NMDC_data.csv\n",
            "Original columns: ['Price', 'Close', 'High', 'Low', 'Open', 'Volume', 'MA_5', 'MA_10', 'MA_15', 'MA_20', 'MA_25', 'MA_30', 'Normalised Close', 'Return Ratio', 'Percentage Change Open', 'Percentage Change High', 'Percentage Change Low', 'Sector', 'Sector Encoded', 'Stock_Movement_Label'] (20 columns)\n",
            "✅ Processed NMDC_data.csv successfully.\n",
            "Processing file: ACE_data.csv\n",
            "Original columns: ['Price', 'Close', 'High', 'Low', 'Open', 'Volume', 'MA_5', 'MA_10', 'MA_15', 'MA_20', 'MA_25', 'MA_30', 'Normalised Close', 'Return Ratio', 'Percentage Change Open', 'Percentage Change High', 'Percentage Change Low', 'Sector', 'Sector Encoded', 'Stock_Movement_Label'] (20 columns)\n",
            "✅ Processed ACE_data.csv successfully.\n",
            "Processing file: PFIZER_data.csv\n",
            "Original columns: ['Price', 'Close', 'High', 'Low', 'Open', 'Volume', 'MA_5', 'MA_10', 'MA_15', 'MA_20', 'MA_25', 'MA_30', 'Normalised Close', 'Return Ratio', 'Percentage Change Open', 'Percentage Change High', 'Percentage Change Low', 'Sector', 'Sector Encoded', 'Stock_Movement_Label'] (20 columns)\n",
            "✅ Processed PFIZER_data.csv successfully.\n",
            "Processing file: TRENT_data.csv\n",
            "Original columns: ['Price', 'Close', 'High', 'Low', 'Open', 'Volume', 'MA_5', 'MA_10', 'MA_15', 'MA_20', 'MA_25', 'MA_30', 'Normalised Close', 'Return Ratio', 'Percentage Change Open', 'Percentage Change High', 'Percentage Change Low', 'Sector', 'Sector Encoded', 'Stock_Movement_Label'] (20 columns)\n",
            "✅ Processed TRENT_data.csv successfully.\n",
            "Processing file: POLICYBZR_data.csv\n",
            "Original columns: ['Price', 'Close', 'High', 'Low', 'Open', 'Volume', 'MA_5', 'MA_10', 'MA_15', 'MA_20', 'MA_25', 'MA_30', 'Normalised Close', 'Return Ratio', 'Percentage Change Open', 'Percentage Change High', 'Percentage Change Low', 'Sector', 'Sector Encoded', 'Stock_Movement_Label'] (20 columns)\n",
            "✅ Processed POLICYBZR_data.csv successfully.\n",
            "Processing file: CUB_data.csv\n",
            "Original columns: ['Price', 'Close', 'High', 'Low', 'Open', 'Volume', 'MA_5', 'MA_10', 'MA_15', 'MA_20', 'MA_25', 'MA_30', 'Normalised Close', 'Return Ratio', 'Percentage Change Open', 'Percentage Change High', 'Percentage Change Low', 'Sector', 'Sector Encoded', 'Stock_Movement_Label'] (20 columns)\n",
            "✅ Processed CUB_data.csv successfully.\n",
            "Processing file: NCC_data.csv\n",
            "Original columns: ['Price', 'Close', 'High', 'Low', 'Open', 'Volume', 'MA_5', 'MA_10', 'MA_15', 'MA_20', 'MA_25', 'MA_30', 'Normalised Close', 'Return Ratio', 'Percentage Change Open', 'Percentage Change High', 'Percentage Change Low', 'Sector', 'Sector Encoded', 'Stock_Movement_Label'] (20 columns)\n",
            "✅ Processed NCC_data.csv successfully.\n",
            "Processing file: EMAMILTD_data.csv\n",
            "Original columns: ['Price', 'Close', 'High', 'Low', 'Open', 'Volume', 'MA_5', 'MA_10', 'MA_15', 'MA_20', 'MA_25', 'MA_30', 'Normalised Close', 'Return Ratio', 'Percentage Change Open', 'Percentage Change High', 'Percentage Change Low', 'Sector', 'Sector Encoded', 'Stock_Movement_Label'] (20 columns)\n",
            "✅ Processed EMAMILTD_data.csv successfully.\n",
            "Processing file: AAVAS_data.csv\n",
            "Original columns: ['Price', 'Close', 'High', 'Low', 'Open', 'Volume', 'MA_5', 'MA_10', 'MA_15', 'MA_20', 'MA_25', 'MA_30', 'Normalised Close', 'Return Ratio', 'Percentage Change Open', 'Percentage Change High', 'Percentage Change Low', 'Sector', 'Sector Encoded', 'Stock_Movement_Label'] (20 columns)\n",
            "✅ Processed AAVAS_data.csv successfully.\n",
            "Processing file: HEROMOTOCO_data.csv\n",
            "Original columns: ['Price', 'Close', 'High', 'Low', 'Open', 'Volume', 'MA_5', 'MA_10', 'MA_15', 'MA_20', 'MA_25', 'MA_30', 'Normalised Close', 'Return Ratio', 'Percentage Change Open', 'Percentage Change High', 'Percentage Change Low', 'Sector', 'Sector Encoded', 'Stock_Movement_Label'] (20 columns)\n",
            "✅ Processed HEROMOTOCO_data.csv successfully.\n",
            "Processing file: TCS_data.csv\n",
            "Original columns: ['Price', 'Close', 'High', 'Low', 'Open', 'Volume', 'MA_5', 'MA_10', 'MA_15', 'MA_20', 'MA_25', 'MA_30', 'Normalised Close', 'Return Ratio', 'Percentage Change Open', 'Percentage Change High', 'Percentage Change Low', 'Sector', 'Sector Encoded', 'Stock_Movement_Label'] (20 columns)\n",
            "✅ Processed TCS_data.csv successfully.\n",
            "Processing file: IOB_data.csv\n",
            "Original columns: ['Price', 'Close', 'High', 'Low', 'Open', 'Volume', 'MA_5', 'MA_10', 'MA_15', 'MA_20', 'MA_25', 'MA_30', 'Normalised Close', 'Return Ratio', 'Percentage Change Open', 'Percentage Change High', 'Percentage Change Low', 'Sector', 'Sector Encoded', 'Stock_Movement_Label'] (20 columns)\n",
            "✅ Processed IOB_data.csv successfully.\n",
            "Processing file: BIRLACORPN_data.csv\n",
            "Original columns: ['Price', 'Close', 'High', 'Low', 'Open', 'Volume', 'MA_5', 'MA_10', 'MA_15', 'MA_20', 'MA_25', 'MA_30', 'Normalised Close', 'Return Ratio', 'Percentage Change Open', 'Percentage Change High', 'Percentage Change Low', 'Sector', 'Sector Encoded', 'Stock_Movement_Label'] (20 columns)\n",
            "✅ Processed BIRLACORPN_data.csv successfully.\n",
            "Processing file: CGPOWER_data.csv\n",
            "Original columns: ['Price', 'Close', 'High', 'Low', 'Open', 'Volume', 'MA_5', 'MA_10', 'MA_15', 'MA_20', 'MA_25', 'MA_30', 'Normalised Close', 'Return Ratio', 'Percentage Change Open', 'Percentage Change High', 'Percentage Change Low', 'Sector', 'Sector Encoded', 'Stock_Movement_Label'] (20 columns)\n",
            "✅ Processed CGPOWER_data.csv successfully.\n",
            "Processing file: THERMAX_data.csv\n",
            "Original columns: ['Price', 'Close', 'High', 'Low', 'Open', 'Volume', 'MA_5', 'MA_10', 'MA_15', 'MA_20', 'MA_25', 'MA_30', 'Normalised Close', 'Return Ratio', 'Percentage Change Open', 'Percentage Change High', 'Percentage Change Low', 'Sector', 'Sector Encoded', 'Stock_Movement_Label'] (20 columns)\n",
            "✅ Processed THERMAX_data.csv successfully.\n",
            "Processing file: ENGINERSIN_data.csv\n",
            "Original columns: ['Price', 'Close', 'High', 'Low', 'Open', 'Volume', 'MA_5', 'MA_10', 'MA_15', 'MA_20', 'MA_25', 'MA_30', 'Normalised Close', 'Return Ratio', 'Percentage Change Open', 'Percentage Change High', 'Percentage Change Low', 'Sector', 'Sector Encoded', 'Stock_Movement_Label'] (20 columns)\n",
            "✅ Processed ENGINERSIN_data.csv successfully.\n",
            "Processing file: RVNL_data.csv\n",
            "Original columns: ['Price', 'Close', 'High', 'Low', 'Open', 'Volume', 'MA_5', 'MA_10', 'MA_15', 'MA_20', 'MA_25', 'MA_30', 'Normalised Close', 'Return Ratio', 'Percentage Change Open', 'Percentage Change High', 'Percentage Change Low', 'Sector', 'Sector Encoded', 'Stock_Movement_Label'] (20 columns)\n",
            "✅ Processed RVNL_data.csv successfully.\n",
            "Processing file: APLAPOLLO_data.csv\n",
            "Original columns: ['Price', 'Close', 'High', 'Low', 'Open', 'Volume', 'MA_5', 'MA_10', 'MA_15', 'MA_20', 'MA_25', 'MA_30', 'Normalised Close', 'Return Ratio', 'Percentage Change Open', 'Percentage Change High', 'Percentage Change Low', 'Sector', 'Sector Encoded', 'Stock_Movement_Label'] (20 columns)\n",
            "✅ Processed APLAPOLLO_data.csv successfully.\n",
            "Processing file: ECLERX_data.csv\n",
            "Original columns: ['Price', 'Close', 'High', 'Low', 'Open', 'Volume', 'MA_5', 'MA_10', 'MA_15', 'MA_20', 'MA_25', 'MA_30', 'Normalised Close', 'Return Ratio', 'Percentage Change Open', 'Percentage Change High', 'Percentage Change Low', 'Sector', 'Sector Encoded', 'Stock_Movement_Label'] (20 columns)\n",
            "✅ Processed ECLERX_data.csv successfully.\n",
            "Processing file: PNBHOUSING_data.csv\n",
            "Original columns: ['Price', 'Close', 'High', 'Low', 'Open', 'Volume', 'MA_5', 'MA_10', 'MA_15', 'MA_20', 'MA_25', 'MA_30', 'Normalised Close', 'Return Ratio', 'Percentage Change Open', 'Percentage Change High', 'Percentage Change Low', 'Sector', 'Sector Encoded', 'Stock_Movement_Label'] (20 columns)\n",
            "✅ Processed PNBHOUSING_data.csv successfully.\n",
            "Processing file: INDIGO_data.csv\n",
            "Original columns: ['Price', 'Close', 'High', 'Low', 'Open', 'Volume', 'MA_5', 'MA_10', 'MA_15', 'MA_20', 'MA_25', 'MA_30', 'Normalised Close', 'Return Ratio', 'Percentage Change Open', 'Percentage Change High', 'Percentage Change Low', 'Sector', 'Sector Encoded', 'Stock_Movement_Label'] (20 columns)\n",
            "✅ Processed INDIGO_data.csv successfully.\n",
            "Processing file: DALBHARAT_data.csv\n",
            "Original columns: ['Price', 'Close', 'High', 'Low', 'Open', 'Volume', 'MA_5', 'MA_10', 'MA_15', 'MA_20', 'MA_25', 'MA_30', 'Normalised Close', 'Return Ratio', 'Percentage Change Open', 'Percentage Change High', 'Percentage Change Low', 'Sector', 'Sector Encoded', 'Stock_Movement_Label'] (20 columns)\n",
            "✅ Processed DALBHARAT_data.csv successfully.\n",
            "Processing file: GESHIP_data.csv\n",
            "Original columns: ['Price', 'Close', 'High', 'Low', 'Open', 'Volume', 'MA_5', 'MA_10', 'MA_15', 'MA_20', 'MA_25', 'MA_30', 'Normalised Close', 'Return Ratio', 'Percentage Change Open', 'Percentage Change High', 'Percentage Change Low', 'Sector', 'Sector Encoded', 'Stock_Movement_Label'] (20 columns)\n",
            "✅ Processed GESHIP_data.csv successfully.\n",
            "Processing file: RADICO_data.csv\n",
            "Original columns: ['Price', 'Close', 'High', 'Low', 'Open', 'Volume', 'MA_5', 'MA_10', 'MA_15', 'MA_20', 'MA_25', 'MA_30', 'Normalised Close', 'Return Ratio', 'Percentage Change Open', 'Percentage Change High', 'Percentage Change Low', 'Sector', 'Sector Encoded', 'Stock_Movement_Label'] (20 columns)\n",
            "✅ Processed RADICO_data.csv successfully.\n",
            "Processing file: NH_data.csv\n",
            "Original columns: ['Price', 'Close', 'High', 'Low', 'Open', 'Volume', 'MA_5', 'MA_10', 'MA_15', 'MA_20', 'MA_25', 'MA_30', 'Normalised Close', 'Return Ratio', 'Percentage Change Open', 'Percentage Change High', 'Percentage Change Low', 'Sector', 'Sector Encoded', 'Stock_Movement_Label'] (20 columns)\n",
            "✅ Processed NH_data.csv successfully.\n",
            "Processing file: JKTYRE_data.csv\n",
            "Original columns: ['Price', 'Close', 'High', 'Low', 'Open', 'Volume', 'MA_5', 'MA_10', 'MA_15', 'MA_20', 'MA_25', 'MA_30', 'Normalised Close', 'Return Ratio', 'Percentage Change Open', 'Percentage Change High', 'Percentage Change Low', 'Sector', 'Sector Encoded', 'Stock_Movement_Label'] (20 columns)\n",
            "✅ Processed JKTYRE_data.csv successfully.\n",
            "Processing file: ABB_data.csv\n",
            "Original columns: ['Price', 'Close', 'High', 'Low', 'Open', 'Volume', 'MA_5', 'MA_10', 'MA_15', 'MA_20', 'MA_25', 'MA_30', 'Normalised Close', 'Return Ratio', 'Percentage Change Open', 'Percentage Change High', 'Percentage Change Low', 'Sector', 'Sector Encoded', 'Stock_Movement_Label'] (20 columns)\n",
            "✅ Processed ABB_data.csv successfully.\n",
            "Processing file: SOLARINDS_data.csv\n",
            "Original columns: ['Price', 'Close', 'High', 'Low', 'Open', 'Volume', 'MA_5', 'MA_10', 'MA_15', 'MA_20', 'MA_25', 'MA_30', 'Normalised Close', 'Return Ratio', 'Percentage Change Open', 'Percentage Change High', 'Percentage Change Low', 'Sector', 'Sector Encoded', 'Stock_Movement_Label'] (20 columns)\n",
            "✅ Processed SOLARINDS_data.csv successfully.\n",
            "Processing file: ADANIPOWER_data.csv\n",
            "Original columns: ['Price', 'Close', 'High', 'Low', 'Open', 'Volume', 'MA_5', 'MA_10', 'MA_15', 'MA_20', 'MA_25', 'MA_30', 'Normalised Close', 'Return Ratio', 'Percentage Change Open', 'Percentage Change High', 'Percentage Change Low', 'Sector', 'Sector Encoded', 'Stock_Movement_Label'] (20 columns)\n",
            "✅ Processed ADANIPOWER_data.csv successfully.\n",
            "Processing file: BRITANNIA_data.csv\n",
            "Original columns: ['Price', 'Close', 'High', 'Low', 'Open', 'Volume', 'MA_5', 'MA_10', 'MA_15', 'MA_20', 'MA_25', 'MA_30', 'Normalised Close', 'Return Ratio', 'Percentage Change Open', 'Percentage Change High', 'Percentage Change Low', 'Sector', 'Sector Encoded', 'Stock_Movement_Label'] (20 columns)\n",
            "✅ Processed BRITANNIA_data.csv successfully.\n",
            "Processing file: NLCINDIA_data.csv\n",
            "Original columns: ['Price', 'Close', 'High', 'Low', 'Open', 'Volume', 'MA_5', 'MA_10', 'MA_15', 'MA_20', 'MA_25', 'MA_30', 'Normalised Close', 'Return Ratio', 'Percentage Change Open', 'Percentage Change High', 'Percentage Change Low', 'Sector', 'Sector Encoded', 'Stock_Movement_Label'] (20 columns)\n",
            "✅ Processed NLCINDIA_data.csv successfully.\n",
            "Processing file: POLYMED_data.csv\n",
            "Original columns: ['Price', 'Close', 'High', 'Low', 'Open', 'Volume', 'MA_5', 'MA_10', 'MA_15', 'MA_20', 'MA_25', 'MA_30', 'Normalised Close', 'Return Ratio', 'Percentage Change Open', 'Percentage Change High', 'Percentage Change Low', 'Sector', 'Sector Encoded', 'Stock_Movement_Label'] (20 columns)\n",
            "✅ Processed POLYMED_data.csv successfully.\n",
            "Processing file: ASIANPAINT_data.csv\n",
            "Original columns: ['Price', 'Close', 'High', 'Low', 'Open', 'Volume', 'MA_5', 'MA_10', 'MA_15', 'MA_20', 'MA_25', 'MA_30', 'Normalised Close', 'Return Ratio', 'Percentage Change Open', 'Percentage Change High', 'Percentage Change Low', 'Sector', 'Sector Encoded', 'Stock_Movement_Label'] (20 columns)\n",
            "✅ Processed ASIANPAINT_data.csv successfully.\n",
            "Processing file: SUNDARMFIN_data.csv\n",
            "Original columns: ['Price', 'Close', 'High', 'Low', 'Open', 'Volume', 'MA_5', 'MA_10', 'MA_15', 'MA_20', 'MA_25', 'MA_30', 'Normalised Close', 'Return Ratio', 'Percentage Change Open', 'Percentage Change High', 'Percentage Change Low', 'Sector', 'Sector Encoded', 'Stock_Movement_Label'] (20 columns)\n",
            "✅ Processed SUNDARMFIN_data.csv successfully.\n",
            "Processing file: LEMONTREE_data.csv\n",
            "Original columns: ['Price', 'Close', 'High', 'Low', 'Open', 'Volume', 'MA_5', 'MA_10', 'MA_15', 'MA_20', 'MA_25', 'MA_30', 'Normalised Close', 'Return Ratio', 'Percentage Change Open', 'Percentage Change High', 'Percentage Change Low', 'Sector', 'Sector Encoded', 'Stock_Movement_Label'] (20 columns)\n",
            "✅ Processed LEMONTREE_data.csv successfully.\n",
            "Processing file: RENUKA_data.csv\n",
            "Original columns: ['Price', 'Close', 'High', 'Low', 'Open', 'Volume', 'MA_5', 'MA_10', 'MA_15', 'MA_20', 'MA_25', 'MA_30', 'Normalised Close', 'Return Ratio', 'Percentage Change Open', 'Percentage Change High', 'Percentage Change Low', 'Sector', 'Sector Encoded', 'Stock_Movement_Label'] (20 columns)\n",
            "✅ Processed RENUKA_data.csv successfully.\n",
            "Processing file: NAM-INDIA_data.csv\n",
            "Original columns: ['Price', 'Close', 'High', 'Low', 'Open', 'Volume', 'MA_5', 'MA_10', 'MA_15', 'MA_20', 'MA_25', 'MA_30', 'Normalised Close', 'Return Ratio', 'Percentage Change Open', 'Percentage Change High', 'Percentage Change Low', 'Sector', 'Sector Encoded', 'Stock_Movement_Label'] (20 columns)\n",
            "✅ Processed NAM-INDIA_data.csv successfully.\n",
            "Processing file: CREDITACC_data.csv\n",
            "Original columns: ['Price', 'Close', 'High', 'Low', 'Open', 'Volume', 'MA_5', 'MA_10', 'MA_15', 'MA_20', 'MA_25', 'MA_30', 'Normalised Close', 'Return Ratio', 'Percentage Change Open', 'Percentage Change High', 'Percentage Change Low', 'Sector', 'Sector Encoded', 'Stock_Movement_Label'] (20 columns)\n",
            "✅ Processed CREDITACC_data.csv successfully.\n",
            "Processing file: FINEORG_data.csv\n",
            "Original columns: ['Price', 'Close', 'High', 'Low', 'Open', 'Volume', 'MA_5', 'MA_10', 'MA_15', 'MA_20', 'MA_25', 'MA_30', 'Normalised Close', 'Return Ratio', 'Percentage Change Open', 'Percentage Change High', 'Percentage Change Low', 'Sector', 'Sector Encoded', 'Stock_Movement_Label'] (20 columns)\n",
            "✅ Processed FINEORG_data.csv successfully.\n",
            "Processing file: BAYERCROP_data.csv\n",
            "Original columns: ['Price', 'Close', 'High', 'Low', 'Open', 'Volume', 'MA_5', 'MA_10', 'MA_15', 'MA_20', 'MA_25', 'MA_30', 'Normalised Close', 'Return Ratio', 'Percentage Change Open', 'Percentage Change High', 'Percentage Change Low', 'Sector', 'Sector Encoded', 'Stock_Movement_Label'] (20 columns)\n",
            "✅ Processed BAYERCROP_data.csv successfully.\n",
            "Processing file: REDINGTON_data.csv\n",
            "Original columns: ['Price', 'Close', 'High', 'Low', 'Open', 'Volume', 'MA_5', 'MA_10', 'MA_15', 'MA_20', 'MA_25', 'MA_30', 'Normalised Close', 'Return Ratio', 'Percentage Change Open', 'Percentage Change High', 'Percentage Change Low', 'Sector', 'Sector Encoded', 'Stock_Movement_Label'] (20 columns)\n",
            "✅ Processed REDINGTON_data.csv successfully.\n",
            "Processing file: APOLLOTYRE_data.csv\n",
            "Original columns: ['Price', 'Close', 'High', 'Low', 'Open', 'Volume', 'MA_5', 'MA_10', 'MA_15', 'MA_20', 'MA_25', 'MA_30', 'Normalised Close', 'Return Ratio', 'Percentage Change Open', 'Percentage Change High', 'Percentage Change Low', 'Sector', 'Sector Encoded', 'Stock_Movement_Label'] (20 columns)\n",
            "✅ Processed APOLLOTYRE_data.csv successfully.\n",
            "Processing file: PNB_data.csv\n",
            "Original columns: ['Price', 'Close', 'High', 'Low', 'Open', 'Volume', 'MA_5', 'MA_10', 'MA_15', 'MA_20', 'MA_25', 'MA_30', 'Normalised Close', 'Return Ratio', 'Percentage Change Open', 'Percentage Change High', 'Percentage Change Low', 'Sector', 'Sector Encoded', 'Stock_Movement_Label'] (20 columns)\n",
            "✅ Processed PNB_data.csv successfully.\n",
            "Processing file: HDFCBANK_data.csv\n",
            "Original columns: ['Price', 'Close', 'High', 'Low', 'Open', 'Volume', 'MA_5', 'MA_10', 'MA_15', 'MA_20', 'MA_25', 'MA_30', 'Normalised Close', 'Return Ratio', 'Percentage Change Open', 'Percentage Change High', 'Percentage Change Low', 'Sector', 'Sector Encoded', 'Stock_Movement_Label'] (20 columns)\n",
            "✅ Processed HDFCBANK_data.csv successfully.\n",
            "Processing file: IRCON_data.csv\n",
            "Original columns: ['Price', 'Close', 'High', 'Low', 'Open', 'Volume', 'MA_5', 'MA_10', 'MA_15', 'MA_20', 'MA_25', 'MA_30', 'Normalised Close', 'Return Ratio', 'Percentage Change Open', 'Percentage Change High', 'Percentage Change Low', 'Sector', 'Sector Encoded', 'Stock_Movement_Label'] (20 columns)\n",
            "✅ Processed IRCON_data.csv successfully.\n",
            "Processing file: AVANTIFEED_data.csv\n",
            "Original columns: ['Price', 'Close', 'High', 'Low', 'Open', 'Volume', 'MA_5', 'MA_10', 'MA_15', 'MA_20', 'MA_25', 'MA_30', 'Normalised Close', 'Return Ratio', 'Percentage Change Open', 'Percentage Change High', 'Percentage Change Low', 'Sector', 'Sector Encoded', 'Stock_Movement_Label'] (20 columns)\n",
            "✅ Processed AVANTIFEED_data.csv successfully.\n",
            "Processing file: ONGC_data.csv\n",
            "Original columns: ['Price', 'Close', 'High', 'Low', 'Open', 'Volume', 'MA_5', 'MA_10', 'MA_15', 'MA_20', 'MA_25', 'MA_30', 'Normalised Close', 'Return Ratio', 'Percentage Change Open', 'Percentage Change High', 'Percentage Change Low', 'Sector', 'Sector Encoded', 'Stock_Movement_Label'] (20 columns)\n",
            "✅ Processed ONGC_data.csv successfully.\n",
            "Processing file: KPRMILL_data.csv\n",
            "Original columns: ['Price', 'Close', 'High', 'Low', 'Open', 'Volume', 'MA_5', 'MA_10', 'MA_15', 'MA_20', 'MA_25', 'MA_30', 'Normalised Close', 'Return Ratio', 'Percentage Change Open', 'Percentage Change High', 'Percentage Change Low', 'Sector', 'Sector Encoded', 'Stock_Movement_Label'] (20 columns)\n",
            "✅ Processed KPRMILL_data.csv successfully.\n",
            "Processing file: CENTRALBK_data.csv\n",
            "Original columns: ['Price', 'Close', 'High', 'Low', 'Open', 'Volume', 'MA_5', 'MA_10', 'MA_15', 'MA_20', 'MA_25', 'MA_30', 'Normalised Close', 'Return Ratio', 'Percentage Change Open', 'Percentage Change High', 'Percentage Change Low', 'Sector', 'Sector Encoded', 'Stock_Movement_Label'] (20 columns)\n",
            "✅ Processed CENTRALBK_data.csv successfully.\n",
            "Processing file: IDBI_data.csv\n",
            "Original columns: ['Price', 'Close', 'High', 'Low', 'Open', 'Volume', 'MA_5', 'MA_10', 'MA_15', 'MA_20', 'MA_25', 'MA_30', 'Normalised Close', 'Return Ratio', 'Percentage Change Open', 'Percentage Change High', 'Percentage Change Low', 'Sector', 'Sector Encoded', 'Stock_Movement_Label'] (20 columns)\n",
            "✅ Processed IDBI_data.csv successfully.\n",
            "Processing file: BSOFT_data.csv\n",
            "Original columns: ['Price', 'Close', 'High', 'Low', 'Open', 'Volume', 'MA_5', 'MA_10', 'MA_15', 'MA_20', 'MA_25', 'MA_30', 'Normalised Close', 'Return Ratio', 'Percentage Change Open', 'Percentage Change High', 'Percentage Change Low', 'Sector', 'Sector Encoded', 'Stock_Movement_Label'] (20 columns)\n",
            "✅ Processed BSOFT_data.csv successfully.\n",
            "Processing file: WESTLIFE_data.csv\n",
            "Original columns: ['Price', 'Close', 'High', 'Low', 'Open', 'Volume', 'MA_5', 'MA_10', 'MA_15', 'MA_20', 'MA_25', 'MA_30', 'Normalised Close', 'Return Ratio', 'Percentage Change Open', 'Percentage Change High', 'Percentage Change Low', 'Sector', 'Sector Encoded', 'Stock_Movement_Label'] (20 columns)\n",
            "✅ Processed WESTLIFE_data.csv successfully.\n",
            "Processing file: SONACOMS_data.csv\n",
            "Original columns: ['Price', 'Close', 'High', 'Low', 'Open', 'Volume', 'MA_5', 'MA_10', 'MA_15', 'MA_20', 'MA_25', 'MA_30', 'Normalised Close', 'Return Ratio', 'Percentage Change Open', 'Percentage Change High', 'Percentage Change Low', 'Sector', 'Sector Encoded', 'Stock_Movement_Label'] (20 columns)\n",
            "✅ Processed SONACOMS_data.csv successfully.\n",
            "Processing file: GLAND_data.csv\n",
            "Original columns: ['Price', 'Close', 'High', 'Low', 'Open', 'Volume', 'MA_5', 'MA_10', 'MA_15', 'MA_20', 'MA_25', 'MA_30', 'Normalised Close', 'Return Ratio', 'Percentage Change Open', 'Percentage Change High', 'Percentage Change Low', 'Sector', 'Sector Encoded', 'Stock_Movement_Label'] (20 columns)\n",
            "✅ Processed GLAND_data.csv successfully.\n",
            "Processing file: INOXWIND_data.csv\n",
            "Original columns: ['Price', 'Close', 'High', 'Low', 'Open', 'Volume', 'MA_5', 'MA_10', 'MA_15', 'MA_20', 'MA_25', 'MA_30', 'Normalised Close', 'Return Ratio', 'Percentage Change Open', 'Percentage Change High', 'Percentage Change Low', 'Sector', 'Sector Encoded', 'Stock_Movement_Label'] (20 columns)\n",
            "✅ Processed INOXWIND_data.csv successfully.\n",
            "Processing file: CIPLA_data.csv\n",
            "Original columns: ['Price', 'Close', 'High', 'Low', 'Open', 'Volume', 'MA_5', 'MA_10', 'MA_15', 'MA_20', 'MA_25', 'MA_30', 'Normalised Close', 'Return Ratio', 'Percentage Change Open', 'Percentage Change High', 'Percentage Change Low', 'Sector', 'Sector Encoded', 'Stock_Movement_Label'] (20 columns)\n",
            "✅ Processed CIPLA_data.csv successfully.\n",
            "Processing file: SAIL_data.csv\n",
            "Original columns: ['Price', 'Close', 'High', 'Low', 'Open', 'Volume', 'MA_5', 'MA_10', 'MA_15', 'MA_20', 'MA_25', 'MA_30', 'Normalised Close', 'Return Ratio', 'Percentage Change Open', 'Percentage Change High', 'Percentage Change Low', 'Sector', 'Sector Encoded', 'Stock_Movement_Label'] (20 columns)\n",
            "✅ Processed SAIL_data.csv successfully.\n",
            "Processing file: CHOLAFIN_data.csv\n",
            "Original columns: ['Price', 'Close', 'High', 'Low', 'Open', 'Volume', 'MA_5', 'MA_10', 'MA_15', 'MA_20', 'MA_25', 'MA_30', 'Normalised Close', 'Return Ratio', 'Percentage Change Open', 'Percentage Change High', 'Percentage Change Low', 'Sector', 'Sector Encoded', 'Stock_Movement_Label'] (20 columns)\n",
            "✅ Processed CHOLAFIN_data.csv successfully.\n",
            "Processing file: SOBHA_data.csv\n",
            "Original columns: ['Price', 'Close', 'High', 'Low', 'Open', 'Volume', 'MA_5', 'MA_10', 'MA_15', 'MA_20', 'MA_25', 'MA_30', 'Normalised Close', 'Return Ratio', 'Percentage Change Open', 'Percentage Change High', 'Percentage Change Low', 'Sector', 'Sector Encoded', 'Stock_Movement_Label'] (20 columns)\n",
            "✅ Processed SOBHA_data.csv successfully.\n",
            "Processing file: VTL_data.csv\n",
            "Original columns: ['Price', 'Close', 'High', 'Low', 'Open', 'Volume', 'MA_5', 'MA_10', 'MA_15', 'MA_20', 'MA_25', 'MA_30', 'Normalised Close', 'Return Ratio', 'Percentage Change Open', 'Percentage Change High', 'Percentage Change Low', 'Sector', 'Sector Encoded', 'Stock_Movement_Label'] (20 columns)\n",
            "✅ Processed VTL_data.csv successfully.\n",
            "Processing file: EASEMYTRIP_data.csv\n",
            "Original columns: ['Price', 'Close', 'High', 'Low', 'Open', 'Volume', 'MA_5', 'MA_10', 'MA_15', 'MA_20', 'MA_25', 'MA_30', 'Normalised Close', 'Return Ratio', 'Percentage Change Open', 'Percentage Change High', 'Percentage Change Low', 'Sector', 'Sector Encoded', 'Stock_Movement_Label'] (20 columns)\n",
            "✅ Processed EASEMYTRIP_data.csv successfully.\n",
            "Processing file: BALAMINES_data.csv\n",
            "Original columns: ['Price', 'Close', 'High', 'Low', 'Open', 'Volume', 'MA_5', 'MA_10', 'MA_15', 'MA_20', 'MA_25', 'MA_30', 'Normalised Close', 'Return Ratio', 'Percentage Change Open', 'Percentage Change High', 'Percentage Change Low', 'Sector', 'Sector Encoded', 'Stock_Movement_Label'] (20 columns)\n",
            "✅ Processed BALAMINES_data.csv successfully.\n",
            "Processing file: GAIL_data.csv\n",
            "Original columns: ['Price', 'Close', 'High', 'Low', 'Open', 'Volume', 'MA_5', 'MA_10', 'MA_15', 'MA_20', 'MA_25', 'MA_30', 'Normalised Close', 'Return Ratio', 'Percentage Change Open', 'Percentage Change High', 'Percentage Change Low', 'Sector', 'Sector Encoded', 'Stock_Movement_Label'] (20 columns)\n",
            "✅ Processed GAIL_data.csv successfully.\n",
            "Processing file: TECHNOE_data.csv\n",
            "Original columns: ['Price', 'Close', 'High', 'Low', 'Open', 'Volume', 'MA_5', 'MA_10', 'MA_15', 'MA_20', 'MA_25', 'MA_30', 'Normalised Close', 'Return Ratio', 'Percentage Change Open', 'Percentage Change High', 'Percentage Change Low', 'Sector', 'Sector Encoded', 'Stock_Movement_Label'] (20 columns)\n",
            "✅ Processed TECHNOE_data.csv successfully.\n",
            "Processing file: SCHAEFFLER_data.csv\n",
            "Original columns: ['Price', 'Close', 'High', 'Low', 'Open', 'Volume', 'MA_5', 'MA_10', 'MA_15', 'MA_20', 'MA_25', 'MA_30', 'Normalised Close', 'Return Ratio', 'Percentage Change Open', 'Percentage Change High', 'Percentage Change Low', 'Sector', 'Sector Encoded', 'Stock_Movement_Label'] (20 columns)\n",
            "✅ Processed SCHAEFFLER_data.csv successfully.\n",
            "Processing file: RTNINDIA_data.csv\n",
            "Original columns: ['Price', 'Close', 'High', 'Low', 'Open', 'Volume', 'MA_5', 'MA_10', 'MA_15', 'MA_20', 'MA_25', 'MA_30', 'Normalised Close', 'Return Ratio', 'Percentage Change Open', 'Percentage Change High', 'Percentage Change Low', 'Sector', 'Sector Encoded', 'Stock_Movement_Label'] (20 columns)\n",
            "✅ Processed RTNINDIA_data.csv successfully.\n",
            "Processing file: VEDL_data.csv\n",
            "Original columns: ['Price', 'Close', 'High', 'Low', 'Open', 'Volume', 'MA_5', 'MA_10', 'MA_15', 'MA_20', 'MA_25', 'MA_30', 'Normalised Close', 'Return Ratio', 'Percentage Change Open', 'Percentage Change High', 'Percentage Change Low', 'Sector', 'Sector Encoded', 'Stock_Movement_Label'] (20 columns)\n",
            "✅ Processed VEDL_data.csv successfully.\n",
            "Processing file: KSB_data.csv\n",
            "Original columns: ['Price', 'Close', 'High', 'Low', 'Open', 'Volume', 'MA_5', 'MA_10', 'MA_15', 'MA_20', 'MA_25', 'MA_30', 'Normalised Close', 'Return Ratio', 'Percentage Change Open', 'Percentage Change High', 'Percentage Change Low', 'Sector', 'Sector Encoded', 'Stock_Movement_Label'] (20 columns)\n",
            "✅ Processed KSB_data.csv successfully.\n",
            "Processing file: HAL_data.csv\n",
            "Original columns: ['Price', 'Close', 'High', 'Low', 'Open', 'Volume', 'MA_5', 'MA_10', 'MA_15', 'MA_20', 'MA_25', 'MA_30', 'Normalised Close', 'Return Ratio', 'Percentage Change Open', 'Percentage Change High', 'Percentage Change Low', 'Sector', 'Sector Encoded', 'Stock_Movement_Label'] (20 columns)\n",
            "✅ Processed HAL_data.csv successfully.\n",
            "Processing file: AJANTPHARM_data.csv\n",
            "Original columns: ['Price', 'Close', 'High', 'Low', 'Open', 'Volume', 'MA_5', 'MA_10', 'MA_15', 'MA_20', 'MA_25', 'MA_30', 'Normalised Close', 'Return Ratio', 'Percentage Change Open', 'Percentage Change High', 'Percentage Change Low', 'Sector', 'Sector Encoded', 'Stock_Movement_Label'] (20 columns)\n",
            "✅ Processed AJANTPHARM_data.csv successfully.\n",
            "Processing file: RCF_data.csv\n",
            "Original columns: ['Price', 'Close', 'High', 'Low', 'Open', 'Volume', 'MA_5', 'MA_10', 'MA_15', 'MA_20', 'MA_25', 'MA_30', 'Normalised Close', 'Return Ratio', 'Percentage Change Open', 'Percentage Change High', 'Percentage Change Low', 'Sector', 'Sector Encoded', 'Stock_Movement_Label'] (20 columns)\n",
            "✅ Processed RCF_data.csv successfully.\n",
            "Processing file: PETRONET_data.csv\n",
            "Original columns: ['Price', 'Close', 'High', 'Low', 'Open', 'Volume', 'MA_5', 'MA_10', 'MA_15', 'MA_20', 'MA_25', 'MA_30', 'Normalised Close', 'Return Ratio', 'Percentage Change Open', 'Percentage Change High', 'Percentage Change Low', 'Sector', 'Sector Encoded', 'Stock_Movement_Label'] (20 columns)\n",
            "✅ Processed PETRONET_data.csv successfully.\n",
            "Processing file: GODREJCP_data.csv\n",
            "Original columns: ['Price', 'Close', 'High', 'Low', 'Open', 'Volume', 'MA_5', 'MA_10', 'MA_15', 'MA_20', 'MA_25', 'MA_30', 'Normalised Close', 'Return Ratio', 'Percentage Change Open', 'Percentage Change High', 'Percentage Change Low', 'Sector', 'Sector Encoded', 'Stock_Movement_Label'] (20 columns)\n",
            "✅ Processed GODREJCP_data.csv successfully.\n",
            "Processing file: M&M_data.csv\n",
            "Original columns: ['Price', 'Close', 'High', 'Low', 'Open', 'Volume', 'MA_5', 'MA_10', 'MA_15', 'MA_20', 'MA_25', 'MA_30', 'Normalised Close', 'Return Ratio', 'Percentage Change Open', 'Percentage Change High', 'Percentage Change Low', 'Sector', 'Sector Encoded', 'Stock_Movement_Label'] (20 columns)\n",
            "✅ Processed M&M_data.csv successfully.\n",
            "Processing file: GLAXO_data.csv\n",
            "Original columns: ['Price', 'Close', 'High', 'Low', 'Open', 'Volume', 'MA_5', 'MA_10', 'MA_15', 'MA_20', 'MA_25', 'MA_30', 'Normalised Close', 'Return Ratio', 'Percentage Change Open', 'Percentage Change High', 'Percentage Change Low', 'Sector', 'Sector Encoded', 'Stock_Movement_Label'] (20 columns)\n",
            "✅ Processed GLAXO_data.csv successfully.\n",
            "Processing file: ROUTE_data.csv\n",
            "Original columns: ['Price', 'Close', 'High', 'Low', 'Open', 'Volume', 'MA_5', 'MA_10', 'MA_15', 'MA_20', 'MA_25', 'MA_30', 'Normalised Close', 'Return Ratio', 'Percentage Change Open', 'Percentage Change High', 'Percentage Change Low', 'Sector', 'Sector Encoded', 'Stock_Movement_Label'] (20 columns)\n",
            "✅ Processed ROUTE_data.csv successfully.\n",
            "Processing file: CENTURYPLY_data.csv\n",
            "Original columns: ['Price', 'Close', 'High', 'Low', 'Open', 'Volume', 'MA_5', 'MA_10', 'MA_15', 'MA_20', 'MA_25', 'MA_30', 'Normalised Close', 'Return Ratio', 'Percentage Change Open', 'Percentage Change High', 'Percentage Change Low', 'Sector', 'Sector Encoded', 'Stock_Movement_Label'] (20 columns)\n",
            "✅ Processed CENTURYPLY_data.csv successfully.\n",
            "Processing file: JKLAKSHMI_data.csv\n",
            "Original columns: ['Price', 'Close', 'High', 'Low', 'Open', 'Volume', 'MA_5', 'MA_10', 'MA_15', 'MA_20', 'MA_25', 'MA_30', 'Normalised Close', 'Return Ratio', 'Percentage Change Open', 'Percentage Change High', 'Percentage Change Low', 'Sector', 'Sector Encoded', 'Stock_Movement_Label'] (20 columns)\n",
            "✅ Processed JKLAKSHMI_data.csv successfully.\n",
            "Processing file: ICICIGI_data.csv\n",
            "Original columns: ['Price', 'Close', 'High', 'Low', 'Open', 'Volume', 'MA_5', 'MA_10', 'MA_15', 'MA_20', 'MA_25', 'MA_30', 'Normalised Close', 'Return Ratio', 'Percentage Change Open', 'Percentage Change High', 'Percentage Change Low', 'Sector', 'Sector Encoded', 'Stock_Movement_Label'] (20 columns)\n",
            "✅ Processed ICICIGI_data.csv successfully.\n",
            "Processing file: HAVELLS_data.csv\n",
            "Original columns: ['Price', 'Close', 'High', 'Low', 'Open', 'Volume', 'MA_5', 'MA_10', 'MA_15', 'MA_20', 'MA_25', 'MA_30', 'Normalised Close', 'Return Ratio', 'Percentage Change Open', 'Percentage Change High', 'Percentage Change Low', 'Sector', 'Sector Encoded', 'Stock_Movement_Label'] (20 columns)\n",
            "✅ Processed HAVELLS_data.csv successfully.\n",
            "Processing file: ABSLAMC_data.csv\n",
            "Original columns: ['Price', 'Close', 'High', 'Low', 'Open', 'Volume', 'MA_5', 'MA_10', 'MA_15', 'MA_20', 'MA_25', 'MA_30', 'Normalised Close', 'Return Ratio', 'Percentage Change Open', 'Percentage Change High', 'Percentage Change Low', 'Sector', 'Sector Encoded', 'Stock_Movement_Label'] (20 columns)\n",
            "✅ Processed ABSLAMC_data.csv successfully.\n",
            "Processing file: PIIND_data.csv\n",
            "Original columns: ['Price', 'Close', 'High', 'Low', 'Open', 'Volume', 'MA_5', 'MA_10', 'MA_15', 'MA_20', 'MA_25', 'MA_30', 'Normalised Close', 'Return Ratio', 'Percentage Change Open', 'Percentage Change High', 'Percentage Change Low', 'Sector', 'Sector Encoded', 'Stock_Movement_Label'] (20 columns)\n",
            "✅ Processed PIIND_data.csv successfully.\n",
            "Processing file: IGL_data.csv\n",
            "Original columns: ['Price', 'Close', 'High', 'Low', 'Open', 'Volume', 'MA_5', 'MA_10', 'MA_15', 'MA_20', 'MA_25', 'MA_30', 'Normalised Close', 'Return Ratio', 'Percentage Change Open', 'Percentage Change High', 'Percentage Change Low', 'Sector', 'Sector Encoded', 'Stock_Movement_Label'] (20 columns)\n",
            "✅ Processed IGL_data.csv successfully.\n",
            "Processing file: BDL_data.csv\n",
            "Original columns: ['Price', 'Close', 'High', 'Low', 'Open', 'Volume', 'MA_5', 'MA_10', 'MA_15', 'MA_20', 'MA_25', 'MA_30', 'Normalised Close', 'Return Ratio', 'Percentage Change Open', 'Percentage Change High', 'Percentage Change Low', 'Sector', 'Sector Encoded', 'Stock_Movement_Label'] (20 columns)\n",
            "✅ Processed BDL_data.csv successfully.\n",
            "Processing file: EQUITASBNK_data.csv\n",
            "Original columns: ['Price', 'Close', 'High', 'Low', 'Open', 'Volume', 'MA_5', 'MA_10', 'MA_15', 'MA_20', 'MA_25', 'MA_30', 'Normalised Close', 'Return Ratio', 'Percentage Change Open', 'Percentage Change High', 'Percentage Change Low', 'Sector', 'Sector Encoded', 'Stock_Movement_Label'] (20 columns)\n",
            "✅ Processed EQUITASBNK_data.csv successfully.\n",
            "Processing file: GRINFRA_data.csv\n",
            "Original columns: ['Price', 'Close', 'High', 'Low', 'Open', 'Volume', 'MA_5', 'MA_10', 'MA_15', 'MA_20', 'MA_25', 'MA_30', 'Normalised Close', 'Return Ratio', 'Percentage Change Open', 'Percentage Change High', 'Percentage Change Low', 'Sector', 'Sector Encoded', 'Stock_Movement_Label'] (20 columns)\n",
            "✅ Processed GRINFRA_data.csv successfully.\n",
            "Processing file: HDFCAMC_data.csv\n",
            "Original columns: ['Price', 'Close', 'High', 'Low', 'Open', 'Volume', 'MA_5', 'MA_10', 'MA_15', 'MA_20', 'MA_25', 'MA_30', 'Normalised Close', 'Return Ratio', 'Percentage Change Open', 'Percentage Change High', 'Percentage Change Low', 'Sector', 'Sector Encoded', 'Stock_Movement_Label'] (20 columns)\n",
            "✅ Processed HDFCAMC_data.csv successfully.\n",
            "Processing file: GODREJIND_data.csv\n",
            "Original columns: ['Price', 'Close', 'High', 'Low', 'Open', 'Volume', 'MA_5', 'MA_10', 'MA_15', 'MA_20', 'MA_25', 'MA_30', 'Normalised Close', 'Return Ratio', 'Percentage Change Open', 'Percentage Change High', 'Percentage Change Low', 'Sector', 'Sector Encoded', 'Stock_Movement_Label'] (20 columns)\n",
            "✅ Processed GODREJIND_data.csv successfully.\n",
            "Processing file: KALYANKJIL_data.csv\n",
            "Original columns: ['Price', 'Close', 'High', 'Low', 'Open', 'Volume', 'MA_5', 'MA_10', 'MA_15', 'MA_20', 'MA_25', 'MA_30', 'Normalised Close', 'Return Ratio', 'Percentage Change Open', 'Percentage Change High', 'Percentage Change Low', 'Sector', 'Sector Encoded', 'Stock_Movement_Label'] (20 columns)\n",
            "✅ Processed KALYANKJIL_data.csv successfully.\n",
            "Processing file: WHIRLPOOL_data.csv\n",
            "Original columns: ['Price', 'Close', 'High', 'Low', 'Open', 'Volume', 'MA_5', 'MA_10', 'MA_15', 'MA_20', 'MA_25', 'MA_30', 'Normalised Close', 'Return Ratio', 'Percentage Change Open', 'Percentage Change High', 'Percentage Change Low', 'Sector', 'Sector Encoded', 'Stock_Movement_Label'] (20 columns)\n",
            "✅ Processed WHIRLPOOL_data.csv successfully.\n",
            "Processing file: IEX_data.csv\n",
            "Original columns: ['Price', 'Close', 'High', 'Low', 'Open', 'Volume', 'MA_5', 'MA_10', 'MA_15', 'MA_20', 'MA_25', 'MA_30', 'Normalised Close', 'Return Ratio', 'Percentage Change Open', 'Percentage Change High', 'Percentage Change Low', 'Sector', 'Sector Encoded', 'Stock_Movement_Label'] (20 columns)\n",
            "✅ Processed IEX_data.csv successfully.\n",
            "Processing file: GNFC_data.csv\n",
            "Original columns: ['Price', 'Close', 'High', 'Low', 'Open', 'Volume', 'MA_5', 'MA_10', 'MA_15', 'MA_20', 'MA_25', 'MA_30', 'Normalised Close', 'Return Ratio', 'Percentage Change Open', 'Percentage Change High', 'Percentage Change Low', 'Sector', 'Sector Encoded', 'Stock_Movement_Label'] (20 columns)\n",
            "✅ Processed GNFC_data.csv successfully.\n",
            "Processing file: MOTILALOFS_data.csv\n",
            "Original columns: ['Price', 'Close', 'High', 'Low', 'Open', 'Volume', 'MA_5', 'MA_10', 'MA_15', 'MA_20', 'MA_25', 'MA_30', 'Normalised Close', 'Return Ratio', 'Percentage Change Open', 'Percentage Change High', 'Percentage Change Low', 'Sector', 'Sector Encoded', 'Stock_Movement_Label'] (20 columns)\n",
            "✅ Processed MOTILALOFS_data.csv successfully.\n",
            "Processing file: IDFCFIRSTB_data.csv\n",
            "Original columns: ['Price', 'Close', 'High', 'Low', 'Open', 'Volume', 'MA_5', 'MA_10', 'MA_15', 'MA_20', 'MA_25', 'MA_30', 'Normalised Close', 'Return Ratio', 'Percentage Change Open', 'Percentage Change High', 'Percentage Change Low', 'Sector', 'Sector Encoded', 'Stock_Movement_Label'] (20 columns)\n",
            "✅ Processed IDFCFIRSTB_data.csv successfully.\n",
            "Processing file: HAPPSTMNDS_data.csv\n",
            "Original columns: ['Price', 'Close', 'High', 'Low', 'Open', 'Volume', 'MA_5', 'MA_10', 'MA_15', 'MA_20', 'MA_25', 'MA_30', 'Normalised Close', 'Return Ratio', 'Percentage Change Open', 'Percentage Change High', 'Percentage Change Low', 'Sector', 'Sector Encoded', 'Stock_Movement_Label'] (20 columns)\n",
            "✅ Processed HAPPSTMNDS_data.csv successfully.\n",
            "Processing file: TEJASNET_data.csv\n",
            "Original columns: ['Price', 'Close', 'High', 'Low', 'Open', 'Volume', 'MA_5', 'MA_10', 'MA_15', 'MA_20', 'MA_25', 'MA_30', 'Normalised Close', 'Return Ratio', 'Percentage Change Open', 'Percentage Change High', 'Percentage Change Low', 'Sector', 'Sector Encoded', 'Stock_Movement_Label'] (20 columns)\n",
            "✅ Processed TEJASNET_data.csv successfully.\n",
            "Processing file: IDEA_data.csv\n",
            "Original columns: ['Price', 'Close', 'High', 'Low', 'Open', 'Volume', 'MA_5', 'MA_10', 'MA_15', 'MA_20', 'MA_25', 'MA_30', 'Normalised Close', 'Return Ratio', 'Percentage Change Open', 'Percentage Change High', 'Percentage Change Low', 'Sector', 'Sector Encoded', 'Stock_Movement_Label'] (20 columns)\n",
            "✅ Processed IDEA_data.csv successfully.\n",
            "Processing file: SHREECEM_data.csv\n",
            "Original columns: ['Price', 'Close', 'High', 'Low', 'Open', 'Volume', 'MA_5', 'MA_10', 'MA_15', 'MA_20', 'MA_25', 'MA_30', 'Normalised Close', 'Return Ratio', 'Percentage Change Open', 'Percentage Change High', 'Percentage Change Low', 'Sector', 'Sector Encoded', 'Stock_Movement_Label'] (20 columns)\n",
            "✅ Processed SHREECEM_data.csv successfully.\n",
            "Processing file: JBCHEPHARM_data.csv\n",
            "Original columns: ['Price', 'Close', 'High', 'Low', 'Open', 'Volume', 'MA_5', 'MA_10', 'MA_15', 'MA_20', 'MA_25', 'MA_30', 'Normalised Close', 'Return Ratio', 'Percentage Change Open', 'Percentage Change High', 'Percentage Change Low', 'Sector', 'Sector Encoded', 'Stock_Movement_Label'] (20 columns)\n",
            "✅ Processed JBCHEPHARM_data.csv successfully.\n",
            "Processing file: CAMS_data.csv\n",
            "Original columns: ['Price', 'Close', 'High', 'Low', 'Open', 'Volume', 'MA_5', 'MA_10', 'MA_15', 'MA_20', 'MA_25', 'MA_30', 'Normalised Close', 'Return Ratio', 'Percentage Change Open', 'Percentage Change High', 'Percentage Change Low', 'Sector', 'Sector Encoded', 'Stock_Movement_Label'] (20 columns)\n",
            "✅ Processed CAMS_data.csv successfully.\n",
            "Processing file: ENDURANCE_data.csv\n",
            "Original columns: ['Price', 'Close', 'High', 'Low', 'Open', 'Volume', 'MA_5', 'MA_10', 'MA_15', 'MA_20', 'MA_25', 'MA_30', 'Normalised Close', 'Return Ratio', 'Percentage Change Open', 'Percentage Change High', 'Percentage Change Low', 'Sector', 'Sector Encoded', 'Stock_Movement_Label'] (20 columns)\n",
            "✅ Processed ENDURANCE_data.csv successfully.\n",
            "Processing file: STARHEALTH_data.csv\n",
            "Original columns: ['Price', 'Close', 'High', 'Low', 'Open', 'Volume', 'MA_5', 'MA_10', 'MA_15', 'MA_20', 'MA_25', 'MA_30', 'Normalised Close', 'Return Ratio', 'Percentage Change Open', 'Percentage Change High', 'Percentage Change Low', 'Sector', 'Sector Encoded', 'Stock_Movement_Label'] (20 columns)\n",
            "✅ Processed STARHEALTH_data.csv successfully.\n",
            "Processing file: BASF_data.csv\n",
            "Original columns: ['Price', 'Close', 'High', 'Low', 'Open', 'Volume', 'MA_5', 'MA_10', 'MA_15', 'MA_20', 'MA_25', 'MA_30', 'Normalised Close', 'Return Ratio', 'Percentage Change Open', 'Percentage Change High', 'Percentage Change Low', 'Sector', 'Sector Encoded', 'Stock_Movement_Label'] (20 columns)\n",
            "✅ Processed BASF_data.csv successfully.\n",
            "Processing file: LTF_data.csv\n",
            "Original columns: ['Price', 'Close', 'High', 'Low', 'Open', 'Volume', 'MA_5', 'MA_10', 'MA_15', 'MA_20', 'MA_25', 'MA_30', 'Normalised Close', 'Return Ratio', 'Percentage Change Open', 'Percentage Change High', 'Percentage Change Low', 'Sector', 'Sector Encoded', 'Stock_Movement_Label'] (20 columns)\n",
            "✅ Processed LTF_data.csv successfully.\n"
          ]
        }
      ]
    },
    {
      "cell_type": "code",
      "source": [],
      "metadata": {
        "id": "Od5jykwHCAQy"
      },
      "execution_count": null,
      "outputs": []
    },
    {
      "cell_type": "code",
      "source": [
        "import os\n",
        "\n",
        "file_path = \"/content/Data_is_here\"\n",
        "\n",
        "if os.path.exists(file_path):\n",
        "    files = [file for file in os.listdir(file_path) if file.endswith(\".csv\")]\n",
        "    print(f\"Number of companies (CSV files): {len(files)}\")\n",
        "else:\n",
        "    print(f\"Directory {file_path} does not exist.\")\n",
        "\n",
        "\n",
        "df = pd.read_csv(\"/content/Data_is_here/POWERGRID_data.csv\")  # Replace with an actual filename\n",
        "print(df.head())  # Check if \"Stock_Movement_Label\" is updated"
      ],
      "metadata": {
        "id": "dB2Lo_JtphJz",
        "colab": {
          "base_uri": "https://localhost:8080/"
        },
        "collapsed": true,
        "outputId": "599c802e-b128-444b-c46e-ae9f9c8c81fe"
      },
      "execution_count": null,
      "outputs": [
        {
          "output_type": "stream",
          "name": "stdout",
          "text": [
            "Number of companies (CSV files): 451\n",
            "        Price               Close                High                 Low  \\\n",
            "0      Ticker        POWERGRID.NS        POWERGRID.NS        POWERGRID.NS   \n",
            "1        Date                 NaN                 NaN                 NaN   \n",
            "2  2022-01-10  128.63702392578125     130.68638827754  128.29020328847753   \n",
            "3  2022-01-11  128.54246520996094  129.77209180444058   128.3217669480974   \n",
            "4  2022-01-12  129.23606872558594   130.3395726497143  128.85772708883846   \n",
            "\n",
            "                 Open        Volume  MA_5  MA_10  MA_15  MA_20  MA_25  MA_30  \\\n",
            "0        POWERGRID.NS  POWERGRID.NS   NaN    NaN    NaN    NaN    NaN    NaN   \n",
            "1                 NaN           NaN   NaN    NaN    NaN    NaN    NaN    NaN   \n",
            "2     130.68638827754      11085710   NaN    NaN    NaN    NaN    NaN    NaN   \n",
            "3  128.98387456274466       7208789   NaN    NaN    NaN    NaN    NaN    NaN   \n",
            "4  129.89817621168464      11018139   NaN    NaN    NaN    NaN    NaN    NaN   \n",
            "\n",
            "   Normalised Close  Return Ratio  Percentage Change Open  \\\n",
            "0               NaN           NaN                     NaN   \n",
            "1               NaN           NaN                     NaN   \n",
            "2         -1.065506           NaN                0.015931   \n",
            "3         -1.066808     -0.000735                0.003434   \n",
            "4         -1.057257      0.005396                0.005123   \n",
            "\n",
            "   Percentage Change High  Percentage Change Low Sector  Sector Encoded  \\\n",
            "0                     NaN                    NaN    NaN             NaN   \n",
            "1                     NaN                    NaN    NaN             NaN   \n",
            "2                0.015931              -0.002696  Power            16.0   \n",
            "3                0.009566              -0.001717  Power            16.0   \n",
            "4                0.008539              -0.002928  Power            16.0   \n",
            "\n",
            "   Stock_Movement_Label  \n",
            "0                     1  \n",
            "1                     0  \n",
            "2                     0  \n",
            "3                     0  \n",
            "4                     0  \n"
          ]
        }
      ]
    },
    {
      "cell_type": "code",
      "source": [
        "pip install feedparser"
      ],
      "metadata": {
        "id": "Rmbs_qlCp_SL",
        "collapsed": true
      },
      "execution_count": null,
      "outputs": []
    },
    {
      "cell_type": "code",
      "source": [
        "import pandas as pd\n",
        "\n",
        "# Get NIFTY 500 stock list from NSE\n",
        "nifty500_url = \"https://archives.nseindia.com/content/indices/ind_nifty500list.csv\"\n",
        "df = pd.read_csv(nifty500_url)\n",
        "\n",
        "# Extract company names and symbols\n",
        "nifty500_stocks = df[\"Company Name\"].tolist()\n",
        "\n",
        "nifty500_symbols = df[\"Symbol\"].tolist()\n",
        "\n",
        "print(nifty500_stocks[:5])  # Check first 5 companies"
      ],
      "metadata": {
        "id": "QAQ9dD1UqeTQ"
      },
      "execution_count": null,
      "outputs": []
    },
    {
      "cell_type": "code",
      "source": [
        "import feedparser\n",
        "import pandas as pd\n",
        "import concurrent.futures\n",
        "import time\n",
        "import random\n",
        "from datetime import datetime, timedelta\n",
        "from urllib.parse import quote  # ✅ URL encoding\n",
        "import os\n",
        "\n",
        "# Load NIFTY 500 company names\n",
        "df = pd.read_csv(nifty500_url)\n",
        "companies = df[\"Company Name\"].tolist()\n",
        "\n",
        "# CSV file to store results\n",
        "csv_filename = \"nifty500_google_rss_news.csv\"\n",
        "\n",
        "# Create CSV with headers if it doesn't exist\n",
        "if not os.path.exists(csv_filename):\n",
        "    pd.DataFrame(columns=[\"Date\", \"Company\", \"Headline\", \"Link\"]).to_csv(csv_filename, index=False)\n",
        "\n",
        "def get_google_rss_news(company_name, start_year=2022):\n",
        "    \"\"\"Fetch Google RSS news for a company, getting 1 headline per month from 2022 onward.\"\"\"\n",
        "    news_items = []\n",
        "    query = quote(f\"{company_name} stock\")\n",
        "    start_date = datetime(start_year, 1, 1)\n",
        "    end_date = datetime.today()\n",
        "\n",
        "    while start_date <= end_date:\n",
        "        after_date = start_date.strftime(\"%Y-%m-%d\")\n",
        "        before_date = (start_date + timedelta(days=30)).strftime(\"%Y-%m-%d\")\n",
        "        rss_url = (f\"https://news.google.com/rss/search?q={query}+after:{after_date}+before:{before_date}\"\n",
        "                   f\"&hl=en-IN&gl=IN&ceid=IN:en\")\n",
        "\n",
        "        feed = feedparser.parse(rss_url)\n",
        "\n",
        "        if feed.entries:\n",
        "            entry = feed.entries[0]\n",
        "            news_items.append({\n",
        "                \"Date\": datetime(*entry.published_parsed[:3]).strftime(\"%Y-%m-%d\"),\n",
        "                \"Company\": company_name,\n",
        "                \"Headline\": entry.title,\n",
        "                \"Link\": entry.link\n",
        "            })\n",
        "#        print(f\"📰 {news_item['Date']} | {news_item['Company']} | {news_item['Headline']}\")\n",
        "        start_date += timedelta(days=30)\n",
        "\n",
        "        # 🔹 Avoid Google rate limits\n",
        "        time.sleep(random.uniform(1, 3))\n",
        "\n",
        "    return news_items\n",
        "\n",
        "# Run scraper and save after each company\n",
        "with concurrent.futures.ThreadPoolExecutor(max_workers=5) as executor:  # Adjust `max_workers`\n",
        "    future_to_company = {executor.submit(get_google_rss_news, company): company for company in companies}\n",
        "\n",
        "    for future in concurrent.futures.as_completed(future_to_company):\n",
        "        company_name = future_to_company[future]\n",
        "        try:\n",
        "            company_news = future.result()\n",
        "            if company_news:\n",
        "                # Convert to DataFrame and **append to CSV**\n",
        "                pd.DataFrame(company_news).to_csv(csv_filename, mode=\"a\", header=False, index=False)\n",
        "                print(f\"✅ Saved news for {company_name}\")\n",
        "            else:\n",
        "                print(f\"⚠️ No news for {company_name}\")\n",
        "        except Exception as e:\n",
        "            print(f\"❌ Error fetching news for {company_name}: {e}\")\n",
        "\n",
        "print(\"✅ Scraping complete! News saved incrementally to nifty500_google_rss_news.csv\")\n"
      ],
      "metadata": {
        "id": "9a1mES5HpnU-"
      },
      "execution_count": null,
      "outputs": []
    },
    {
      "cell_type": "code",
      "source": [
        "!pip install vaderSentiment\n"
      ],
      "metadata": {
        "colab": {
          "base_uri": "https://localhost:8080/"
        },
        "id": "KbC75rVLlwBr",
        "outputId": "67e3de77-dbf9-4e6e-da8c-94b927acdfb4"
      },
      "execution_count": null,
      "outputs": [
        {
          "output_type": "stream",
          "name": "stdout",
          "text": [
            "Collecting vaderSentiment\n",
            "  Downloading vaderSentiment-3.3.2-py2.py3-none-any.whl.metadata (572 bytes)\n",
            "Requirement already satisfied: requests in /usr/local/lib/python3.11/dist-packages (from vaderSentiment) (2.32.3)\n",
            "Requirement already satisfied: charset-normalizer<4,>=2 in /usr/local/lib/python3.11/dist-packages (from requests->vaderSentiment) (3.4.1)\n",
            "Requirement already satisfied: idna<4,>=2.5 in /usr/local/lib/python3.11/dist-packages (from requests->vaderSentiment) (3.10)\n",
            "Requirement already satisfied: urllib3<3,>=1.21.1 in /usr/local/lib/python3.11/dist-packages (from requests->vaderSentiment) (2.3.0)\n",
            "Requirement already satisfied: certifi>=2017.4.17 in /usr/local/lib/python3.11/dist-packages (from requests->vaderSentiment) (2025.1.31)\n",
            "Downloading vaderSentiment-3.3.2-py2.py3-none-any.whl (125 kB)\n",
            "\u001b[?25l   \u001b[90m━━━━━━━━━━━━━━━━━━━━━━━━━━━━━━━━━━━━━━━━\u001b[0m \u001b[32m0.0/126.0 kB\u001b[0m \u001b[31m?\u001b[0m eta \u001b[36m-:--:--\u001b[0m\r\u001b[2K   \u001b[90m━━━━━━━━━━━━━━━━━━━━━━━━━━━━━━━━━━━━━━━━\u001b[0m \u001b[32m126.0/126.0 kB\u001b[0m \u001b[31m4.2 MB/s\u001b[0m eta \u001b[36m0:00:00\u001b[0m\n",
            "\u001b[?25hInstalling collected packages: vaderSentiment\n",
            "Successfully installed vaderSentiment-3.3.2\n"
          ]
        }
      ]
    },
    {
      "cell_type": "code",
      "source": [
        "import pandas as pd\n",
        "import feedparser\n",
        "import pandas as pd\n",
        "from datetime import datetime, timedelta\n",
        "from urllib.parse import quote  # ✅ URL encoding\n",
        "from vaderSentiment.vaderSentiment import SentimentIntensityAnalyzer\n",
        "\n",
        "\n",
        "# Initialize VADER sentiment analyzer\n",
        "analyzer = SentimentIntensityAnalyzer()\n",
        "\n",
        "# Function to get normalized sentiment score (0 to 1)\n",
        "def get_sentiment_score(text):\n",
        "    compound_score = analyzer.polarity_scores(text)['compound']\n",
        "    return (compound_score + 1) / 2  # Normalize to 0-1 range\n",
        "\n",
        "\n",
        "# Apply sentiment analysis to each headline\n",
        "news_df=pd.read_csv(\"nifty500_google_rss_news.csv\")\n",
        "news_df[\"Sentiment Score\"] = news_df[\"Headline\"].apply(get_sentiment_score)\n",
        "\n",
        "# Save results with sentiment scores\n",
        "news_df.to_csv(\"nifty500_weekly_google_rss_news_with_sentiment.csv\", index=False)\n",
        "\n",
        "print(\"✅ Sentiment analysis complete! CSV saved with sentiment scores in the range [0,1].\")"
      ],
      "metadata": {
        "id": "9RsiTDFlwe32"
      },
      "execution_count": null,
      "outputs": []
    },
    {
      "cell_type": "code",
      "source": [
        "from google.colab import drive\n",
        "drive.mount('/content/drive')\n",
        "\n",
        "# Example path to your CSV file on Google Drive\n",
        "csv_path = '/content/drive/MyDrive/nifty500_weekly_google_rss_news_with_sentiment.csv'\n",
        "df = pd.read_csv(csv_path)\n"
      ],
      "metadata": {
        "id": "3z2fFA5bsSEe"
      },
      "execution_count": null,
      "outputs": []
    },
    {
      "cell_type": "code",
      "source": [
        "import tensorflow as tf\n",
        "\n",
        "# Create a tensor on the GPU\n",
        "with tf.device('/device:GPU:0'):\n",
        "    tensor_gpu = tf.constant([1, 2, 3])\n",
        "\n",
        "# Move the tensor to the CPU\n",
        "with tf.device('/device:CPU:0'):\n",
        "    tensor_cpu = tf.identity(tensor_gpu)\n",
        "\n",
        "print(tensor_cpu.device)\n"
      ],
      "metadata": {
        "id": "t_G-bq96y5VO"
      },
      "execution_count": null,
      "outputs": []
    },
    {
      "cell_type": "code",
      "source": [
        "import pandas as pd\n",
        "import torch\n",
        "from transformers import AutoModelForSequenceClassification, AutoTokenizer\n",
        "from scipy.special import softmax\n",
        "import os\n",
        "from google.colab import drive\n",
        "\n",
        "# Mount Google Drive (force remount if already mounted)\n",
        "drive.mount('/content/drive', force_remount=True)\n",
        "\n",
        "# List all files in the MyDrive directory to verify the file exists\n",
        "print(\"Files in MyDrive:\")\n",
        "print(os.listdir('/content/drive/MyDrive'))\n",
        "\n",
        "# Example path to your CSV file on Google Drive\n",
        "csv_path = '/content/drive/MyDrive/nifty500_google_rss_news.csv'\n",
        "\n",
        "# Check if the file exists\n",
        "if not os.path.exists(csv_path):\n",
        "    print(\"File not found. Please ensure it is uploaded to Google Drive and the path is correct.\")\n",
        "else:\n",
        "    # Read the CSV file\n",
        "    df = pd.read_csv(csv_path)\n",
        "\n",
        "    # Ensure 'Headline' column exists\n",
        "    if 'Headline' not in df.columns:\n",
        "        print(\"The CSV file must have a column named 'Headline'.\")\n",
        "        exit()\n",
        "\n",
        "    # Load FinBERT model & tokenizer\n",
        "    MODEL_NAME = \"ProsusAI/finbert\"\n",
        "    tokenizer = AutoTokenizer.from_pretrained(MODEL_NAME)\n",
        "    model = AutoModelForSequenceClassification.from_pretrained(MODEL_NAME)\n",
        "\n",
        "    # Function to get sentiment score from FinBERT\n",
        "    def get_finbert_sentiment(text):\n",
        "        inputs = tokenizer(text, return_tensors=\"pt\", truncation=True, padding=True, max_length=512)\n",
        "        with torch.no_grad():\n",
        "            outputs = model(**inputs)\n",
        "        scores = softmax(outputs.logits.numpy()[0])  # Convert logits to probabilities\n",
        "        sentiment_score = scores[2]  # Positive sentiment score\n",
        "        return sentiment_score  # Returns a value between 0 and 1\n",
        "\n",
        "    # Remove existing sentiment analysis column if it exists\n",
        "    if 'Sentiment Score' in df.columns:\n",
        "        df = df.drop('Sentiment Score', axis=1)\n",
        "\n",
        "    # Adjust batch size based on available memory and dataset size\n",
        "    batch_size = 300  # Process in batches of up to 500 or 10% of total rows\n",
        "\n",
        "    # Apply sentiment analysis in batches\n",
        "    for i in range(0, len(df), batch_size):\n",
        "        batch = df.iloc[i:i+batch_size]\n",
        "        df.loc[i:i+batch_size, \"Sentiment Score\"] = batch[\"Headline\"].apply(get_finbert_sentiment)\n",
        "        print(f\"✅ Processed batch {i} to {i+batch_size}\")\n",
        "\n",
        "    # Save results\n",
        "    df.to_csv('/content/drive/MyDrive/sentiment_analysis_results.csv', index=False)\n",
        "    print(\"✅ Sentiment analysis complete! Results saved.\")\n"
      ],
      "metadata": {
        "id": "nvOSlymEwe5d"
      },
      "execution_count": null,
      "outputs": []
    },
    {
      "cell_type": "code",
      "source": [
        "# from google.colab import drive\n",
        "# import pandas as pd\n",
        "\n",
        "# # Mount Google Drive\n",
        "# drive.mount('/content/drive')\n",
        "\n",
        "# # Specify the file path\n",
        "# file_path = \"/content/drive/MyDrive/sentiment_scores.csv\"\n",
        "\n",
        "# # Load the CSV file\n",
        "# df = pd.read_csv(file_path)\n",
        "# print(df.head())\n"
      ],
      "metadata": {
        "colab": {
          "base_uri": "https://localhost:8080/"
        },
        "id": "H0A2YPjHgRAp",
        "outputId": "98a2515e-a603-43d0-cbda-7413a8c39574"
      },
      "execution_count": null,
      "outputs": [
        {
          "output_type": "stream",
          "name": "stdout",
          "text": [
            "Drive already mounted at /content/drive; to attempt to forcibly remount, call drive.mount(\"/content/drive\", force_remount=True).\n",
            "         Date        Company  Sentiment Score\n",
            "0  30/03/2022  3M India Ltd.          0.50000\n",
            "1  12/04/2022  3M India Ltd.          0.81245\n",
            "2  10/05/2022  3M India Ltd.          0.50000\n",
            "3  22/06/2022  3M India Ltd.          0.50000\n",
            "4  21/07/2022  3M India Ltd.          0.65910\n"
          ]
        }
      ]
    },
    {
      "cell_type": "code",
      "source": [
        "# # List all files in the preprocessed directory\n",
        "# print(\"Files in preprocessed directory:\")\n",
        "# for file in files:\n",
        "#     print(file)\n"
      ],
      "metadata": {
        "colab": {
          "base_uri": "https://localhost:8080/"
        },
        "id": "nZ3WSlfqJ7to",
        "outputId": "8dc43a57-5a95-4148-aa43-3d4c55d04d7f"
      },
      "execution_count": null,
      "outputs": [
        {
          "output_type": "stream",
          "name": "stdout",
          "text": [
            "Files in preprocessed directory:\n",
            "ASTRAL_data.csv\n",
            "DRREDDY_data.csv\n",
            "PIDILITIND_data.csv\n",
            "GVT&D_data.csv\n",
            "FINPIPE_data.csv\n",
            "CERA_data.csv\n",
            "TANLA_data.csv\n",
            "HEG_data.csv\n",
            "KNRCON_data.csv\n",
            "FSL_data.csv\n",
            "OIL_data.csv\n",
            "INDIANB_data.csv\n",
            "BANKBARODA_data.csv\n",
            "ALOKINDS_data.csv\n",
            "COCHINSHIP_data.csv\n",
            "BANKINDIA_data.csv\n",
            "GAEL_data.csv\n",
            "LTIM_data.csv\n",
            "AMBUJACEM_data.csv\n",
            "NTPC_data.csv\n",
            "TRIDENT_data.csv\n",
            "AUROPHARMA_data.csv\n",
            "MFSL_data.csv\n",
            "TVSMOTOR_data.csv\n",
            "J&KBANK_data.csv\n",
            "SJVN_data.csv\n",
            "VARROC_data.csv\n",
            "PAGEIND_data.csv\n",
            "PRAJIND_data.csv\n",
            "APOLLOHOSP_data.csv\n",
            "TATACHEM_data.csv\n",
            "RAILTEL_data.csv\n",
            "GSPL_data.csv\n",
            "ALKEM_data.csv\n",
            "FINCABLES_data.csv\n",
            "VBL_data.csv\n",
            "NYKAA_data.csv\n",
            "KARURVYSYA_data.csv\n",
            "ASTRAZEN_data.csv\n",
            "GODREJAGRO_data.csv\n",
            "HCLTECH_data.csv\n",
            "RHIM_data.csv\n",
            "SONATSOFTW_data.csv\n",
            "VOLTAS_data.csv\n",
            "VINATIORGA_data.csv\n",
            "SKFINDIA_data.csv\n",
            "IIFL_data.csv\n",
            "TATAMOTORS_data.csv\n",
            "RATNAMANI_data.csv\n",
            "JPPOWER_data.csv\n",
            "HINDZINC_data.csv\n",
            "BPCL_data.csv\n",
            "CRAFTSMAN_data.csv\n",
            "PHOENIXLTD_data.csv\n",
            "SWANENERGY_data.csv\n",
            "TATASTEEL_data.csv\n",
            "BALRAMCHIN_data.csv\n",
            "ITC_data.csv\n",
            "BHARTIARTL_data.csv\n",
            "GPIL_data.csv\n",
            "ANANDRATHI_data.csv\n",
            "COFORGE_data.csv\n",
            "JSWENERGY_data.csv\n",
            "BLUESTARCO_data.csv\n",
            "KPITTECH_data.csv\n",
            "ZFCVINDIA_data.csv\n",
            "UNOMINDA_data.csv\n",
            "INFY_data.csv\n",
            "ADANIENT_data.csv\n",
            "CHAMBLFERT_data.csv\n",
            "FLUOROCHEM_data.csv\n",
            "TITAN_data.csv\n",
            "GRINDWELL_data.csv\n",
            "ISEC_data.csv\n",
            "SHRIRAMFIN_data.csv\n",
            "HINDALCO_data.csv\n",
            "COALINDIA_data.csv\n",
            "GODFRYPHLP_data.csv\n",
            "DIXON_data.csv\n",
            "SRF_data.csv\n",
            "RBLBANK_data.csv\n",
            "APARINDS_data.csv\n",
            "BOSCHLTD_data.csv\n",
            "SUNTV_data.csv\n",
            "PGHH_data.csv\n",
            "RELIANCE_data.csv\n",
            "ERIS_data.csv\n",
            "NAVINFLUOR_data.csv\n",
            "SUMICHEM_data.csv\n",
            "SIEMENS_data.csv\n",
            "TATAINVEST_data.csv\n",
            "MRF_data.csv\n",
            "DBREALTY_data.csv\n",
            "SHYAMMETL_data.csv\n",
            "CHOLAHLDNG_data.csv\n",
            "MMTC_data.csv\n",
            "CASTROLIND_data.csv\n",
            "TTML_data.csv\n",
            "DMART_data.csv\n",
            "TORNTPOWER_data.csv\n",
            "ESCORTS_data.csv\n",
            "GRANULES_data.csv\n",
            "TRIVENI_data.csv\n",
            "POLYCAB_data.csv\n",
            "ITI_data.csv\n",
            "GICRE_data.csv\n",
            "KEC_data.csv\n",
            "MAHABANK_data.csv\n",
            "SBIN_data.csv\n",
            "CLEAN_data.csv\n",
            "METROBRAND_data.csv\n",
            "ANGELONE_data.csv\n",
            "GRSE_data.csv\n",
            "MAHSEAMLES_data.csv\n",
            "DEVYANI_data.csv\n",
            "SUVENPHAR_data.csv\n",
            "JSL_data.csv\n",
            "IPCALAB_data.csv\n",
            "CANFINHOME_data.csv\n",
            "CARBORUNIV_data.csv\n",
            "ICICIPRULI_data.csv\n",
            "JINDALSAW_data.csv\n",
            "3MINDIA_data.csv\n",
            "GILLETTE_data.csv\n",
            "ABCAPITAL_data.csv\n",
            "SAREGAMA_data.csv\n",
            "MRPL_data.csv\n",
            "SPARC_data.csv\n",
            "CGCL_data.csv\n",
            "UBL_data.csv\n",
            "SBILIFE_data.csv\n",
            "BAJAJHLDNG_data.csv\n",
            "KIRLOSBROS_data.csv\n",
            "CROMPTON_data.csv\n",
            "LALPATHLAB_data.csv\n",
            "AFFLE_data.csv\n",
            "UPL_data.csv\n",
            "DEEPAKNTR_data.csv\n",
            "SUPREMEIND_data.csv\n",
            "BEML_data.csv\n",
            "COLPAL_data.csv\n",
            "ABREL_data.csv\n",
            "AIAENG_data.csv\n",
            "TRITURBINE_data.csv\n",
            "HINDCOPPER_data.csv\n",
            "HUDCO_data.csv\n",
            "WIPRO_data.csv\n",
            "PFC_data.csv\n",
            "IFCI_data.csv\n",
            "NIACL_data.csv\n",
            "SCHNEIDER_data.csv\n",
            "AARTIIND_data.csv\n",
            "BIOCON_data.csv\n",
            "FACT_data.csv\n",
            "MASTEK_data.csv\n",
            "PERSISTENT_data.csv\n",
            "POONAWALLA_data.csv\n",
            "PATANJALI_data.csv\n",
            "COROMANDEL_data.csv\n",
            "NAUKRI_data.csv\n",
            "USHAMART_data.csv\n",
            "GUJGASLTD_data.csv\n",
            "GRASIM_data.csv\n",
            "PRESTIGE_data.csv\n",
            "BERGEPAINT_data.csv\n",
            "TATAELXSI_data.csv\n",
            "MCX_data.csv\n",
            "JKCEMENT_data.csv\n",
            "BLUEDART_data.csv\n",
            "MARICO_data.csv\n",
            "SYNGENE_data.csv\n",
            "IRFC_data.csv\n",
            "BATAINDIA_data.csv\n",
            "CHALET_data.csv\n",
            "ASTERDM_data.csv\n",
            "BLS_data.csv\n",
            "BHARATFORG_data.csv\n",
            "NEWGEN_data.csv\n",
            "ASAHIINDIA_data.csv\n",
            "SBICARD_data.csv\n",
            "ADANIGREEN_data.csv\n",
            "LTTS_data.csv\n",
            "SUZLON_data.csv\n",
            "IOC_data.csv\n",
            "MINDACORP_data.csv\n",
            "JUBLINGREA_data.csv\n",
            "VGUARD_data.csv\n",
            "BAJAJFINSV_data.csv\n",
            "CRISIL_data.csv\n",
            "LODHA_data.csv\n",
            "YESBANK_data.csv\n",
            "ACC_data.csv\n",
            "ATGL_data.csv\n",
            "DABUR_data.csv\n",
            "MPHASIS_data.csv\n",
            "INDHOTEL_data.csv\n",
            "HOMEFIRST_data.csv\n",
            "METROPOLIS_data.csv\n",
            "SWSOLAR_data.csv\n",
            "GODREJPROP_data.csv\n",
            "CCL_data.csv\n",
            "DIVISLAB_data.csv\n",
            "HONAUT_data.csv\n",
            "EXIDEIND_data.csv\n",
            "CUMMINSIND_data.csv\n",
            "HFCL_data.csv\n",
            "EIHOTEL_data.csv\n",
            "MAZDOCK_data.csv\n",
            "JYOTHYLAB_data.csv\n",
            "RAYMOND_data.csv\n",
            "TATACONSUM_data.csv\n",
            "NBCC_data.csv\n",
            "KEI_data.csv\n",
            "CIEINDIA_data.csv\n",
            "ZYDUSLIFE_data.csv\n",
            "GMDCLTD_data.csv\n",
            "JWL_data.csv\n",
            "EICHERMOT_data.csv\n",
            "PEL_data.csv\n",
            "JINDALSTEL_data.csv\n",
            "GLENMARK_data.csv\n",
            "LUPIN_data.csv\n",
            "ELECON_data.csv\n",
            "RAMCOCEM_data.csv\n",
            "LINDEINDIA_data.csv\n",
            "ULTRACEMCO_data.csv\n",
            "TIMKEN_data.csv\n",
            "UJJIVANSFB_data.csv\n",
            "EIDPARRY_data.csv\n",
            "LATENTVIEW_data.csv\n",
            "GPPL_data.csv\n",
            "VIJAYA_data.csv\n",
            "JBMA_data.csv\n",
            "ZENSARTECH_data.csv\n",
            "INDIAMART_data.csv\n",
            "JUBLFOOD_data.csv\n",
            "GMRAIRPORT_data.csv\n",
            "CDSL_data.csv\n",
            "OBEROIRLTY_data.csv\n",
            "GRAPHITE_data.csv\n",
            "PNCINFRA_data.csv\n",
            "DEEPAKFERT_data.csv\n",
            "OLECTRA_data.csv\n",
            "UTIAMC_data.csv\n",
            "TORNTPHARM_data.csv\n",
            "M&MFIN_data.csv\n",
            "ATUL_data.csv\n",
            "CONCOR_data.csv\n",
            "TATAPOWER_data.csv\n",
            "INDIACEM_data.csv\n",
            "KAJARIACER_data.csv\n",
            "NATIONALUM_data.csv\n",
            "BAJFINANCE_data.csv\n",
            "WELCORP_data.csv\n",
            "LT_data.csv\n",
            "LICHSGFIN_data.csv\n",
            "QUESS_data.csv\n",
            "AMBER_data.csv\n",
            "JSWSTEEL_data.csv\n",
            "INDUSTOWER_data.csv\n",
            "ELGIEQUIP_data.csv\n",
            "SCI_data.csv\n",
            "HDFCLIFE_data.csv\n",
            "INTELLECT_data.csv\n",
            "FEDERALBNK_data.csv\n",
            "POWERGRID_data.csv\n",
            "UNIONBANK_data.csv\n",
            "BRIGADE_data.csv\n",
            "CAPLIPOINT_data.csv\n",
            "ICICIBANK_data.csv\n",
            "ZOMATO_data.csv\n",
            "CHENNPETRO_data.csv\n",
            "NUVOCO_data.csv\n",
            "WELSPUNLIV_data.csv\n",
            "MARUTI_data.csv\n",
            "ASHOKLEY_data.csv\n",
            "IRCTC_data.csv\n",
            "APLLTD_data.csv\n",
            "TIINDIA_data.csv\n",
            "JUBLPHARMA_data.csv\n",
            "JMFINANCIL_data.csv\n",
            "AXISBANK_data.csv\n",
            "PCBL_data.csv\n",
            "MGL_data.csv\n",
            "HSCL_data.csv\n",
            "IRB_data.csv\n",
            "PAYTM_data.csv\n",
            "TECHM_data.csv\n",
            "AUBANK_data.csv\n",
            "ABFRL_data.csv\n",
            "VIPIND_data.csv\n",
            "CESC_data.csv\n",
            "SUNDRMFAST_data.csv\n",
            "NHPC_data.csv\n",
            "HINDUNILVR_data.csv\n",
            "APTUS_data.csv\n",
            "CANBK_data.csv\n",
            "BEL_data.csv\n",
            "BANDHANBNK_data.csv\n",
            "CEATLTD_data.csv\n",
            "JUSTDIAL_data.csv\n",
            "BHEL_data.csv\n",
            "MAPMYINDIA_data.csv\n",
            "KIMS_data.csv\n",
            "INDUSINDBK_data.csv\n",
            "ADANIPORTS_data.csv\n",
            "TITAGARH_data.csv\n",
            "ZEEL_data.csv\n",
            "POWERINDIA_data.csv\n",
            "NESTLEIND_data.csv\n",
            "FORTIS_data.csv\n",
            "MOTHERSON_data.csv\n",
            "DATAPATTNS_data.csv\n",
            "HINDPETRO_data.csv\n",
            "MUTHOOTFIN_data.csv\n",
            "TATACOMM_data.csv\n",
            "RAJESHEXPO_data.csv\n",
            "KANSAINER_data.csv\n",
            "MANAPPURAM_data.csv\n",
            "CYIENT_data.csv\n",
            "RECLTD_data.csv\n",
            "RKFORGE_data.csv\n",
            "UCOBANK_data.csv\n",
            "BSE_data.csv\n",
            "LAURUSLABS_data.csv\n",
            "BAJAJ-AUTO_data.csv\n",
            "MAXHEALTH_data.csv\n",
            "DLF_data.csv\n",
            "SUNPHARMA_data.csv\n",
            "KOTAKBANK_data.csv\n",
            "GSFC_data.csv\n",
            "360ONE_data.csv\n",
            "NETWORK18_data.csv\n",
            "ABBOTINDIA_data.csv\n",
            "CHEMPLASTS_data.csv\n",
            "RITES_data.csv\n",
            "SANOFI_data.csv\n",
            "MAHLIFE_data.csv\n",
            "BALKRISIND_data.csv\n",
            "NATCOPHARM_data.csv\n",
            "KIRLOSENG_data.csv\n",
            "BBTC_data.csv\n",
            "OFSS_data.csv\n",
            "SAPPHIRE_data.csv\n",
            "ALKYLAMINE_data.csv\n",
            "SAMMAANCAP_data.csv\n",
            "ANANTRAJ_data.csv\n",
            "NMDC_data.csv\n",
            "ACE_data.csv\n",
            "PFIZER_data.csv\n",
            "TRENT_data.csv\n",
            "POLICYBZR_data.csv\n",
            "CUB_data.csv\n",
            "NCC_data.csv\n",
            "EMAMILTD_data.csv\n",
            "AAVAS_data.csv\n",
            "HEROMOTOCO_data.csv\n",
            "TCS_data.csv\n",
            "IOB_data.csv\n",
            "BIRLACORPN_data.csv\n",
            "CGPOWER_data.csv\n",
            "THERMAX_data.csv\n",
            "ENGINERSIN_data.csv\n",
            "RVNL_data.csv\n",
            "APLAPOLLO_data.csv\n",
            "ECLERX_data.csv\n",
            "PNBHOUSING_data.csv\n",
            "INDIGO_data.csv\n",
            "DALBHARAT_data.csv\n",
            "GESHIP_data.csv\n",
            "RADICO_data.csv\n",
            "NH_data.csv\n",
            "JKTYRE_data.csv\n",
            "ABB_data.csv\n",
            "SOLARINDS_data.csv\n",
            "ADANIPOWER_data.csv\n",
            "BRITANNIA_data.csv\n",
            "NLCINDIA_data.csv\n",
            "POLYMED_data.csv\n",
            "ASIANPAINT_data.csv\n",
            "SUNDARMFIN_data.csv\n",
            "LEMONTREE_data.csv\n",
            "RENUKA_data.csv\n",
            "NAM-INDIA_data.csv\n",
            "CREDITACC_data.csv\n",
            "FINEORG_data.csv\n",
            "BAYERCROP_data.csv\n",
            "REDINGTON_data.csv\n",
            "APOLLOTYRE_data.csv\n",
            "PNB_data.csv\n",
            "HDFCBANK_data.csv\n",
            "IRCON_data.csv\n",
            "AVANTIFEED_data.csv\n",
            "ONGC_data.csv\n",
            "KPRMILL_data.csv\n",
            "CENTRALBK_data.csv\n",
            "IDBI_data.csv\n",
            "BSOFT_data.csv\n",
            "WESTLIFE_data.csv\n",
            "SONACOMS_data.csv\n",
            "GLAND_data.csv\n",
            "INOXWIND_data.csv\n",
            "CIPLA_data.csv\n",
            "SAIL_data.csv\n",
            "CHOLAFIN_data.csv\n",
            "SOBHA_data.csv\n",
            "VTL_data.csv\n",
            "EASEMYTRIP_data.csv\n",
            "BALAMINES_data.csv\n",
            "GAIL_data.csv\n",
            "TECHNOE_data.csv\n",
            "SCHAEFFLER_data.csv\n",
            "RTNINDIA_data.csv\n",
            "VEDL_data.csv\n",
            "KSB_data.csv\n",
            "HAL_data.csv\n",
            "AJANTPHARM_data.csv\n",
            "RCF_data.csv\n",
            "PETRONET_data.csv\n",
            "GODREJCP_data.csv\n",
            "M&M_data.csv\n",
            "GLAXO_data.csv\n",
            "ROUTE_data.csv\n",
            "CENTURYPLY_data.csv\n",
            "JKLAKSHMI_data.csv\n",
            "ICICIGI_data.csv\n",
            "HAVELLS_data.csv\n",
            "ABSLAMC_data.csv\n",
            "PIIND_data.csv\n",
            "IGL_data.csv\n",
            "BDL_data.csv\n",
            "EQUITASBNK_data.csv\n",
            "GRINFRA_data.csv\n",
            "HDFCAMC_data.csv\n",
            "GODREJIND_data.csv\n",
            "KALYANKJIL_data.csv\n",
            "WHIRLPOOL_data.csv\n",
            "IEX_data.csv\n",
            "GNFC_data.csv\n",
            "MOTILALOFS_data.csv\n",
            "IDFCFIRSTB_data.csv\n",
            "HAPPSTMNDS_data.csv\n",
            "TEJASNET_data.csv\n",
            "IDEA_data.csv\n",
            "SHREECEM_data.csv\n",
            "JBCHEPHARM_data.csv\n",
            "CAMS_data.csv\n",
            "ENDURANCE_data.csv\n",
            "STARHEALTH_data.csv\n",
            "BASF_data.csv\n",
            "LTF_data.csv\n"
          ]
        }
      ]
    },
    {
      "cell_type": "code",
      "source": [
        "# import pandas as pd\n",
        "\n",
        "# sentiment_file = \"/content/drive/MyDrive/sentiment_scores.csv\"  # Correct path to sentiment scores\n",
        "\n",
        "# # Load the sentiment scores data, reading 'Company' as a string\n",
        "# sentiment_df = pd.read_csv(sentiment_file, dtype={'Company': str})\n",
        "\n",
        "# # Clean company names in sentiment_df\n",
        "# sentiment_df['Company'] = (\n",
        "#     sentiment_df['Company']\n",
        "#     .str.upper()\n",
        "#     .str.replace(r'LTD\\.?', '', regex=True)  # Removes \"LTD.\" and \"LTD\"\n",
        "#     .str.replace(r' ?LTD', '', regex=True)   # Removes \" LTD\"\n",
        "#     .str.replace(r'\\(.*?\\)', '', regex=True)  # Removes parentheses and content inside\n",
        "#     .str.replace(r'[^A-Z0-9&\\s]+', '', regex=True) # Remove non-alphanumeric except spaces and &\n",
        "#     .str.replace(' +', ' ', regex=True)    # Replace multiple spaces with a single space\n",
        "#     .str.strip()\n",
        "# )\n",
        "\n",
        "# # Loop through each company name in the column and remove spaces\n",
        "# for index, row in sentiment_df.iterrows():\n",
        "#     sentiment_df.at[index, 'Company'] = row['Company'].replace(\" \", \"\")\n",
        "\n",
        "# # Print the unique company names in the 'Company' column\n",
        "# print(sentiment_df['Company'].unique())\n"
      ],
      "metadata": {
        "colab": {
          "base_uri": "https://localhost:8080/"
        },
        "id": "X1Y3pV9DN82-",
        "outputId": "be3a5a59-1fc1-4899-a82f-577e76f96ddb"
      },
      "execution_count": null,
      "outputs": [
        {
          "output_type": "stream",
          "name": "stdout",
          "text": [
            "['3MINDIA' '360ONEWAM' 'ABBINDIA' 'AIAENGINEERING' 'ACC' 'APLAPOLLOTUBES'\n",
            " 'AADHARHOUSINGFINANCE' 'AUSMALLFINANCEBANK' 'AARTIINDUSTRIES'\n",
            " 'AAVASFINANCIERS' 'ADANIENERGYSOLUTIONS' 'ABBOTTINDIA'\n",
            " 'ACTIONCONSTRUCTIONEQUIPMENT' 'ADANIENTERPRISES' 'ADANIGREENENERGY'\n",
            " 'ADANIPORTSANDSPECIALECONOMICZONE' 'ADANIWILMAR' 'ADANIPOWER'\n",
            " 'ADANITOTALGAS' 'ADITYABIRLACAPITAL' 'ADITYABIRLAFASHIONANDRETAIL'\n",
            " 'ADITYABIRLAREALESTATE' 'AEGISLOGISTICS' 'ADITYABIRLASUNLIFEAMC' 'AFFLE'\n",
            " 'AJANTAPHARMACEUTICALS' 'AKUMSDRUGSANDPHARMACEUTICALS'\n",
            " 'ALKEMLABORATORIES' 'ALEMBICPHARMACEUTICALS' 'ALKYLAMINESCHEMICALS'\n",
            " 'ALOKINDUSTRIES' 'ANANDRATHIWEALTH' 'AMBERENTERPRISESINDIA'\n",
            " 'AMARARAJAENERGY&MOBILITY' 'AMBUJACEMENTS' 'ANANTRAJ' 'APARINDUSTRIES'\n",
            " 'ANGELONE' 'APOLLOHOSPITALSENTERPRISE' 'APOLLOTYRES'\n",
            " 'APTUSVALUEHOUSINGFINANCEINDIA' 'ARCHEANCHEMICALINDUSTRIES'\n",
            " 'ASAHIINDIAGLASS' 'ASHOKLEYLAND' 'ASIANPAINTS' 'ASTERDMHEALTHCARE'\n",
            " 'ASTRAZENCAPHARMAINDIA' 'ASTRAL' 'ATUL' 'AUROBINDOPHARMA' 'AVANTIFEEDS'\n",
            " 'AVENUESUPERMARTS' 'AXISBANK' 'BEML' 'BASFINDIA'\n",
            " 'BLSINTERNATIONALSERVICES' 'BSE' 'BAJAJAUTO' 'BAJAJFINANCE'\n",
            " 'BAJAJFINSERV' 'BAJAJHOLDINGS&INVESTMENT' 'BALAJIAMINES'\n",
            " 'BALKRISHNAINDUSTRIES' 'BALRAMPURCHINIMILLS' 'BANDHANBANK' 'BANKOFBARODA'\n",
            " 'BANKOFINDIA' 'BANKOFMAHARASHTRA' 'BATAINDIA' 'BAYERCROPSCIENCE'\n",
            " 'BERGERPAINTSINDIA' 'BHARATDYNAMICS' 'BHARATELECTRONICS' 'BHARATFORGE'\n",
            " 'BHARATHEAVYELECTRICALS' 'BHARATPETROLEUMCORPORATION' 'BHARTIAIRTEL'\n",
            " 'BHARTIHEXACOM' 'BIKAJIFOODSINTERNATIONAL' 'BIOCON' 'BIRLACORPORATION'\n",
            " 'BIRLASOFT' 'BLUEDARTEXPRESS' 'BLUESTAR' 'BOMBAYBURMAHTRADINGCORPORATION'\n",
            " 'BOSCH' 'BRITANNIAINDUSTRIES' 'BRIGADEENTERPRISES' 'CEINFOSYSTEMS'\n",
            " 'CCLPRODUCTS' 'CESC' 'CGPOWERANDINDUSTRIALSOLUTIONS' 'CIEAUTOMOTIVEINDIA'\n",
            " 'CRISIL' 'CAMPUSACTIVEWEAR' 'CANFINHOMES' 'CAPRIGLOBALCAPITAL'\n",
            " 'CAPLINPOINTLABORATORIES' 'CANARABANK' 'CARBORUNDUMUNIVERSAL'\n",
            " 'CASTROLINDIA' 'CEAT' 'CELLOWORLD' 'CENTRALBANKOFINDIA'\n",
            " 'CENTRALDEPOSITORYSERVICES' 'CENTURYPLYBOARDS' 'CERASANITARYWARE'\n",
            " 'CHALETHOTELS' 'CHEMPLASTSANMAR' 'CHAMBALFERTILIZERS&CHEMICALS'\n",
            " 'CHENNAIPETROLEUMCORPORATION' 'CHOLAMANDALAMFINANCIALHOLDINGS'\n",
            " 'CHOLAMANDALAMINVESTMENTANDFINANCECOMPANY' 'CIPLA' 'CITYUNIONBANK'\n",
            " 'CLEANSCIENCEANDTECHNOLOGY' 'COALINDIA' 'COCHINSHIPYARD' 'COFORGE'\n",
            " 'COLGATEPALMOLIVE' 'COMPUTERAGEMANAGEMENTSERVICES' 'CONCORDBIOTECH'\n",
            " 'CONTAINERCORPORATIONOFINDIA' 'COROMANDELINTERNATIONAL'\n",
            " 'CRAFTSMANAUTOMATION' 'CREDITACCESSGRAMEEN'\n",
            " 'CROMPTONGREAVESCONSUMERELECTRICALS' 'CUMMINSINDIA' 'CYIENT' 'DLF'\n",
            " 'DOMSINDUSTRIES' 'DABURINDIA' 'DALMIABHARAT' 'DATAPATTERNS'\n",
            " 'DEEPAKFERTILISERS&PETROCHEMICALSCORP' 'DEEPAKNITRITE' 'DELHIVERY'\n",
            " 'DEVYANIINTERNATIONAL' 'DIVISLABORATORIES' 'DIXONTECHNOLOGIES'\n",
            " 'DRLALPATHLABS' 'EIDPARRY' 'DRREDDYSLABORATORIES' 'EIH'\n",
            " 'EASYTRIPPLANNERS' 'EICHERMOTORS' 'ELECONENGINEERINGCO' 'ELGIEQUIPMENTS'\n",
            " 'EMAMI' 'EMCUREPHARMACEUTICALS' 'ENDURANCETECHNOLOGIES'\n",
            " 'EQUITASSMALLFINANCEBANK' 'ENGINEERSINDIA' 'ERISLIFESCIENCES'\n",
            " 'ESCORTSKUBOTA' 'EXIDEINDUSTRIES' 'FSNECOMMERCEVENTURES' 'FEDERALBANK'\n",
            " 'FERTILISERSANDCHEMICALSTRAVANCORE' 'FINEORGANICINDUSTRIES'\n",
            " 'FINOLEXCABLES' 'FINOLEXINDUSTRIES' 'FIRSTSOURCESOLUTIONS'\n",
            " 'FIVESTARBUSINESSFINANCE' 'FORTISHEALTHCARE' 'GRINFRAPROJECTS' 'GAIL'\n",
            " 'GEVERNOVAT&DINDIA' 'GMRAIRPORTS' 'GARDENREACHSHIPBUILDERS&ENGINEERS'\n",
            " 'GENERALINSURANCECORPORATIONOFINDIA' 'GILLETTEINDIA' 'GLANDPHARMA'\n",
            " 'GLAXOSMITHKLINEPHARMACEUTICALS' 'GLENMARKPHARMACEUTICALS' 'GLOBALHEALTH'\n",
            " 'GODIGITGENERALINSURANCE' 'GODAWARIPOWER&ISPAT' 'GODFREYPHILLIPSINDIA'\n",
            " 'GODREJAGROVET' 'GODREJCONSUMERPRODUCTS' 'GODREJINDUSTRIES'\n",
            " 'GODREJPROPERTIES' 'GRANULESINDIA' 'GRAPHITEINDIA' 'GRASIMINDUSTRIES'\n",
            " 'GREATEASTERNSHIPPINGCO' 'GRINDWELLNORTON' 'GUJARATAMBUJAEXPORTS'\n",
            " 'GUJARATFLUOROCHEMICALS' 'GUJARATGAS'\n",
            " 'GUJARATMINERALDEVELOPMENTCORPORATION'\n",
            " 'GUJARATNARMADAVALLEYFERTILIZERSANDCHEMICALS' 'GUJARATPIPAVAVPORT'\n",
            " 'GUJARATSTATEFERTILIZERS&CHEMICALS' 'GUJARATSTATEPETRONET' 'HEG'\n",
            " 'HBLENGINEERING' 'HCLTECHNOLOGIES' 'HDFCASSETMANAGEMENTCOMPANY'\n",
            " 'HDFCBANK' 'HDFCLIFEINSURANCECOMPANY' 'HAPPIESTMINDSTECHNOLOGIES' 'HFCL'\n",
            " 'HAVELLSINDIA' 'HEROMOTOCORP' 'HIMADRISPECIALITYCHEMICAL'\n",
            " 'HINDALCOINDUSTRIES' 'HINDUSTANAERONAUTICS' 'HINDUSTANCOPPER'\n",
            " 'HINDUSTANPETROLEUMCORPORATION' 'HINDUSTANUNILEVER' 'HINDUSTANZINC'\n",
            " 'HITACHIENERGYINDIA' 'HOMEFIRSTFINANCECOMPANYINDIA'\n",
            " 'HONEYWELLAUTOMATIONINDIA' 'HONASACONSUMER'\n",
            " 'HOUSING&URBANDEVELOPMENTCORPORATION' 'ICICIBANK'\n",
            " 'ICICILOMBARDGENERALINSURANCECOMPANY' 'IDBIBANK'\n",
            " 'ICICIPRUDENTIALLIFEINSURANCECOMPANY' 'IDFCFIRSTBANK' 'IFCI'\n",
            " 'IIFLFINANCE' 'INOXINDIA' 'IRBINFRASTRUCTUREDEVELOPERS'\n",
            " 'IRCONINTERNATIONAL' 'ITC' 'ITI' 'INDEGENE' 'INDIACEMENTS'\n",
            " 'INDIAMARTINTERMESH' 'INDIANENERGYEXCHANGE' 'INDIANBANK' 'INDIANHOTELSCO'\n",
            " 'INDIANOILCORPORATION' 'INDIANOVERSEASBANK'\n",
            " 'INDIANRAILWAYCATERINGANDTOURISMCORPORATION'\n",
            " 'INDIANRAILWAYFINANCECORPORATION'\n",
            " 'INDIANRENEWABLEENERGYDEVELOPMENTAGENCY' 'INDRAPRASTHAGAS' 'INDUSTOWERS'\n",
            " 'INDUSINDBANK' 'INFOEDGE' 'INFOSYS' 'INOXWIND' 'INTELLECTDESIGNARENA'\n",
            " 'INTERGLOBEAVIATION' 'IPCALABORATORIES' 'JBCHEMICALS&PHARMACEUTICALS'\n",
            " 'JKCEMENT' 'JBMAUTO' 'JKLAKSHMICEMENT' 'JKTYRE&INDUSTRIES' 'JMFINANCIAL'\n",
            " 'JSWENERGY' 'JSWINFRASTRUCTURE' 'JSWSTEEL' 'JAIPRAKASHPOWERVENTURES'\n",
            " 'JAMMU&KASHMIRBANK' 'JINDALSAW' 'JINDALSTAINLESS' 'JINDALSTEEL&POWER'\n",
            " 'JIOFINANCIALSERVICES' 'JUBILANTFOODWORKS' 'JUBILANTINGREVIA'\n",
            " 'JUBILANTPHARMOVA' 'JUSTDIAL' 'JUPITERWAGONS' 'JYOTHYLABS'\n",
            " 'JYOTICNCAUTOMATION' 'KNRCONSTRUCTIONS' 'KPRMILL' 'KEIINDUSTRIES'\n",
            " 'KPITTECHNOLOGIES' 'KSB' 'KAJARIACERAMICS'\n",
            " 'KALPATARUPROJECTSINTERNATIONAL' 'KALYANJEWELLERSINDIA'\n",
            " 'KANSAINEROLACPAINTS' 'KARURVYSYABANK' 'KAYNESTECHNOLOGYINDIA'\n",
            " 'KECINTERNATIONAL' 'KFINTECHNOLOGIES' 'KIRLOSKARBROTHERS'\n",
            " 'KIRLOSKAROILENG' 'KOTAKMAHINDRABANK' 'KRISHNAINSTITUTEOFMEDICALSCIENCES'\n",
            " 'L&TFINANCE' 'L&TTECHNOLOGYSERVICES' 'LICHOUSINGFINANCE' 'LTIMINDTREE'\n",
            " 'LARSEN&TOUBRO' 'LATENTVIEWANALYTICS' 'LAURUSLABS' 'LEMONTREEHOTELS'\n",
            " 'LLOYDSMETALSANDENERGY' 'LINDEINDIA' 'LIFEINSURANCECORPORATIONOFINDIA'\n",
            " 'LUPIN' 'MMTC' 'MAHANAGARGAS' 'MACROTECHDEVELOPERS' 'MRF'\n",
            " 'MAHARASHTRASEAMLESS' 'MAHINDRA&MAHINDRAFINANCIALSERVICES'\n",
            " 'MANGALOREREFINERY&PETROCHEMICALS' 'MAHINDRALIFESPACEDEVELOPERS'\n",
            " 'MANAPPURAMFINANCE' 'MAHINDRA&MAHINDRA' 'MANKINDPHARMA' 'MARICO' 'MASTEK'\n",
            " 'MARUTISUZUKIINDIA' 'MAXFINANCIALSERVICES' 'MAXHEALTHCAREINSTITUTE'\n",
            " 'METROPOLISHEALTHCARE' 'MAZAGOANDOCKSHIPBUILDERS' 'METROBRANDS'\n",
            " 'MINDACORPORATION' 'MOTHERSONSUMIWIRINGINDIA' 'MPHASIS'\n",
            " 'MOTILALOSWALFINANCIALSERVICES' 'MULTICOMMODITYEXCHANGEOFINDIA'\n",
            " 'MUTHOOTFINANCE' 'NATCOPHARMA' 'NBCC' 'NCC' 'NHPC' 'NLCINDIA' 'NMDC'\n",
            " 'NMDCSTEEL' 'NTPC' 'NARAYANAHRUDAYALAYA' 'NATIONALALUMINIUMCO'\n",
            " 'NAVINFLUORINEINTERNATIONAL' 'NESTLEINDIA' 'NETWEBTECHNOLOGIESINDIA'\n",
            " 'NETWORK18MEDIA&INVESTMENTS' 'NEWGENSOFTWARETECHNOLOGIES'\n",
            " 'NIPPONLIFEINDIAASSETMANAGEMENT' 'NUVAMAWEALTHMANAGEMENT'\n",
            " 'NUVOCOVISTASCORPORATION' 'OBEROIREALTY' 'OIL&NATURALGASCORPORATION'\n",
            " 'OILINDIA' 'OLECTRAGREENTECH' 'ONE97COMMUNICATIONS'\n",
            " 'ORACLEFINANCIALSERVICESSOFTWARE' 'PBFINTECH' 'PIINDUSTRIES'\n",
            " 'PCBLCHEMICAL' 'PNBHOUSINGFINANCE' 'PNCINFRATECH' 'PTCINDUSTRIES'\n",
            " 'PVRINOX' 'PAGEINDUSTRIES' 'PATANJALIFOODS' 'PERSISTENTSYSTEMS'\n",
            " 'PETRONETLNG' 'PFIZER' 'PHOENIXMILLS' 'PIDILITEINDUSTRIES'\n",
            " 'PIRAMALENTERPRISES' 'PIRAMALPHARMA' 'POONAWALLAFINCORP' 'POLYMEDICURE'\n",
            " 'POLYCABINDIA' 'POWERFINANCECORPORATION' 'POWERGRIDCORPORATIONOFINDIA'\n",
            " 'PRAJINDUSTRIES' 'PRESTIGEESTATESPROJECTS'\n",
            " 'PROCTER&GAMBLEHYGIENE&HEALTHCARE' 'PUNJABNATIONALBANK' 'QUESSCORP'\n",
            " 'RRKABEL' 'RBLBANK' 'REC' 'RHIMAGNESITAINDIA' 'RITES' 'RADICOKHAITAN'\n",
            " 'RAILVIKASNIGAM' 'RAILTELCORPORATIONOFINDIA' 'RAINBOWCHILDRENSMEDICARE'\n",
            " 'RAJESHEXPORTS' 'RAMKRISHNAFORGINGS' 'RASHTRIYACHEMICALS&FERTILIZERS'\n",
            " 'RATNAMANIMETALS&TUBES' 'RATTANINDIAENTERPRISES' 'RAYMONDLIFESTYLE'\n",
            " 'RAYMOND' 'REDINGTON' 'RELIANCEINDUSTRIES' 'ROUTEMOBILE' 'SBFCFINANCE'\n",
            " 'SBICARDSANDPAYMENTSERVICES' 'SBILIFEINSURANCECOMPANY' 'SJVN' 'SKFINDIA'\n",
            " 'SRF' 'SAMMAANCAPITAL' 'SAMVARDHANAMOTHERSONINTERNATIONAL' 'SANOFIINDIA'\n",
            " 'SAPPHIREFOODSINDIA' 'SAREGAMAINDIA' 'SCHAEFFLERINDIA'\n",
            " 'SCHNEIDERELECTRICINFRASTRUCTURE' 'SHIPPINGCORPORATIONOFINDIA'\n",
            " 'SHREECEMENT' 'SHREERENUKASUGARS' 'SHRIRAMFINANCE'\n",
            " 'SHYAMMETALICSANDENERGY' 'SIEMENS' 'SIGNATUREGLOBAL' 'SOBHA'\n",
            " 'SONABLWPRECISIONFORGINGS' 'SOLARINDUSTRIESINDIA' 'SONATASOFTWARE'\n",
            " 'STARHEALTHANDALLIEDINSURANCECOMPANY' 'STATEBANKOFINDIA'\n",
            " 'STERLINGANDWILSONRENEWABLEENERGY' 'STEELAUTHORITYOFINDIA'\n",
            " 'SUMITOMOCHEMICALINDIA' 'SUNPHARMAADVANCEDRESEARCHCOMPANY'\n",
            " 'SUNPHARMACEUTICALINDUSTRIES' 'SUNDARAMFINANCE' 'SUNTVNETWORK'\n",
            " 'SUNDRAMFASTENERS' 'SUPREMEINDUSTRIES' 'SUVENPHARMACEUTICALS'\n",
            " 'SUZLONENERGY' 'SWANENERGY' 'SYNGENEINTERNATIONAL' 'SYRMASGSTECHNOLOGY'\n",
            " 'TBOTEK' 'TVSSUPPLYCHAINSOLUTIONS' 'TVSMOTORCOMPANY' 'TANLAPLATFORMS'\n",
            " 'TATACHEMICALS' 'TATACOMMUNICATIONS' 'TATACONSUMERPRODUCTS'\n",
            " 'TATACONSULTANCYSERVICES' 'TATAELXSI' 'TATAINVESTMENTCORPORATION'\n",
            " 'TATAMOTORS' 'TATAPOWERCO' 'TATASTEEL' 'TATATECHNOLOGIES'\n",
            " 'TATATELESERVICES' 'TECHMAHINDRA' 'TECHNOELECTRIC&ENGINEERINGCOMPANY'\n",
            " 'TEJASNETWORKS' 'THENEWINDIAASSURANCECOMPANY' 'THERAMCOCEMENTS' 'THERMAX'\n",
            " 'TIMKENINDIA' 'TITAGARHRAILSYSTEMS' 'TITANCOMPANY'\n",
            " 'TORRENTPHARMACEUTICALS' 'TORRENTPOWER' 'TRENT' 'TRIDENT'\n",
            " 'TRIVENITURBINE' 'TRIVENIENGINEERING&INDUSTRIES' 'TUBEINVESTMENTSOFINDIA'\n",
            " 'UCOBANK' 'UNOMINDA' 'UPL' 'UTIASSETMANAGEMENTCOMPANY'\n",
            " 'UJJIVANSMALLFINANCEBANK' 'ULTRATECHCEMENT' 'UNIONBANKOFINDIA'\n",
            " 'UNITEDBREWERIES' 'USHAMARTIN' 'UNITEDSPIRITS' 'VGUARDINDUSTRIES'\n",
            " 'VIPINDUSTRIES' 'VALORESTATE' 'VARDHMANTEXTILES' 'VARROCENGINEERING'\n",
            " 'VARUNBEVERAGES' 'VEDANTFASHIONS' 'VEDANTA' 'VIJAYADIAGNOSTICCENTRE'\n",
            " 'VINATIORGANICS' 'VODAFONEIDEA' 'VOLTAS' 'WELSPUNCORP' 'WELSPUNLIVING'\n",
            " 'WESTLIFEFOODWORLD' 'WHIRLPOOLOFINDIA' 'WIPRO' 'YESBANK'\n",
            " 'ZFCOMMERCIALVEHICLECONTROLSYSTEMSINDIA' 'ZEEENTERTAINMENTENTERPRISES'\n",
            " 'ZENSARTECHNOLGIES' 'ZOMATO' 'ECLERXSERVICES' 'ZYDUSLIFESCIENCES']\n"
          ]
        }
      ]
    },
    {
      "cell_type": "code",
      "source": [
        "# import pandas as pd\n",
        "# import os\n",
        "# import re\n",
        "# from google.colab import drive  # Import Google Drive library\n",
        "\n",
        "# # Mount Google Drive\n",
        "# drive.mount('/content/drive')\n",
        "\n",
        "# # Define directories\n",
        "# file_path = \"/content/Preprocessed_data\"  # **IMPORTANT: REPLACE WITH THE CORRECT PATH**\n",
        "# sentiment_file = \"/content/drive/MyDrive/sentiment_scores.csv\"  # **REPLACE WITH THE CORRECT PATH TO YOUR FILE IN DRIVE**\n",
        "# output_sentiment_file = \"/content/drive/MyDrive/cleaned_sentiment_scores.csv\"  # New file in Drive\n",
        "\n",
        "# # 1. Load Data and Preprocess\n",
        "# def load_and_preprocess_data(file_path, sentiment_file):\n",
        "#     \"\"\"Loads the stock and sentiment data, preprocesses them, and returns them.\"\"\"\n",
        "#     try:\n",
        "#         stock_filenames = [f[:-4] for f in os.listdir(file_path) if f.endswith('.csv')]\n",
        "#     except FileNotFoundError:\n",
        "#         print(f\"ERROR: Directory not found: {file_path}\")\n",
        "#         return None, None\n",
        "\n",
        "#     try:\n",
        "#         sentiment_data = pd.read_csv(sentiment_file)\n",
        "#         sentiment_data['Date'] = pd.to_datetime(sentiment_data['Date'], format='%d/%m/%Y')\n",
        "#     except FileNotFoundError:\n",
        "#         print(f\"ERROR: Sentiment file not found: {sentiment_file}\")\n",
        "#         return None, None\n",
        "\n",
        "#     return stock_filenames, sentiment_data\n",
        "\n",
        "\n",
        "# # 2. Clean Company Names in Sentiment Data and Save\n",
        "# def clean_and_save_sentiment_data(sentiment_data, output_sentiment_file):\n",
        "#     \"\"\"Cleans the company names in the sentiment data and saves to a new CSV.\"\"\"\n",
        "#     if sentiment_data is None:\n",
        "#         return None\n",
        "\n",
        "#     # Clean the company names using the same logic as before\n",
        "#     def clean_company_name(company_name):\n",
        "#         cleaned_name = re.sub(r\"(ltd\\.?|limited|india)\", \"\", company_name, flags=re.IGNORECASE).strip()\n",
        "#         return cleaned_name\n",
        "\n",
        "#     sentiment_data['Company'] = sentiment_data['Company'].apply(clean_company_name)\n",
        "\n",
        "#     # Save the cleaned sentiment data to a new CSV file in Google Drive\n",
        "#     try:\n",
        "#         sentiment_data.to_csv(output_sentiment_file, index=False)\n",
        "#         print(f\"✅ Cleaned sentiment data saved to: {output_sentiment_file}\")\n",
        "#     except Exception as e:\n",
        "#         print(f\"❌ Error saving cleaned sentiment data: {e}\")\n",
        "#         return None\n",
        "\n",
        "#     return sentiment_data\n",
        "\n",
        "# # 3. Create Company Name Mapping\n",
        "# def create_company_name_mapping(stock_filenames, sentiment_data):\n",
        "#     \"\"\"Creates a dictionary mapping cleaned sentiment company names to stock filenames.\"\"\"\n",
        "#     if stock_filenames is None or sentiment_data is None:\n",
        "#         return {}\n",
        "\n",
        "#     sentiment_company_names = sentiment_data['Company'].unique()\n",
        "#     mapping = {}\n",
        "\n",
        "#     for sentiment_name in sentiment_company_names:\n",
        "#         # Clean each stock filename\n",
        "#         cleaned_stock_filenames = [re.sub(r\"_\", \" \", f) for f in stock_filenames]  # Replace underscores with spaces\n",
        "\n",
        "#         # Try a direct match (case-insensitive)\n",
        "#         direct_match_index = next((i for i, f in enumerate(cleaned_stock_filenames) if sentiment_name.lower() == f.lower()), None)\n",
        "\n",
        "#         if direct_match_index is not None:\n",
        "#             mapping[sentiment_name] = stock_filenames[direct_match_index]  # map using the original stock filename\n",
        "#             continue\n",
        "\n",
        "#         # If still no match, print and require manual mapping\n",
        "#         print(f\"⚠️  Manual mapping required for: '{sentiment_name}'\")\n",
        "#         mapping[sentiment_name] = None  # Placeholder - you'll need to fill this in manually\n",
        "\n",
        "#     return mapping\n",
        "\n",
        "# # 4. Apply the Mapping and Merge\n",
        "# def apply_mapping_and_merge(stock_filenames, sentiment_data, mapping):\n",
        "#     \"\"\"Applies the company name mapping and merges the stock and sentiment data.\"\"\"\n",
        "#     if stock_filenames is None or sentiment_data is None:\n",
        "#         print(\"❌ Cannot merge because loading failed.\")\n",
        "#         return None\n",
        "\n",
        "#     # Verify mapping is complete (no None values)\n",
        "#     if any(value is None for value in mapping.values()):\n",
        "#         print(\"❌ Mapping is incomplete.  Please manually update the 'mapping' dictionary with correct values.\")\n",
        "#         return None\n",
        "\n",
        "#     # Apply the mapping to the sentiment data\n",
        "#     sentiment_data['Company'] = sentiment_data['Company'].map(mapping)\n",
        "#     sentiment_data.dropna(subset=['Company'], inplace=True)  # Remove rows with no match\n",
        "\n",
        "#     # Filter for the 3-year period\n",
        "#     start_date = pd.to_datetime('2022-03-28')\n",
        "#     end_date = pd.to_datetime('2025-03-28')\n",
        "#     sentiment_data = sentiment_data[(sentiment_data['Date'] >= start_date) & (sentiment_data['Date'] <= end_date)]\n",
        "\n",
        "#     # Create a temporary dataframe to merge\n",
        "#     merged_data_list = []\n",
        "#     for filename in stock_filenames:\n",
        "#         try:\n",
        "#             stock_data = pd.read_csv(os.path.join(file_path, filename + '.csv'))\n",
        "#             stock_data['Date'] = pd.to_datetime(stock_data['Date'])\n",
        "#             stock_data = stock_data[(stock_data['Date'] >= start_date) & (stock_data['Date'] <= end_date)]\n",
        "#             stock_data = stock_data.set_index('Date').resample('M').mean().reset_index()\n",
        "#             stock_data['Company'] = filename\n",
        "#             merged_data = pd.merge(stock_data, sentiment_data[sentiment_data['Company'] == filename], on=['Date', 'Company'], how='left')\n",
        "#             merged_data_list.append(merged_data)\n",
        "#         except FileNotFoundError:\n",
        "#             print(f\"❌ Stock data file not found: {filename}.csv\")\n",
        "#         except Exception as e:\n",
        "#             print(f\"Error processing {filename}: {e}\")\n",
        "\n",
        "#     # Concatenate all the merged dataframes\n",
        "#     final_merged_data = pd.concat(merged_data_list, ignore_index=True)\n",
        "\n",
        "#     return final_merged_data\n",
        "\n",
        "\n",
        "# # Main Execution\n",
        "# # Load data\n",
        "# stock_filenames, sentiment_data = load_and_preprocess_data(file_path, sentiment_file)\n",
        "\n",
        "# # Clean and save sentiment data\n",
        "# sentiment_data = clean_and_save_sentiment_data(sentiment_data, output_sentiment_file)\n",
        "\n",
        "# # Create mapping\n",
        "# mapping = create_company_name_mapping(stock_filenames, sentiment_data)\n",
        "\n",
        "# # Manually fix for cases where auto mapping fails\n",
        "# mapping = {\n",
        "#     '3M India': '3M_India',\n",
        "#     '360 ONE WAM': '360_ONE_WAM',\n",
        "#     'ABB India': 'ABB_India',\n",
        "#     'AIA Engineering': 'AIA_Engineering',\n",
        "#     'ACC': 'ACC',\n",
        "#     'APL Apollo Tubes': 'APL_Apollo_Tubes',\n",
        "#     'Aadhar Housing Finance': 'Aadhar_Housing_Finance',\n",
        "#     'AU Small Finance Bank': 'AU_Small_Finance_Bank',\n",
        "#     'Aarti Industries': 'Aarti_Industries',\n",
        "#     'Aavas Financiers': 'Aavas_Financiers',\n",
        "#     'Adani Energy Solutions': 'Adani_Energy_Solutions',\n",
        "#     'Abbott India': 'Abbott_India'\n",
        "# }\n",
        "\n",
        "# # Apply mapping and merge\n",
        "# final_merged_data = apply_mapping_and_merge(stock_filenames, sentiment_data, mapping)\n",
        "\n",
        "# if final_merged_data is not None:\n",
        "#     print(\"✅ Merged data successfully.\")\n",
        "#     print(final_merged_data.head())  # print the head to show how merged_data looks\n",
        "#     # Save the merged data\n",
        "#     final_merged_data.to_csv(\"merged_data.csv\", index=False)\n",
        "# else:\n",
        "#     print(\"❌ Merging failed. Check the mapping and errors.\")\n"
      ],
      "metadata": {
        "colab": {
          "base_uri": "https://localhost:8080/"
        },
        "id": "55VP2COlCxCs",
        "outputId": "0aa6daf5-41f3-4392-e889-97bc6f0f882c"
      },
      "execution_count": null,
      "outputs": [
        {
          "output_type": "stream",
          "name": "stdout",
          "text": [
            "Drive already mounted at /content/drive; to attempt to forcibly remount, call drive.mount(\"/content/drive\", force_remount=True).\n",
            "✅ Cleaned sentiment data saved to: /content/drive/MyDrive/cleaned_sentiment_scores.csv\n",
            "⚠️  Manual mapping required for: '3M'\n",
            "⚠️  Manual mapping required for: '360 ONE WAM'\n",
            "⚠️  Manual mapping required for: 'ABB'\n",
            "⚠️  Manual mapping required for: 'AIA Engineering'\n",
            "⚠️  Manual mapping required for: 'ACC'\n",
            "⚠️  Manual mapping required for: 'APL Apollo Tubes'\n",
            "⚠️  Manual mapping required for: 'Aadhar Housing Finance'\n",
            "⚠️  Manual mapping required for: 'AU Small Finance Bank'\n",
            "⚠️  Manual mapping required for: 'Aarti Industries'\n",
            "⚠️  Manual mapping required for: 'Aavas Financiers'\n",
            "⚠️  Manual mapping required for: 'Adani Energy Solutions'\n",
            "⚠️  Manual mapping required for: 'Abbott'\n",
            "⚠️  Manual mapping required for: 'Action Construction Equipment'\n",
            "⚠️  Manual mapping required for: 'Adani Enterprises'\n",
            "⚠️  Manual mapping required for: 'Adani Green Energy'\n",
            "⚠️  Manual mapping required for: 'Adani Ports and Special Economic Zone'\n",
            "⚠️  Manual mapping required for: 'Adani Wilmar'\n",
            "⚠️  Manual mapping required for: 'Adani Power'\n",
            "⚠️  Manual mapping required for: 'Adani Total Gas'\n",
            "⚠️  Manual mapping required for: 'Aditya Birla Capital'\n",
            "⚠️  Manual mapping required for: 'Aditya Birla Fashion and Retail'\n",
            "⚠️  Manual mapping required for: 'Aditya Birla Real Estate'\n",
            "⚠️  Manual mapping required for: 'Aegis Logistics'\n",
            "⚠️  Manual mapping required for: 'Aditya Birla Sun Life AMC'\n",
            "⚠️  Manual mapping required for: 'Affle ()'\n",
            "⚠️  Manual mapping required for: 'Ajanta Pharmaceuticals'\n",
            "⚠️  Manual mapping required for: 'Akums Drugs and Pharmaceuticals'\n",
            "⚠️  Manual mapping required for: 'Alkem Laboratories'\n",
            "⚠️  Manual mapping required for: 'Alembic Pharmaceuticals'\n",
            "⚠️  Manual mapping required for: 'Alkyl Amines Chemicals'\n",
            "⚠️  Manual mapping required for: 'Alok Industries'\n",
            "⚠️  Manual mapping required for: 'Anand Rathi Wealth'\n",
            "⚠️  Manual mapping required for: 'Amber Enterprises'\n",
            "⚠️  Manual mapping required for: 'Amara Raja Energy & Mobility'\n",
            "⚠️  Manual mapping required for: 'Ambuja Cements'\n",
            "⚠️  Manual mapping required for: 'Anant Raj'\n",
            "⚠️  Manual mapping required for: 'Apar Industries'\n",
            "⚠️  Manual mapping required for: 'Angel One'\n",
            "⚠️  Manual mapping required for: 'Apollo Hospitals Enterprise'\n",
            "⚠️  Manual mapping required for: 'Apollo Tyres'\n",
            "⚠️  Manual mapping required for: 'Aptus Value Housing Finance'\n",
            "⚠️  Manual mapping required for: 'Archean Chemical Industries'\n",
            "⚠️  Manual mapping required for: 'Asahi  Glass'\n",
            "⚠️  Manual mapping required for: 'Ashok Leyland'\n",
            "⚠️  Manual mapping required for: 'Asian Paints'\n",
            "⚠️  Manual mapping required for: 'Aster DM Healthcare'\n",
            "⚠️  Manual mapping required for: 'AstraZenca Pharma'\n",
            "⚠️  Manual mapping required for: 'Astral'\n",
            "⚠️  Manual mapping required for: 'Atul'\n",
            "⚠️  Manual mapping required for: 'Aurobindo Pharma'\n",
            "⚠️  Manual mapping required for: 'Avanti Feeds'\n",
            "⚠️  Manual mapping required for: 'Avenue Supermarts'\n",
            "⚠️  Manual mapping required for: 'Axis Bank'\n",
            "⚠️  Manual mapping required for: 'BEML'\n",
            "⚠️  Manual mapping required for: 'BASF'\n",
            "⚠️  Manual mapping required for: 'BLS International Services'\n",
            "⚠️  Manual mapping required for: 'BSE'\n",
            "⚠️  Manual mapping required for: 'Bajaj Auto'\n",
            "⚠️  Manual mapping required for: 'Bajaj Finance'\n",
            "⚠️  Manual mapping required for: 'Bajaj Finserv'\n",
            "⚠️  Manual mapping required for: 'Bajaj Holdings & Investment'\n",
            "⚠️  Manual mapping required for: 'Balaji Amines'\n",
            "⚠️  Manual mapping required for: 'Balkrishna Industries'\n",
            "⚠️  Manual mapping required for: 'Balrampur Chini Mills'\n",
            "⚠️  Manual mapping required for: 'Bandhan Bank'\n",
            "⚠️  Manual mapping required for: 'Bank of Baroda'\n",
            "⚠️  Manual mapping required for: 'Bank of'\n",
            "⚠️  Manual mapping required for: 'Bank of Maharashtra'\n",
            "⚠️  Manual mapping required for: 'Bata'\n",
            "⚠️  Manual mapping required for: 'Bayer Cropscience'\n",
            "⚠️  Manual mapping required for: 'Berger Paints'\n",
            "⚠️  Manual mapping required for: 'Bharat Dynamics'\n",
            "⚠️  Manual mapping required for: 'Bharat Electronics'\n",
            "⚠️  Manual mapping required for: 'Bharat Forge'\n",
            "⚠️  Manual mapping required for: 'Bharat Heavy Electricals'\n",
            "⚠️  Manual mapping required for: 'Bharat Petroleum Corporation'\n",
            "⚠️  Manual mapping required for: 'Bharti Airtel'\n",
            "⚠️  Manual mapping required for: 'Bharti Hexacom'\n",
            "⚠️  Manual mapping required for: 'Bikaji Foods International'\n",
            "⚠️  Manual mapping required for: 'Biocon'\n",
            "⚠️  Manual mapping required for: 'Birla Corporation'\n",
            "⚠️  Manual mapping required for: 'Birlasoft'\n",
            "⚠️  Manual mapping required for: 'Blue Dart Express'\n",
            "⚠️  Manual mapping required for: 'Blue Star'\n",
            "⚠️  Manual mapping required for: 'Bombay Burmah Trading Corporation'\n",
            "⚠️  Manual mapping required for: 'Bosch'\n",
            "⚠️  Manual mapping required for: 'Britannia Industries'\n",
            "⚠️  Manual mapping required for: 'Brigade Enterprises'\n",
            "⚠️  Manual mapping required for: 'C.E. Info Systems'\n",
            "⚠️  Manual mapping required for: 'CCL Products (I)'\n",
            "⚠️  Manual mapping required for: 'CESC'\n",
            "⚠️  Manual mapping required for: 'CG Power and Industrial Solutions'\n",
            "⚠️  Manual mapping required for: 'CIE Automotive'\n",
            "⚠️  Manual mapping required for: 'CRISIL'\n",
            "⚠️  Manual mapping required for: 'Campus Activewear'\n",
            "⚠️  Manual mapping required for: 'Can Fin Homes'\n",
            "⚠️  Manual mapping required for: 'Capri Global Capital'\n",
            "⚠️  Manual mapping required for: 'Caplin Point Laboratories'\n",
            "⚠️  Manual mapping required for: 'Canara Bank'\n",
            "⚠️  Manual mapping required for: 'Carborundum Universal'\n",
            "⚠️  Manual mapping required for: 'Castrol'\n",
            "⚠️  Manual mapping required for: 'Ceat'\n",
            "⚠️  Manual mapping required for: 'Cello World'\n",
            "⚠️  Manual mapping required for: 'Central Bank of'\n",
            "⚠️  Manual mapping required for: 'Central Depository Services ()'\n",
            "⚠️  Manual mapping required for: 'Century Plyboards ()'\n",
            "⚠️  Manual mapping required for: 'Cera Sanitaryware'\n",
            "⚠️  Manual mapping required for: 'Chalet Hotels'\n",
            "⚠️  Manual mapping required for: 'Chemplast Sanmar'\n",
            "⚠️  Manual mapping required for: 'Chambal Fertilizers & Chemicals'\n",
            "⚠️  Manual mapping required for: 'Chennai Petroleum Corporation'\n",
            "⚠️  Manual mapping required for: 'Cholamandalam Financial Holdings'\n",
            "⚠️  Manual mapping required for: 'Cholamandalam Investment and Finance Company'\n",
            "⚠️  Manual mapping required for: 'Cipla'\n",
            "⚠️  Manual mapping required for: 'City Union Bank'\n",
            "⚠️  Manual mapping required for: 'Clean Science and Technology'\n",
            "⚠️  Manual mapping required for: 'Coal'\n",
            "⚠️  Manual mapping required for: 'Cochin Shipyard'\n",
            "⚠️  Manual mapping required for: 'Coforge'\n",
            "⚠️  Manual mapping required for: 'Colgate Palmolive ()'\n",
            "⚠️  Manual mapping required for: 'Computer Age Management Services'\n",
            "⚠️  Manual mapping required for: 'Concord Biotech'\n",
            "⚠️  Manual mapping required for: 'Container Corporation of'\n",
            "⚠️  Manual mapping required for: 'Coromandel International'\n",
            "⚠️  Manual mapping required for: 'Craftsman Automation'\n",
            "⚠️  Manual mapping required for: 'CreditAccess Grameen'\n",
            "⚠️  Manual mapping required for: 'Crompton Greaves Consumer Electricals'\n",
            "⚠️  Manual mapping required for: 'Cummins'\n",
            "⚠️  Manual mapping required for: 'Cyient'\n",
            "⚠️  Manual mapping required for: 'DLF'\n",
            "⚠️  Manual mapping required for: 'DOMS Industries'\n",
            "⚠️  Manual mapping required for: 'Dabur'\n",
            "⚠️  Manual mapping required for: 'Dalmia Bharat'\n",
            "⚠️  Manual mapping required for: 'Data Patterns ()'\n",
            "⚠️  Manual mapping required for: 'Deepak Fertilisers & Petrochemicals Corp.'\n",
            "⚠️  Manual mapping required for: 'Deepak Nitrite'\n",
            "⚠️  Manual mapping required for: 'Delhivery'\n",
            "⚠️  Manual mapping required for: 'Devyani International'\n",
            "⚠️  Manual mapping required for: 'Divi's Laboratories'\n",
            "⚠️  Manual mapping required for: 'Dixon Technologies ()'\n",
            "⚠️  Manual mapping required for: 'Dr. Lal Path Labs'\n",
            "⚠️  Manual mapping required for: 'E.I.D. Parry ()'\n",
            "⚠️  Manual mapping required for: 'Dr. Reddy's Laboratories'\n",
            "⚠️  Manual mapping required for: 'EIH'\n",
            "⚠️  Manual mapping required for: 'Easy Trip Planners'\n",
            "⚠️  Manual mapping required for: 'Eicher Motors'\n",
            "⚠️  Manual mapping required for: 'Elecon Engineering Co.'\n",
            "⚠️  Manual mapping required for: 'Elgi Equipments'\n",
            "⚠️  Manual mapping required for: 'Emami'\n",
            "⚠️  Manual mapping required for: 'Emcure Pharmaceuticals'\n",
            "⚠️  Manual mapping required for: 'Endurance Technologies'\n",
            "⚠️  Manual mapping required for: 'Equitas Small Finance Bank'\n",
            "⚠️  Manual mapping required for: 'Engineers'\n",
            "⚠️  Manual mapping required for: 'Eris Lifesciences'\n",
            "⚠️  Manual mapping required for: 'Escorts Kubota'\n",
            "⚠️  Manual mapping required for: 'Exide Industries'\n",
            "⚠️  Manual mapping required for: 'FSN E-Commerce Ventures'\n",
            "⚠️  Manual mapping required for: 'Federal Bank'\n",
            "⚠️  Manual mapping required for: 'Fertilisers and Chemicals Travancore'\n",
            "⚠️  Manual mapping required for: 'Fine Organic Industries'\n",
            "⚠️  Manual mapping required for: 'Finolex Cables'\n",
            "⚠️  Manual mapping required for: 'Finolex Industries'\n",
            "⚠️  Manual mapping required for: 'Firstsource Solutions'\n",
            "⚠️  Manual mapping required for: 'Five-Star Business Finance'\n",
            "⚠️  Manual mapping required for: 'Fortis Healthcare'\n",
            "⚠️  Manual mapping required for: 'G R Infraprojects'\n",
            "⚠️  Manual mapping required for: 'GAIL ()'\n",
            "⚠️  Manual mapping required for: 'GE Vernova T&D'\n",
            "⚠️  Manual mapping required for: 'GMR Airports'\n",
            "⚠️  Manual mapping required for: 'Garden Reach Shipbuilders & Engineers'\n",
            "⚠️  Manual mapping required for: 'General Insurance Corporation of'\n",
            "⚠️  Manual mapping required for: 'Gillette'\n",
            "⚠️  Manual mapping required for: 'Gland Pharma'\n",
            "⚠️  Manual mapping required for: 'Glaxosmithkline Pharmaceuticals'\n",
            "⚠️  Manual mapping required for: 'Glenmark Pharmaceuticals'\n",
            "⚠️  Manual mapping required for: 'Global Health'\n",
            "⚠️  Manual mapping required for: 'Go Digit General Insurance'\n",
            "⚠️  Manual mapping required for: 'Godawari Power & Ispat'\n",
            "⚠️  Manual mapping required for: 'Godfrey Phillips'\n",
            "⚠️  Manual mapping required for: 'Godrej Agrovet'\n",
            "⚠️  Manual mapping required for: 'Godrej Consumer Products'\n",
            "⚠️  Manual mapping required for: 'Godrej Industries'\n",
            "⚠️  Manual mapping required for: 'Godrej Properties'\n",
            "⚠️  Manual mapping required for: 'Granules'\n",
            "⚠️  Manual mapping required for: 'Graphite'\n",
            "⚠️  Manual mapping required for: 'Grasim Industries'\n",
            "⚠️  Manual mapping required for: 'Great Eastern Shipping Co.'\n",
            "⚠️  Manual mapping required for: 'Grindwell Norton'\n",
            "⚠️  Manual mapping required for: 'Gujarat Ambuja Exports'\n",
            "⚠️  Manual mapping required for: 'Gujarat Fluorochemicals'\n",
            "⚠️  Manual mapping required for: 'Gujarat Gas'\n",
            "⚠️  Manual mapping required for: 'Gujarat Mineral Development Corporation'\n",
            "⚠️  Manual mapping required for: 'Gujarat Narmada Valley Fertilizers and Chemicals'\n",
            "⚠️  Manual mapping required for: 'Gujarat Pipavav Port'\n",
            "⚠️  Manual mapping required for: 'Gujarat State Fertilizers & Chemicals'\n",
            "⚠️  Manual mapping required for: 'Gujarat State Petronet'\n",
            "⚠️  Manual mapping required for: 'H.E.G.'\n",
            "⚠️  Manual mapping required for: 'HBL Engineering'\n",
            "⚠️  Manual mapping required for: 'HCL Technologies'\n",
            "⚠️  Manual mapping required for: 'HDFC Asset Management Company'\n",
            "⚠️  Manual mapping required for: 'HDFC Bank'\n",
            "⚠️  Manual mapping required for: 'HDFC Life Insurance Company'\n",
            "⚠️  Manual mapping required for: 'Happiest Minds Technologies'\n",
            "⚠️  Manual mapping required for: 'HFCL'\n",
            "⚠️  Manual mapping required for: 'Havells'\n",
            "⚠️  Manual mapping required for: 'Hero MotoCorp'\n",
            "⚠️  Manual mapping required for: 'Himadri Speciality Chemical'\n",
            "⚠️  Manual mapping required for: 'Hindalco Industries'\n",
            "⚠️  Manual mapping required for: 'Hindustan Aeronautics'\n",
            "⚠️  Manual mapping required for: 'Hindustan Copper'\n",
            "⚠️  Manual mapping required for: 'Hindustan Petroleum Corporation'\n",
            "⚠️  Manual mapping required for: 'Hindustan Unilever'\n",
            "⚠️  Manual mapping required for: 'Hindustan Zinc'\n",
            "⚠️  Manual mapping required for: 'Hitachi Energy'\n",
            "⚠️  Manual mapping required for: 'Home First Finance Company'\n",
            "⚠️  Manual mapping required for: 'Honeywell Automation'\n",
            "⚠️  Manual mapping required for: 'Honasa Consumer'\n",
            "⚠️  Manual mapping required for: 'Housing & Urban Development Corporation'\n",
            "⚠️  Manual mapping required for: 'ICICI Bank'\n",
            "⚠️  Manual mapping required for: 'ICICI Lombard General Insurance Company'\n",
            "⚠️  Manual mapping required for: 'IDBI Bank'\n",
            "⚠️  Manual mapping required for: 'ICICI Prudential Life Insurance Company'\n",
            "⚠️  Manual mapping required for: 'IDFC First Bank'\n",
            "⚠️  Manual mapping required for: 'IFCI'\n",
            "⚠️  Manual mapping required for: 'IIFL Finance'\n",
            "⚠️  Manual mapping required for: 'INOX'\n",
            "⚠️  Manual mapping required for: 'IRB Infrastructure Developers'\n",
            "⚠️  Manual mapping required for: 'IRCON International'\n",
            "⚠️  Manual mapping required for: 'ITC'\n",
            "⚠️  Manual mapping required for: 'ITI'\n",
            "⚠️  Manual mapping required for: 'Indegene'\n",
            "⚠️  Manual mapping required for: 'Cements'\n",
            "⚠️  Manual mapping required for: 'mart Intermesh'\n",
            "⚠️  Manual mapping required for: 'n Energy Exchange'\n",
            "⚠️  Manual mapping required for: 'n Bank'\n",
            "⚠️  Manual mapping required for: 'n Hotels Co.'\n",
            "⚠️  Manual mapping required for: 'n Oil Corporation'\n",
            "⚠️  Manual mapping required for: 'n Overseas Bank'\n",
            "⚠️  Manual mapping required for: 'n Railway Catering And Tourism Corporation'\n",
            "⚠️  Manual mapping required for: 'n Railway Finance Corporation'\n",
            "⚠️  Manual mapping required for: 'n Renewable Energy Development Agency'\n",
            "⚠️  Manual mapping required for: 'Indraprastha Gas'\n",
            "⚠️  Manual mapping required for: 'Indus Towers'\n",
            "⚠️  Manual mapping required for: 'IndusInd Bank'\n",
            "⚠️  Manual mapping required for: 'Info Edge ()'\n",
            "⚠️  Manual mapping required for: 'Infosys'\n",
            "⚠️  Manual mapping required for: 'Inox Wind'\n",
            "⚠️  Manual mapping required for: 'Intellect Design Arena'\n",
            "⚠️  Manual mapping required for: 'InterGlobe Aviation'\n",
            "⚠️  Manual mapping required for: 'Ipca Laboratories'\n",
            "⚠️  Manual mapping required for: 'J.B. Chemicals & Pharmaceuticals'\n",
            "⚠️  Manual mapping required for: 'J.K. Cement'\n",
            "⚠️  Manual mapping required for: 'JBM Auto'\n",
            "⚠️  Manual mapping required for: 'JK Lakshmi Cement'\n",
            "⚠️  Manual mapping required for: 'JK Tyre & Industries'\n",
            "⚠️  Manual mapping required for: 'JM Financial'\n",
            "⚠️  Manual mapping required for: 'JSW Energy'\n",
            "⚠️  Manual mapping required for: 'JSW Infrastructure'\n",
            "⚠️  Manual mapping required for: 'JSW Steel'\n",
            "⚠️  Manual mapping required for: 'Jaiprakash Power Ventures'\n",
            "⚠️  Manual mapping required for: 'Jammu & Kashmir Bank'\n",
            "⚠️  Manual mapping required for: 'Jindal Saw'\n",
            "⚠️  Manual mapping required for: 'Jindal Stainless'\n",
            "⚠️  Manual mapping required for: 'Jindal Steel & Power'\n",
            "⚠️  Manual mapping required for: 'Jio Financial Services'\n",
            "⚠️  Manual mapping required for: 'Jubilant Foodworks'\n",
            "⚠️  Manual mapping required for: 'Jubilant Ingrevia'\n",
            "⚠️  Manual mapping required for: 'Jubilant Pharmova'\n",
            "⚠️  Manual mapping required for: 'Justdial'\n",
            "⚠️  Manual mapping required for: 'Jupiter Wagons'\n",
            "⚠️  Manual mapping required for: 'Jyothy Labs'\n",
            "⚠️  Manual mapping required for: 'Jyoti CNC Automation'\n",
            "⚠️  Manual mapping required for: 'KNR Constructions'\n",
            "⚠️  Manual mapping required for: 'K.P.R. Mill'\n",
            "⚠️  Manual mapping required for: 'KEI Industries'\n",
            "⚠️  Manual mapping required for: 'KPIT Technologies'\n",
            "⚠️  Manual mapping required for: 'KSB'\n",
            "⚠️  Manual mapping required for: 'Kajaria Ceramics'\n",
            "⚠️  Manual mapping required for: 'Kalpataru Projects International'\n",
            "⚠️  Manual mapping required for: 'Kalyan Jewellers'\n",
            "⚠️  Manual mapping required for: 'Kansai Nerolac Paints'\n",
            "⚠️  Manual mapping required for: 'Karur Vysya Bank'\n",
            "⚠️  Manual mapping required for: 'Kaynes Technology'\n",
            "⚠️  Manual mapping required for: 'Kec International'\n",
            "⚠️  Manual mapping required for: 'Kfin Technologies'\n",
            "⚠️  Manual mapping required for: 'Kirloskar Brothers'\n",
            "⚠️  Manual mapping required for: 'Kirloskar Oil Eng'\n",
            "⚠️  Manual mapping required for: 'Kotak Mahindra Bank'\n",
            "⚠️  Manual mapping required for: 'Krishna Institute of Medical Sciences'\n",
            "⚠️  Manual mapping required for: 'L&T Finance'\n",
            "⚠️  Manual mapping required for: 'L&T Technology Services'\n",
            "⚠️  Manual mapping required for: 'LIC Housing Finance'\n",
            "⚠️  Manual mapping required for: 'LTIMindtree'\n",
            "⚠️  Manual mapping required for: 'Larsen & Toubro'\n",
            "⚠️  Manual mapping required for: 'Latent View Analytics'\n",
            "⚠️  Manual mapping required for: 'Laurus Labs'\n",
            "⚠️  Manual mapping required for: 'Lemon Tree Hotels'\n",
            "⚠️  Manual mapping required for: 'Lloyds Metals And Energy'\n",
            "⚠️  Manual mapping required for: 'Linde'\n",
            "⚠️  Manual mapping required for: 'Life Insurance Corporation of'\n",
            "⚠️  Manual mapping required for: 'Lupin'\n",
            "⚠️  Manual mapping required for: 'MMTC'\n",
            "⚠️  Manual mapping required for: 'Mahanagar Gas'\n",
            "⚠️  Manual mapping required for: 'Macrotech Developers'\n",
            "⚠️  Manual mapping required for: 'MRF'\n",
            "⚠️  Manual mapping required for: 'Maharashtra Seamless'\n",
            "⚠️  Manual mapping required for: 'Mahindra & Mahindra Financial Services'\n",
            "⚠️  Manual mapping required for: 'Mangalore Refinery & Petrochemicals'\n",
            "⚠️  Manual mapping required for: 'Mahindra Lifespace Developers'\n",
            "⚠️  Manual mapping required for: 'Manappuram Finance'\n",
            "⚠️  Manual mapping required for: 'Mahindra & Mahindra'\n",
            "⚠️  Manual mapping required for: 'Mankind Pharma'\n",
            "⚠️  Manual mapping required for: 'Marico'\n",
            "⚠️  Manual mapping required for: 'Mastek'\n",
            "⚠️  Manual mapping required for: 'Maruti Suzuki'\n",
            "⚠️  Manual mapping required for: 'Max Financial Services'\n",
            "⚠️  Manual mapping required for: 'Max Healthcare Institute'\n",
            "⚠️  Manual mapping required for: 'Metropolis Healthcare'\n",
            "⚠️  Manual mapping required for: 'Mazagoan Dock Shipbuilders'\n",
            "⚠️  Manual mapping required for: 'Metro Brands'\n",
            "⚠️  Manual mapping required for: 'Minda Corporation'\n",
            "⚠️  Manual mapping required for: 'Motherson Sumi Wiring'\n",
            "⚠️  Manual mapping required for: 'MphasiS'\n",
            "⚠️  Manual mapping required for: 'Motilal Oswal Financial Services'\n",
            "⚠️  Manual mapping required for: 'Multi Commodity Exchange of'\n",
            "⚠️  Manual mapping required for: 'Muthoot Finance'\n",
            "⚠️  Manual mapping required for: 'NATCO Pharma'\n",
            "⚠️  Manual mapping required for: 'NBCC ()'\n",
            "⚠️  Manual mapping required for: 'NCC'\n",
            "⚠️  Manual mapping required for: 'NHPC'\n",
            "⚠️  Manual mapping required for: 'NLC'\n",
            "⚠️  Manual mapping required for: 'NMDC'\n",
            "⚠️  Manual mapping required for: 'NMDC Steel'\n",
            "⚠️  Manual mapping required for: 'NTPC'\n",
            "⚠️  Manual mapping required for: 'Narayana Hrudayalaya'\n",
            "⚠️  Manual mapping required for: 'National Aluminium Co.'\n",
            "⚠️  Manual mapping required for: 'Navin Fluorine International'\n",
            "⚠️  Manual mapping required for: 'Nestle'\n",
            "⚠️  Manual mapping required for: 'Netweb Technologies'\n",
            "⚠️  Manual mapping required for: 'Network18 Media & Investments'\n",
            "⚠️  Manual mapping required for: 'Newgen Software Technologies'\n",
            "⚠️  Manual mapping required for: 'Nippon Life  Asset Management'\n",
            "⚠️  Manual mapping required for: 'Nuvama Wealth Management'\n",
            "⚠️  Manual mapping required for: 'Nuvoco Vistas Corporation'\n",
            "⚠️  Manual mapping required for: 'Oberoi Realty'\n",
            "⚠️  Manual mapping required for: 'Oil & Natural Gas Corporation'\n",
            "⚠️  Manual mapping required for: 'Oil'\n",
            "⚠️  Manual mapping required for: 'Olectra Greentech'\n",
            "⚠️  Manual mapping required for: 'One 97 Communications'\n",
            "⚠️  Manual mapping required for: 'Oracle Financial Services Software'\n",
            "⚠️  Manual mapping required for: 'PB Fintech'\n",
            "⚠️  Manual mapping required for: 'PI Industries'\n",
            "⚠️  Manual mapping required for: 'PCBL Chemical'\n",
            "⚠️  Manual mapping required for: 'PNB Housing Finance'\n",
            "⚠️  Manual mapping required for: 'PNC Infratech'\n",
            "⚠️  Manual mapping required for: 'PTC Industries'\n",
            "⚠️  Manual mapping required for: 'PVR INOX'\n",
            "⚠️  Manual mapping required for: 'Page Industries'\n",
            "⚠️  Manual mapping required for: 'Patanjali Foods'\n",
            "⚠️  Manual mapping required for: 'Persistent Systems'\n",
            "⚠️  Manual mapping required for: 'Petronet LNG'\n",
            "⚠️  Manual mapping required for: 'Pfizer'\n",
            "⚠️  Manual mapping required for: 'Phoenix Mills'\n",
            "⚠️  Manual mapping required for: 'Pidilite Industries'\n",
            "⚠️  Manual mapping required for: 'Piramal Enterprises'\n",
            "⚠️  Manual mapping required for: 'Piramal Pharma'\n",
            "⚠️  Manual mapping required for: 'Poonawalla Fincorp'\n",
            "⚠️  Manual mapping required for: 'Poly Medicure'\n",
            "⚠️  Manual mapping required for: 'Polycab'\n",
            "⚠️  Manual mapping required for: 'Power Finance Corporation'\n",
            "⚠️  Manual mapping required for: 'Power Grid Corporation of'\n",
            "⚠️  Manual mapping required for: 'Praj Industries'\n",
            "⚠️  Manual mapping required for: 'Prestige Estates Projects'\n",
            "⚠️  Manual mapping required for: 'Procter & Gamble Hygiene & Health Care'\n",
            "⚠️  Manual mapping required for: 'Punjab National Bank'\n",
            "⚠️  Manual mapping required for: 'Quess Corp'\n",
            "⚠️  Manual mapping required for: 'R R Kabel'\n",
            "⚠️  Manual mapping required for: 'RBL Bank'\n",
            "⚠️  Manual mapping required for: 'REC'\n",
            "⚠️  Manual mapping required for: 'RHI MAGNESITA'\n",
            "⚠️  Manual mapping required for: 'RITES'\n",
            "⚠️  Manual mapping required for: 'Radico Khaitan'\n",
            "⚠️  Manual mapping required for: 'Rail Vikas Nigam'\n",
            "⚠️  Manual mapping required for: 'Railtel Corporation Of'\n",
            "⚠️  Manual mapping required for: 'Rainbow Childrens Medicare'\n",
            "⚠️  Manual mapping required for: 'Rajesh Exports'\n",
            "⚠️  Manual mapping required for: 'Ramkrishna Forgings'\n",
            "⚠️  Manual mapping required for: 'Rashtriya Chemicals & Fertilizers'\n",
            "⚠️  Manual mapping required for: 'Ratnamani Metals & Tubes'\n",
            "⚠️  Manual mapping required for: 'Rattan Enterprises'\n",
            "⚠️  Manual mapping required for: 'Raymond Lifestyle'\n",
            "⚠️  Manual mapping required for: 'Raymond'\n",
            "⚠️  Manual mapping required for: 'Redington'\n",
            "⚠️  Manual mapping required for: 'Reliance Industries'\n",
            "⚠️  Manual mapping required for: 'Route Mobile'\n",
            "⚠️  Manual mapping required for: 'SBFC Finance'\n",
            "⚠️  Manual mapping required for: 'SBI Cards and Payment Services'\n",
            "⚠️  Manual mapping required for: 'SBI Life Insurance Company'\n",
            "⚠️  Manual mapping required for: 'SJVN'\n",
            "⚠️  Manual mapping required for: 'SKF'\n",
            "⚠️  Manual mapping required for: 'SRF'\n",
            "⚠️  Manual mapping required for: 'Sammaan Capital'\n",
            "⚠️  Manual mapping required for: 'Samvardhana Motherson International'\n",
            "⚠️  Manual mapping required for: 'Sanofi'\n",
            "⚠️  Manual mapping required for: 'Sapphire Foods'\n",
            "⚠️  Manual mapping required for: 'Saregama'\n",
            "⚠️  Manual mapping required for: 'Schaeffler'\n",
            "⚠️  Manual mapping required for: 'Schneider Electric Infrastructure'\n",
            "⚠️  Manual mapping required for: 'Shipping Corporation of'\n",
            "⚠️  Manual mapping required for: 'Shree Cement'\n",
            "⚠️  Manual mapping required for: 'Shree Renuka Sugars'\n",
            "⚠️  Manual mapping required for: 'Shriram Finance'\n",
            "⚠️  Manual mapping required for: 'Shyam Metalics and Energy'\n",
            "⚠️  Manual mapping required for: 'Siemens'\n",
            "⚠️  Manual mapping required for: 'Signatureglobal ()'\n",
            "⚠️  Manual mapping required for: 'Sobha'\n",
            "⚠️  Manual mapping required for: 'Sona BLW Precision Forgings'\n",
            "⚠️  Manual mapping required for: 'Solar Industries'\n",
            "⚠️  Manual mapping required for: 'Sonata Software'\n",
            "⚠️  Manual mapping required for: 'Star Health and Allied Insurance Company'\n",
            "⚠️  Manual mapping required for: 'State Bank of'\n",
            "⚠️  Manual mapping required for: 'Sterling and Wilson Renewable Energy'\n",
            "⚠️  Manual mapping required for: 'Steel Authority of'\n",
            "⚠️  Manual mapping required for: 'Sumitomo Chemical'\n",
            "⚠️  Manual mapping required for: 'Sun Pharma Advanced Research Company'\n",
            "⚠️  Manual mapping required for: 'Sun Pharmaceutical Industries'\n",
            "⚠️  Manual mapping required for: 'Sundaram Finance'\n",
            "⚠️  Manual mapping required for: 'Sun TV Network'\n",
            "⚠️  Manual mapping required for: 'Sundram Fasteners'\n",
            "⚠️  Manual mapping required for: 'Supreme Industries'\n",
            "⚠️  Manual mapping required for: 'Suven Pharmaceuticals'\n",
            "⚠️  Manual mapping required for: 'Suzlon Energy'\n",
            "⚠️  Manual mapping required for: 'Swan Energy'\n",
            "⚠️  Manual mapping required for: 'Syngene International'\n",
            "⚠️  Manual mapping required for: 'Syrma SGS Technology'\n",
            "⚠️  Manual mapping required for: 'TBO Tek'\n",
            "⚠️  Manual mapping required for: 'TVS Supply Chain Solutions'\n",
            "⚠️  Manual mapping required for: 'TVS Motor Company'\n",
            "⚠️  Manual mapping required for: 'Tanla Platforms'\n",
            "⚠️  Manual mapping required for: 'Tata Chemicals'\n",
            "⚠️  Manual mapping required for: 'Tata Communications'\n",
            "⚠️  Manual mapping required for: 'Tata Consumer Products'\n",
            "⚠️  Manual mapping required for: 'Tata Consultancy Services'\n",
            "⚠️  Manual mapping required for: 'Tata Elxsi'\n",
            "⚠️  Manual mapping required for: 'Tata Investment Corporation'\n",
            "⚠️  Manual mapping required for: 'Tata Motors'\n",
            "⚠️  Manual mapping required for: 'Tata Power Co.'\n",
            "⚠️  Manual mapping required for: 'Tata Steel'\n",
            "⚠️  Manual mapping required for: 'Tata Technologies'\n",
            "⚠️  Manual mapping required for: 'Tata Teleservices (Maharashtra)'\n",
            "⚠️  Manual mapping required for: 'Tech Mahindra'\n",
            "⚠️  Manual mapping required for: 'Techno Electric & Engineering Company'\n",
            "⚠️  Manual mapping required for: 'Tejas Networks'\n",
            "⚠️  Manual mapping required for: 'The New  Assurance Company'\n",
            "⚠️  Manual mapping required for: 'The Ramco Cements'\n",
            "⚠️  Manual mapping required for: 'Thermax'\n",
            "⚠️  Manual mapping required for: 'Timken'\n",
            "⚠️  Manual mapping required for: 'Titagarh Rail Systems'\n",
            "⚠️  Manual mapping required for: 'Titan Company'\n",
            "⚠️  Manual mapping required for: 'Torrent Pharmaceuticals'\n",
            "⚠️  Manual mapping required for: 'Torrent Power'\n",
            "⚠️  Manual mapping required for: 'Trent'\n",
            "⚠️  Manual mapping required for: 'Trident'\n",
            "⚠️  Manual mapping required for: 'Triveni Turbine'\n",
            "⚠️  Manual mapping required for: 'Triveni Engineering & Industries'\n",
            "⚠️  Manual mapping required for: 'Tube Investments of'\n",
            "⚠️  Manual mapping required for: 'UCO Bank'\n",
            "⚠️  Manual mapping required for: 'UNO Minda'\n",
            "⚠️  Manual mapping required for: 'UPL'\n",
            "⚠️  Manual mapping required for: 'UTI Asset Management Company'\n",
            "⚠️  Manual mapping required for: 'Ujjivan Small Finance Bank'\n",
            "⚠️  Manual mapping required for: 'UltraTech Cement'\n",
            "⚠️  Manual mapping required for: 'Union Bank of'\n",
            "⚠️  Manual mapping required for: 'United Breweries'\n",
            "⚠️  Manual mapping required for: 'Usha Martin'\n",
            "⚠️  Manual mapping required for: 'United Spirits'\n",
            "⚠️  Manual mapping required for: 'V-Guard Industries'\n",
            "⚠️  Manual mapping required for: 'V.I.P. Industries'\n",
            "⚠️  Manual mapping required for: 'Valor Estate'\n",
            "⚠️  Manual mapping required for: 'Vardhman Textiles'\n",
            "⚠️  Manual mapping required for: 'Varroc Engineering'\n",
            "⚠️  Manual mapping required for: 'Varun Beverages'\n",
            "⚠️  Manual mapping required for: 'Vedant Fashions'\n",
            "⚠️  Manual mapping required for: 'Vedanta'\n",
            "⚠️  Manual mapping required for: 'Vijaya Diagnostic Centre'\n",
            "⚠️  Manual mapping required for: 'Vinati Organics'\n",
            "⚠️  Manual mapping required for: 'Vodafone Idea'\n",
            "⚠️  Manual mapping required for: 'Voltas'\n",
            "⚠️  Manual mapping required for: 'Welspun Corp'\n",
            "⚠️  Manual mapping required for: 'Welspun Living'\n",
            "⚠️  Manual mapping required for: 'Westlife Foodworld'\n",
            "⚠️  Manual mapping required for: 'Whirlpool of'\n",
            "⚠️  Manual mapping required for: 'Wipro'\n",
            "⚠️  Manual mapping required for: 'Yes Bank'\n",
            "⚠️  Manual mapping required for: 'ZF Commercial Vehicle Control Systems'\n",
            "⚠️  Manual mapping required for: 'Zee Entertainment Enterprises'\n",
            "⚠️  Manual mapping required for: 'Zensar Technolgies'\n",
            "⚠️  Manual mapping required for: 'Zomato'\n",
            "⚠️  Manual mapping required for: 'eClerx Services'\n",
            "⚠️  Manual mapping required for: 'Zydus Lifesciences'\n"
          ]
        },
        {
          "output_type": "stream",
          "name": "stderr",
          "text": [
            "<ipython-input-26-923bd599cdd5>:110: FutureWarning: 'M' is deprecated and will be removed in a future version, please use 'ME' instead.\n",
            "  stock_data = stock_data.set_index('Date').resample('M').mean().reset_index()\n",
            "<ipython-input-26-923bd599cdd5>:110: FutureWarning: 'M' is deprecated and will be removed in a future version, please use 'ME' instead.\n",
            "  stock_data = stock_data.set_index('Date').resample('M').mean().reset_index()\n",
            "<ipython-input-26-923bd599cdd5>:110: FutureWarning: 'M' is deprecated and will be removed in a future version, please use 'ME' instead.\n",
            "  stock_data = stock_data.set_index('Date').resample('M').mean().reset_index()\n",
            "<ipython-input-26-923bd599cdd5>:110: FutureWarning: 'M' is deprecated and will be removed in a future version, please use 'ME' instead.\n",
            "  stock_data = stock_data.set_index('Date').resample('M').mean().reset_index()\n",
            "<ipython-input-26-923bd599cdd5>:110: FutureWarning: 'M' is deprecated and will be removed in a future version, please use 'ME' instead.\n",
            "  stock_data = stock_data.set_index('Date').resample('M').mean().reset_index()\n",
            "<ipython-input-26-923bd599cdd5>:110: FutureWarning: 'M' is deprecated and will be removed in a future version, please use 'ME' instead.\n",
            "  stock_data = stock_data.set_index('Date').resample('M').mean().reset_index()\n",
            "<ipython-input-26-923bd599cdd5>:110: FutureWarning: 'M' is deprecated and will be removed in a future version, please use 'ME' instead.\n",
            "  stock_data = stock_data.set_index('Date').resample('M').mean().reset_index()\n",
            "<ipython-input-26-923bd599cdd5>:110: FutureWarning: 'M' is deprecated and will be removed in a future version, please use 'ME' instead.\n",
            "  stock_data = stock_data.set_index('Date').resample('M').mean().reset_index()\n",
            "<ipython-input-26-923bd599cdd5>:110: FutureWarning: 'M' is deprecated and will be removed in a future version, please use 'ME' instead.\n",
            "  stock_data = stock_data.set_index('Date').resample('M').mean().reset_index()\n",
            "<ipython-input-26-923bd599cdd5>:110: FutureWarning: 'M' is deprecated and will be removed in a future version, please use 'ME' instead.\n",
            "  stock_data = stock_data.set_index('Date').resample('M').mean().reset_index()\n",
            "<ipython-input-26-923bd599cdd5>:110: FutureWarning: 'M' is deprecated and will be removed in a future version, please use 'ME' instead.\n",
            "  stock_data = stock_data.set_index('Date').resample('M').mean().reset_index()\n",
            "<ipython-input-26-923bd599cdd5>:110: FutureWarning: 'M' is deprecated and will be removed in a future version, please use 'ME' instead.\n",
            "  stock_data = stock_data.set_index('Date').resample('M').mean().reset_index()\n",
            "<ipython-input-26-923bd599cdd5>:110: FutureWarning: 'M' is deprecated and will be removed in a future version, please use 'ME' instead.\n",
            "  stock_data = stock_data.set_index('Date').resample('M').mean().reset_index()\n",
            "<ipython-input-26-923bd599cdd5>:110: FutureWarning: 'M' is deprecated and will be removed in a future version, please use 'ME' instead.\n",
            "  stock_data = stock_data.set_index('Date').resample('M').mean().reset_index()\n",
            "<ipython-input-26-923bd599cdd5>:110: FutureWarning: 'M' is deprecated and will be removed in a future version, please use 'ME' instead.\n",
            "  stock_data = stock_data.set_index('Date').resample('M').mean().reset_index()\n",
            "<ipython-input-26-923bd599cdd5>:110: FutureWarning: 'M' is deprecated and will be removed in a future version, please use 'ME' instead.\n",
            "  stock_data = stock_data.set_index('Date').resample('M').mean().reset_index()\n",
            "<ipython-input-26-923bd599cdd5>:110: FutureWarning: 'M' is deprecated and will be removed in a future version, please use 'ME' instead.\n",
            "  stock_data = stock_data.set_index('Date').resample('M').mean().reset_index()\n",
            "<ipython-input-26-923bd599cdd5>:110: FutureWarning: 'M' is deprecated and will be removed in a future version, please use 'ME' instead.\n",
            "  stock_data = stock_data.set_index('Date').resample('M').mean().reset_index()\n",
            "<ipython-input-26-923bd599cdd5>:110: FutureWarning: 'M' is deprecated and will be removed in a future version, please use 'ME' instead.\n",
            "  stock_data = stock_data.set_index('Date').resample('M').mean().reset_index()\n",
            "<ipython-input-26-923bd599cdd5>:110: FutureWarning: 'M' is deprecated and will be removed in a future version, please use 'ME' instead.\n",
            "  stock_data = stock_data.set_index('Date').resample('M').mean().reset_index()\n",
            "<ipython-input-26-923bd599cdd5>:110: FutureWarning: 'M' is deprecated and will be removed in a future version, please use 'ME' instead.\n",
            "  stock_data = stock_data.set_index('Date').resample('M').mean().reset_index()\n",
            "<ipython-input-26-923bd599cdd5>:110: FutureWarning: 'M' is deprecated and will be removed in a future version, please use 'ME' instead.\n",
            "  stock_data = stock_data.set_index('Date').resample('M').mean().reset_index()\n",
            "<ipython-input-26-923bd599cdd5>:110: FutureWarning: 'M' is deprecated and will be removed in a future version, please use 'ME' instead.\n",
            "  stock_data = stock_data.set_index('Date').resample('M').mean().reset_index()\n",
            "<ipython-input-26-923bd599cdd5>:110: FutureWarning: 'M' is deprecated and will be removed in a future version, please use 'ME' instead.\n",
            "  stock_data = stock_data.set_index('Date').resample('M').mean().reset_index()\n",
            "<ipython-input-26-923bd599cdd5>:110: FutureWarning: 'M' is deprecated and will be removed in a future version, please use 'ME' instead.\n",
            "  stock_data = stock_data.set_index('Date').resample('M').mean().reset_index()\n",
            "<ipython-input-26-923bd599cdd5>:110: FutureWarning: 'M' is deprecated and will be removed in a future version, please use 'ME' instead.\n",
            "  stock_data = stock_data.set_index('Date').resample('M').mean().reset_index()\n",
            "<ipython-input-26-923bd599cdd5>:110: FutureWarning: 'M' is deprecated and will be removed in a future version, please use 'ME' instead.\n",
            "  stock_data = stock_data.set_index('Date').resample('M').mean().reset_index()\n",
            "<ipython-input-26-923bd599cdd5>:110: FutureWarning: 'M' is deprecated and will be removed in a future version, please use 'ME' instead.\n",
            "  stock_data = stock_data.set_index('Date').resample('M').mean().reset_index()\n",
            "<ipython-input-26-923bd599cdd5>:110: FutureWarning: 'M' is deprecated and will be removed in a future version, please use 'ME' instead.\n",
            "  stock_data = stock_data.set_index('Date').resample('M').mean().reset_index()\n",
            "<ipython-input-26-923bd599cdd5>:110: FutureWarning: 'M' is deprecated and will be removed in a future version, please use 'ME' instead.\n",
            "  stock_data = stock_data.set_index('Date').resample('M').mean().reset_index()\n",
            "<ipython-input-26-923bd599cdd5>:110: FutureWarning: 'M' is deprecated and will be removed in a future version, please use 'ME' instead.\n",
            "  stock_data = stock_data.set_index('Date').resample('M').mean().reset_index()\n",
            "<ipython-input-26-923bd599cdd5>:110: FutureWarning: 'M' is deprecated and will be removed in a future version, please use 'ME' instead.\n",
            "  stock_data = stock_data.set_index('Date').resample('M').mean().reset_index()\n",
            "<ipython-input-26-923bd599cdd5>:110: FutureWarning: 'M' is deprecated and will be removed in a future version, please use 'ME' instead.\n",
            "  stock_data = stock_data.set_index('Date').resample('M').mean().reset_index()\n",
            "<ipython-input-26-923bd599cdd5>:110: FutureWarning: 'M' is deprecated and will be removed in a future version, please use 'ME' instead.\n",
            "  stock_data = stock_data.set_index('Date').resample('M').mean().reset_index()\n",
            "<ipython-input-26-923bd599cdd5>:110: FutureWarning: 'M' is deprecated and will be removed in a future version, please use 'ME' instead.\n",
            "  stock_data = stock_data.set_index('Date').resample('M').mean().reset_index()\n",
            "<ipython-input-26-923bd599cdd5>:110: FutureWarning: 'M' is deprecated and will be removed in a future version, please use 'ME' instead.\n",
            "  stock_data = stock_data.set_index('Date').resample('M').mean().reset_index()\n",
            "<ipython-input-26-923bd599cdd5>:110: FutureWarning: 'M' is deprecated and will be removed in a future version, please use 'ME' instead.\n",
            "  stock_data = stock_data.set_index('Date').resample('M').mean().reset_index()\n",
            "<ipython-input-26-923bd599cdd5>:110: FutureWarning: 'M' is deprecated and will be removed in a future version, please use 'ME' instead.\n",
            "  stock_data = stock_data.set_index('Date').resample('M').mean().reset_index()\n",
            "<ipython-input-26-923bd599cdd5>:110: FutureWarning: 'M' is deprecated and will be removed in a future version, please use 'ME' instead.\n",
            "  stock_data = stock_data.set_index('Date').resample('M').mean().reset_index()\n",
            "<ipython-input-26-923bd599cdd5>:110: FutureWarning: 'M' is deprecated and will be removed in a future version, please use 'ME' instead.\n",
            "  stock_data = stock_data.set_index('Date').resample('M').mean().reset_index()\n",
            "<ipython-input-26-923bd599cdd5>:110: FutureWarning: 'M' is deprecated and will be removed in a future version, please use 'ME' instead.\n",
            "  stock_data = stock_data.set_index('Date').resample('M').mean().reset_index()\n",
            "<ipython-input-26-923bd599cdd5>:110: FutureWarning: 'M' is deprecated and will be removed in a future version, please use 'ME' instead.\n",
            "  stock_data = stock_data.set_index('Date').resample('M').mean().reset_index()\n",
            "<ipython-input-26-923bd599cdd5>:110: FutureWarning: 'M' is deprecated and will be removed in a future version, please use 'ME' instead.\n",
            "  stock_data = stock_data.set_index('Date').resample('M').mean().reset_index()\n",
            "<ipython-input-26-923bd599cdd5>:110: FutureWarning: 'M' is deprecated and will be removed in a future version, please use 'ME' instead.\n",
            "  stock_data = stock_data.set_index('Date').resample('M').mean().reset_index()\n",
            "<ipython-input-26-923bd599cdd5>:110: FutureWarning: 'M' is deprecated and will be removed in a future version, please use 'ME' instead.\n",
            "  stock_data = stock_data.set_index('Date').resample('M').mean().reset_index()\n",
            "<ipython-input-26-923bd599cdd5>:110: FutureWarning: 'M' is deprecated and will be removed in a future version, please use 'ME' instead.\n",
            "  stock_data = stock_data.set_index('Date').resample('M').mean().reset_index()\n",
            "<ipython-input-26-923bd599cdd5>:110: FutureWarning: 'M' is deprecated and will be removed in a future version, please use 'ME' instead.\n",
            "  stock_data = stock_data.set_index('Date').resample('M').mean().reset_index()\n",
            "<ipython-input-26-923bd599cdd5>:110: FutureWarning: 'M' is deprecated and will be removed in a future version, please use 'ME' instead.\n",
            "  stock_data = stock_data.set_index('Date').resample('M').mean().reset_index()\n",
            "<ipython-input-26-923bd599cdd5>:110: FutureWarning: 'M' is deprecated and will be removed in a future version, please use 'ME' instead.\n",
            "  stock_data = stock_data.set_index('Date').resample('M').mean().reset_index()\n",
            "<ipython-input-26-923bd599cdd5>:110: FutureWarning: 'M' is deprecated and will be removed in a future version, please use 'ME' instead.\n",
            "  stock_data = stock_data.set_index('Date').resample('M').mean().reset_index()\n",
            "<ipython-input-26-923bd599cdd5>:110: FutureWarning: 'M' is deprecated and will be removed in a future version, please use 'ME' instead.\n",
            "  stock_data = stock_data.set_index('Date').resample('M').mean().reset_index()\n",
            "<ipython-input-26-923bd599cdd5>:110: FutureWarning: 'M' is deprecated and will be removed in a future version, please use 'ME' instead.\n",
            "  stock_data = stock_data.set_index('Date').resample('M').mean().reset_index()\n",
            "<ipython-input-26-923bd599cdd5>:110: FutureWarning: 'M' is deprecated and will be removed in a future version, please use 'ME' instead.\n",
            "  stock_data = stock_data.set_index('Date').resample('M').mean().reset_index()\n",
            "<ipython-input-26-923bd599cdd5>:110: FutureWarning: 'M' is deprecated and will be removed in a future version, please use 'ME' instead.\n",
            "  stock_data = stock_data.set_index('Date').resample('M').mean().reset_index()\n",
            "<ipython-input-26-923bd599cdd5>:110: FutureWarning: 'M' is deprecated and will be removed in a future version, please use 'ME' instead.\n",
            "  stock_data = stock_data.set_index('Date').resample('M').mean().reset_index()\n",
            "<ipython-input-26-923bd599cdd5>:110: FutureWarning: 'M' is deprecated and will be removed in a future version, please use 'ME' instead.\n",
            "  stock_data = stock_data.set_index('Date').resample('M').mean().reset_index()\n",
            "<ipython-input-26-923bd599cdd5>:110: FutureWarning: 'M' is deprecated and will be removed in a future version, please use 'ME' instead.\n",
            "  stock_data = stock_data.set_index('Date').resample('M').mean().reset_index()\n",
            "<ipython-input-26-923bd599cdd5>:110: FutureWarning: 'M' is deprecated and will be removed in a future version, please use 'ME' instead.\n",
            "  stock_data = stock_data.set_index('Date').resample('M').mean().reset_index()\n",
            "<ipython-input-26-923bd599cdd5>:110: FutureWarning: 'M' is deprecated and will be removed in a future version, please use 'ME' instead.\n",
            "  stock_data = stock_data.set_index('Date').resample('M').mean().reset_index()\n",
            "<ipython-input-26-923bd599cdd5>:110: FutureWarning: 'M' is deprecated and will be removed in a future version, please use 'ME' instead.\n",
            "  stock_data = stock_data.set_index('Date').resample('M').mean().reset_index()\n",
            "<ipython-input-26-923bd599cdd5>:110: FutureWarning: 'M' is deprecated and will be removed in a future version, please use 'ME' instead.\n",
            "  stock_data = stock_data.set_index('Date').resample('M').mean().reset_index()\n",
            "<ipython-input-26-923bd599cdd5>:110: FutureWarning: 'M' is deprecated and will be removed in a future version, please use 'ME' instead.\n",
            "  stock_data = stock_data.set_index('Date').resample('M').mean().reset_index()\n",
            "<ipython-input-26-923bd599cdd5>:110: FutureWarning: 'M' is deprecated and will be removed in a future version, please use 'ME' instead.\n",
            "  stock_data = stock_data.set_index('Date').resample('M').mean().reset_index()\n",
            "<ipython-input-26-923bd599cdd5>:110: FutureWarning: 'M' is deprecated and will be removed in a future version, please use 'ME' instead.\n",
            "  stock_data = stock_data.set_index('Date').resample('M').mean().reset_index()\n",
            "<ipython-input-26-923bd599cdd5>:110: FutureWarning: 'M' is deprecated and will be removed in a future version, please use 'ME' instead.\n",
            "  stock_data = stock_data.set_index('Date').resample('M').mean().reset_index()\n",
            "<ipython-input-26-923bd599cdd5>:110: FutureWarning: 'M' is deprecated and will be removed in a future version, please use 'ME' instead.\n",
            "  stock_data = stock_data.set_index('Date').resample('M').mean().reset_index()\n",
            "<ipython-input-26-923bd599cdd5>:110: FutureWarning: 'M' is deprecated and will be removed in a future version, please use 'ME' instead.\n",
            "  stock_data = stock_data.set_index('Date').resample('M').mean().reset_index()\n",
            "<ipython-input-26-923bd599cdd5>:110: FutureWarning: 'M' is deprecated and will be removed in a future version, please use 'ME' instead.\n",
            "  stock_data = stock_data.set_index('Date').resample('M').mean().reset_index()\n",
            "<ipython-input-26-923bd599cdd5>:110: FutureWarning: 'M' is deprecated and will be removed in a future version, please use 'ME' instead.\n",
            "  stock_data = stock_data.set_index('Date').resample('M').mean().reset_index()\n",
            "<ipython-input-26-923bd599cdd5>:110: FutureWarning: 'M' is deprecated and will be removed in a future version, please use 'ME' instead.\n",
            "  stock_data = stock_data.set_index('Date').resample('M').mean().reset_index()\n",
            "<ipython-input-26-923bd599cdd5>:110: FutureWarning: 'M' is deprecated and will be removed in a future version, please use 'ME' instead.\n",
            "  stock_data = stock_data.set_index('Date').resample('M').mean().reset_index()\n",
            "<ipython-input-26-923bd599cdd5>:110: FutureWarning: 'M' is deprecated and will be removed in a future version, please use 'ME' instead.\n",
            "  stock_data = stock_data.set_index('Date').resample('M').mean().reset_index()\n",
            "<ipython-input-26-923bd599cdd5>:110: FutureWarning: 'M' is deprecated and will be removed in a future version, please use 'ME' instead.\n",
            "  stock_data = stock_data.set_index('Date').resample('M').mean().reset_index()\n",
            "<ipython-input-26-923bd599cdd5>:110: FutureWarning: 'M' is deprecated and will be removed in a future version, please use 'ME' instead.\n",
            "  stock_data = stock_data.set_index('Date').resample('M').mean().reset_index()\n",
            "<ipython-input-26-923bd599cdd5>:110: FutureWarning: 'M' is deprecated and will be removed in a future version, please use 'ME' instead.\n",
            "  stock_data = stock_data.set_index('Date').resample('M').mean().reset_index()\n",
            "<ipython-input-26-923bd599cdd5>:110: FutureWarning: 'M' is deprecated and will be removed in a future version, please use 'ME' instead.\n",
            "  stock_data = stock_data.set_index('Date').resample('M').mean().reset_index()\n",
            "<ipython-input-26-923bd599cdd5>:110: FutureWarning: 'M' is deprecated and will be removed in a future version, please use 'ME' instead.\n",
            "  stock_data = stock_data.set_index('Date').resample('M').mean().reset_index()\n",
            "<ipython-input-26-923bd599cdd5>:110: FutureWarning: 'M' is deprecated and will be removed in a future version, please use 'ME' instead.\n",
            "  stock_data = stock_data.set_index('Date').resample('M').mean().reset_index()\n",
            "<ipython-input-26-923bd599cdd5>:110: FutureWarning: 'M' is deprecated and will be removed in a future version, please use 'ME' instead.\n",
            "  stock_data = stock_data.set_index('Date').resample('M').mean().reset_index()\n",
            "<ipython-input-26-923bd599cdd5>:110: FutureWarning: 'M' is deprecated and will be removed in a future version, please use 'ME' instead.\n",
            "  stock_data = stock_data.set_index('Date').resample('M').mean().reset_index()\n",
            "<ipython-input-26-923bd599cdd5>:110: FutureWarning: 'M' is deprecated and will be removed in a future version, please use 'ME' instead.\n",
            "  stock_data = stock_data.set_index('Date').resample('M').mean().reset_index()\n",
            "<ipython-input-26-923bd599cdd5>:110: FutureWarning: 'M' is deprecated and will be removed in a future version, please use 'ME' instead.\n",
            "  stock_data = stock_data.set_index('Date').resample('M').mean().reset_index()\n",
            "<ipython-input-26-923bd599cdd5>:110: FutureWarning: 'M' is deprecated and will be removed in a future version, please use 'ME' instead.\n",
            "  stock_data = stock_data.set_index('Date').resample('M').mean().reset_index()\n",
            "<ipython-input-26-923bd599cdd5>:110: FutureWarning: 'M' is deprecated and will be removed in a future version, please use 'ME' instead.\n",
            "  stock_data = stock_data.set_index('Date').resample('M').mean().reset_index()\n",
            "<ipython-input-26-923bd599cdd5>:110: FutureWarning: 'M' is deprecated and will be removed in a future version, please use 'ME' instead.\n",
            "  stock_data = stock_data.set_index('Date').resample('M').mean().reset_index()\n",
            "<ipython-input-26-923bd599cdd5>:110: FutureWarning: 'M' is deprecated and will be removed in a future version, please use 'ME' instead.\n",
            "  stock_data = stock_data.set_index('Date').resample('M').mean().reset_index()\n",
            "<ipython-input-26-923bd599cdd5>:110: FutureWarning: 'M' is deprecated and will be removed in a future version, please use 'ME' instead.\n",
            "  stock_data = stock_data.set_index('Date').resample('M').mean().reset_index()\n",
            "<ipython-input-26-923bd599cdd5>:110: FutureWarning: 'M' is deprecated and will be removed in a future version, please use 'ME' instead.\n",
            "  stock_data = stock_data.set_index('Date').resample('M').mean().reset_index()\n",
            "<ipython-input-26-923bd599cdd5>:110: FutureWarning: 'M' is deprecated and will be removed in a future version, please use 'ME' instead.\n",
            "  stock_data = stock_data.set_index('Date').resample('M').mean().reset_index()\n",
            "<ipython-input-26-923bd599cdd5>:110: FutureWarning: 'M' is deprecated and will be removed in a future version, please use 'ME' instead.\n",
            "  stock_data = stock_data.set_index('Date').resample('M').mean().reset_index()\n",
            "<ipython-input-26-923bd599cdd5>:110: FutureWarning: 'M' is deprecated and will be removed in a future version, please use 'ME' instead.\n",
            "  stock_data = stock_data.set_index('Date').resample('M').mean().reset_index()\n",
            "<ipython-input-26-923bd599cdd5>:110: FutureWarning: 'M' is deprecated and will be removed in a future version, please use 'ME' instead.\n",
            "  stock_data = stock_data.set_index('Date').resample('M').mean().reset_index()\n",
            "<ipython-input-26-923bd599cdd5>:110: FutureWarning: 'M' is deprecated and will be removed in a future version, please use 'ME' instead.\n",
            "  stock_data = stock_data.set_index('Date').resample('M').mean().reset_index()\n",
            "<ipython-input-26-923bd599cdd5>:110: FutureWarning: 'M' is deprecated and will be removed in a future version, please use 'ME' instead.\n",
            "  stock_data = stock_data.set_index('Date').resample('M').mean().reset_index()\n",
            "<ipython-input-26-923bd599cdd5>:110: FutureWarning: 'M' is deprecated and will be removed in a future version, please use 'ME' instead.\n",
            "  stock_data = stock_data.set_index('Date').resample('M').mean().reset_index()\n",
            "<ipython-input-26-923bd599cdd5>:110: FutureWarning: 'M' is deprecated and will be removed in a future version, please use 'ME' instead.\n",
            "  stock_data = stock_data.set_index('Date').resample('M').mean().reset_index()\n",
            "<ipython-input-26-923bd599cdd5>:110: FutureWarning: 'M' is deprecated and will be removed in a future version, please use 'ME' instead.\n",
            "  stock_data = stock_data.set_index('Date').resample('M').mean().reset_index()\n",
            "<ipython-input-26-923bd599cdd5>:110: FutureWarning: 'M' is deprecated and will be removed in a future version, please use 'ME' instead.\n",
            "  stock_data = stock_data.set_index('Date').resample('M').mean().reset_index()\n",
            "<ipython-input-26-923bd599cdd5>:110: FutureWarning: 'M' is deprecated and will be removed in a future version, please use 'ME' instead.\n",
            "  stock_data = stock_data.set_index('Date').resample('M').mean().reset_index()\n",
            "<ipython-input-26-923bd599cdd5>:110: FutureWarning: 'M' is deprecated and will be removed in a future version, please use 'ME' instead.\n",
            "  stock_data = stock_data.set_index('Date').resample('M').mean().reset_index()\n",
            "<ipython-input-26-923bd599cdd5>:110: FutureWarning: 'M' is deprecated and will be removed in a future version, please use 'ME' instead.\n",
            "  stock_data = stock_data.set_index('Date').resample('M').mean().reset_index()\n",
            "<ipython-input-26-923bd599cdd5>:110: FutureWarning: 'M' is deprecated and will be removed in a future version, please use 'ME' instead.\n",
            "  stock_data = stock_data.set_index('Date').resample('M').mean().reset_index()\n",
            "<ipython-input-26-923bd599cdd5>:110: FutureWarning: 'M' is deprecated and will be removed in a future version, please use 'ME' instead.\n",
            "  stock_data = stock_data.set_index('Date').resample('M').mean().reset_index()\n",
            "<ipython-input-26-923bd599cdd5>:110: FutureWarning: 'M' is deprecated and will be removed in a future version, please use 'ME' instead.\n",
            "  stock_data = stock_data.set_index('Date').resample('M').mean().reset_index()\n",
            "<ipython-input-26-923bd599cdd5>:110: FutureWarning: 'M' is deprecated and will be removed in a future version, please use 'ME' instead.\n",
            "  stock_data = stock_data.set_index('Date').resample('M').mean().reset_index()\n",
            "<ipython-input-26-923bd599cdd5>:110: FutureWarning: 'M' is deprecated and will be removed in a future version, please use 'ME' instead.\n",
            "  stock_data = stock_data.set_index('Date').resample('M').mean().reset_index()\n",
            "<ipython-input-26-923bd599cdd5>:110: FutureWarning: 'M' is deprecated and will be removed in a future version, please use 'ME' instead.\n",
            "  stock_data = stock_data.set_index('Date').resample('M').mean().reset_index()\n",
            "<ipython-input-26-923bd599cdd5>:110: FutureWarning: 'M' is deprecated and will be removed in a future version, please use 'ME' instead.\n",
            "  stock_data = stock_data.set_index('Date').resample('M').mean().reset_index()\n",
            "<ipython-input-26-923bd599cdd5>:110: FutureWarning: 'M' is deprecated and will be removed in a future version, please use 'ME' instead.\n",
            "  stock_data = stock_data.set_index('Date').resample('M').mean().reset_index()\n",
            "<ipython-input-26-923bd599cdd5>:110: FutureWarning: 'M' is deprecated and will be removed in a future version, please use 'ME' instead.\n",
            "  stock_data = stock_data.set_index('Date').resample('M').mean().reset_index()\n",
            "<ipython-input-26-923bd599cdd5>:110: FutureWarning: 'M' is deprecated and will be removed in a future version, please use 'ME' instead.\n",
            "  stock_data = stock_data.set_index('Date').resample('M').mean().reset_index()\n",
            "<ipython-input-26-923bd599cdd5>:110: FutureWarning: 'M' is deprecated and will be removed in a future version, please use 'ME' instead.\n",
            "  stock_data = stock_data.set_index('Date').resample('M').mean().reset_index()\n",
            "<ipython-input-26-923bd599cdd5>:110: FutureWarning: 'M' is deprecated and will be removed in a future version, please use 'ME' instead.\n",
            "  stock_data = stock_data.set_index('Date').resample('M').mean().reset_index()\n",
            "<ipython-input-26-923bd599cdd5>:110: FutureWarning: 'M' is deprecated and will be removed in a future version, please use 'ME' instead.\n",
            "  stock_data = stock_data.set_index('Date').resample('M').mean().reset_index()\n",
            "<ipython-input-26-923bd599cdd5>:110: FutureWarning: 'M' is deprecated and will be removed in a future version, please use 'ME' instead.\n",
            "  stock_data = stock_data.set_index('Date').resample('M').mean().reset_index()\n",
            "<ipython-input-26-923bd599cdd5>:110: FutureWarning: 'M' is deprecated and will be removed in a future version, please use 'ME' instead.\n",
            "  stock_data = stock_data.set_index('Date').resample('M').mean().reset_index()\n",
            "<ipython-input-26-923bd599cdd5>:110: FutureWarning: 'M' is deprecated and will be removed in a future version, please use 'ME' instead.\n",
            "  stock_data = stock_data.set_index('Date').resample('M').mean().reset_index()\n",
            "<ipython-input-26-923bd599cdd5>:110: FutureWarning: 'M' is deprecated and will be removed in a future version, please use 'ME' instead.\n",
            "  stock_data = stock_data.set_index('Date').resample('M').mean().reset_index()\n",
            "<ipython-input-26-923bd599cdd5>:110: FutureWarning: 'M' is deprecated and will be removed in a future version, please use 'ME' instead.\n",
            "  stock_data = stock_data.set_index('Date').resample('M').mean().reset_index()\n",
            "<ipython-input-26-923bd599cdd5>:110: FutureWarning: 'M' is deprecated and will be removed in a future version, please use 'ME' instead.\n",
            "  stock_data = stock_data.set_index('Date').resample('M').mean().reset_index()\n",
            "<ipython-input-26-923bd599cdd5>:110: FutureWarning: 'M' is deprecated and will be removed in a future version, please use 'ME' instead.\n",
            "  stock_data = stock_data.set_index('Date').resample('M').mean().reset_index()\n",
            "<ipython-input-26-923bd599cdd5>:110: FutureWarning: 'M' is deprecated and will be removed in a future version, please use 'ME' instead.\n",
            "  stock_data = stock_data.set_index('Date').resample('M').mean().reset_index()\n",
            "<ipython-input-26-923bd599cdd5>:110: FutureWarning: 'M' is deprecated and will be removed in a future version, please use 'ME' instead.\n",
            "  stock_data = stock_data.set_index('Date').resample('M').mean().reset_index()\n",
            "<ipython-input-26-923bd599cdd5>:110: FutureWarning: 'M' is deprecated and will be removed in a future version, please use 'ME' instead.\n",
            "  stock_data = stock_data.set_index('Date').resample('M').mean().reset_index()\n",
            "<ipython-input-26-923bd599cdd5>:110: FutureWarning: 'M' is deprecated and will be removed in a future version, please use 'ME' instead.\n",
            "  stock_data = stock_data.set_index('Date').resample('M').mean().reset_index()\n",
            "<ipython-input-26-923bd599cdd5>:110: FutureWarning: 'M' is deprecated and will be removed in a future version, please use 'ME' instead.\n",
            "  stock_data = stock_data.set_index('Date').resample('M').mean().reset_index()\n",
            "<ipython-input-26-923bd599cdd5>:110: FutureWarning: 'M' is deprecated and will be removed in a future version, please use 'ME' instead.\n",
            "  stock_data = stock_data.set_index('Date').resample('M').mean().reset_index()\n",
            "<ipython-input-26-923bd599cdd5>:110: FutureWarning: 'M' is deprecated and will be removed in a future version, please use 'ME' instead.\n",
            "  stock_data = stock_data.set_index('Date').resample('M').mean().reset_index()\n",
            "<ipython-input-26-923bd599cdd5>:110: FutureWarning: 'M' is deprecated and will be removed in a future version, please use 'ME' instead.\n",
            "  stock_data = stock_data.set_index('Date').resample('M').mean().reset_index()\n",
            "<ipython-input-26-923bd599cdd5>:110: FutureWarning: 'M' is deprecated and will be removed in a future version, please use 'ME' instead.\n",
            "  stock_data = stock_data.set_index('Date').resample('M').mean().reset_index()\n",
            "<ipython-input-26-923bd599cdd5>:110: FutureWarning: 'M' is deprecated and will be removed in a future version, please use 'ME' instead.\n",
            "  stock_data = stock_data.set_index('Date').resample('M').mean().reset_index()\n",
            "<ipython-input-26-923bd599cdd5>:110: FutureWarning: 'M' is deprecated and will be removed in a future version, please use 'ME' instead.\n",
            "  stock_data = stock_data.set_index('Date').resample('M').mean().reset_index()\n",
            "<ipython-input-26-923bd599cdd5>:110: FutureWarning: 'M' is deprecated and will be removed in a future version, please use 'ME' instead.\n",
            "  stock_data = stock_data.set_index('Date').resample('M').mean().reset_index()\n",
            "<ipython-input-26-923bd599cdd5>:110: FutureWarning: 'M' is deprecated and will be removed in a future version, please use 'ME' instead.\n",
            "  stock_data = stock_data.set_index('Date').resample('M').mean().reset_index()\n",
            "<ipython-input-26-923bd599cdd5>:110: FutureWarning: 'M' is deprecated and will be removed in a future version, please use 'ME' instead.\n",
            "  stock_data = stock_data.set_index('Date').resample('M').mean().reset_index()\n",
            "<ipython-input-26-923bd599cdd5>:110: FutureWarning: 'M' is deprecated and will be removed in a future version, please use 'ME' instead.\n",
            "  stock_data = stock_data.set_index('Date').resample('M').mean().reset_index()\n",
            "<ipython-input-26-923bd599cdd5>:110: FutureWarning: 'M' is deprecated and will be removed in a future version, please use 'ME' instead.\n",
            "  stock_data = stock_data.set_index('Date').resample('M').mean().reset_index()\n",
            "<ipython-input-26-923bd599cdd5>:110: FutureWarning: 'M' is deprecated and will be removed in a future version, please use 'ME' instead.\n",
            "  stock_data = stock_data.set_index('Date').resample('M').mean().reset_index()\n",
            "<ipython-input-26-923bd599cdd5>:110: FutureWarning: 'M' is deprecated and will be removed in a future version, please use 'ME' instead.\n",
            "  stock_data = stock_data.set_index('Date').resample('M').mean().reset_index()\n",
            "<ipython-input-26-923bd599cdd5>:110: FutureWarning: 'M' is deprecated and will be removed in a future version, please use 'ME' instead.\n",
            "  stock_data = stock_data.set_index('Date').resample('M').mean().reset_index()\n",
            "<ipython-input-26-923bd599cdd5>:110: FutureWarning: 'M' is deprecated and will be removed in a future version, please use 'ME' instead.\n",
            "  stock_data = stock_data.set_index('Date').resample('M').mean().reset_index()\n",
            "<ipython-input-26-923bd599cdd5>:110: FutureWarning: 'M' is deprecated and will be removed in a future version, please use 'ME' instead.\n",
            "  stock_data = stock_data.set_index('Date').resample('M').mean().reset_index()\n",
            "<ipython-input-26-923bd599cdd5>:110: FutureWarning: 'M' is deprecated and will be removed in a future version, please use 'ME' instead.\n",
            "  stock_data = stock_data.set_index('Date').resample('M').mean().reset_index()\n",
            "<ipython-input-26-923bd599cdd5>:110: FutureWarning: 'M' is deprecated and will be removed in a future version, please use 'ME' instead.\n",
            "  stock_data = stock_data.set_index('Date').resample('M').mean().reset_index()\n",
            "<ipython-input-26-923bd599cdd5>:110: FutureWarning: 'M' is deprecated and will be removed in a future version, please use 'ME' instead.\n",
            "  stock_data = stock_data.set_index('Date').resample('M').mean().reset_index()\n",
            "<ipython-input-26-923bd599cdd5>:110: FutureWarning: 'M' is deprecated and will be removed in a future version, please use 'ME' instead.\n",
            "  stock_data = stock_data.set_index('Date').resample('M').mean().reset_index()\n",
            "<ipython-input-26-923bd599cdd5>:110: FutureWarning: 'M' is deprecated and will be removed in a future version, please use 'ME' instead.\n",
            "  stock_data = stock_data.set_index('Date').resample('M').mean().reset_index()\n",
            "<ipython-input-26-923bd599cdd5>:110: FutureWarning: 'M' is deprecated and will be removed in a future version, please use 'ME' instead.\n",
            "  stock_data = stock_data.set_index('Date').resample('M').mean().reset_index()\n",
            "<ipython-input-26-923bd599cdd5>:110: FutureWarning: 'M' is deprecated and will be removed in a future version, please use 'ME' instead.\n",
            "  stock_data = stock_data.set_index('Date').resample('M').mean().reset_index()\n",
            "<ipython-input-26-923bd599cdd5>:110: FutureWarning: 'M' is deprecated and will be removed in a future version, please use 'ME' instead.\n",
            "  stock_data = stock_data.set_index('Date').resample('M').mean().reset_index()\n",
            "<ipython-input-26-923bd599cdd5>:110: FutureWarning: 'M' is deprecated and will be removed in a future version, please use 'ME' instead.\n",
            "  stock_data = stock_data.set_index('Date').resample('M').mean().reset_index()\n",
            "<ipython-input-26-923bd599cdd5>:110: FutureWarning: 'M' is deprecated and will be removed in a future version, please use 'ME' instead.\n",
            "  stock_data = stock_data.set_index('Date').resample('M').mean().reset_index()\n",
            "<ipython-input-26-923bd599cdd5>:110: FutureWarning: 'M' is deprecated and will be removed in a future version, please use 'ME' instead.\n",
            "  stock_data = stock_data.set_index('Date').resample('M').mean().reset_index()\n",
            "<ipython-input-26-923bd599cdd5>:110: FutureWarning: 'M' is deprecated and will be removed in a future version, please use 'ME' instead.\n",
            "  stock_data = stock_data.set_index('Date').resample('M').mean().reset_index()\n",
            "<ipython-input-26-923bd599cdd5>:110: FutureWarning: 'M' is deprecated and will be removed in a future version, please use 'ME' instead.\n",
            "  stock_data = stock_data.set_index('Date').resample('M').mean().reset_index()\n",
            "<ipython-input-26-923bd599cdd5>:110: FutureWarning: 'M' is deprecated and will be removed in a future version, please use 'ME' instead.\n",
            "  stock_data = stock_data.set_index('Date').resample('M').mean().reset_index()\n",
            "<ipython-input-26-923bd599cdd5>:110: FutureWarning: 'M' is deprecated and will be removed in a future version, please use 'ME' instead.\n",
            "  stock_data = stock_data.set_index('Date').resample('M').mean().reset_index()\n",
            "<ipython-input-26-923bd599cdd5>:110: FutureWarning: 'M' is deprecated and will be removed in a future version, please use 'ME' instead.\n",
            "  stock_data = stock_data.set_index('Date').resample('M').mean().reset_index()\n",
            "<ipython-input-26-923bd599cdd5>:110: FutureWarning: 'M' is deprecated and will be removed in a future version, please use 'ME' instead.\n",
            "  stock_data = stock_data.set_index('Date').resample('M').mean().reset_index()\n",
            "<ipython-input-26-923bd599cdd5>:110: FutureWarning: 'M' is deprecated and will be removed in a future version, please use 'ME' instead.\n",
            "  stock_data = stock_data.set_index('Date').resample('M').mean().reset_index()\n",
            "<ipython-input-26-923bd599cdd5>:110: FutureWarning: 'M' is deprecated and will be removed in a future version, please use 'ME' instead.\n",
            "  stock_data = stock_data.set_index('Date').resample('M').mean().reset_index()\n",
            "<ipython-input-26-923bd599cdd5>:110: FutureWarning: 'M' is deprecated and will be removed in a future version, please use 'ME' instead.\n",
            "  stock_data = stock_data.set_index('Date').resample('M').mean().reset_index()\n",
            "<ipython-input-26-923bd599cdd5>:110: FutureWarning: 'M' is deprecated and will be removed in a future version, please use 'ME' instead.\n",
            "  stock_data = stock_data.set_index('Date').resample('M').mean().reset_index()\n",
            "<ipython-input-26-923bd599cdd5>:110: FutureWarning: 'M' is deprecated and will be removed in a future version, please use 'ME' instead.\n",
            "  stock_data = stock_data.set_index('Date').resample('M').mean().reset_index()\n",
            "<ipython-input-26-923bd599cdd5>:110: FutureWarning: 'M' is deprecated and will be removed in a future version, please use 'ME' instead.\n",
            "  stock_data = stock_data.set_index('Date').resample('M').mean().reset_index()\n",
            "<ipython-input-26-923bd599cdd5>:110: FutureWarning: 'M' is deprecated and will be removed in a future version, please use 'ME' instead.\n",
            "  stock_data = stock_data.set_index('Date').resample('M').mean().reset_index()\n",
            "<ipython-input-26-923bd599cdd5>:110: FutureWarning: 'M' is deprecated and will be removed in a future version, please use 'ME' instead.\n",
            "  stock_data = stock_data.set_index('Date').resample('M').mean().reset_index()\n",
            "<ipython-input-26-923bd599cdd5>:110: FutureWarning: 'M' is deprecated and will be removed in a future version, please use 'ME' instead.\n",
            "  stock_data = stock_data.set_index('Date').resample('M').mean().reset_index()\n",
            "<ipython-input-26-923bd599cdd5>:110: FutureWarning: 'M' is deprecated and will be removed in a future version, please use 'ME' instead.\n",
            "  stock_data = stock_data.set_index('Date').resample('M').mean().reset_index()\n",
            "<ipython-input-26-923bd599cdd5>:110: FutureWarning: 'M' is deprecated and will be removed in a future version, please use 'ME' instead.\n",
            "  stock_data = stock_data.set_index('Date').resample('M').mean().reset_index()\n",
            "<ipython-input-26-923bd599cdd5>:110: FutureWarning: 'M' is deprecated and will be removed in a future version, please use 'ME' instead.\n",
            "  stock_data = stock_data.set_index('Date').resample('M').mean().reset_index()\n",
            "<ipython-input-26-923bd599cdd5>:110: FutureWarning: 'M' is deprecated and will be removed in a future version, please use 'ME' instead.\n",
            "  stock_data = stock_data.set_index('Date').resample('M').mean().reset_index()\n",
            "<ipython-input-26-923bd599cdd5>:110: FutureWarning: 'M' is deprecated and will be removed in a future version, please use 'ME' instead.\n",
            "  stock_data = stock_data.set_index('Date').resample('M').mean().reset_index()\n",
            "<ipython-input-26-923bd599cdd5>:110: FutureWarning: 'M' is deprecated and will be removed in a future version, please use 'ME' instead.\n",
            "  stock_data = stock_data.set_index('Date').resample('M').mean().reset_index()\n",
            "<ipython-input-26-923bd599cdd5>:110: FutureWarning: 'M' is deprecated and will be removed in a future version, please use 'ME' instead.\n",
            "  stock_data = stock_data.set_index('Date').resample('M').mean().reset_index()\n",
            "<ipython-input-26-923bd599cdd5>:110: FutureWarning: 'M' is deprecated and will be removed in a future version, please use 'ME' instead.\n",
            "  stock_data = stock_data.set_index('Date').resample('M').mean().reset_index()\n",
            "<ipython-input-26-923bd599cdd5>:110: FutureWarning: 'M' is deprecated and will be removed in a future version, please use 'ME' instead.\n",
            "  stock_data = stock_data.set_index('Date').resample('M').mean().reset_index()\n",
            "<ipython-input-26-923bd599cdd5>:110: FutureWarning: 'M' is deprecated and will be removed in a future version, please use 'ME' instead.\n",
            "  stock_data = stock_data.set_index('Date').resample('M').mean().reset_index()\n",
            "<ipython-input-26-923bd599cdd5>:110: FutureWarning: 'M' is deprecated and will be removed in a future version, please use 'ME' instead.\n",
            "  stock_data = stock_data.set_index('Date').resample('M').mean().reset_index()\n",
            "<ipython-input-26-923bd599cdd5>:110: FutureWarning: 'M' is deprecated and will be removed in a future version, please use 'ME' instead.\n",
            "  stock_data = stock_data.set_index('Date').resample('M').mean().reset_index()\n",
            "<ipython-input-26-923bd599cdd5>:110: FutureWarning: 'M' is deprecated and will be removed in a future version, please use 'ME' instead.\n",
            "  stock_data = stock_data.set_index('Date').resample('M').mean().reset_index()\n",
            "<ipython-input-26-923bd599cdd5>:110: FutureWarning: 'M' is deprecated and will be removed in a future version, please use 'ME' instead.\n",
            "  stock_data = stock_data.set_index('Date').resample('M').mean().reset_index()\n",
            "<ipython-input-26-923bd599cdd5>:110: FutureWarning: 'M' is deprecated and will be removed in a future version, please use 'ME' instead.\n",
            "  stock_data = stock_data.set_index('Date').resample('M').mean().reset_index()\n",
            "<ipython-input-26-923bd599cdd5>:110: FutureWarning: 'M' is deprecated and will be removed in a future version, please use 'ME' instead.\n",
            "  stock_data = stock_data.set_index('Date').resample('M').mean().reset_index()\n",
            "<ipython-input-26-923bd599cdd5>:110: FutureWarning: 'M' is deprecated and will be removed in a future version, please use 'ME' instead.\n",
            "  stock_data = stock_data.set_index('Date').resample('M').mean().reset_index()\n",
            "<ipython-input-26-923bd599cdd5>:110: FutureWarning: 'M' is deprecated and will be removed in a future version, please use 'ME' instead.\n",
            "  stock_data = stock_data.set_index('Date').resample('M').mean().reset_index()\n",
            "<ipython-input-26-923bd599cdd5>:110: FutureWarning: 'M' is deprecated and will be removed in a future version, please use 'ME' instead.\n",
            "  stock_data = stock_data.set_index('Date').resample('M').mean().reset_index()\n",
            "<ipython-input-26-923bd599cdd5>:110: FutureWarning: 'M' is deprecated and will be removed in a future version, please use 'ME' instead.\n",
            "  stock_data = stock_data.set_index('Date').resample('M').mean().reset_index()\n",
            "<ipython-input-26-923bd599cdd5>:110: FutureWarning: 'M' is deprecated and will be removed in a future version, please use 'ME' instead.\n",
            "  stock_data = stock_data.set_index('Date').resample('M').mean().reset_index()\n",
            "<ipython-input-26-923bd599cdd5>:110: FutureWarning: 'M' is deprecated and will be removed in a future version, please use 'ME' instead.\n",
            "  stock_data = stock_data.set_index('Date').resample('M').mean().reset_index()\n",
            "<ipython-input-26-923bd599cdd5>:110: FutureWarning: 'M' is deprecated and will be removed in a future version, please use 'ME' instead.\n",
            "  stock_data = stock_data.set_index('Date').resample('M').mean().reset_index()\n",
            "<ipython-input-26-923bd599cdd5>:110: FutureWarning: 'M' is deprecated and will be removed in a future version, please use 'ME' instead.\n",
            "  stock_data = stock_data.set_index('Date').resample('M').mean().reset_index()\n",
            "<ipython-input-26-923bd599cdd5>:110: FutureWarning: 'M' is deprecated and will be removed in a future version, please use 'ME' instead.\n",
            "  stock_data = stock_data.set_index('Date').resample('M').mean().reset_index()\n",
            "<ipython-input-26-923bd599cdd5>:110: FutureWarning: 'M' is deprecated and will be removed in a future version, please use 'ME' instead.\n",
            "  stock_data = stock_data.set_index('Date').resample('M').mean().reset_index()\n",
            "<ipython-input-26-923bd599cdd5>:110: FutureWarning: 'M' is deprecated and will be removed in a future version, please use 'ME' instead.\n",
            "  stock_data = stock_data.set_index('Date').resample('M').mean().reset_index()\n",
            "<ipython-input-26-923bd599cdd5>:110: FutureWarning: 'M' is deprecated and will be removed in a future version, please use 'ME' instead.\n",
            "  stock_data = stock_data.set_index('Date').resample('M').mean().reset_index()\n",
            "<ipython-input-26-923bd599cdd5>:110: FutureWarning: 'M' is deprecated and will be removed in a future version, please use 'ME' instead.\n",
            "  stock_data = stock_data.set_index('Date').resample('M').mean().reset_index()\n",
            "<ipython-input-26-923bd599cdd5>:110: FutureWarning: 'M' is deprecated and will be removed in a future version, please use 'ME' instead.\n",
            "  stock_data = stock_data.set_index('Date').resample('M').mean().reset_index()\n",
            "<ipython-input-26-923bd599cdd5>:110: FutureWarning: 'M' is deprecated and will be removed in a future version, please use 'ME' instead.\n",
            "  stock_data = stock_data.set_index('Date').resample('M').mean().reset_index()\n",
            "<ipython-input-26-923bd599cdd5>:110: FutureWarning: 'M' is deprecated and will be removed in a future version, please use 'ME' instead.\n",
            "  stock_data = stock_data.set_index('Date').resample('M').mean().reset_index()\n",
            "<ipython-input-26-923bd599cdd5>:110: FutureWarning: 'M' is deprecated and will be removed in a future version, please use 'ME' instead.\n",
            "  stock_data = stock_data.set_index('Date').resample('M').mean().reset_index()\n",
            "<ipython-input-26-923bd599cdd5>:110: FutureWarning: 'M' is deprecated and will be removed in a future version, please use 'ME' instead.\n",
            "  stock_data = stock_data.set_index('Date').resample('M').mean().reset_index()\n",
            "<ipython-input-26-923bd599cdd5>:110: FutureWarning: 'M' is deprecated and will be removed in a future version, please use 'ME' instead.\n",
            "  stock_data = stock_data.set_index('Date').resample('M').mean().reset_index()\n",
            "<ipython-input-26-923bd599cdd5>:110: FutureWarning: 'M' is deprecated and will be removed in a future version, please use 'ME' instead.\n",
            "  stock_data = stock_data.set_index('Date').resample('M').mean().reset_index()\n",
            "<ipython-input-26-923bd599cdd5>:110: FutureWarning: 'M' is deprecated and will be removed in a future version, please use 'ME' instead.\n",
            "  stock_data = stock_data.set_index('Date').resample('M').mean().reset_index()\n",
            "<ipython-input-26-923bd599cdd5>:110: FutureWarning: 'M' is deprecated and will be removed in a future version, please use 'ME' instead.\n",
            "  stock_data = stock_data.set_index('Date').resample('M').mean().reset_index()\n",
            "<ipython-input-26-923bd599cdd5>:110: FutureWarning: 'M' is deprecated and will be removed in a future version, please use 'ME' instead.\n",
            "  stock_data = stock_data.set_index('Date').resample('M').mean().reset_index()\n",
            "<ipython-input-26-923bd599cdd5>:110: FutureWarning: 'M' is deprecated and will be removed in a future version, please use 'ME' instead.\n",
            "  stock_data = stock_data.set_index('Date').resample('M').mean().reset_index()\n",
            "<ipython-input-26-923bd599cdd5>:110: FutureWarning: 'M' is deprecated and will be removed in a future version, please use 'ME' instead.\n",
            "  stock_data = stock_data.set_index('Date').resample('M').mean().reset_index()\n",
            "<ipython-input-26-923bd599cdd5>:110: FutureWarning: 'M' is deprecated and will be removed in a future version, please use 'ME' instead.\n",
            "  stock_data = stock_data.set_index('Date').resample('M').mean().reset_index()\n",
            "<ipython-input-26-923bd599cdd5>:110: FutureWarning: 'M' is deprecated and will be removed in a future version, please use 'ME' instead.\n",
            "  stock_data = stock_data.set_index('Date').resample('M').mean().reset_index()\n",
            "<ipython-input-26-923bd599cdd5>:110: FutureWarning: 'M' is deprecated and will be removed in a future version, please use 'ME' instead.\n",
            "  stock_data = stock_data.set_index('Date').resample('M').mean().reset_index()\n",
            "<ipython-input-26-923bd599cdd5>:110: FutureWarning: 'M' is deprecated and will be removed in a future version, please use 'ME' instead.\n",
            "  stock_data = stock_data.set_index('Date').resample('M').mean().reset_index()\n",
            "<ipython-input-26-923bd599cdd5>:110: FutureWarning: 'M' is deprecated and will be removed in a future version, please use 'ME' instead.\n",
            "  stock_data = stock_data.set_index('Date').resample('M').mean().reset_index()\n",
            "<ipython-input-26-923bd599cdd5>:110: FutureWarning: 'M' is deprecated and will be removed in a future version, please use 'ME' instead.\n",
            "  stock_data = stock_data.set_index('Date').resample('M').mean().reset_index()\n",
            "<ipython-input-26-923bd599cdd5>:110: FutureWarning: 'M' is deprecated and will be removed in a future version, please use 'ME' instead.\n",
            "  stock_data = stock_data.set_index('Date').resample('M').mean().reset_index()\n",
            "<ipython-input-26-923bd599cdd5>:110: FutureWarning: 'M' is deprecated and will be removed in a future version, please use 'ME' instead.\n",
            "  stock_data = stock_data.set_index('Date').resample('M').mean().reset_index()\n",
            "<ipython-input-26-923bd599cdd5>:110: FutureWarning: 'M' is deprecated and will be removed in a future version, please use 'ME' instead.\n",
            "  stock_data = stock_data.set_index('Date').resample('M').mean().reset_index()\n",
            "<ipython-input-26-923bd599cdd5>:110: FutureWarning: 'M' is deprecated and will be removed in a future version, please use 'ME' instead.\n",
            "  stock_data = stock_data.set_index('Date').resample('M').mean().reset_index()\n",
            "<ipython-input-26-923bd599cdd5>:110: FutureWarning: 'M' is deprecated and will be removed in a future version, please use 'ME' instead.\n",
            "  stock_data = stock_data.set_index('Date').resample('M').mean().reset_index()\n",
            "<ipython-input-26-923bd599cdd5>:110: FutureWarning: 'M' is deprecated and will be removed in a future version, please use 'ME' instead.\n",
            "  stock_data = stock_data.set_index('Date').resample('M').mean().reset_index()\n",
            "<ipython-input-26-923bd599cdd5>:110: FutureWarning: 'M' is deprecated and will be removed in a future version, please use 'ME' instead.\n",
            "  stock_data = stock_data.set_index('Date').resample('M').mean().reset_index()\n",
            "<ipython-input-26-923bd599cdd5>:110: FutureWarning: 'M' is deprecated and will be removed in a future version, please use 'ME' instead.\n",
            "  stock_data = stock_data.set_index('Date').resample('M').mean().reset_index()\n",
            "<ipython-input-26-923bd599cdd5>:110: FutureWarning: 'M' is deprecated and will be removed in a future version, please use 'ME' instead.\n",
            "  stock_data = stock_data.set_index('Date').resample('M').mean().reset_index()\n",
            "<ipython-input-26-923bd599cdd5>:110: FutureWarning: 'M' is deprecated and will be removed in a future version, please use 'ME' instead.\n",
            "  stock_data = stock_data.set_index('Date').resample('M').mean().reset_index()\n",
            "<ipython-input-26-923bd599cdd5>:110: FutureWarning: 'M' is deprecated and will be removed in a future version, please use 'ME' instead.\n",
            "  stock_data = stock_data.set_index('Date').resample('M').mean().reset_index()\n",
            "<ipython-input-26-923bd599cdd5>:110: FutureWarning: 'M' is deprecated and will be removed in a future version, please use 'ME' instead.\n",
            "  stock_data = stock_data.set_index('Date').resample('M').mean().reset_index()\n",
            "<ipython-input-26-923bd599cdd5>:110: FutureWarning: 'M' is deprecated and will be removed in a future version, please use 'ME' instead.\n",
            "  stock_data = stock_data.set_index('Date').resample('M').mean().reset_index()\n",
            "<ipython-input-26-923bd599cdd5>:110: FutureWarning: 'M' is deprecated and will be removed in a future version, please use 'ME' instead.\n",
            "  stock_data = stock_data.set_index('Date').resample('M').mean().reset_index()\n",
            "<ipython-input-26-923bd599cdd5>:110: FutureWarning: 'M' is deprecated and will be removed in a future version, please use 'ME' instead.\n",
            "  stock_data = stock_data.set_index('Date').resample('M').mean().reset_index()\n",
            "<ipython-input-26-923bd599cdd5>:110: FutureWarning: 'M' is deprecated and will be removed in a future version, please use 'ME' instead.\n",
            "  stock_data = stock_data.set_index('Date').resample('M').mean().reset_index()\n",
            "<ipython-input-26-923bd599cdd5>:110: FutureWarning: 'M' is deprecated and will be removed in a future version, please use 'ME' instead.\n",
            "  stock_data = stock_data.set_index('Date').resample('M').mean().reset_index()\n",
            "<ipython-input-26-923bd599cdd5>:110: FutureWarning: 'M' is deprecated and will be removed in a future version, please use 'ME' instead.\n",
            "  stock_data = stock_data.set_index('Date').resample('M').mean().reset_index()\n",
            "<ipython-input-26-923bd599cdd5>:110: FutureWarning: 'M' is deprecated and will be removed in a future version, please use 'ME' instead.\n",
            "  stock_data = stock_data.set_index('Date').resample('M').mean().reset_index()\n",
            "<ipython-input-26-923bd599cdd5>:110: FutureWarning: 'M' is deprecated and will be removed in a future version, please use 'ME' instead.\n",
            "  stock_data = stock_data.set_index('Date').resample('M').mean().reset_index()\n",
            "<ipython-input-26-923bd599cdd5>:110: FutureWarning: 'M' is deprecated and will be removed in a future version, please use 'ME' instead.\n",
            "  stock_data = stock_data.set_index('Date').resample('M').mean().reset_index()\n",
            "<ipython-input-26-923bd599cdd5>:110: FutureWarning: 'M' is deprecated and will be removed in a future version, please use 'ME' instead.\n",
            "  stock_data = stock_data.set_index('Date').resample('M').mean().reset_index()\n",
            "<ipython-input-26-923bd599cdd5>:110: FutureWarning: 'M' is deprecated and will be removed in a future version, please use 'ME' instead.\n",
            "  stock_data = stock_data.set_index('Date').resample('M').mean().reset_index()\n",
            "<ipython-input-26-923bd599cdd5>:110: FutureWarning: 'M' is deprecated and will be removed in a future version, please use 'ME' instead.\n",
            "  stock_data = stock_data.set_index('Date').resample('M').mean().reset_index()\n",
            "<ipython-input-26-923bd599cdd5>:110: FutureWarning: 'M' is deprecated and will be removed in a future version, please use 'ME' instead.\n",
            "  stock_data = stock_data.set_index('Date').resample('M').mean().reset_index()\n",
            "<ipython-input-26-923bd599cdd5>:110: FutureWarning: 'M' is deprecated and will be removed in a future version, please use 'ME' instead.\n",
            "  stock_data = stock_data.set_index('Date').resample('M').mean().reset_index()\n",
            "<ipython-input-26-923bd599cdd5>:110: FutureWarning: 'M' is deprecated and will be removed in a future version, please use 'ME' instead.\n",
            "  stock_data = stock_data.set_index('Date').resample('M').mean().reset_index()\n",
            "<ipython-input-26-923bd599cdd5>:110: FutureWarning: 'M' is deprecated and will be removed in a future version, please use 'ME' instead.\n",
            "  stock_data = stock_data.set_index('Date').resample('M').mean().reset_index()\n",
            "<ipython-input-26-923bd599cdd5>:110: FutureWarning: 'M' is deprecated and will be removed in a future version, please use 'ME' instead.\n",
            "  stock_data = stock_data.set_index('Date').resample('M').mean().reset_index()\n",
            "<ipython-input-26-923bd599cdd5>:110: FutureWarning: 'M' is deprecated and will be removed in a future version, please use 'ME' instead.\n",
            "  stock_data = stock_data.set_index('Date').resample('M').mean().reset_index()\n",
            "<ipython-input-26-923bd599cdd5>:110: FutureWarning: 'M' is deprecated and will be removed in a future version, please use 'ME' instead.\n",
            "  stock_data = stock_data.set_index('Date').resample('M').mean().reset_index()\n",
            "<ipython-input-26-923bd599cdd5>:110: FutureWarning: 'M' is deprecated and will be removed in a future version, please use 'ME' instead.\n",
            "  stock_data = stock_data.set_index('Date').resample('M').mean().reset_index()\n",
            "<ipython-input-26-923bd599cdd5>:110: FutureWarning: 'M' is deprecated and will be removed in a future version, please use 'ME' instead.\n",
            "  stock_data = stock_data.set_index('Date').resample('M').mean().reset_index()\n",
            "<ipython-input-26-923bd599cdd5>:110: FutureWarning: 'M' is deprecated and will be removed in a future version, please use 'ME' instead.\n",
            "  stock_data = stock_data.set_index('Date').resample('M').mean().reset_index()\n",
            "<ipython-input-26-923bd599cdd5>:110: FutureWarning: 'M' is deprecated and will be removed in a future version, please use 'ME' instead.\n",
            "  stock_data = stock_data.set_index('Date').resample('M').mean().reset_index()\n",
            "<ipython-input-26-923bd599cdd5>:110: FutureWarning: 'M' is deprecated and will be removed in a future version, please use 'ME' instead.\n",
            "  stock_data = stock_data.set_index('Date').resample('M').mean().reset_index()\n",
            "<ipython-input-26-923bd599cdd5>:110: FutureWarning: 'M' is deprecated and will be removed in a future version, please use 'ME' instead.\n",
            "  stock_data = stock_data.set_index('Date').resample('M').mean().reset_index()\n",
            "<ipython-input-26-923bd599cdd5>:110: FutureWarning: 'M' is deprecated and will be removed in a future version, please use 'ME' instead.\n",
            "  stock_data = stock_data.set_index('Date').resample('M').mean().reset_index()\n",
            "<ipython-input-26-923bd599cdd5>:110: FutureWarning: 'M' is deprecated and will be removed in a future version, please use 'ME' instead.\n",
            "  stock_data = stock_data.set_index('Date').resample('M').mean().reset_index()\n",
            "<ipython-input-26-923bd599cdd5>:110: FutureWarning: 'M' is deprecated and will be removed in a future version, please use 'ME' instead.\n",
            "  stock_data = stock_data.set_index('Date').resample('M').mean().reset_index()\n",
            "<ipython-input-26-923bd599cdd5>:110: FutureWarning: 'M' is deprecated and will be removed in a future version, please use 'ME' instead.\n",
            "  stock_data = stock_data.set_index('Date').resample('M').mean().reset_index()\n",
            "<ipython-input-26-923bd599cdd5>:110: FutureWarning: 'M' is deprecated and will be removed in a future version, please use 'ME' instead.\n",
            "  stock_data = stock_data.set_index('Date').resample('M').mean().reset_index()\n",
            "<ipython-input-26-923bd599cdd5>:110: FutureWarning: 'M' is deprecated and will be removed in a future version, please use 'ME' instead.\n",
            "  stock_data = stock_data.set_index('Date').resample('M').mean().reset_index()\n",
            "<ipython-input-26-923bd599cdd5>:110: FutureWarning: 'M' is deprecated and will be removed in a future version, please use 'ME' instead.\n",
            "  stock_data = stock_data.set_index('Date').resample('M').mean().reset_index()\n",
            "<ipython-input-26-923bd599cdd5>:110: FutureWarning: 'M' is deprecated and will be removed in a future version, please use 'ME' instead.\n",
            "  stock_data = stock_data.set_index('Date').resample('M').mean().reset_index()\n",
            "<ipython-input-26-923bd599cdd5>:110: FutureWarning: 'M' is deprecated and will be removed in a future version, please use 'ME' instead.\n",
            "  stock_data = stock_data.set_index('Date').resample('M').mean().reset_index()\n",
            "<ipython-input-26-923bd599cdd5>:110: FutureWarning: 'M' is deprecated and will be removed in a future version, please use 'ME' instead.\n",
            "  stock_data = stock_data.set_index('Date').resample('M').mean().reset_index()\n",
            "<ipython-input-26-923bd599cdd5>:110: FutureWarning: 'M' is deprecated and will be removed in a future version, please use 'ME' instead.\n",
            "  stock_data = stock_data.set_index('Date').resample('M').mean().reset_index()\n",
            "<ipython-input-26-923bd599cdd5>:110: FutureWarning: 'M' is deprecated and will be removed in a future version, please use 'ME' instead.\n",
            "  stock_data = stock_data.set_index('Date').resample('M').mean().reset_index()\n",
            "<ipython-input-26-923bd599cdd5>:110: FutureWarning: 'M' is deprecated and will be removed in a future version, please use 'ME' instead.\n",
            "  stock_data = stock_data.set_index('Date').resample('M').mean().reset_index()\n",
            "<ipython-input-26-923bd599cdd5>:110: FutureWarning: 'M' is deprecated and will be removed in a future version, please use 'ME' instead.\n",
            "  stock_data = stock_data.set_index('Date').resample('M').mean().reset_index()\n",
            "<ipython-input-26-923bd599cdd5>:110: FutureWarning: 'M' is deprecated and will be removed in a future version, please use 'ME' instead.\n",
            "  stock_data = stock_data.set_index('Date').resample('M').mean().reset_index()\n",
            "<ipython-input-26-923bd599cdd5>:110: FutureWarning: 'M' is deprecated and will be removed in a future version, please use 'ME' instead.\n",
            "  stock_data = stock_data.set_index('Date').resample('M').mean().reset_index()\n",
            "<ipython-input-26-923bd599cdd5>:110: FutureWarning: 'M' is deprecated and will be removed in a future version, please use 'ME' instead.\n",
            "  stock_data = stock_data.set_index('Date').resample('M').mean().reset_index()\n",
            "<ipython-input-26-923bd599cdd5>:110: FutureWarning: 'M' is deprecated and will be removed in a future version, please use 'ME' instead.\n",
            "  stock_data = stock_data.set_index('Date').resample('M').mean().reset_index()\n",
            "<ipython-input-26-923bd599cdd5>:110: FutureWarning: 'M' is deprecated and will be removed in a future version, please use 'ME' instead.\n",
            "  stock_data = stock_data.set_index('Date').resample('M').mean().reset_index()\n",
            "<ipython-input-26-923bd599cdd5>:110: FutureWarning: 'M' is deprecated and will be removed in a future version, please use 'ME' instead.\n",
            "  stock_data = stock_data.set_index('Date').resample('M').mean().reset_index()\n",
            "<ipython-input-26-923bd599cdd5>:110: FutureWarning: 'M' is deprecated and will be removed in a future version, please use 'ME' instead.\n",
            "  stock_data = stock_data.set_index('Date').resample('M').mean().reset_index()\n",
            "<ipython-input-26-923bd599cdd5>:110: FutureWarning: 'M' is deprecated and will be removed in a future version, please use 'ME' instead.\n",
            "  stock_data = stock_data.set_index('Date').resample('M').mean().reset_index()\n",
            "<ipython-input-26-923bd599cdd5>:110: FutureWarning: 'M' is deprecated and will be removed in a future version, please use 'ME' instead.\n",
            "  stock_data = stock_data.set_index('Date').resample('M').mean().reset_index()\n",
            "<ipython-input-26-923bd599cdd5>:110: FutureWarning: 'M' is deprecated and will be removed in a future version, please use 'ME' instead.\n",
            "  stock_data = stock_data.set_index('Date').resample('M').mean().reset_index()\n",
            "<ipython-input-26-923bd599cdd5>:110: FutureWarning: 'M' is deprecated and will be removed in a future version, please use 'ME' instead.\n",
            "  stock_data = stock_data.set_index('Date').resample('M').mean().reset_index()\n",
            "<ipython-input-26-923bd599cdd5>:110: FutureWarning: 'M' is deprecated and will be removed in a future version, please use 'ME' instead.\n",
            "  stock_data = stock_data.set_index('Date').resample('M').mean().reset_index()\n",
            "<ipython-input-26-923bd599cdd5>:110: FutureWarning: 'M' is deprecated and will be removed in a future version, please use 'ME' instead.\n",
            "  stock_data = stock_data.set_index('Date').resample('M').mean().reset_index()\n",
            "<ipython-input-26-923bd599cdd5>:110: FutureWarning: 'M' is deprecated and will be removed in a future version, please use 'ME' instead.\n",
            "  stock_data = stock_data.set_index('Date').resample('M').mean().reset_index()\n",
            "<ipython-input-26-923bd599cdd5>:110: FutureWarning: 'M' is deprecated and will be removed in a future version, please use 'ME' instead.\n",
            "  stock_data = stock_data.set_index('Date').resample('M').mean().reset_index()\n",
            "<ipython-input-26-923bd599cdd5>:110: FutureWarning: 'M' is deprecated and will be removed in a future version, please use 'ME' instead.\n",
            "  stock_data = stock_data.set_index('Date').resample('M').mean().reset_index()\n",
            "<ipython-input-26-923bd599cdd5>:110: FutureWarning: 'M' is deprecated and will be removed in a future version, please use 'ME' instead.\n",
            "  stock_data = stock_data.set_index('Date').resample('M').mean().reset_index()\n",
            "<ipython-input-26-923bd599cdd5>:110: FutureWarning: 'M' is deprecated and will be removed in a future version, please use 'ME' instead.\n",
            "  stock_data = stock_data.set_index('Date').resample('M').mean().reset_index()\n",
            "<ipython-input-26-923bd599cdd5>:110: FutureWarning: 'M' is deprecated and will be removed in a future version, please use 'ME' instead.\n",
            "  stock_data = stock_data.set_index('Date').resample('M').mean().reset_index()\n",
            "<ipython-input-26-923bd599cdd5>:110: FutureWarning: 'M' is deprecated and will be removed in a future version, please use 'ME' instead.\n",
            "  stock_data = stock_data.set_index('Date').resample('M').mean().reset_index()\n",
            "<ipython-input-26-923bd599cdd5>:110: FutureWarning: 'M' is deprecated and will be removed in a future version, please use 'ME' instead.\n",
            "  stock_data = stock_data.set_index('Date').resample('M').mean().reset_index()\n",
            "<ipython-input-26-923bd599cdd5>:110: FutureWarning: 'M' is deprecated and will be removed in a future version, please use 'ME' instead.\n",
            "  stock_data = stock_data.set_index('Date').resample('M').mean().reset_index()\n",
            "<ipython-input-26-923bd599cdd5>:110: FutureWarning: 'M' is deprecated and will be removed in a future version, please use 'ME' instead.\n",
            "  stock_data = stock_data.set_index('Date').resample('M').mean().reset_index()\n",
            "<ipython-input-26-923bd599cdd5>:110: FutureWarning: 'M' is deprecated and will be removed in a future version, please use 'ME' instead.\n",
            "  stock_data = stock_data.set_index('Date').resample('M').mean().reset_index()\n",
            "<ipython-input-26-923bd599cdd5>:110: FutureWarning: 'M' is deprecated and will be removed in a future version, please use 'ME' instead.\n",
            "  stock_data = stock_data.set_index('Date').resample('M').mean().reset_index()\n",
            "<ipython-input-26-923bd599cdd5>:110: FutureWarning: 'M' is deprecated and will be removed in a future version, please use 'ME' instead.\n",
            "  stock_data = stock_data.set_index('Date').resample('M').mean().reset_index()\n",
            "<ipython-input-26-923bd599cdd5>:110: FutureWarning: 'M' is deprecated and will be removed in a future version, please use 'ME' instead.\n",
            "  stock_data = stock_data.set_index('Date').resample('M').mean().reset_index()\n",
            "<ipython-input-26-923bd599cdd5>:110: FutureWarning: 'M' is deprecated and will be removed in a future version, please use 'ME' instead.\n",
            "  stock_data = stock_data.set_index('Date').resample('M').mean().reset_index()\n",
            "<ipython-input-26-923bd599cdd5>:110: FutureWarning: 'M' is deprecated and will be removed in a future version, please use 'ME' instead.\n",
            "  stock_data = stock_data.set_index('Date').resample('M').mean().reset_index()\n",
            "<ipython-input-26-923bd599cdd5>:110: FutureWarning: 'M' is deprecated and will be removed in a future version, please use 'ME' instead.\n",
            "  stock_data = stock_data.set_index('Date').resample('M').mean().reset_index()\n",
            "<ipython-input-26-923bd599cdd5>:110: FutureWarning: 'M' is deprecated and will be removed in a future version, please use 'ME' instead.\n",
            "  stock_data = stock_data.set_index('Date').resample('M').mean().reset_index()\n",
            "<ipython-input-26-923bd599cdd5>:110: FutureWarning: 'M' is deprecated and will be removed in a future version, please use 'ME' instead.\n",
            "  stock_data = stock_data.set_index('Date').resample('M').mean().reset_index()\n",
            "<ipython-input-26-923bd599cdd5>:110: FutureWarning: 'M' is deprecated and will be removed in a future version, please use 'ME' instead.\n",
            "  stock_data = stock_data.set_index('Date').resample('M').mean().reset_index()\n",
            "<ipython-input-26-923bd599cdd5>:110: FutureWarning: 'M' is deprecated and will be removed in a future version, please use 'ME' instead.\n",
            "  stock_data = stock_data.set_index('Date').resample('M').mean().reset_index()\n",
            "<ipython-input-26-923bd599cdd5>:110: FutureWarning: 'M' is deprecated and will be removed in a future version, please use 'ME' instead.\n",
            "  stock_data = stock_data.set_index('Date').resample('M').mean().reset_index()\n",
            "<ipython-input-26-923bd599cdd5>:110: FutureWarning: 'M' is deprecated and will be removed in a future version, please use 'ME' instead.\n",
            "  stock_data = stock_data.set_index('Date').resample('M').mean().reset_index()\n",
            "<ipython-input-26-923bd599cdd5>:110: FutureWarning: 'M' is deprecated and will be removed in a future version, please use 'ME' instead.\n",
            "  stock_data = stock_data.set_index('Date').resample('M').mean().reset_index()\n",
            "<ipython-input-26-923bd599cdd5>:110: FutureWarning: 'M' is deprecated and will be removed in a future version, please use 'ME' instead.\n",
            "  stock_data = stock_data.set_index('Date').resample('M').mean().reset_index()\n",
            "<ipython-input-26-923bd599cdd5>:110: FutureWarning: 'M' is deprecated and will be removed in a future version, please use 'ME' instead.\n",
            "  stock_data = stock_data.set_index('Date').resample('M').mean().reset_index()\n",
            "<ipython-input-26-923bd599cdd5>:110: FutureWarning: 'M' is deprecated and will be removed in a future version, please use 'ME' instead.\n",
            "  stock_data = stock_data.set_index('Date').resample('M').mean().reset_index()\n",
            "<ipython-input-26-923bd599cdd5>:110: FutureWarning: 'M' is deprecated and will be removed in a future version, please use 'ME' instead.\n",
            "  stock_data = stock_data.set_index('Date').resample('M').mean().reset_index()\n",
            "<ipython-input-26-923bd599cdd5>:110: FutureWarning: 'M' is deprecated and will be removed in a future version, please use 'ME' instead.\n",
            "  stock_data = stock_data.set_index('Date').resample('M').mean().reset_index()\n",
            "<ipython-input-26-923bd599cdd5>:110: FutureWarning: 'M' is deprecated and will be removed in a future version, please use 'ME' instead.\n",
            "  stock_data = stock_data.set_index('Date').resample('M').mean().reset_index()\n",
            "<ipython-input-26-923bd599cdd5>:110: FutureWarning: 'M' is deprecated and will be removed in a future version, please use 'ME' instead.\n",
            "  stock_data = stock_data.set_index('Date').resample('M').mean().reset_index()\n",
            "<ipython-input-26-923bd599cdd5>:110: FutureWarning: 'M' is deprecated and will be removed in a future version, please use 'ME' instead.\n",
            "  stock_data = stock_data.set_index('Date').resample('M').mean().reset_index()\n",
            "<ipython-input-26-923bd599cdd5>:110: FutureWarning: 'M' is deprecated and will be removed in a future version, please use 'ME' instead.\n",
            "  stock_data = stock_data.set_index('Date').resample('M').mean().reset_index()\n",
            "<ipython-input-26-923bd599cdd5>:110: FutureWarning: 'M' is deprecated and will be removed in a future version, please use 'ME' instead.\n",
            "  stock_data = stock_data.set_index('Date').resample('M').mean().reset_index()\n",
            "<ipython-input-26-923bd599cdd5>:110: FutureWarning: 'M' is deprecated and will be removed in a future version, please use 'ME' instead.\n",
            "  stock_data = stock_data.set_index('Date').resample('M').mean().reset_index()\n",
            "<ipython-input-26-923bd599cdd5>:110: FutureWarning: 'M' is deprecated and will be removed in a future version, please use 'ME' instead.\n",
            "  stock_data = stock_data.set_index('Date').resample('M').mean().reset_index()\n",
            "<ipython-input-26-923bd599cdd5>:110: FutureWarning: 'M' is deprecated and will be removed in a future version, please use 'ME' instead.\n",
            "  stock_data = stock_data.set_index('Date').resample('M').mean().reset_index()\n",
            "<ipython-input-26-923bd599cdd5>:110: FutureWarning: 'M' is deprecated and will be removed in a future version, please use 'ME' instead.\n",
            "  stock_data = stock_data.set_index('Date').resample('M').mean().reset_index()\n",
            "<ipython-input-26-923bd599cdd5>:110: FutureWarning: 'M' is deprecated and will be removed in a future version, please use 'ME' instead.\n",
            "  stock_data = stock_data.set_index('Date').resample('M').mean().reset_index()\n",
            "<ipython-input-26-923bd599cdd5>:110: FutureWarning: 'M' is deprecated and will be removed in a future version, please use 'ME' instead.\n",
            "  stock_data = stock_data.set_index('Date').resample('M').mean().reset_index()\n",
            "<ipython-input-26-923bd599cdd5>:110: FutureWarning: 'M' is deprecated and will be removed in a future version, please use 'ME' instead.\n",
            "  stock_data = stock_data.set_index('Date').resample('M').mean().reset_index()\n",
            "<ipython-input-26-923bd599cdd5>:110: FutureWarning: 'M' is deprecated and will be removed in a future version, please use 'ME' instead.\n",
            "  stock_data = stock_data.set_index('Date').resample('M').mean().reset_index()\n",
            "<ipython-input-26-923bd599cdd5>:110: FutureWarning: 'M' is deprecated and will be removed in a future version, please use 'ME' instead.\n",
            "  stock_data = stock_data.set_index('Date').resample('M').mean().reset_index()\n",
            "<ipython-input-26-923bd599cdd5>:110: FutureWarning: 'M' is deprecated and will be removed in a future version, please use 'ME' instead.\n",
            "  stock_data = stock_data.set_index('Date').resample('M').mean().reset_index()\n",
            "<ipython-input-26-923bd599cdd5>:110: FutureWarning: 'M' is deprecated and will be removed in a future version, please use 'ME' instead.\n",
            "  stock_data = stock_data.set_index('Date').resample('M').mean().reset_index()\n",
            "<ipython-input-26-923bd599cdd5>:110: FutureWarning: 'M' is deprecated and will be removed in a future version, please use 'ME' instead.\n",
            "  stock_data = stock_data.set_index('Date').resample('M').mean().reset_index()\n",
            "<ipython-input-26-923bd599cdd5>:110: FutureWarning: 'M' is deprecated and will be removed in a future version, please use 'ME' instead.\n",
            "  stock_data = stock_data.set_index('Date').resample('M').mean().reset_index()\n",
            "<ipython-input-26-923bd599cdd5>:110: FutureWarning: 'M' is deprecated and will be removed in a future version, please use 'ME' instead.\n",
            "  stock_data = stock_data.set_index('Date').resample('M').mean().reset_index()\n",
            "<ipython-input-26-923bd599cdd5>:110: FutureWarning: 'M' is deprecated and will be removed in a future version, please use 'ME' instead.\n",
            "  stock_data = stock_data.set_index('Date').resample('M').mean().reset_index()\n",
            "<ipython-input-26-923bd599cdd5>:110: FutureWarning: 'M' is deprecated and will be removed in a future version, please use 'ME' instead.\n",
            "  stock_data = stock_data.set_index('Date').resample('M').mean().reset_index()\n",
            "<ipython-input-26-923bd599cdd5>:110: FutureWarning: 'M' is deprecated and will be removed in a future version, please use 'ME' instead.\n",
            "  stock_data = stock_data.set_index('Date').resample('M').mean().reset_index()\n",
            "<ipython-input-26-923bd599cdd5>:110: FutureWarning: 'M' is deprecated and will be removed in a future version, please use 'ME' instead.\n",
            "  stock_data = stock_data.set_index('Date').resample('M').mean().reset_index()\n",
            "<ipython-input-26-923bd599cdd5>:110: FutureWarning: 'M' is deprecated and will be removed in a future version, please use 'ME' instead.\n",
            "  stock_data = stock_data.set_index('Date').resample('M').mean().reset_index()\n",
            "<ipython-input-26-923bd599cdd5>:110: FutureWarning: 'M' is deprecated and will be removed in a future version, please use 'ME' instead.\n",
            "  stock_data = stock_data.set_index('Date').resample('M').mean().reset_index()\n",
            "<ipython-input-26-923bd599cdd5>:110: FutureWarning: 'M' is deprecated and will be removed in a future version, please use 'ME' instead.\n",
            "  stock_data = stock_data.set_index('Date').resample('M').mean().reset_index()\n",
            "<ipython-input-26-923bd599cdd5>:110: FutureWarning: 'M' is deprecated and will be removed in a future version, please use 'ME' instead.\n",
            "  stock_data = stock_data.set_index('Date').resample('M').mean().reset_index()\n",
            "<ipython-input-26-923bd599cdd5>:110: FutureWarning: 'M' is deprecated and will be removed in a future version, please use 'ME' instead.\n",
            "  stock_data = stock_data.set_index('Date').resample('M').mean().reset_index()\n",
            "<ipython-input-26-923bd599cdd5>:110: FutureWarning: 'M' is deprecated and will be removed in a future version, please use 'ME' instead.\n",
            "  stock_data = stock_data.set_index('Date').resample('M').mean().reset_index()\n",
            "<ipython-input-26-923bd599cdd5>:110: FutureWarning: 'M' is deprecated and will be removed in a future version, please use 'ME' instead.\n",
            "  stock_data = stock_data.set_index('Date').resample('M').mean().reset_index()\n",
            "<ipython-input-26-923bd599cdd5>:110: FutureWarning: 'M' is deprecated and will be removed in a future version, please use 'ME' instead.\n",
            "  stock_data = stock_data.set_index('Date').resample('M').mean().reset_index()\n",
            "<ipython-input-26-923bd599cdd5>:110: FutureWarning: 'M' is deprecated and will be removed in a future version, please use 'ME' instead.\n",
            "  stock_data = stock_data.set_index('Date').resample('M').mean().reset_index()\n",
            "<ipython-input-26-923bd599cdd5>:110: FutureWarning: 'M' is deprecated and will be removed in a future version, please use 'ME' instead.\n",
            "  stock_data = stock_data.set_index('Date').resample('M').mean().reset_index()\n",
            "<ipython-input-26-923bd599cdd5>:110: FutureWarning: 'M' is deprecated and will be removed in a future version, please use 'ME' instead.\n",
            "  stock_data = stock_data.set_index('Date').resample('M').mean().reset_index()\n",
            "<ipython-input-26-923bd599cdd5>:110: FutureWarning: 'M' is deprecated and will be removed in a future version, please use 'ME' instead.\n",
            "  stock_data = stock_data.set_index('Date').resample('M').mean().reset_index()\n",
            "<ipython-input-26-923bd599cdd5>:110: FutureWarning: 'M' is deprecated and will be removed in a future version, please use 'ME' instead.\n",
            "  stock_data = stock_data.set_index('Date').resample('M').mean().reset_index()\n",
            "<ipython-input-26-923bd599cdd5>:110: FutureWarning: 'M' is deprecated and will be removed in a future version, please use 'ME' instead.\n",
            "  stock_data = stock_data.set_index('Date').resample('M').mean().reset_index()\n",
            "<ipython-input-26-923bd599cdd5>:110: FutureWarning: 'M' is deprecated and will be removed in a future version, please use 'ME' instead.\n",
            "  stock_data = stock_data.set_index('Date').resample('M').mean().reset_index()\n",
            "<ipython-input-26-923bd599cdd5>:110: FutureWarning: 'M' is deprecated and will be removed in a future version, please use 'ME' instead.\n",
            "  stock_data = stock_data.set_index('Date').resample('M').mean().reset_index()\n",
            "<ipython-input-26-923bd599cdd5>:110: FutureWarning: 'M' is deprecated and will be removed in a future version, please use 'ME' instead.\n",
            "  stock_data = stock_data.set_index('Date').resample('M').mean().reset_index()\n",
            "<ipython-input-26-923bd599cdd5>:110: FutureWarning: 'M' is deprecated and will be removed in a future version, please use 'ME' instead.\n",
            "  stock_data = stock_data.set_index('Date').resample('M').mean().reset_index()\n",
            "<ipython-input-26-923bd599cdd5>:110: FutureWarning: 'M' is deprecated and will be removed in a future version, please use 'ME' instead.\n",
            "  stock_data = stock_data.set_index('Date').resample('M').mean().reset_index()\n",
            "<ipython-input-26-923bd599cdd5>:110: FutureWarning: 'M' is deprecated and will be removed in a future version, please use 'ME' instead.\n",
            "  stock_data = stock_data.set_index('Date').resample('M').mean().reset_index()\n",
            "<ipython-input-26-923bd599cdd5>:110: FutureWarning: 'M' is deprecated and will be removed in a future version, please use 'ME' instead.\n",
            "  stock_data = stock_data.set_index('Date').resample('M').mean().reset_index()\n",
            "<ipython-input-26-923bd599cdd5>:110: FutureWarning: 'M' is deprecated and will be removed in a future version, please use 'ME' instead.\n",
            "  stock_data = stock_data.set_index('Date').resample('M').mean().reset_index()\n",
            "<ipython-input-26-923bd599cdd5>:110: FutureWarning: 'M' is deprecated and will be removed in a future version, please use 'ME' instead.\n",
            "  stock_data = stock_data.set_index('Date').resample('M').mean().reset_index()\n",
            "<ipython-input-26-923bd599cdd5>:110: FutureWarning: 'M' is deprecated and will be removed in a future version, please use 'ME' instead.\n",
            "  stock_data = stock_data.set_index('Date').resample('M').mean().reset_index()\n",
            "<ipython-input-26-923bd599cdd5>:110: FutureWarning: 'M' is deprecated and will be removed in a future version, please use 'ME' instead.\n",
            "  stock_data = stock_data.set_index('Date').resample('M').mean().reset_index()\n",
            "<ipython-input-26-923bd599cdd5>:110: FutureWarning: 'M' is deprecated and will be removed in a future version, please use 'ME' instead.\n",
            "  stock_data = stock_data.set_index('Date').resample('M').mean().reset_index()\n",
            "<ipython-input-26-923bd599cdd5>:110: FutureWarning: 'M' is deprecated and will be removed in a future version, please use 'ME' instead.\n",
            "  stock_data = stock_data.set_index('Date').resample('M').mean().reset_index()\n",
            "<ipython-input-26-923bd599cdd5>:110: FutureWarning: 'M' is deprecated and will be removed in a future version, please use 'ME' instead.\n",
            "  stock_data = stock_data.set_index('Date').resample('M').mean().reset_index()\n",
            "<ipython-input-26-923bd599cdd5>:110: FutureWarning: 'M' is deprecated and will be removed in a future version, please use 'ME' instead.\n",
            "  stock_data = stock_data.set_index('Date').resample('M').mean().reset_index()\n",
            "<ipython-input-26-923bd599cdd5>:110: FutureWarning: 'M' is deprecated and will be removed in a future version, please use 'ME' instead.\n",
            "  stock_data = stock_data.set_index('Date').resample('M').mean().reset_index()\n",
            "<ipython-input-26-923bd599cdd5>:110: FutureWarning: 'M' is deprecated and will be removed in a future version, please use 'ME' instead.\n",
            "  stock_data = stock_data.set_index('Date').resample('M').mean().reset_index()\n",
            "<ipython-input-26-923bd599cdd5>:110: FutureWarning: 'M' is deprecated and will be removed in a future version, please use 'ME' instead.\n",
            "  stock_data = stock_data.set_index('Date').resample('M').mean().reset_index()\n",
            "<ipython-input-26-923bd599cdd5>:110: FutureWarning: 'M' is deprecated and will be removed in a future version, please use 'ME' instead.\n",
            "  stock_data = stock_data.set_index('Date').resample('M').mean().reset_index()\n",
            "<ipython-input-26-923bd599cdd5>:110: FutureWarning: 'M' is deprecated and will be removed in a future version, please use 'ME' instead.\n",
            "  stock_data = stock_data.set_index('Date').resample('M').mean().reset_index()\n",
            "<ipython-input-26-923bd599cdd5>:110: FutureWarning: 'M' is deprecated and will be removed in a future version, please use 'ME' instead.\n",
            "  stock_data = stock_data.set_index('Date').resample('M').mean().reset_index()\n",
            "<ipython-input-26-923bd599cdd5>:110: FutureWarning: 'M' is deprecated and will be removed in a future version, please use 'ME' instead.\n",
            "  stock_data = stock_data.set_index('Date').resample('M').mean().reset_index()\n",
            "<ipython-input-26-923bd599cdd5>:110: FutureWarning: 'M' is deprecated and will be removed in a future version, please use 'ME' instead.\n",
            "  stock_data = stock_data.set_index('Date').resample('M').mean().reset_index()\n",
            "<ipython-input-26-923bd599cdd5>:110: FutureWarning: 'M' is deprecated and will be removed in a future version, please use 'ME' instead.\n",
            "  stock_data = stock_data.set_index('Date').resample('M').mean().reset_index()\n",
            "<ipython-input-26-923bd599cdd5>:110: FutureWarning: 'M' is deprecated and will be removed in a future version, please use 'ME' instead.\n",
            "  stock_data = stock_data.set_index('Date').resample('M').mean().reset_index()\n",
            "<ipython-input-26-923bd599cdd5>:110: FutureWarning: 'M' is deprecated and will be removed in a future version, please use 'ME' instead.\n",
            "  stock_data = stock_data.set_index('Date').resample('M').mean().reset_index()\n",
            "<ipython-input-26-923bd599cdd5>:110: FutureWarning: 'M' is deprecated and will be removed in a future version, please use 'ME' instead.\n",
            "  stock_data = stock_data.set_index('Date').resample('M').mean().reset_index()\n",
            "<ipython-input-26-923bd599cdd5>:110: FutureWarning: 'M' is deprecated and will be removed in a future version, please use 'ME' instead.\n",
            "  stock_data = stock_data.set_index('Date').resample('M').mean().reset_index()\n",
            "<ipython-input-26-923bd599cdd5>:110: FutureWarning: 'M' is deprecated and will be removed in a future version, please use 'ME' instead.\n",
            "  stock_data = stock_data.set_index('Date').resample('M').mean().reset_index()\n",
            "<ipython-input-26-923bd599cdd5>:110: FutureWarning: 'M' is deprecated and will be removed in a future version, please use 'ME' instead.\n",
            "  stock_data = stock_data.set_index('Date').resample('M').mean().reset_index()\n",
            "<ipython-input-26-923bd599cdd5>:110: FutureWarning: 'M' is deprecated and will be removed in a future version, please use 'ME' instead.\n",
            "  stock_data = stock_data.set_index('Date').resample('M').mean().reset_index()\n",
            "<ipython-input-26-923bd599cdd5>:110: FutureWarning: 'M' is deprecated and will be removed in a future version, please use 'ME' instead.\n",
            "  stock_data = stock_data.set_index('Date').resample('M').mean().reset_index()\n",
            "<ipython-input-26-923bd599cdd5>:110: FutureWarning: 'M' is deprecated and will be removed in a future version, please use 'ME' instead.\n",
            "  stock_data = stock_data.set_index('Date').resample('M').mean().reset_index()\n",
            "<ipython-input-26-923bd599cdd5>:110: FutureWarning: 'M' is deprecated and will be removed in a future version, please use 'ME' instead.\n",
            "  stock_data = stock_data.set_index('Date').resample('M').mean().reset_index()\n",
            "<ipython-input-26-923bd599cdd5>:110: FutureWarning: 'M' is deprecated and will be removed in a future version, please use 'ME' instead.\n",
            "  stock_data = stock_data.set_index('Date').resample('M').mean().reset_index()\n",
            "<ipython-input-26-923bd599cdd5>:110: FutureWarning: 'M' is deprecated and will be removed in a future version, please use 'ME' instead.\n",
            "  stock_data = stock_data.set_index('Date').resample('M').mean().reset_index()\n",
            "<ipython-input-26-923bd599cdd5>:110: FutureWarning: 'M' is deprecated and will be removed in a future version, please use 'ME' instead.\n",
            "  stock_data = stock_data.set_index('Date').resample('M').mean().reset_index()\n",
            "<ipython-input-26-923bd599cdd5>:110: FutureWarning: 'M' is deprecated and will be removed in a future version, please use 'ME' instead.\n",
            "  stock_data = stock_data.set_index('Date').resample('M').mean().reset_index()\n",
            "<ipython-input-26-923bd599cdd5>:110: FutureWarning: 'M' is deprecated and will be removed in a future version, please use 'ME' instead.\n",
            "  stock_data = stock_data.set_index('Date').resample('M').mean().reset_index()\n",
            "<ipython-input-26-923bd599cdd5>:110: FutureWarning: 'M' is deprecated and will be removed in a future version, please use 'ME' instead.\n",
            "  stock_data = stock_data.set_index('Date').resample('M').mean().reset_index()\n",
            "<ipython-input-26-923bd599cdd5>:110: FutureWarning: 'M' is deprecated and will be removed in a future version, please use 'ME' instead.\n",
            "  stock_data = stock_data.set_index('Date').resample('M').mean().reset_index()\n",
            "<ipython-input-26-923bd599cdd5>:110: FutureWarning: 'M' is deprecated and will be removed in a future version, please use 'ME' instead.\n",
            "  stock_data = stock_data.set_index('Date').resample('M').mean().reset_index()\n",
            "<ipython-input-26-923bd599cdd5>:110: FutureWarning: 'M' is deprecated and will be removed in a future version, please use 'ME' instead.\n",
            "  stock_data = stock_data.set_index('Date').resample('M').mean().reset_index()\n",
            "<ipython-input-26-923bd599cdd5>:110: FutureWarning: 'M' is deprecated and will be removed in a future version, please use 'ME' instead.\n",
            "  stock_data = stock_data.set_index('Date').resample('M').mean().reset_index()\n",
            "<ipython-input-26-923bd599cdd5>:110: FutureWarning: 'M' is deprecated and will be removed in a future version, please use 'ME' instead.\n",
            "  stock_data = stock_data.set_index('Date').resample('M').mean().reset_index()\n",
            "<ipython-input-26-923bd599cdd5>:110: FutureWarning: 'M' is deprecated and will be removed in a future version, please use 'ME' instead.\n",
            "  stock_data = stock_data.set_index('Date').resample('M').mean().reset_index()\n",
            "<ipython-input-26-923bd599cdd5>:110: FutureWarning: 'M' is deprecated and will be removed in a future version, please use 'ME' instead.\n",
            "  stock_data = stock_data.set_index('Date').resample('M').mean().reset_index()\n",
            "<ipython-input-26-923bd599cdd5>:110: FutureWarning: 'M' is deprecated and will be removed in a future version, please use 'ME' instead.\n",
            "  stock_data = stock_data.set_index('Date').resample('M').mean().reset_index()\n",
            "<ipython-input-26-923bd599cdd5>:110: FutureWarning: 'M' is deprecated and will be removed in a future version, please use 'ME' instead.\n",
            "  stock_data = stock_data.set_index('Date').resample('M').mean().reset_index()\n",
            "<ipython-input-26-923bd599cdd5>:110: FutureWarning: 'M' is deprecated and will be removed in a future version, please use 'ME' instead.\n",
            "  stock_data = stock_data.set_index('Date').resample('M').mean().reset_index()\n",
            "<ipython-input-26-923bd599cdd5>:110: FutureWarning: 'M' is deprecated and will be removed in a future version, please use 'ME' instead.\n",
            "  stock_data = stock_data.set_index('Date').resample('M').mean().reset_index()\n",
            "<ipython-input-26-923bd599cdd5>:110: FutureWarning: 'M' is deprecated and will be removed in a future version, please use 'ME' instead.\n",
            "  stock_data = stock_data.set_index('Date').resample('M').mean().reset_index()\n",
            "<ipython-input-26-923bd599cdd5>:110: FutureWarning: 'M' is deprecated and will be removed in a future version, please use 'ME' instead.\n",
            "  stock_data = stock_data.set_index('Date').resample('M').mean().reset_index()\n",
            "<ipython-input-26-923bd599cdd5>:110: FutureWarning: 'M' is deprecated and will be removed in a future version, please use 'ME' instead.\n",
            "  stock_data = stock_data.set_index('Date').resample('M').mean().reset_index()\n",
            "<ipython-input-26-923bd599cdd5>:110: FutureWarning: 'M' is deprecated and will be removed in a future version, please use 'ME' instead.\n",
            "  stock_data = stock_data.set_index('Date').resample('M').mean().reset_index()\n",
            "<ipython-input-26-923bd599cdd5>:110: FutureWarning: 'M' is deprecated and will be removed in a future version, please use 'ME' instead.\n",
            "  stock_data = stock_data.set_index('Date').resample('M').mean().reset_index()\n",
            "<ipython-input-26-923bd599cdd5>:110: FutureWarning: 'M' is deprecated and will be removed in a future version, please use 'ME' instead.\n",
            "  stock_data = stock_data.set_index('Date').resample('M').mean().reset_index()\n",
            "<ipython-input-26-923bd599cdd5>:110: FutureWarning: 'M' is deprecated and will be removed in a future version, please use 'ME' instead.\n",
            "  stock_data = stock_data.set_index('Date').resample('M').mean().reset_index()\n",
            "<ipython-input-26-923bd599cdd5>:110: FutureWarning: 'M' is deprecated and will be removed in a future version, please use 'ME' instead.\n",
            "  stock_data = stock_data.set_index('Date').resample('M').mean().reset_index()\n",
            "<ipython-input-26-923bd599cdd5>:110: FutureWarning: 'M' is deprecated and will be removed in a future version, please use 'ME' instead.\n",
            "  stock_data = stock_data.set_index('Date').resample('M').mean().reset_index()\n",
            "<ipython-input-26-923bd599cdd5>:110: FutureWarning: 'M' is deprecated and will be removed in a future version, please use 'ME' instead.\n",
            "  stock_data = stock_data.set_index('Date').resample('M').mean().reset_index()\n",
            "<ipython-input-26-923bd599cdd5>:110: FutureWarning: 'M' is deprecated and will be removed in a future version, please use 'ME' instead.\n",
            "  stock_data = stock_data.set_index('Date').resample('M').mean().reset_index()\n",
            "<ipython-input-26-923bd599cdd5>:110: FutureWarning: 'M' is deprecated and will be removed in a future version, please use 'ME' instead.\n",
            "  stock_data = stock_data.set_index('Date').resample('M').mean().reset_index()\n",
            "<ipython-input-26-923bd599cdd5>:110: FutureWarning: 'M' is deprecated and will be removed in a future version, please use 'ME' instead.\n",
            "  stock_data = stock_data.set_index('Date').resample('M').mean().reset_index()\n",
            "<ipython-input-26-923bd599cdd5>:110: FutureWarning: 'M' is deprecated and will be removed in a future version, please use 'ME' instead.\n",
            "  stock_data = stock_data.set_index('Date').resample('M').mean().reset_index()\n",
            "<ipython-input-26-923bd599cdd5>:110: FutureWarning: 'M' is deprecated and will be removed in a future version, please use 'ME' instead.\n",
            "  stock_data = stock_data.set_index('Date').resample('M').mean().reset_index()\n",
            "<ipython-input-26-923bd599cdd5>:110: FutureWarning: 'M' is deprecated and will be removed in a future version, please use 'ME' instead.\n",
            "  stock_data = stock_data.set_index('Date').resample('M').mean().reset_index()\n",
            "<ipython-input-26-923bd599cdd5>:110: FutureWarning: 'M' is deprecated and will be removed in a future version, please use 'ME' instead.\n",
            "  stock_data = stock_data.set_index('Date').resample('M').mean().reset_index()\n",
            "<ipython-input-26-923bd599cdd5>:110: FutureWarning: 'M' is deprecated and will be removed in a future version, please use 'ME' instead.\n",
            "  stock_data = stock_data.set_index('Date').resample('M').mean().reset_index()\n",
            "<ipython-input-26-923bd599cdd5>:110: FutureWarning: 'M' is deprecated and will be removed in a future version, please use 'ME' instead.\n",
            "  stock_data = stock_data.set_index('Date').resample('M').mean().reset_index()\n",
            "<ipython-input-26-923bd599cdd5>:110: FutureWarning: 'M' is deprecated and will be removed in a future version, please use 'ME' instead.\n",
            "  stock_data = stock_data.set_index('Date').resample('M').mean().reset_index()\n",
            "<ipython-input-26-923bd599cdd5>:110: FutureWarning: 'M' is deprecated and will be removed in a future version, please use 'ME' instead.\n",
            "  stock_data = stock_data.set_index('Date').resample('M').mean().reset_index()\n",
            "<ipython-input-26-923bd599cdd5>:110: FutureWarning: 'M' is deprecated and will be removed in a future version, please use 'ME' instead.\n",
            "  stock_data = stock_data.set_index('Date').resample('M').mean().reset_index()\n",
            "<ipython-input-26-923bd599cdd5>:110: FutureWarning: 'M' is deprecated and will be removed in a future version, please use 'ME' instead.\n",
            "  stock_data = stock_data.set_index('Date').resample('M').mean().reset_index()\n",
            "<ipython-input-26-923bd599cdd5>:110: FutureWarning: 'M' is deprecated and will be removed in a future version, please use 'ME' instead.\n",
            "  stock_data = stock_data.set_index('Date').resample('M').mean().reset_index()\n",
            "<ipython-input-26-923bd599cdd5>:110: FutureWarning: 'M' is deprecated and will be removed in a future version, please use 'ME' instead.\n",
            "  stock_data = stock_data.set_index('Date').resample('M').mean().reset_index()\n",
            "<ipython-input-26-923bd599cdd5>:110: FutureWarning: 'M' is deprecated and will be removed in a future version, please use 'ME' instead.\n",
            "  stock_data = stock_data.set_index('Date').resample('M').mean().reset_index()\n",
            "<ipython-input-26-923bd599cdd5>:110: FutureWarning: 'M' is deprecated and will be removed in a future version, please use 'ME' instead.\n",
            "  stock_data = stock_data.set_index('Date').resample('M').mean().reset_index()\n",
            "<ipython-input-26-923bd599cdd5>:110: FutureWarning: 'M' is deprecated and will be removed in a future version, please use 'ME' instead.\n",
            "  stock_data = stock_data.set_index('Date').resample('M').mean().reset_index()\n",
            "<ipython-input-26-923bd599cdd5>:110: FutureWarning: 'M' is deprecated and will be removed in a future version, please use 'ME' instead.\n",
            "  stock_data = stock_data.set_index('Date').resample('M').mean().reset_index()\n",
            "<ipython-input-26-923bd599cdd5>:110: FutureWarning: 'M' is deprecated and will be removed in a future version, please use 'ME' instead.\n",
            "  stock_data = stock_data.set_index('Date').resample('M').mean().reset_index()\n",
            "<ipython-input-26-923bd599cdd5>:110: FutureWarning: 'M' is deprecated and will be removed in a future version, please use 'ME' instead.\n",
            "  stock_data = stock_data.set_index('Date').resample('M').mean().reset_index()\n",
            "<ipython-input-26-923bd599cdd5>:110: FutureWarning: 'M' is deprecated and will be removed in a future version, please use 'ME' instead.\n",
            "  stock_data = stock_data.set_index('Date').resample('M').mean().reset_index()\n",
            "<ipython-input-26-923bd599cdd5>:110: FutureWarning: 'M' is deprecated and will be removed in a future version, please use 'ME' instead.\n",
            "  stock_data = stock_data.set_index('Date').resample('M').mean().reset_index()\n",
            "<ipython-input-26-923bd599cdd5>:110: FutureWarning: 'M' is deprecated and will be removed in a future version, please use 'ME' instead.\n",
            "  stock_data = stock_data.set_index('Date').resample('M').mean().reset_index()\n",
            "<ipython-input-26-923bd599cdd5>:110: FutureWarning: 'M' is deprecated and will be removed in a future version, please use 'ME' instead.\n",
            "  stock_data = stock_data.set_index('Date').resample('M').mean().reset_index()\n",
            "<ipython-input-26-923bd599cdd5>:110: FutureWarning: 'M' is deprecated and will be removed in a future version, please use 'ME' instead.\n",
            "  stock_data = stock_data.set_index('Date').resample('M').mean().reset_index()\n",
            "<ipython-input-26-923bd599cdd5>:110: FutureWarning: 'M' is deprecated and will be removed in a future version, please use 'ME' instead.\n",
            "  stock_data = stock_data.set_index('Date').resample('M').mean().reset_index()\n",
            "<ipython-input-26-923bd599cdd5>:110: FutureWarning: 'M' is deprecated and will be removed in a future version, please use 'ME' instead.\n",
            "  stock_data = stock_data.set_index('Date').resample('M').mean().reset_index()\n",
            "<ipython-input-26-923bd599cdd5>:110: FutureWarning: 'M' is deprecated and will be removed in a future version, please use 'ME' instead.\n",
            "  stock_data = stock_data.set_index('Date').resample('M').mean().reset_index()\n",
            "<ipython-input-26-923bd599cdd5>:110: FutureWarning: 'M' is deprecated and will be removed in a future version, please use 'ME' instead.\n",
            "  stock_data = stock_data.set_index('Date').resample('M').mean().reset_index()\n",
            "<ipython-input-26-923bd599cdd5>:110: FutureWarning: 'M' is deprecated and will be removed in a future version, please use 'ME' instead.\n",
            "  stock_data = stock_data.set_index('Date').resample('M').mean().reset_index()\n",
            "<ipython-input-26-923bd599cdd5>:110: FutureWarning: 'M' is deprecated and will be removed in a future version, please use 'ME' instead.\n",
            "  stock_data = stock_data.set_index('Date').resample('M').mean().reset_index()\n",
            "<ipython-input-26-923bd599cdd5>:110: FutureWarning: 'M' is deprecated and will be removed in a future version, please use 'ME' instead.\n",
            "  stock_data = stock_data.set_index('Date').resample('M').mean().reset_index()\n",
            "<ipython-input-26-923bd599cdd5>:110: FutureWarning: 'M' is deprecated and will be removed in a future version, please use 'ME' instead.\n",
            "  stock_data = stock_data.set_index('Date').resample('M').mean().reset_index()\n",
            "<ipython-input-26-923bd599cdd5>:110: FutureWarning: 'M' is deprecated and will be removed in a future version, please use 'ME' instead.\n",
            "  stock_data = stock_data.set_index('Date').resample('M').mean().reset_index()\n",
            "<ipython-input-26-923bd599cdd5>:110: FutureWarning: 'M' is deprecated and will be removed in a future version, please use 'ME' instead.\n",
            "  stock_data = stock_data.set_index('Date').resample('M').mean().reset_index()\n",
            "<ipython-input-26-923bd599cdd5>:110: FutureWarning: 'M' is deprecated and will be removed in a future version, please use 'ME' instead.\n",
            "  stock_data = stock_data.set_index('Date').resample('M').mean().reset_index()\n",
            "<ipython-input-26-923bd599cdd5>:110: FutureWarning: 'M' is deprecated and will be removed in a future version, please use 'ME' instead.\n",
            "  stock_data = stock_data.set_index('Date').resample('M').mean().reset_index()\n",
            "<ipython-input-26-923bd599cdd5>:110: FutureWarning: 'M' is deprecated and will be removed in a future version, please use 'ME' instead.\n",
            "  stock_data = stock_data.set_index('Date').resample('M').mean().reset_index()\n",
            "<ipython-input-26-923bd599cdd5>:110: FutureWarning: 'M' is deprecated and will be removed in a future version, please use 'ME' instead.\n",
            "  stock_data = stock_data.set_index('Date').resample('M').mean().reset_index()\n",
            "<ipython-input-26-923bd599cdd5>:110: FutureWarning: 'M' is deprecated and will be removed in a future version, please use 'ME' instead.\n",
            "  stock_data = stock_data.set_index('Date').resample('M').mean().reset_index()\n",
            "<ipython-input-26-923bd599cdd5>:110: FutureWarning: 'M' is deprecated and will be removed in a future version, please use 'ME' instead.\n",
            "  stock_data = stock_data.set_index('Date').resample('M').mean().reset_index()\n",
            "<ipython-input-26-923bd599cdd5>:110: FutureWarning: 'M' is deprecated and will be removed in a future version, please use 'ME' instead.\n",
            "  stock_data = stock_data.set_index('Date').resample('M').mean().reset_index()\n",
            "<ipython-input-26-923bd599cdd5>:110: FutureWarning: 'M' is deprecated and will be removed in a future version, please use 'ME' instead.\n",
            "  stock_data = stock_data.set_index('Date').resample('M').mean().reset_index()\n",
            "<ipython-input-26-923bd599cdd5>:110: FutureWarning: 'M' is deprecated and will be removed in a future version, please use 'ME' instead.\n",
            "  stock_data = stock_data.set_index('Date').resample('M').mean().reset_index()\n"
          ]
        },
        {
          "output_type": "stream",
          "name": "stdout",
          "text": [
            "✅ Merged data successfully.\n",
            "        Date        Close         High          Low         Open         MA_5  \\\n",
            "0 2022-03-31  1499.401917  1520.192080  1471.628760  1492.307122  1492.812445   \n",
            "1 2022-04-30  1568.859356  1591.668214  1543.045563  1567.744524  1557.861809   \n",
            "2 2022-05-31  1330.835234  1362.927507  1312.393526  1349.784803  1362.685293   \n",
            "3 2022-06-30  1249.152499  1271.510651  1227.704605  1252.137540  1252.329084   \n",
            "4 2022-07-31  1302.784656  1317.099395  1283.842192  1302.195093  1292.938191   \n",
            "\n",
            "         MA_15        MA_10        MA_20        MA_25        MA_30  \\\n",
            "0  1498.399704  1477.476166  1456.575021  1443.486898  1438.511169   \n",
            "1  1543.178449  1531.529471  1518.234054  1504.980364  1491.433172   \n",
            "2  1404.946351  1442.602399  1472.145252  1488.982143  1495.947538   \n",
            "3  1253.331896  1257.889070  1267.110717  1282.803353  1306.057056   \n",
            "4  1283.892973  1273.305058  1265.126312  1261.744409  1260.451285   \n",
            "\n",
            "   Return_Ratio  Percentage_Change_Open  Percentage_Change_High  \\\n",
            "0      0.008339               -0.004747                0.013816   \n",
            "1      0.003414               -0.000539                0.014575   \n",
            "2     -0.010143                0.013807                0.023901   \n",
            "3     -0.001770                0.002571                0.017923   \n",
            "4      0.004500               -0.000401                0.010984   \n",
            "\n",
            "   Percentage_Change_Low  Sector_Encoded  Stock_Movement_Label      Company  \\\n",
            "0              -0.018544             1.0              0.750000  ASTRAL_data   \n",
            "1              -0.016345             1.0              0.421053  ASTRAL_data   \n",
            "2              -0.013764             1.0              0.380952  ASTRAL_data   \n",
            "3              -0.017078             1.0              0.454545  ASTRAL_data   \n",
            "4              -0.014502             1.0              0.571429  ASTRAL_data   \n",
            "\n",
            "   Sentiment Score  \n",
            "0              NaN  \n",
            "1              NaN  \n",
            "2              NaN  \n",
            "3              NaN  \n",
            "4              NaN  \n"
          ]
        }
      ]
    }
  ]
}